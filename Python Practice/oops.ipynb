{
 "cells": [
  {
   "cell_type": "markdown",
   "metadata": {},
   "source": [
    "# Operator Overloading"
   ]
  },
  {
   "cell_type": "code",
   "execution_count": 143,
   "metadata": {},
   "outputs": [],
   "source": [
    "class Computer:\n",
    "    def __init__(self, device_id, storage):\n",
    "        self.device_id = device_id\n",
    "        self.storage = storage\n",
    "    \n",
    "    def __eq__(self,other):\n",
    "        return self.device_id == other.device_id\n",
    "    \n"
   ]
  },
  {
   "cell_type": "code",
   "execution_count": 144,
   "metadata": {},
   "outputs": [],
   "source": [
    "pre_computer_upgrade = Computer('Y391Hky6', 703)\n",
    "post_computer_upgrade = Computer('Y391Hky6', 204)"
   ]
  },
  {
   "cell_type": "code",
   "execution_count": 145,
   "metadata": {},
   "outputs": [
    {
     "data": {
      "text/plain": [
       "True"
      ]
     },
     "execution_count": 145,
     "metadata": {},
     "output_type": "execute_result"
    }
   ],
   "source": [
    "pre_computer_upgrade == post_computer_upgrade"
   ]
  },
  {
   "cell_type": "markdown",
   "metadata": {},
   "source": [
    "# Multiple Inheritance"
   ]
  },
  {
   "cell_type": "code",
   "execution_count": 146,
   "metadata": {},
   "outputs": [],
   "source": [
    "class Computer:\n",
    "    def __init__(self,brand):\n",
    "        self.brand = brand\n",
    "    \n",
    "    def browse_internet(self):\n",
    "        print(f\"Using {self.brand}'s default internet browser\")\n",
    "        \n",
    "\n",
    "class Telephone:\n",
    "    def __init__(self,phone_number):\n",
    "        self.phone_number = phone_number\n",
    "    \n",
    "    def make_call(self, reciptant):\n",
    "        print(f\"Calling {reciptant} from {self.phone_number}\")\n",
    "        \n",
    "\n",
    "class smart_phone(Computer, Telephone):\n",
    "    def __init__(self, brand, phone_number, music_app):\n",
    "        Computer.__init__(self,brand)\n",
    "        Telephone.__init__(self,phone_number)\n",
    "        \n",
    "        self.music_app = music_app\n",
    "        \n",
    "    def play_music(self,music_name):\n",
    "        print(f\"Playing{music_name} using {self.music_app}\")"
   ]
  },
  {
   "cell_type": "code",
   "execution_count": 147,
   "metadata": {},
   "outputs": [],
   "source": [
    "my_phone =smart_phone('Samsung', '8668566528', 'apple_music')"
   ]
  },
  {
   "cell_type": "code",
   "execution_count": 148,
   "metadata": {},
   "outputs": [
    {
     "name": "stdout",
     "output_type": "stream",
     "text": [
      "Using Samsung's default internet browser\n",
      "None\n",
      "Calling Apurva from 8668566528\n",
      "None\n"
     ]
    }
   ],
   "source": [
    "print(my_phone.browse_internet())\n",
    "print(my_phone.make_call(\"Apurva\"))"
   ]
  },
  {
   "cell_type": "code",
   "execution_count": 149,
   "metadata": {},
   "outputs": [
    {
     "name": "stdout",
     "output_type": "stream",
     "text": [
      "['__class__', '__delattr__', '__dict__', '__dir__', '__doc__', '__eq__', '__format__', '__ge__', '__getattribute__', '__gt__', '__hash__', '__init__', '__init_subclass__', '__le__', '__lt__', '__module__', '__ne__', '__new__', '__reduce__', '__reduce_ex__', '__repr__', '__setattr__', '__sizeof__', '__str__', '__subclasshook__', '__weakref__', 'browse_internet', 'make_call', 'play_music']\n"
     ]
    }
   ],
   "source": [
    "print(dir(smart_phone))"
   ]
  },
  {
   "cell_type": "markdown",
   "metadata": {},
   "source": [
    "# Multilevel Inheritance"
   ]
  },
  {
   "cell_type": "code",
   "execution_count": 150,
   "metadata": {},
   "outputs": [
    {
     "name": "stdout",
     "output_type": "stream",
     "text": [
      "['ArrowDtype', 'BooleanDtype', 'Categorical', 'CategoricalDtype', 'CategoricalIndex', 'DataFrame', 'DateOffset', 'DatetimeIndex', 'DatetimeTZDtype', 'ExcelFile', 'ExcelWriter', 'Flags', 'Float32Dtype', 'Float64Dtype', 'Grouper', 'HDFStore', 'Index', 'IndexSlice', 'Int16Dtype', 'Int32Dtype', 'Int64Dtype', 'Int8Dtype', 'Interval', 'IntervalDtype', 'IntervalIndex', 'MultiIndex', 'NA', 'NaT', 'NamedAgg', 'Period', 'PeriodDtype', 'PeriodIndex', 'RangeIndex', 'Series', 'SparseDtype', 'StringDtype', 'Timedelta', 'TimedeltaIndex', 'Timestamp', 'UInt16Dtype', 'UInt32Dtype', 'UInt64Dtype', 'UInt8Dtype', '__all__', '__builtins__', '__cached__', '__doc__', '__docformat__', '__file__', '__git_version__', '__loader__', '__name__', '__package__', '__path__', '__spec__', '__version__', '_config', '_is_numpy_dev', '_libs', '_testing', '_typing', '_version', 'annotations', 'api', 'array', 'arrays', 'bdate_range', 'compat', 'concat', 'core', 'crosstab', 'cut', 'date_range', 'describe_option', 'errors', 'eval', 'factorize', 'from_dummies', 'get_dummies', 'get_option', 'infer_freq', 'interval_range', 'io', 'isna', 'isnull', 'json_normalize', 'lreshape', 'melt', 'merge', 'merge_asof', 'merge_ordered', 'notna', 'notnull', 'offsets', 'option_context', 'options', 'pandas', 'period_range', 'pivot', 'pivot_table', 'plotting', 'qcut', 'read_clipboard', 'read_csv', 'read_excel', 'read_feather', 'read_fwf', 'read_gbq', 'read_hdf', 'read_html', 'read_json', 'read_orc', 'read_parquet', 'read_pickle', 'read_sas', 'read_spss', 'read_sql', 'read_sql_query', 'read_sql_table', 'read_stata', 'read_table', 'read_xml', 'reset_option', 'set_eng_float_format', 'set_option', 'show_versions', 'test', 'testing', 'timedelta_range', 'to_datetime', 'to_numeric', 'to_pickle', 'to_timedelta', 'tseries', 'unique', 'util', 'value_counts', 'wide_to_long']\n"
     ]
    }
   ],
   "source": [
    "import pandas as pd\n",
    "print(dir(pd))"
   ]
  },
  {
   "cell_type": "code",
   "execution_count": 151,
   "metadata": {},
   "outputs": [],
   "source": [
    "class Computer:\n",
    "  def __init__(self, brand):\n",
    "    self.brand = brand\n",
    "\n",
    "  def browse_internet(self):\n",
    "    print(f\"Using {self.brand}'s default internet browser.\")\n",
    "\n",
    "class Tablet(Computer):\n",
    "  def __init__(self, brand, apps):\n",
    "    Computer.__init__(self, brand)\n",
    "    self.apps = apps\n",
    "\n",
    "  def uninstall_app(self, app):\n",
    "    if app in self.apps:\n",
    "      self.apps.remove(app)\n",
    "        \n",
    "class SmartPhone(Tablet):\n",
    "    def __init__(self,brand,apps,phone_number):\n",
    "        Tablet.__init__(self,brand,apps)\n",
    "        self.phone_number = phone_number\n",
    "    \n",
    "    def send_text(self, text, recipient):\n",
    "        self.test = text\n",
    "        print(f\"Sending {text} to {self.recipient} from {self.phone_number}\")"
   ]
  },
  {
   "cell_type": "code",
   "execution_count": 152,
   "metadata": {},
   "outputs": [],
   "source": [
    "personal_phone = SmartPhone(\"Macrosung\", [\"Weather\", \"Camera\"], \"801-932-7629\")    \n"
   ]
  },
  {
   "cell_type": "code",
   "execution_count": 153,
   "metadata": {},
   "outputs": [
    {
     "name": "stdout",
     "output_type": "stream",
     "text": [
      "[<class '__main__.SmartPhone'>, <class '__main__.Tablet'>, <class '__main__.Computer'>, <class 'object'>]\n"
     ]
    }
   ],
   "source": [
    "print(SmartPhone.mro())\n"
   ]
  },
  {
   "cell_type": "code",
   "execution_count": 154,
   "metadata": {},
   "outputs": [
    {
     "name": "stdout",
     "output_type": "stream",
     "text": [
      "Macrosung\n"
     ]
    }
   ],
   "source": [
    "print(personal_phone.brand)\n",
    "personal_phone.uninstall_app('Camera')"
   ]
  },
  {
   "cell_type": "code",
   "execution_count": 155,
   "metadata": {},
   "outputs": [
    {
     "name": "stdout",
     "output_type": "stream",
     "text": [
      "['Weather']\n",
      "Using Macrosung's default internet browser.\n",
      "None\n"
     ]
    }
   ],
   "source": [
    "print(personal_phone.apps)\n",
    "print(personal_phone.browse_internet())"
   ]
  },
  {
   "cell_type": "markdown",
   "metadata": {},
   "source": [
    "## Descripters"
   ]
  },
  {
   "cell_type": "code",
   "execution_count": 156,
   "metadata": {},
   "outputs": [],
   "source": [
    "class BankAccount:\n",
    "  def __init__(self, balance):\n",
    "    self.balance = balance\n",
    "\n",
    "  @property\n",
    "  def balance(self):\n",
    "    return f\"${round(self._balance, 2)}\"\n",
    "\n",
    "  @balance.setter\n",
    "  def balance(self, new_balance):\n",
    "    if new_balance > 0:\n",
    "      self._balance = new_balance\n",
    "\n",
    "  @balance.deleter\n",
    "  def balance(self):\n",
    "    print(\"Deleting the 'balance' attribute\")\n",
    "    del self._balance\n"
   ]
  },
  {
   "cell_type": "code",
   "execution_count": 157,
   "metadata": {},
   "outputs": [],
   "source": [
    "bank1 = BankAccount(2000)"
   ]
  },
  {
   "cell_type": "code",
   "execution_count": 1,
   "metadata": {},
   "outputs": [],
   "source": [
    "class Cars:\n",
    "    \n",
    "    def __init__(self,name,brand,fuel):\n",
    "        self._name = name\n",
    "        self._brand = brand\n",
    "        self._fuel = fuel\n",
    "        \n",
    "    @property\n",
    "    def name(self):\n",
    "        return self._name\n",
    "    \n",
    "    @name.setter\n",
    "    def name(self,name):\n",
    "        self._name = name\n",
    "        \n",
    "    @name.deleter\n",
    "    def name(self):\n",
    "        del self._name\n",
    "        print(f\"Name of car deleted\")\n",
    "        \n",
    "    @property\n",
    "    def brand(self):\n",
    "        return self._brand\n",
    "    \n",
    "    @brand.setter\n",
    "    def brand(self,brand):\n",
    "        self._brand = brand\n",
    "    \n",
    "    @property\n",
    "    def fuel(self):\n",
    "        return self._fuel\n",
    "    \n",
    "    @fuel.setter\n",
    "    def fuel(self,new_fuel):\n",
    "        self._fuel = new_fuel\n",
    "    \n",
    "    def honks(self):\n",
    "        return f\"Making the {self.name} car from {self.brand} honk till the neighbours call cops\""
   ]
  },
  {
   "cell_type": "code",
   "execution_count": 2,
   "metadata": {},
   "outputs": [],
   "source": [
    "car1 = Cars('grand i10', 'Hundai', 'Petrol')"
   ]
  },
  {
   "cell_type": "code",
   "execution_count": 3,
   "metadata": {},
   "outputs": [],
   "source": [
    "car1.name = 'i20'"
   ]
  },
  {
   "cell_type": "code",
   "execution_count": 161,
   "metadata": {},
   "outputs": [
    {
     "name": "stdout",
     "output_type": "stream",
     "text": [
      "i20\n"
     ]
    }
   ],
   "source": [
    "print(car1.name)"
   ]
  },
  {
   "cell_type": "code",
   "execution_count": 162,
   "metadata": {},
   "outputs": [],
   "source": [
    "car1.brand = 'mercedes'"
   ]
  },
  {
   "cell_type": "code",
   "execution_count": 4,
   "metadata": {},
   "outputs": [
    {
     "data": {
      "text/plain": [
       "'Hundai'"
      ]
     },
     "execution_count": 4,
     "metadata": {},
     "output_type": "execute_result"
    }
   ],
   "source": [
    "car1.brand"
   ]
  },
  {
   "cell_type": "code",
   "execution_count": 5,
   "metadata": {},
   "outputs": [],
   "source": [
    "class Person:\n",
    "    def __init__(self, name, age):\n",
    "        self._name = name\n",
    "        self._age = age\n",
    "        \n",
    "    # def __repr__(self):\n",
    "    #     return f\"The name of person is {self._name} and his age is {self._age}\""
   ]
  },
  {
   "cell_type": "code",
   "execution_count": 6,
   "metadata": {},
   "outputs": [],
   "source": [
    "pre1 = Person(\"Abhishek\", 26)"
   ]
  },
  {
   "cell_type": "code",
   "execution_count": 7,
   "metadata": {},
   "outputs": [
    {
     "data": {
      "text/plain": [
       "<__main__.Person at 0x103cec9a0>"
      ]
     },
     "execution_count": 7,
     "metadata": {},
     "output_type": "execute_result"
    }
   ],
   "source": [
    "pre1"
   ]
  }
 ],
 "metadata": {
  "kernelspec": {
   "display_name": "tensor",
   "language": "python",
   "name": "python3"
  },
  "language_info": {
   "codemirror_mode": {
    "name": "ipython",
    "version": 3
   },
   "file_extension": ".py",
   "mimetype": "text/x-python",
   "name": "python",
   "nbconvert_exporter": "python",
   "pygments_lexer": "ipython3",
   "version": "3.10.14"
  }
 },
 "nbformat": 4,
 "nbformat_minor": 2
}
