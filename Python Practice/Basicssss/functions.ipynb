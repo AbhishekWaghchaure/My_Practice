{
 "cells": [
  {
   "cell_type": "code",
   "execution_count": 14,
   "metadata": {},
   "outputs": [],
   "source": [
    "import sys"
   ]
  },
  {
   "cell_type": "code",
   "execution_count": 3,
   "metadata": {},
   "outputs": [
    {
     "name": "stdout",
     "output_type": "stream",
     "text": [
      "The number 3 is : odd\n"
     ]
    }
   ],
   "source": [
    "num =int(input(\"Enter the number you want to check\"))\n",
    "\n",
    "if num % 2 == 0:\n",
    "    print(f'The number {num} is : even')\n",
    "else:\n",
    "    print(f'The number {num} is : odd')"
   ]
  },
  {
   "cell_type": "code",
   "execution_count": 10,
   "metadata": {},
   "outputs": [
    {
     "name": "stdout",
     "output_type": "stream",
     "text": [
      "2\n",
      "4\n",
      "6\n",
      "8\n",
      "10\n"
     ]
    }
   ],
   "source": [
    "## Even numbers till the range of given input\n",
    "number = int(input(\"Enter the range till which you want all the prime numbers : \"))\n",
    "\n",
    "for i in range(1, number+1):\n",
    "    if i % 2 == 0:\n",
    "        print(i)"
   ]
  },
  {
   "cell_type": "code",
   "execution_count": 27,
   "metadata": {},
   "outputs": [
    {
     "name": "stdout",
     "output_type": "stream",
     "text": [
      "1\n",
      "3\n",
      "5\n",
      "7\n",
      "9\n",
      "11\n",
      "13\n",
      "15\n",
      "17\n",
      "19\n",
      "size is : 16\n"
     ]
    }
   ],
   "source": [
    "## Function for the same code\n",
    "def even_odd(number, check):\n",
    "    # DocStrings can be written here\n",
    "    \"\"\"Explain your function here along with the parameters and the return of the function \"\"\"\n",
    "    if check == 'even':\n",
    "        for i in range(1, number + 1):\n",
    "            if i % 2 == 0:\n",
    "                print(i)\n",
    "    elif check == 'odd':\n",
    "        for i in range(1, number + 1) :\n",
    "            if i % 2 != 0:\n",
    "                print(i)\n",
    "\n",
    "number = int(input(\"Enter the range till which you want all odd or even numbers\"))\n",
    "check = str(input(\"Enter the check you want to add -- odd or even ?\"))\n",
    "## Function Call                \n",
    "a = even_odd(number,check)\n",
    "\n",
    "print(f\"size is : {sys.getsizeof(a)}\")"
   ]
  },
  {
   "cell_type": "code",
   "execution_count": 33,
   "metadata": {},
   "outputs": [
    {
     "name": "stdout",
     "output_type": "stream",
     "text": [
      "Hello , welcome to the advanced python coding !!\n",
      "Hello Human, welcome to the advanced python coding !!\n"
     ]
    }
   ],
   "source": [
    "## Default parameters :\n",
    "def greet(name = \"Human\"):\n",
    "    print(f\"Hello {name}, welcome to the advanced python coding !!\")\n",
    "\n",
    "name = str(input(\"Enter the name :\"))\n",
    "\n",
    "greet(name)\n",
    "greet()\n",
    "    "
   ]
  },
  {
   "cell_type": "code",
   "execution_count": 38,
   "metadata": {},
   "outputs": [
    {
     "name": "stdout",
     "output_type": "stream",
     "text": [
      "12\n",
      "12\n",
      "3\n",
      "4\n",
      "567\n",
      "23\n",
      "5678\n",
      "12\n",
      "78\n",
      "23\n",
      "11111\n",
      "456\n",
      "234\n",
      "23321\n",
      "999\n"
     ]
    }
   ],
   "source": [
    "## Variable length Arguments\n",
    "## Positional and keyword arguments\n",
    "\n",
    "# def print_num(num1,num2,num3 ........ numn) variable positional arguments\n",
    "def print_num(*args):\n",
    "    for numbers in args:\n",
    "        print(numbers)\n",
    "\n",
    "print_num(12,12,3,4,567,23,5678,12,78,23,11111,456,234,23321,999)"
   ]
  },
  {
   "cell_type": "code",
   "execution_count": 41,
   "metadata": {},
   "outputs": [
    {
     "name": "stdout",
     "output_type": "stream",
     "text": [
      " name : Abhishek\n",
      " age : 32\n",
      " country : India\n"
     ]
    }
   ],
   "source": [
    "## variable kywords arguments\n",
    "\n",
    "def print_details(**kwargs):\n",
    "    for key, value in kwargs.items():\n",
    "        print(f\" {key} : {value}\")\n",
    "        \n",
    "print_details(name = \"Abhishek\", age = 32, country = \"India\")"
   ]
  },
  {
   "cell_type": "markdown",
   "metadata": {},
   "source": [
    "### Check if the string is palindrome"
   ]
  },
  {
   "cell_type": "code",
   "execution_count": 7,
   "metadata": {},
   "outputs": [
    {
     "data": {
      "text/plain": [
       "False"
      ]
     },
     "execution_count": 7,
     "metadata": {},
     "output_type": "execute_result"
    }
   ],
   "source": [
    "def is_palindrome(s):\n",
    "    s = s.lower().replace(\" \", \"\")\n",
    "    return s == s[::-1]\n",
    "\n",
    "is_palindrome('malyalam')"
   ]
  },
  {
   "cell_type": "code",
   "execution_count": 11,
   "metadata": {},
   "outputs": [
    {
     "name": "stdout",
     "output_type": "stream",
     "text": [
      "kehsihba\n",
      "kehsihba\n"
     ]
    }
   ],
   "source": [
    "string = \"abhishek\"\n",
    "print(string[::-1])\n",
    "print(string[::-1])"
   ]
  },
  {
   "cell_type": "markdown",
   "metadata": {},
   "source": [
    "### Check the factorial of number\n"
   ]
  },
  {
   "cell_type": "code",
   "execution_count": 12,
   "metadata": {},
   "outputs": [],
   "source": [
    "num = int(input(\"Enter the number whose factorial you want : \"))\n",
    "\n",
    "def factorial_recursion(num):\n",
    "    if num == 0:\n",
    "        return 1\n",
    "    else:\n",
    "        return num * factorial(num-1)"
   ]
  },
  {
   "cell_type": "code",
   "execution_count": null,
   "metadata": {},
   "outputs": [],
   "source": [
    "num = int(input(\"Enter the number whose factorial you want : \"))\n",
    "\n",
    "def factorial(num):\n",
    "    factorial = 1\n",
    "    for i in range(0, num+1):\n",
    "        if num == 0:\n",
    "            return 1\n",
    "        else:\n",
    "            return(factorial *= num)"
   ]
  }
 ],
 "metadata": {
  "kernelspec": {
   "display_name": "stable_env_nlp",
   "language": "python",
   "name": "python3"
  },
  "language_info": {
   "codemirror_mode": {
    "name": "ipython",
    "version": 3
   },
   "file_extension": ".py",
   "mimetype": "text/x-python",
   "name": "python",
   "nbconvert_exporter": "python",
   "pygments_lexer": "ipython3",
   "version": "3.10.15"
  }
 },
 "nbformat": 4,
 "nbformat_minor": 2
}
