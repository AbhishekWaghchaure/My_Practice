{
 "cells": [
  {
   "cell_type": "code",
   "execution_count": 61,
   "metadata": {},
   "outputs": [],
   "source": [
    "import sys"
   ]
  },
  {
   "cell_type": "code",
   "execution_count": 62,
   "metadata": {},
   "outputs": [],
   "source": [
    "## Lists are ordered, mutable collections"
   ]
  },
  {
   "cell_type": "code",
   "execution_count": 63,
   "metadata": {},
   "outputs": [
    {
     "name": "stdout",
     "output_type": "stream",
     "text": [
      "<class 'list'>\n",
      "56\n"
     ]
    }
   ],
   "source": [
    "list = []\n",
    "print(type(list))\n",
    "print(sys.getsizeof(list))"
   ]
  },
  {
   "cell_type": "code",
   "execution_count": 64,
   "metadata": {},
   "outputs": [
    {
     "name": "stdout",
     "output_type": "stream",
     "text": [
      "['abhishek', 'ram', 'krishna', 'ganesha']\n",
      "88\n"
     ]
    }
   ],
   "source": [
    "names= ['abhishek','ram', 'krishna', 'ganesha']\n",
    "print(names)\n",
    "print(sys.getsizeof(names))"
   ]
  },
  {
   "cell_type": "code",
   "execution_count": 65,
   "metadata": {},
   "outputs": [
    {
     "name": "stdout",
     "output_type": "stream",
     "text": [
      "kiwi\n",
      "['kiwi', 'pomogrenate', 'cherry', 'apple']\n",
      "orange\n",
      "['orange']\n",
      "['pomogrenate', 'cherry', 'apple', 'mango', 'orange']\n"
     ]
    }
   ],
   "source": [
    "## Accessing list elements  Sclcing and idexes\n",
    "\n",
    "fruits = ['kiwi','pomogrenate', 'cherry', 'apple', 'mango', 'orange']\n",
    "print(fruits[0])\n",
    "print(fruits[0:4])\n",
    "print(fruits[-1])\n",
    "print(fruits[-1:])\n",
    "print(fruits[1:])"
   ]
  },
  {
   "cell_type": "code",
   "execution_count": 66,
   "metadata": {},
   "outputs": [
    {
     "name": "stdout",
     "output_type": "stream",
     "text": [
      "kiwi\n",
      "['watermelon', 'pomogrenate', 'cherry', 'apple', 'mango', 'orange']\n"
     ]
    }
   ],
   "source": [
    "## Modifying the list elements\n",
    "\n",
    "print(fruits[0])\n",
    "fruits[0] = 'watermelon'\n",
    "print(fruits)"
   ]
  },
  {
   "cell_type": "code",
   "execution_count": 67,
   "metadata": {},
   "outputs": [
    {
     "name": "stdout",
     "output_type": "stream",
     "text": [
      "['watermelon', 'pomogrenate', 'cherry', 'apple', 'mango', 'orange']\n",
      "['watermelon', 'pomogrenate', 'cherry', 'apple', 'mango', 'orange', 'chiki']\n",
      "['watermelon', 'bananna', 'pomogrenate', 'cherry', 'apple', 'mango', 'orange', 'chiki']\n",
      "['watermelon', 'bananna', 'pomogrenate', 'cherry', 'apple', 'mango', 'orange']\n",
      "3\n",
      "['mango', 'apple', 'cherry', 'pomogrenate', 'bananna', 'watermelon']\n"
     ]
    }
   ],
   "source": [
    "## List Methods\n",
    "\n",
    "# Append()\n",
    "print(fruits)\n",
    "fruits.append('chiki')\n",
    "print(fruits)\n",
    "\n",
    "# Insert()\n",
    "fruits.insert(1,'bananna')\n",
    "print(fruits)\n",
    "\n",
    "# Remove\n",
    "fruits.remove('chiki') ## Removes the first occurance of the item\n",
    "print(fruits)\n",
    "\n",
    "# Pop\n",
    "fruits.pop() # Removes last element\n",
    "\n",
    "# Index\n",
    "print(fruits.index('cherry'))\n",
    "\n",
    "# Reverse\n",
    "fruits.reverse()\n",
    "print(fruits)\n"
   ]
  },
  {
   "cell_type": "code",
   "execution_count": 68,
   "metadata": {},
   "outputs": [
    {
     "name": "stdout",
     "output_type": "stream",
     "text": [
      "[3, 4, 5, 6, 7]\n",
      "[1, 2, 3, 4, 5]\n",
      "[6, 7, 8, 9, 10, 11, 12, 13, 14, 15]\n",
      "[1, 3, 5, 7, 9, 11, 13, 15]\n",
      "[15, 14, 13, 12, 11, 10, 9, 8, 7, 6, 5, 4, 3, 2, 1]\n"
     ]
    }
   ],
   "source": [
    "## Slicing the list\n",
    "\n",
    "numbers = [1,2,3,4,5,6,7,8,9,10,11,12,13,14,15]\n",
    "print(numbers[2:7])\n",
    "print(numbers[:5])\n",
    "print(numbers[5:])\n",
    "print(numbers[::2]) ## step size\n",
    "print(numbers[::-1])"
   ]
  },
  {
   "cell_type": "code",
   "execution_count": 70,
   "metadata": {},
   "outputs": [
    {
     "name": "stdout",
     "output_type": "stream",
     "text": [
      "At index 0, the element is mango\n",
      "At index 1, the element is apple\n",
      "At index 2, the element is cherry\n",
      "At index 3, the element is pomogrenate\n",
      "At index 4, the element is bananna\n",
      "At index 5, the element is watermelon\n"
     ]
    }
   ],
   "source": [
    "## Iterating over List\n",
    "\n",
    "fruits\n",
    "\n",
    "for idx,fruits in enumerate(fruits):\n",
    "    print(f'At index {idx}, the element is {fruits}')"
   ]
  },
  {
   "cell_type": "code",
   "execution_count": 73,
   "metadata": {},
   "outputs": [
    {
     "name": "stdout",
     "output_type": "stream",
     "text": [
      "[0, 1, 4, 9, 16, 25, 36, 49, 64, 81]\n",
      "[0, 1, 4, 9, 16, 25, 36, 49, 64, 81]\n"
     ]
    }
   ],
   "source": [
    "## List comprehension\n",
    "lst = []\n",
    "for x in range(10):\n",
    "    result = x**2\n",
    "    lst.append(result)\n",
    "print(lst)\n",
    "\n",
    "\n",
    "lst2 = [x**2 for x in range(10)]\n",
    "print(lst2)"
   ]
  },
  {
   "cell_type": "code",
   "execution_count": 74,
   "metadata": {},
   "outputs": [
    {
     "name": "stdout",
     "output_type": "stream",
     "text": [
      "[0, 1, 8, 27, 64, 125, 216, 343, 512, 729, 1000, 1331, 1728, 2197, 2744, 3375, 4096, 4913, 5832, 6859, 8000, 9261, 10648, 12167, 13824, 15625, 17576, 19683, 21952, 24389, 27000, 29791, 32768, 35937, 39304, 42875, 46656, 50653, 54872, 59319, 64000, 68921, 74088, 79507, 85184, 91125, 97336, 103823, 110592, 117649, 125000, 132651, 140608, 148877, 157464, 166375, 175616, 185193, 195112, 205379, 216000, 226981, 238328, 250047, 262144, 274625, 287496, 300763, 314432, 328509, 343000, 357911, 373248, 389017, 405224, 421875, 438976, 456533, 474552, 493039, 512000, 531441, 551368, 571787, 592704, 614125, 636056, 658503, 681472, 704969, 729000, 753571, 778688, 804357, 830584, 857375, 884736, 912673, 941192, 970299]\n"
     ]
    }
   ],
   "source": [
    "## Basic list comprehensions\n",
    "\n",
    "cube = [num**3 for num in range(100)]\n",
    "print(cube)"
   ]
  },
  {
   "cell_type": "code",
   "execution_count": 87,
   "metadata": {},
   "outputs": [
    {
     "name": "stdout",
     "output_type": "stream",
     "text": [
      "0\n",
      "2\n",
      "4\n",
      "6\n",
      "8\n",
      "[2, 4, 6, 8, 10]\n"
     ]
    }
   ],
   "source": [
    "## List Comprehension with conditionals\n",
    "\n",
    "# Even numbers loop\n",
    "for i in range(10):\n",
    "    if i % 2 == 0:\n",
    "        print(i)\n",
    "        \n",
    "even_odd = [i for i in range(1,11) if i % 2 == 0]\n",
    "print(even_odd)\n",
    "\n",
    "\n"
   ]
  },
  {
   "cell_type": "code",
   "execution_count": 99,
   "metadata": {},
   "outputs": [
    {
     "name": "stdout",
     "output_type": "stream",
     "text": [
      "2\n",
      "2\n",
      "2\n",
      "4\n",
      "6\n",
      "10\n",
      "12\n",
      "16\n",
      "18\n",
      "22\n",
      "28\n",
      "30\n",
      "36\n",
      "40\n",
      "42\n",
      "46\n",
      "52\n",
      "58\n",
      "60\n",
      "66\n",
      "70\n",
      "72\n",
      "78\n",
      "82\n",
      "88\n",
      "96\n"
     ]
    }
   ],
   "source": [
    "# prime numbers loop\n",
    "for num in range(1,101):\n",
    "    if num > 0:\n",
    "        for i in range(2,num):\n",
    "            if (num % i) == 0:\n",
    "                break\n",
    "        else:\n",
    "            print(i)"
   ]
  },
  {
   "cell_type": "code",
   "execution_count": 101,
   "metadata": {},
   "outputs": [
    {
     "name": "stdout",
     "output_type": "stream",
     "text": [
      "[(1, 'a'), (1, 'b'), (1, 'c'), (1, 'd'), (2, 'a'), (2, 'b'), (2, 'c'), (2, 'd'), (3, 'a'), (3, 'b'), (3, 'c'), (3, 'd'), (4, 'a'), (4, 'b'), (4, 'c'), (4, 'd')]\n"
     ]
    }
   ],
   "source": [
    "## Nested List comprehension\n",
    "\n",
    "list1 = [1,2,3,4]\n",
    "list2 = ['a','b','c','d']\n",
    "\n",
    "pairs = [(i,j) for i in list1 for j in list2]\n",
    "print(pairs)"
   ]
  },
  {
   "cell_type": "code",
   "execution_count": 102,
   "metadata": {},
   "outputs": [
    {
     "name": "stdout",
     "output_type": "stream",
     "text": [
      "[5, 2, 4, 2, 8]\n"
     ]
    }
   ],
   "source": [
    "## List comprehension with function calls\n",
    "\n",
    "words = ['Hello',\"my\", \"name\", \"is\",\"abhishek\"]\n",
    "lengths = [len(word) for word in words]\n",
    "print(lengths)"
   ]
  }
 ],
 "metadata": {
  "kernelspec": {
   "display_name": "stable_env_nlp",
   "language": "python",
   "name": "python3"
  },
  "language_info": {
   "codemirror_mode": {
    "name": "ipython",
    "version": 3
   },
   "file_extension": ".py",
   "mimetype": "text/x-python",
   "name": "python",
   "nbconvert_exporter": "python",
   "pygments_lexer": "ipython3",
   "version": "3.10.15"
  }
 },
 "nbformat": 4,
 "nbformat_minor": 2
}
