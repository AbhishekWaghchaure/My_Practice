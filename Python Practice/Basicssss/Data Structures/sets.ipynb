{
 "cells": [
  {
   "cell_type": "code",
   "execution_count": 33,
   "metadata": {},
   "outputs": [],
   "source": [
    "import sys, os"
   ]
  },
  {
   "cell_type": "markdown",
   "metadata": {},
   "source": [
    "## Sets are built in datatypes used to store unique items, unordered and dont allow duplicate values"
   ]
  },
  {
   "cell_type": "code",
   "execution_count": 34,
   "metadata": {},
   "outputs": [
    {
     "name": "stdout",
     "output_type": "stream",
     "text": [
      "{1, 2, 3, 4, 5}\n",
      "<class 'set'>\n",
      "472\n"
     ]
    }
   ],
   "source": [
    "## create set\n",
    "my_set = {1,2,3,4,5,5,3}\n",
    "print(my_set)\n",
    "print(type(my_set))\n",
    "print(sys.getsizeof(my_set))"
   ]
  },
  {
   "cell_type": "code",
   "execution_count": 35,
   "metadata": {},
   "outputs": [
    {
     "name": "stdout",
     "output_type": "stream",
     "text": [
      "{1, 2, 3, 4, 5, 6, 7}\n"
     ]
    }
   ],
   "source": [
    "my_empty_set = set([1,2,3,4,5,6,7])\n",
    "print(my_empty_set)"
   ]
  },
  {
   "cell_type": "code",
   "execution_count": 36,
   "metadata": {},
   "outputs": [
    {
     "ename": "TypeError",
     "evalue": "'set' object is not subscriptable",
     "output_type": "error",
     "traceback": [
      "\u001b[0;31m---------------------------------------------------------------------------\u001b[0m",
      "\u001b[0;31mTypeError\u001b[0m                                 Traceback (most recent call last)",
      "Cell \u001b[0;32mIn[36], line 1\u001b[0m\n\u001b[0;32m----> 1\u001b[0m \u001b[38;5;28mprint\u001b[39m(\u001b[43mmy_empty_set\u001b[49m\u001b[43m[\u001b[49m\u001b[38;5;241;43m0\u001b[39;49m\u001b[43m]\u001b[49m)\n",
      "\u001b[0;31mTypeError\u001b[0m: 'set' object is not subscriptable"
     ]
    }
   ],
   "source": [
    "print(my_empty_set[0])"
   ]
  },
  {
   "cell_type": "code",
   "execution_count": 17,
   "metadata": {},
   "outputs": [
    {
     "name": "stdout",
     "output_type": "stream",
     "text": [
      "{1, 2, 3, 4, 5, 8}\n",
      "{1, 2, 4, 5, 8}\n",
      "{1, 2, 4, 5, 8}\n"
     ]
    }
   ],
   "source": [
    "## Basic set operations\n",
    "\n",
    "## ADD and REMOVE\n",
    "my_set.add(8)\n",
    "print(my_set)\n",
    "\n",
    "my_set.remove(3)\n",
    "print(my_set)\n",
    "\n",
    "my_set.discard(11)\n",
    "print(my_set)"
   ]
  },
  {
   "cell_type": "code",
   "execution_count": 18,
   "metadata": {},
   "outputs": [
    {
     "name": "stdout",
     "output_type": "stream",
     "text": [
      "set()\n"
     ]
    }
   ],
   "source": [
    "# CLEAR all elements\n",
    "\n",
    "my_set.clear()\n",
    "print(my_set)"
   ]
  },
  {
   "cell_type": "code",
   "execution_count": 20,
   "metadata": {},
   "outputs": [
    {
     "name": "stdout",
     "output_type": "stream",
     "text": [
      "True\n",
      "False\n"
     ]
    }
   ],
   "source": [
    "##  Set Membership Test\n",
    "\n",
    "my_test = {1,2,3,4,5}\n",
    "print(3 in my_test)\n",
    "print(11 in my_test)"
   ]
  },
  {
   "cell_type": "code",
   "execution_count": 30,
   "metadata": {},
   "outputs": [
    {
     "name": "stdout",
     "output_type": "stream",
     "text": [
      "{4, 5, 6, 7, 8}\n",
      "{1, 2, 3, 4, 5}\n",
      "Union :{1, 2, 3, 4, 5, 6, 7, 8}\n",
      "Intersection : {4, 5}\n",
      "Intersection update : {4, 5}\n"
     ]
    }
   ],
   "source": [
    "## Mathematical Operations\n",
    "\n",
    "set1 = {4,5,6,7,8}\n",
    "set2 = {1,2,3,4,5}\n",
    "\n",
    "## UNION\n",
    "union_set = set1.union(set2)\n",
    "print(set1)\n",
    "print(set2)\n",
    "print(f\"Union :{union_set}\")\n",
    "\n",
    "## INTERSECTION\n",
    "intersection_set = set1.intersection(set2)\n",
    "print(f\"Intersection : {intersection_set}\")\n",
    "\n",
    "## INTERSECTION_UPDATE\n",
    "set1.intersection_update(set2)\n",
    "print(f\"Intersection update : {set1}\")\n"
   ]
  },
  {
   "cell_type": "code",
   "execution_count": 38,
   "metadata": {},
   "outputs": [
    {
     "name": "stdout",
     "output_type": "stream",
     "text": [
      "{8, 7}\n",
      "{1, 2, 3, 7, 8}\n"
     ]
    }
   ],
   "source": [
    "## Difference\n",
    "set1 = {4,5,6,7,8}\n",
    "set2 = {1,2,3,4,5,6}\n",
    "\n",
    "diff = (set1.difference(set2))\n",
    "print(diff)\n",
    "\n",
    "## SYMMETRIC DIFF\n",
    "symt_diff = set1.symmetric_difference(set2)\n",
    "print(symt_diff)"
   ]
  }
 ],
 "metadata": {
  "kernelspec": {
   "display_name": "stable_env_nlp",
   "language": "python",
   "name": "python3"
  },
  "language_info": {
   "codemirror_mode": {
    "name": "ipython",
    "version": 3
   },
   "file_extension": ".py",
   "mimetype": "text/x-python",
   "name": "python",
   "nbconvert_exporter": "python",
   "pygments_lexer": "ipython3",
   "version": "3.10.15"
  }
 },
 "nbformat": 4,
 "nbformat_minor": 2
}
