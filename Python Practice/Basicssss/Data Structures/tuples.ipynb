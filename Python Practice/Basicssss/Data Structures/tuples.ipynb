{
 "cells": [
  {
   "cell_type": "code",
   "execution_count": 1,
   "metadata": {},
   "outputs": [],
   "source": [
    "import sys"
   ]
  },
  {
   "cell_type": "code",
   "execution_count": null,
   "metadata": {},
   "outputs": [],
   "source": [
    "## Ordered collection which is immutable and duplicates allowed"
   ]
  },
  {
   "cell_type": "code",
   "execution_count": 2,
   "metadata": {},
   "outputs": [
    {
     "name": "stdout",
     "output_type": "stream",
     "text": [
      "<class 'tuple'>\n",
      "40\n"
     ]
    }
   ],
   "source": [
    "empty_tuple = ()\n",
    "print(type(empty_tuple))\n",
    "print(sys.getsizeof(empty_tuple))"
   ]
  },
  {
   "cell_type": "code",
   "execution_count": 3,
   "metadata": {},
   "outputs": [
    {
     "name": "stdout",
     "output_type": "stream",
     "text": [
      "('Abhi', 98, 0.0, 'Jay shree ram')\n",
      "72\n"
     ]
    }
   ],
   "source": [
    "mixed_tuple = (\"Abhi\", 98, 0.000, \"Jay shree ram\")\n",
    "print(mixed_tuple)\n",
    "print(sys.getsizeof(mixed_tuple))"
   ]
  },
  {
   "cell_type": "code",
   "execution_count": 8,
   "metadata": {},
   "outputs": [
    {
     "name": "stdout",
     "output_type": "stream",
     "text": [
      "Abhi\n",
      "('Abhi', 98, 0.0)\n",
      "Jay shree ram\n"
     ]
    }
   ],
   "source": [
    "## As it is ordered we can reterieve elements through indexes\n",
    "\n",
    "print(mixed_tuple[0])\n",
    "print(mixed_tuple[:3])\n",
    "print(mixed_tuple[-1])"
   ]
  },
  {
   "cell_type": "code",
   "execution_count": 39,
   "metadata": {},
   "outputs": [
    {
     "name": "stdout",
     "output_type": "stream",
     "text": [
      "[1, 2, 3, 4, 5, 5, 5, 6, 4, 4, 43, 2]\n",
      "['abhi', 'samu', 'sakshi', 'hanshi', 'pallavi', 'mokshi', 'aishwarya', 'aishwarya']\n"
     ]
    }
   ],
   "source": [
    "list = [1,2,3,4,5,5,5,6,4,4,43,2]\n",
    "char_list =[ \"abhi\", 'samu', 'sakshi', 'hanshi', 'pallavi', 'mokshi', 'aishwarya', 'aishwarya']\n",
    "print(list)\n",
    "print(char_list)"
   ]
  },
  {
   "cell_type": "code",
   "execution_count": 41,
   "metadata": {},
   "outputs": [
    {
     "name": "stdout",
     "output_type": "stream",
     "text": [
      "<class 'NoneType'>\n",
      "None\n"
     ]
    }
   ],
   "source": [
    "# list = [1,2,3,4,5,5]\n",
    "# print(list * 3)\n",
    "new_list = list.remove(4)\n",
    "new_char_list = char_list.remove('aishwarya')\n",
    "print(type(new_list))\n",
    "print(new_char_list)"
   ]
  },
  {
   "cell_type": "code",
   "execution_count": 13,
   "metadata": {},
   "outputs": [
    {
     "name": "stdout",
     "output_type": "stream",
     "text": [
      "(1, 2, 3, 4, 5, 5, 'Abhi', 98, 0.0, 'Jay shree ram')\n",
      "('Abhi', 98, 0.0, 'Jay shree ram', 'Abhi', 98, 0.0, 'Jay shree ram', 'Abhi', 98, 0.0, 'Jay shree ram')\n"
     ]
    }
   ],
   "source": [
    "# tuple operations\n",
    "\n",
    "numbers_1 = (1,2,3,4,5,5) \n",
    "print(numbers_1 + mixed_tuple)\n",
    "print(mixed_tuple * 3)\n"
   ]
  },
  {
   "cell_type": "code",
   "execution_count": 45,
   "metadata": {},
   "outputs": [
    {
     "name": "stdout",
     "output_type": "stream",
     "text": [
      "[1, 2, 3, 4, 5]\n",
      "['Abhishek', 2, 3, 4, 5]\n"
     ]
    },
    {
     "ename": "TypeError",
     "evalue": "'tuple' object does not support item assignment",
     "output_type": "error",
     "traceback": [
      "\u001b[0;31m---------------------------------------------------------------------------\u001b[0m",
      "\u001b[0;31mTypeError\u001b[0m                                 Traceback (most recent call last)",
      "Cell \u001b[0;32mIn[45], line 8\u001b[0m\n\u001b[1;32m      6\u001b[0m lst[\u001b[38;5;241m0\u001b[39m] \u001b[38;5;241m=\u001b[39m \u001b[38;5;124m\"\u001b[39m\u001b[38;5;124mAbhishek\u001b[39m\u001b[38;5;124m\"\u001b[39m\n\u001b[1;32m      7\u001b[0m \u001b[38;5;28mprint\u001b[39m(lst)\n\u001b[0;32m----> 8\u001b[0m \u001b[43mnumbers_1\u001b[49m\u001b[43m[\u001b[49m\u001b[38;5;241;43m0\u001b[39;49m\u001b[43m]\u001b[49m \u001b[38;5;241m=\u001b[39m \u001b[38;5;124m\"\u001b[39m\u001b[38;5;124mAbhishek\u001b[39m\u001b[38;5;124m\"\u001b[39m\n",
      "\u001b[0;31mTypeError\u001b[0m: 'tuple' object does not support item assignment"
     ]
    }
   ],
   "source": [
    "## Immutable nature of tuples\n",
    "## Tuples are ordered and immutable\n",
    "\n",
    "lst = [1,2,3,4,5]\n",
    "print(lst)\n",
    "lst[0] = \"Abhishek\"\n",
    "print(lst)\n",
    "numbers_1[0] = \"Abhishek\""
   ]
  },
  {
   "cell_type": "code",
   "execution_count": 52,
   "metadata": {},
   "outputs": [
    {
     "name": "stdout",
     "output_type": "stream",
     "text": [
      "2\n",
      "3\n"
     ]
    }
   ],
   "source": [
    "## Tuple Methods\n",
    "\n",
    "print(numbers_1.count(5))\n",
    "print(numbers_1.index(4))"
   ]
  },
  {
   "cell_type": "code",
   "execution_count": 56,
   "metadata": {},
   "outputs": [
    {
     "name": "stdout",
     "output_type": "stream",
     "text": [
      "('hello', 45, 98, 'Waghchaure', 89, 0.12)\n",
      "<class 'tuple'>\n",
      "hello\n",
      "45\n",
      "98\n",
      "Waghchaure\n",
      "89\n",
      "0.12\n"
     ]
    }
   ],
   "source": [
    "## Packing and Unpacking Tuples\n",
    "\n",
    "packed_tuple = \"hello\", 45, 98, 'Waghchaure', 89, 0.12\n",
    "print(packed_tuple)\n",
    "print(type(packed_tuple))\n",
    "\n",
    "## Unpacking\n",
    "a,b,c,d,e,f = packed_tuple\n",
    "print(a)\n",
    "print(b)\n",
    "print(c)\n",
    "print(d)\n",
    "print(e)\n",
    "print(f)"
   ]
  },
  {
   "cell_type": "code",
   "execution_count": 57,
   "metadata": {},
   "outputs": [
    {
     "name": "stdout",
     "output_type": "stream",
     "text": [
      "hello\n",
      "[45, 98, 'Waghchaure', 89]\n",
      "0.12\n"
     ]
    }
   ],
   "source": [
    "## Unpacking with *\n",
    "first, *middle, last = packed_tuple\n",
    "print(first)\n",
    "print(middle)\n",
    "print(last)"
   ]
  },
  {
   "cell_type": "code",
   "execution_count": 60,
   "metadata": {},
   "outputs": [],
   "source": [
    "list = [98,2,3]\n",
    "a,b,c = list"
   ]
  },
  {
   "cell_type": "code",
   "execution_count": 64,
   "metadata": {},
   "outputs": [
    {
     "name": "stdout",
     "output_type": "stream",
     "text": [
      "('abhishek', 34, 12)\n",
      "34\n"
     ]
    }
   ],
   "source": [
    "nested_tuple = ((\"abhishek\",34,12), (\"jay\",90), (True,False))\n",
    "print(nested_tuple[0])\n",
    "print(nested_tuple[0][1])"
   ]
  },
  {
   "cell_type": "code",
   "execution_count": 67,
   "metadata": {},
   "outputs": [
    {
     "name": "stdout",
     "output_type": "stream",
     "text": [
      "abhishek 34 12 jay 90 True False "
     ]
    }
   ],
   "source": [
    "for i in nested_tuple:\n",
    "    for sub in i:\n",
    "        print(sub , end = \" \")"
   ]
  }
 ],
 "metadata": {
  "kernelspec": {
   "display_name": "stable_env_nlp",
   "language": "python",
   "name": "python3"
  },
  "language_info": {
   "codemirror_mode": {
    "name": "ipython",
    "version": 3
   },
   "file_extension": ".py",
   "mimetype": "text/x-python",
   "name": "python",
   "nbconvert_exporter": "python",
   "pygments_lexer": "ipython3",
   "version": "3.10.15"
  }
 },
 "nbformat": 4,
 "nbformat_minor": 2
}
