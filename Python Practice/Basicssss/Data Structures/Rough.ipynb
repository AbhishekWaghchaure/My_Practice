{
 "cells": [
  {
   "cell_type": "code",
   "execution_count": null,
   "metadata": {},
   "outputs": [],
   "source": [
    "def is_palindromic(tuple):\n",
    "    "
   ]
  },
  {
   "cell_type": "code",
   "execution_count": 5,
   "metadata": {},
   "outputs": [],
   "source": [
    "# tuple = (1,2,3,2,1)\n",
    "tuple = (1,2,3,4,5,6)"
   ]
  },
  {
   "cell_type": "code",
   "execution_count": 9,
   "metadata": {},
   "outputs": [
    {
     "name": "stdout",
     "output_type": "stream",
     "text": [
      "False\n"
     ]
    }
   ],
   "source": [
    "tuple[::-1]\n",
    "print(tuple[0:] == tuple[::-1])"
   ]
  },
  {
   "cell_type": "code",
   "execution_count": 19,
   "metadata": {},
   "outputs": [
    {
     "name": "stdout",
     "output_type": "stream",
     "text": [
      "7\n"
     ]
    }
   ],
   "source": [
    "## Array should be sorted for binary search\n",
    "\n",
    "def binary_search(array, target):\n",
    "    start = 0  \n",
    "    end = len(array) - 1\n",
    "    for _ in range(len(array)):\n",
    "        mid = start + (end - start) // 2\n",
    "     \n",
    "        if arr[mid] == target:\n",
    "            return mid\n",
    "        \n",
    "        elif arr[mid] > target:\n",
    "            end = mid - 1\n",
    "            \n",
    "        else:\n",
    "            start = mid + 1\n",
    "        \n",
    "        if start > end:\n",
    "            break\n",
    "    return -1\n",
    "\n",
    "arr = [10,23,32,45,50,67,77,89,98]\n",
    "target = 89\n",
    "print(binary_search(arr,target))\n"
   ]
  },
  {
   "cell_type": "code",
   "execution_count": 12,
   "metadata": {},
   "outputs": [
    {
     "name": "stdout",
     "output_type": "stream",
     "text": [
      "0 8\n"
     ]
    }
   ],
   "source": [
    "arr = [10,23,32,45,50,67,77,89,98]\n",
    "\n",
    "start = 0\n",
    "end = len(arr) - 1\n",
    "\n",
    "print(start, end)"
   ]
  },
  {
   "cell_type": "code",
   "execution_count": 16,
   "metadata": {},
   "outputs": [
    {
     "name": "stdout",
     "output_type": "stream",
     "text": [
      "4\n"
     ]
    }
   ],
   "source": [
    "mid = start + (end - start) // 2\n",
    "print(mid)"
   ]
  },
  {
   "cell_type": "code",
   "execution_count": 18,
   "metadata": {},
   "outputs": [
    {
     "data": {
      "text/plain": [
       "4"
      ]
     },
     "execution_count": 18,
     "metadata": {},
     "output_type": "execute_result"
    }
   ],
   "source": [
    "(end - start) // 2\n"
   ]
  },
  {
   "cell_type": "code",
   "execution_count": 22,
   "metadata": {},
   "outputs": [],
   "source": [
    "def is_palindrom_for(string):\n",
    "    start  = 0\n",
    "    end = len(string) - 1\n",
    "    \n",
    "    for i in range(len(string) // 2):\n",
    "        if string[start] != string[end]:\n",
    "            return False\n",
    "        \n",
    "        start += 1\n",
    "        end -= 1\n",
    "    return True"
   ]
  },
  {
   "cell_type": "code",
   "execution_count": 24,
   "metadata": {},
   "outputs": [
    {
     "name": "stdout",
     "output_type": "stream",
     "text": [
      "True\n",
      "False\n"
     ]
    }
   ],
   "source": [
    "print(is_palindrom_for('malayalam'))\n",
    "print(is_palindrom_for('malayalm'))"
   ]
  },
  {
   "cell_type": "code",
   "execution_count": 43,
   "metadata": {},
   "outputs": [],
   "source": [
    "## Selection sort\n",
    "\n",
    "def selection_sort(arr):\n",
    "    min_index = 0\n",
    "    for i in range(0,(len(arr) - 1)):\n",
    "        for j in range(i + 1,len(arr)):\n",
    "            if arr[j] < arr[min_index]:\n",
    "                min_index = j\n",
    "        arr[i], arr[min_index] = arr[min_index], arr[i]\n",
    "    return arr"
   ]
  },
  {
   "cell_type": "code",
   "execution_count": 44,
   "metadata": {},
   "outputs": [
    {
     "name": "stdout",
     "output_type": "stream",
     "text": [
      "Sorted List: [11, 12, 22, 64, 25, 90]\n"
     ]
    }
   ],
   "source": [
    "unsorted_list = [64, 25, 12, 22, 11,90]\n",
    "sorted_list = selection_sort(unsorted_list)\n",
    "print(\"Sorted List:\", sorted_list)"
   ]
  },
  {
   "cell_type": "code",
   "execution_count": 41,
   "metadata": {},
   "outputs": [],
   "source": [
    "## Bubble sort\n",
    "def bubble_sort(arr):\n",
    "    for i in range(0, len(arr)):\n",
    "        for j in range(0,(len(arr) - 1 - i)):\n",
    "            if arr[j] > arr[j+1]:\n",
    "                #swap\n",
    "                arr[j], arr[j+1] = arr[j+1], arr[j]\n",
    "                \n",
    "    return arr"
   ]
  },
  {
   "cell_type": "code",
   "execution_count": 42,
   "metadata": {},
   "outputs": [
    {
     "name": "stdout",
     "output_type": "stream",
     "text": [
      "Sorted List: [11, 12, 22, 25, 64]\n"
     ]
    }
   ],
   "source": [
    "unsorted_list = [64, 25, 12, 22, 11]\n",
    "sorted = bubble_sort(unsorted_list)\n",
    "print(\"Sorted List:\", sorted)"
   ]
  },
  {
   "cell_type": "code",
   "execution_count": 47,
   "metadata": {},
   "outputs": [],
   "source": [
    "def insertion_sort(arr):\n",
    "    n = len(arr)\n",
    "    \n",
    "    for i in range(1,n):\n",
    "        current_card = arr[i]\n",
    "        correct_position = i - 1  # will go from currnt-1 to zero\n",
    "        \n",
    "        while correct_position >= 0:\n",
    "            if arr[correct_position] < current_card:\n",
    "                break\n",
    "            else:\n",
    "                arr[correct_position + 1] = arr[correct_position] ## 4 --> 5\n",
    "                correct_position = correct_position - 1 ## 4-1 = 3\n",
    "                \n",
    "                arr[correct_position + 1] = current_card\n",
    "    return arr"
   ]
  },
  {
   "cell_type": "code",
   "execution_count": 48,
   "metadata": {},
   "outputs": [
    {
     "name": "stdout",
     "output_type": "stream",
     "text": [
      "Sorted List: [11, 12, 22, 25, 64]\n"
     ]
    }
   ],
   "source": [
    "unsorted_list = [64, 25, 12, 22, 11]\n",
    "sorted = insertion_sort(unsorted_list)\n",
    "print(\"Sorted List:\", sorted)"
   ]
  },
  {
   "metadata": {
    "ExecuteTime": {
     "end_time": "2024-12-13T14:17:48.054576Z",
     "start_time": "2024-12-13T14:17:48.051008Z"
    }
   },
   "cell_type": "code",
   "source": [
    "## Fibonacci series\n",
    "def fibonacci(a,b):\n",
    "    fib = 0\n",
    "    for _ in range(0,5):\n",
    "        fib = a + b\n",
    "        a = b\n",
    "        b = fib\n",
    "    return fib\n",
    "print(fibonacci(0,1))"
   ],
   "outputs": [
    {
     "name": "stdout",
     "output_type": "stream",
     "text": [
      "8\n"
     ]
    }
   ],
   "execution_count": 37
  },
  {
   "metadata": {
    "ExecuteTime": {
     "end_time": "2024-12-13T14:18:17.604230Z",
     "start_time": "2024-12-13T14:18:17.600078Z"
    }
   },
   "cell_type": "code",
   "source": [
    "def fibonacci_recur(num):\n",
    "    if num == 0:\n",
    "        return 0\n",
    "    if num == 1:\n",
    "        return 1\n",
    "\n",
    "    last = fibonacci_recur(num - 1)\n",
    "    second_last = fibonacci_recur(num -2)\n",
    "\n",
    "    return last + second_last\n",
    "\n",
    "print(fibonacci_recur(5))"
   ],
   "outputs": [
    {
     "name": "stdout",
     "output_type": "stream",
     "text": [
      "5\n"
     ]
    }
   ],
   "execution_count": 42
  },
  {
   "metadata": {
    "ExecuteTime": {
     "end_time": "2024-12-14T03:35:03.036460Z",
     "start_time": "2024-12-14T03:35:03.032365Z"
    }
   },
   "cell_type": "code",
   "source": [
    "def count_to_n(n):\n",
    "    if n == 1:\n",
    "        return [1]\n",
    "\n",
    "    return count_to_n(n-1) + [n]\n",
    "\n",
    "print(count_to_n(5))"
   ],
   "outputs": [
    {
     "name": "stdout",
     "output_type": "stream",
     "text": [
      "[1, 2, 3, 4, 5]\n"
     ]
    }
   ],
   "execution_count": 45
  }
 ],
 "metadata": {
  "kernelspec": {
   "display_name": "stable_env_nlp",
   "language": "python",
   "name": "python3"
  },
  "language_info": {
   "codemirror_mode": {
    "name": "ipython",
    "version": 3
   },
   "file_extension": ".py",
   "mimetype": "text/x-python",
   "name": "python",
   "nbconvert_exporter": "python",
   "pygments_lexer": "ipython3",
   "version": "3.10.15"
  }
 },
 "nbformat": 4,
 "nbformat_minor": 2
}
