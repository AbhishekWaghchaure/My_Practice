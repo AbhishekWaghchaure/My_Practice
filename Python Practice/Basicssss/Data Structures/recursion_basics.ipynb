{
 "cells": [
  {
   "cell_type": "code",
   "id": "initial_id",
   "metadata": {
    "collapsed": true,
    "ExecuteTime": {
     "end_time": "2024-12-10T11:00:32.314804Z",
     "start_time": "2024-12-10T11:00:32.309418Z"
    }
   },
   "source": [
    "## print first 5  numbers 1 to 5\n",
    "\n",
    "def print_num(num):\n",
    "    for i in range(1, num+1):\n",
    "        print(i)\n",
    "\n",
    "(print_num(5))"
   ],
   "outputs": [
    {
     "name": "stdout",
     "output_type": "stream",
     "text": [
      "1\n",
      "2\n",
      "3\n",
      "4\n",
      "5\n"
     ]
    }
   ],
   "execution_count": 7
  },
  {
   "metadata": {
    "ExecuteTime": {
     "end_time": "2024-12-10T12:18:16.023006Z",
     "start_time": "2024-12-10T12:18:16.019139Z"
    }
   },
   "cell_type": "code",
   "source": [
    "## Now doing the same using recursion\n",
    "def fun(num):\n",
    "    print(num)\n",
    "    if num == 1:\n",
    "        return 1\n",
    "    fun(num-1)"
   ],
   "id": "e526a0d0422b39cd",
   "outputs": [],
   "execution_count": 29
  },
  {
   "metadata": {
    "ExecuteTime": {
     "end_time": "2024-12-10T12:18:17.008703Z",
     "start_time": "2024-12-10T12:18:17.005001Z"
    }
   },
   "cell_type": "code",
   "source": "fun(5)",
   "id": "aeac8781d13e3b46",
   "outputs": [
    {
     "name": "stdout",
     "output_type": "stream",
     "text": [
      "5\n",
      "4\n",
      "3\n",
      "2\n",
      "1\n"
     ]
    }
   ],
   "execution_count": 30
  },
  {
   "metadata": {
    "ExecuteTime": {
     "end_time": "2024-12-10T12:06:10.431617Z",
     "start_time": "2024-12-10T12:06:10.426777Z"
    }
   },
   "cell_type": "code",
   "source": [
    "## Factorial\n",
    "def fact(num):\n",
    "    factorial = 1\n",
    "    for i in range(1, num+1):\n",
    "        factorial = factorial * i\n",
    "    return factorial"
   ],
   "id": "d089f35bca8b7563",
   "outputs": [],
   "execution_count": 23
  },
  {
   "metadata": {
    "ExecuteTime": {
     "end_time": "2024-12-10T12:06:11.797908Z",
     "start_time": "2024-12-10T12:06:11.792855Z"
    }
   },
   "cell_type": "code",
   "source": "fact(5)",
   "id": "20ad9977477103c1",
   "outputs": [
    {
     "data": {
      "text/plain": [
       "120"
      ]
     },
     "execution_count": 24,
     "metadata": {},
     "output_type": "execute_result"
    }
   ],
   "execution_count": 24
  },
  {
   "metadata": {
    "ExecuteTime": {
     "end_time": "2024-12-10T12:18:05.745966Z",
     "start_time": "2024-12-10T12:18:05.741627Z"
    }
   },
   "cell_type": "code",
   "source": [
    "def fact_recursive(num):\n",
    "    if num == 0 or num == 1:\n",
    "        return 1\n",
    "    return num * fact_recursive(num - 1)"
   ],
   "id": "dfea834060248d64",
   "outputs": [],
   "execution_count": 27
  },
  {
   "metadata": {
    "ExecuteTime": {
     "end_time": "2024-12-10T12:18:06.947095Z",
     "start_time": "2024-12-10T12:18:06.941562Z"
    }
   },
   "cell_type": "code",
   "source": "fact_recursive(5)",
   "id": "87ce71f29aaae037",
   "outputs": [
    {
     "data": {
      "text/plain": [
       "120"
      ]
     },
     "execution_count": 28,
     "metadata": {},
     "output_type": "execute_result"
    }
   ],
   "execution_count": 28
  }
 ],
 "metadata": {
  "kernelspec": {
   "display_name": "Python 3",
   "language": "python",
   "name": "python3"
  },
  "language_info": {
   "codemirror_mode": {
    "name": "ipython",
    "version": 2
   },
   "file_extension": ".py",
   "mimetype": "text/x-python",
   "name": "python",
   "nbconvert_exporter": "python",
   "pygments_lexer": "ipython2",
   "version": "2.7.6"
  }
 },
 "nbformat": 4,
 "nbformat_minor": 5
}
