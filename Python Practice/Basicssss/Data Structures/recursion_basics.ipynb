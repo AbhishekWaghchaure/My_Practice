{
 "cells": [
  {
   "cell_type": "code",
   "execution_count": 7,
   "id": "initial_id",
   "metadata": {
    "ExecuteTime": {
     "end_time": "2024-12-10T11:00:32.314804Z",
     "start_time": "2024-12-10T11:00:32.309418Z"
    },
    "collapsed": true
   },
   "outputs": [
    {
     "name": "stdout",
     "output_type": "stream",
     "text": [
      "1\n",
      "2\n",
      "3\n",
      "4\n",
      "5\n"
     ]
    }
   ],
   "source": [
    "## print first 5  numbers 1 to 5\n",
    "\n",
    "def print_num(num):\n",
    "    for i in range(1, num+1):\n",
    "        print(i)\n",
    "\n",
    "(print_num(5))"
   ]
  },
  {
   "cell_type": "code",
   "execution_count": 29,
   "id": "e526a0d0422b39cd",
   "metadata": {
    "ExecuteTime": {
     "end_time": "2024-12-10T12:18:16.023006Z",
     "start_time": "2024-12-10T12:18:16.019139Z"
    }
   },
   "outputs": [],
   "source": [
    "## Now doing the same using recursion\n",
    "def fun(num):\n",
    "    print(num)\n",
    "    if num == 1:\n",
    "        return 1\n",
    "    fun(num-1)"
   ]
  },
  {
   "cell_type": "code",
   "execution_count": 30,
   "id": "aeac8781d13e3b46",
   "metadata": {
    "ExecuteTime": {
     "end_time": "2024-12-10T12:18:17.008703Z",
     "start_time": "2024-12-10T12:18:17.005001Z"
    }
   },
   "outputs": [
    {
     "name": "stdout",
     "output_type": "stream",
     "text": [
      "5\n",
      "4\n",
      "3\n",
      "2\n",
      "1\n"
     ]
    }
   ],
   "source": [
    "fun(5)"
   ]
  },
  {
   "cell_type": "code",
   "execution_count": 23,
   "id": "d089f35bca8b7563",
   "metadata": {
    "ExecuteTime": {
     "end_time": "2024-12-10T12:06:10.431617Z",
     "start_time": "2024-12-10T12:06:10.426777Z"
    }
   },
   "outputs": [],
   "source": [
    "## Factorial\n",
    "def fac (num):\n",
    "    factorial = 1\n",
    "    for i in range(1, num+1):\n",
    "        factorial = factorial * i\n",
    "    return factorial"
   ]
  },
  {
   "cell_type": "code",
   "execution_count": 24,
   "id": "20ad9977477103c1",
   "metadata": {
    "ExecuteTime": {
     "end_time": "2024-12-10T12:06:11.797908Z",
     "start_time": "2024-12-10T12:06:11.792855Z"
    }
   },
   "outputs": [
    {
     "data": {
      "text/plain": [
       "120"
      ]
     },
     "execution_count": 24,
     "metadata": {},
     "output_type": "execute_result"
    }
   ],
   "source": [
    "fact(5)"
   ]
  },
  {
   "cell_type": "code",
   "execution_count": 27,
   "id": "dfea834060248d64",
   "metadata": {
    "ExecuteTime": {
     "end_time": "2024-12-10T12:18:05.745966Z",
     "start_time": "2024-12-10T12:18:05.741627Z"
    }
   },
   "outputs": [],
   "source": [
    "def fact_recursive(num):\n",
    "    if num == 0 or num == 1:\n",
    "        return 1\n",
    "    return num * fact_recursive(num - 1)"
   ]
  },
  {
   "cell_type": "code",
   "execution_count": 28,
   "id": "87ce71f29aaae037",
   "metadata": {
    "ExecuteTime": {
     "end_time": "2024-12-10T12:18:06.947095Z",
     "start_time": "2024-12-10T12:18:06.941562Z"
    }
   },
   "outputs": [
    {
     "data": {
      "text/plain": [
       "120"
      ]
     },
     "execution_count": 28,
     "metadata": {},
     "output_type": "execute_result"
    }
   ],
   "source": [
    "fact_recursive(5)"
   ]
  },
  {
   "cell_type": "code",
   "execution_count": 2,
   "id": "40f5bfc0c3b6eda2",
   "metadata": {
    "ExecuteTime": {
     "end_time": "2024-12-13T06:47:00.987685Z",
     "start_time": "2024-12-13T06:47:00.983535Z"
    }
   },
   "outputs": [
    {
     "name": "stdout",
     "output_type": "stream",
     "text": [
      "55\n"
     ]
    }
   ],
   "source": [
    "def sum_recur(num):\n",
    "    if num == 1:\n",
    "        return 1\n",
    "    smoll = sum_recur(num - 1)\n",
    "    return num + smoll\n",
    "\n",
    "print(sum_recur(10))\n"
   ]
  },
  {
   "cell_type": "code",
   "execution_count": 8,
   "id": "4f2572f995d27dc5",
   "metadata": {
    "ExecuteTime": {
     "end_time": "2024-12-13T10:41:29.698923Z",
     "start_time": "2024-12-13T10:41:29.695148Z"
    }
   },
   "outputs": [],
   "source": [
    "number= 999"
   ]
  },
  {
   "cell_type": "code",
   "execution_count": 9,
   "id": "48b1eab736db4bc4",
   "metadata": {
    "ExecuteTime": {
     "end_time": "2024-12-13T10:41:30.628844Z",
     "start_time": "2024-12-13T10:41:30.624539Z"
    }
   },
   "outputs": [
    {
     "name": "stdout",
     "output_type": "stream",
     "text": [
      "3\n"
     ]
    }
   ],
   "source": [
    "count = 0\n",
    "while number > 0:\n",
    "    number = number // 10\n",
    "    count = count + 1\n",
    "print(count)"
   ]
  },
  {
   "cell_type": "code",
   "execution_count": 35,
   "id": "9782f3274ce9d6ae",
   "metadata": {
    "ExecuteTime": {
     "end_time": "2024-12-13T11:39:02.958887Z",
     "start_time": "2024-12-13T11:39:02.954156Z"
    }
   },
   "outputs": [
    {
     "name": "stdout",
     "output_type": "stream",
     "text": [
      "2\n"
     ]
    }
   ],
   "source": [
    "def count_digits(number):\n",
    "    if number == 0:\n",
    "        return 1\n",
    "    elif 1 <= number <= 9:\n",
    "        return 1\n",
    "    return 1 + count_digits(int(number / 10))\n",
    "\n",
    "print(count_digits(99))"
   ]
  }
 ],
 "metadata": {
  "kernelspec": {
   "display_name": "Python 3",
   "language": "python",
   "name": "python3"
  },
  "language_info": {
   "codemirror_mode": {
    "name": "ipython",
    "version": 2
   },
   "file_extension": ".py",
   "mimetype": "text/x-python",
   "name": "python",
   "nbconvert_exporter": "python",
   "pygments_lexer": "ipython2",
   "version": "2.7.6"
  }
 },
 "nbformat": 4,
 "nbformat_minor": 5
}
