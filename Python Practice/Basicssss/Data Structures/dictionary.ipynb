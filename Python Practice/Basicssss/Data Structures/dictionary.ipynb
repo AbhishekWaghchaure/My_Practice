{
 "cells": [
  {
   "cell_type": "code",
   "execution_count": 84,
   "metadata": {},
   "outputs": [],
   "source": [
    "import sys"
   ]
  },
  {
   "cell_type": "code",
   "execution_count": 85,
   "metadata": {},
   "outputs": [],
   "source": [
    "## Unordered collection of items, stored in key value pairs.\n",
    "## Keys are Immutable(eg strings, nummbers,tuples) while values can be of any type"
   ]
  },
  {
   "cell_type": "code",
   "execution_count": 86,
   "metadata": {},
   "outputs": [
    {
     "name": "stdout",
     "output_type": "stream",
     "text": [
      "<class 'dict'>\n",
      "64\n"
     ]
    }
   ],
   "source": [
    "## Creating Dictionary\n",
    "\n",
    "empty_dict = {}\n",
    "print(type(empty_dict))\n",
    "print(sys.getsizeof(empty_dict))"
   ]
  },
  {
   "cell_type": "code",
   "execution_count": 87,
   "metadata": {},
   "outputs": [
    {
     "name": "stdout",
     "output_type": "stream",
     "text": [
      "{'name': 'Abhishek', 'age': 27, 'grade': 'A+'}\n",
      "232\n"
     ]
    }
   ],
   "source": [
    "student={\"name\" : \"Abhishek\",\n",
    "         \"age\" : 27,\n",
    "         \"grade\" : 'A+'}\n",
    "print(student)\n",
    "print(sys.getsizeof(student))\n"
   ]
  },
  {
   "cell_type": "code",
   "execution_count": 88,
   "metadata": {},
   "outputs": [
    {
     "name": "stdout",
     "output_type": "stream",
     "text": [
      "{'Name': ['Abhishek', 'Ramesh', 'Ganesha'], 'Age': [27, 22, 31]}\n"
     ]
    }
   ],
   "source": [
    "student2 = {\"Name\": [\"Abhishek\", \"Ramesh\", \"Ganesha\"],\n",
    "           \"Age\":[27,22,31]}\n",
    "print(student2)"
   ]
  },
  {
   "cell_type": "code",
   "execution_count": 89,
   "metadata": {},
   "outputs": [
    {
     "name": "stdout",
     "output_type": "stream",
     "text": [
      "Abhishek\n",
      "27\n"
     ]
    }
   ],
   "source": [
    "## Accessing dictionary elements\n",
    "print(student['name'])\n",
    "\n",
    "## Accessing using get method\n",
    "print(student.get(\"age\"))"
   ]
  },
  {
   "cell_type": "code",
   "execution_count": 90,
   "metadata": {},
   "outputs": [
    {
     "name": "stdout",
     "output_type": "stream",
     "text": [
      "{'name': 'Abhishek', 'age': 27, 'grade': 'A+'}\n",
      "{'name': 'Abhishek', 'age': 33, 'grade': 'A+'}\n",
      "{'name': 'Abhishek', 'age': 33, 'grade': 'A+', 'address': 'Sai Vrundavan 703 flat B wing'}\n"
     ]
    }
   ],
   "source": [
    "## Modifying dictionary elements\n",
    "## Dictionary values are mutable so add update delete possible\n",
    "\n",
    "print(student)\n",
    "student['age'] = 33 ## update previous age with 33\n",
    "print(student)\n",
    "student['address'] = \"Sai Vrundavan 703 flat B wing\"\n",
    "print(student)\n"
   ]
  },
  {
   "cell_type": "code",
   "execution_count": 91,
   "metadata": {},
   "outputs": [
    {
     "name": "stdout",
     "output_type": "stream",
     "text": [
      "{'name': 'Abhishek', 'age': 33, 'address': 'Sai Vrundavan 703 flat B wing'}\n"
     ]
    }
   ],
   "source": [
    "## Deletion\n",
    "\n",
    "del student['grade']\n",
    "print(student)"
   ]
  },
  {
   "cell_type": "code",
   "execution_count": 92,
   "metadata": {},
   "outputs": [
    {
     "name": "stdout",
     "output_type": "stream",
     "text": [
      "Keys : dict_keys(['name', 'age', 'address'])\n",
      "Values : dict_values(['Abhishek', 33, 'Sai Vrundavan 703 flat B wing'])\n",
      "Items : dict_items([('name', 'Abhishek'), ('age', 33), ('address', 'Sai Vrundavan 703 flat B wing')])\n"
     ]
    }
   ],
   "source": [
    "## Dictionary Methods\n",
    "\n",
    "keys = student.keys()\n",
    "values = student.values()\n",
    "items = student.items()\n",
    "\n",
    "print(f\"Keys : {keys}\")\n",
    "print(f\"Values : {values}\")\n",
    "print(f\"Items : {items}\")"
   ]
  },
  {
   "cell_type": "code",
   "execution_count": 93,
   "metadata": {},
   "outputs": [
    {
     "name": "stdout",
     "output_type": "stream",
     "text": [
      "{'name': 'Abhishek', 'age': 33, 'address': 'Sai Vrundavan 703 flat B wing'}\n",
      "{'name': 'Abhishek', 'age': 33, 'address': 'Sai Vrundavan 703 flat B wing'}\n"
     ]
    }
   ],
   "source": [
    "## Shallow Copy\n",
    "student_copy = student\n",
    "print(student_copy)\n",
    "print(student)"
   ]
  },
  {
   "cell_type": "code",
   "execution_count": 94,
   "metadata": {},
   "outputs": [
    {
     "name": "stdout",
     "output_type": "stream",
     "text": [
      "{'name': 'Jay', 'age': 33, 'address': 'Sai Vrundavan 703 flat B wing'}\n",
      "{'name': 'Jay', 'age': 33, 'address': 'Sai Vrundavan 703 flat B wing'}\n"
     ]
    }
   ],
   "source": [
    "student['name'] = \"Jay\"  ## Even after creating a copy got values updated in original aswell....\n",
    "print(student_copy) \n",
    "print(student)"
   ]
  },
  {
   "cell_type": "code",
   "execution_count": 95,
   "metadata": {},
   "outputs": [
    {
     "name": "stdout",
     "output_type": "stream",
     "text": [
      "Student shallow copied : {'name': 'Jay', 'age': 33, 'address': 'Sai Vrundavan 703 flat B wing'}\n",
      "Original student : {'name': 'Jay', 'age': 33, 'address': 'Sai Vrundavan 703 flat B wing'}\n",
      "Student shallow copied : {'name': 'Jay', 'age': 33, 'address': 'Sai Vrundavan 703 flat B wing'}\n",
      "Original student : {'name': 'Abhishek', 'age': 33, 'address': 'Sai Vrundavan 703 flat B wing'}\n"
     ]
    }
   ],
   "source": [
    "student3 = student.copy() ## Allocate different memory space\n",
    "print(f\"Student shallow copied : {student3}\")\n",
    "print(f\"Original student : {student}\")\n",
    "\n",
    "student['name'] = \"Abhishek\"\n",
    "print(f\"Student shallow copied : {student3}\")\n",
    "print(f\"Original student : {student}\")"
   ]
  },
  {
   "cell_type": "code",
   "execution_count": 96,
   "metadata": {},
   "outputs": [
    {
     "name": "stdout",
     "output_type": "stream",
     "text": [
      "name\n",
      "age\n",
      "address\n",
      "Abhishek\n",
      "33\n",
      "Sai Vrundavan 703 flat B wing\n",
      "Keys: name Values: Abhishek\n",
      "Keys: age Values: 33\n",
      "Keys: address Values: Sai Vrundavan 703 flat B wing\n"
     ]
    }
   ],
   "source": [
    "## Iterating over Dictionaries\n",
    "## Loops can be used to iterate, key, values and items in dictionaries\n",
    "\n",
    "## Iterating over keys \n",
    "for keys in student.keys():\n",
    "    print(keys)\n",
    "    \n",
    "## Iterating over values\n",
    "for values in student.values():\n",
    "    print(values)\n",
    "    \n",
    "## Iterating over key value pairs\n",
    "for keys, value in student.items():\n",
    "    print(f\"Keys: {keys} Values: {value}\")"
   ]
  },
  {
   "cell_type": "code",
   "execution_count": 97,
   "metadata": {},
   "outputs": [
    {
     "name": "stdout",
     "output_type": "stream",
     "text": [
      "{'student1': {'Name': 'Abhishek', 'Age': 27}, 'student2': {'Name': 'Karan', 'Age': 29}}\n",
      "232\n"
     ]
    }
   ],
   "source": [
    "## Nested Dictionaries\n",
    "students = {\n",
    "    \"student1\" : {\"Name\" : \"Abhishek\", \"Age\" : 27},\n",
    "    \"student2\" : {\"Name\" : \"Karan\", \"Age\" : 29}\n",
    "}\n",
    "print(students)\n",
    "print(sys.getsizeof(students))"
   ]
  },
  {
   "cell_type": "code",
   "execution_count": 98,
   "metadata": {},
   "outputs": [
    {
     "name": "stdout",
     "output_type": "stream",
     "text": [
      "Abhishek\n",
      "dict_items([('student1', {'Name': 'Abhishek', 'Age': 27}), ('student2', {'Name': 'Karan', 'Age': 29})])\n"
     ]
    }
   ],
   "source": [
    "## Acess nested dictionaries elements\n",
    "\n",
    "print(students[\"student1\"]['Name'])\n",
    "print(students.items())"
   ]
  },
  {
   "cell_type": "code",
   "execution_count": 99,
   "metadata": {},
   "outputs": [
    {
     "name": "stdout",
     "output_type": "stream",
     "text": [
      "student1 {'Name': 'Abhishek', 'Age': 27}\n",
      "student2 {'Name': 'Karan', 'Age': 29}\n"
     ]
    }
   ],
   "source": [
    "## Iterating over nested dictionaries\n",
    "\n",
    "for student_id, student_info in students.items():\n",
    "    print(student_id, student_info)"
   ]
  },
  {
   "cell_type": "code",
   "execution_count": 100,
   "metadata": {},
   "outputs": [
    {
     "name": "stdout",
     "output_type": "stream",
     "text": [
      "{0: 0, 1: 1, 2: 4, 3: 9, 4: 16}\n"
     ]
    }
   ],
   "source": [
    "## Dictionary Comprehensions\n",
    "squares = {x : x**2 for x in range(5)}\n",
    "print(squares)"
   ]
  },
  {
   "cell_type": "code",
   "execution_count": 101,
   "metadata": {},
   "outputs": [
    {
     "data": {
      "text/plain": [
       "{0: 0, 2: 4, 4: 16, 6: 36, 8: 64}"
      ]
     },
     "execution_count": 101,
     "metadata": {},
     "output_type": "execute_result"
    }
   ],
   "source": [
    "## Conditional Dictionary Comprehension\n",
    "{x:x**2 for x in range(10) if x % 2 == 0}"
   ]
  },
  {
   "cell_type": "code",
   "execution_count": 102,
   "metadata": {},
   "outputs": [
    {
     "data": {
      "text/plain": [
       "{'freq': 1}"
      ]
     },
     "execution_count": 102,
     "metadata": {},
     "output_type": "execute_result"
    }
   ],
   "source": [
    "## USe a dictionary to count frequency of elements in the list\n",
    "\n",
    "numbers = [1,1,2,2,3,4,5,5,2,3,4,4,5,5,6,6,7,7,8,8,9,1,1]\n",
    "frequency = {}\n",
    "\n",
    "{\"freq\" : number for number in numbers if number}"
   ]
  },
  {
   "cell_type": "code",
   "execution_count": 103,
   "metadata": {},
   "outputs": [
    {
     "name": "stdout",
     "output_type": "stream",
     "text": [
      "{1: 4, 2: 3, 3: 2, 4: 3, 5: 4, 6: 2, 7: 2, 8: 2, 9: 1}\n"
     ]
    }
   ],
   "source": [
    "for number in numbers:\n",
    "    if number in frequency.keys():\n",
    "        frequency[number] += 1\n",
    "    else:\n",
    "        frequency[number] = 1\n",
    "print(frequency)"
   ]
  },
  {
   "cell_type": "code",
   "execution_count": 104,
   "metadata": {},
   "outputs": [
    {
     "name": "stdout",
     "output_type": "stream",
     "text": [
      "{'a': 1, 'b': 3, 'c': 4}\n"
     ]
    }
   ],
   "source": [
    "## Merge 2 Dictionaries\n",
    "dict1 = {\"a\":1,\"b\":3}\n",
    "dict2 = {\"b\":3, \"c\":4}\n",
    "merged_dict = {**dict1, **dict2}\n",
    "print(merged_dict)"
   ]
  }
 ],
 "metadata": {
  "kernelspec": {
   "display_name": "stable_env_nlp",
   "language": "python",
   "name": "python3"
  },
  "language_info": {
   "codemirror_mode": {
    "name": "ipython",
    "version": 3
   },
   "file_extension": ".py",
   "mimetype": "text/x-python",
   "name": "python",
   "nbconvert_exporter": "python",
   "pygments_lexer": "ipython3",
   "version": "3.10.15"
  }
 },
 "nbformat": 4,
 "nbformat_minor": 2
}
