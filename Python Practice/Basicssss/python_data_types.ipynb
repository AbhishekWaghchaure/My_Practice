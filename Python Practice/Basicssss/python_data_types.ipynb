{
 "cells": [
  {
   "cell_type": "code",
   "execution_count": 2,
   "metadata": {},
   "outputs": [],
   "source": [
    "import sys"
   ]
  },
  {
   "cell_type": "code",
   "execution_count": 4,
   "metadata": {},
   "outputs": [
    {
     "name": "stdout",
     "output_type": "stream",
     "text": [
      "34566\n",
      "<class 'int'>\n",
      "28\n"
     ]
    }
   ],
   "source": [
    "## Integer\n",
    "int = 34566\n",
    "print(int)\n",
    "print(type(int))\n",
    "print(sys.getsizeof(int))"
   ]
  },
  {
   "cell_type": "code",
   "execution_count": 5,
   "metadata": {},
   "outputs": [
    {
     "name": "stdout",
     "output_type": "stream",
     "text": [
      "3.9999999999819\n",
      "<class 'float'>\n",
      "24\n"
     ]
    }
   ],
   "source": [
    "## Float\n",
    "float = 3.9999999999819\n",
    "print(float)\n",
    "print(type(float))\n",
    "print(sys.getsizeof(float))"
   ]
  },
  {
   "cell_type": "code",
   "execution_count": 12,
   "metadata": {},
   "outputs": [
    {
     "name": "stdout",
     "output_type": "stream",
     "text": [
      "True\n",
      "<class 'bool'>\n",
      "28\n",
      "False\n"
     ]
    }
   ],
   "source": [
    "## Boolean\n",
    "boolean = True \n",
    "print(boolean)\n",
    "print(type(boolean))\n",
    "print(sys.getsizeof(boolean))\n",
    "\n",
    "a = 10\n",
    "b = 10\n",
    "print(a != b)"
   ]
  },
  {
   "cell_type": "code",
   "execution_count": 9,
   "metadata": {},
   "outputs": [
    {
     "name": "stdout",
     "output_type": "stream",
     "text": [
      "Abhishek Waghchaure is my name\n",
      "<class 'str'>\n",
      "79\n"
     ]
    }
   ],
   "source": [
    "## String\n",
    "string = 'Abhishek Waghchaure is my name'\n",
    "print(string)\n",
    "print(type(string))\n",
    "print(sys.getsizeof(string))"
   ]
  },
  {
   "cell_type": "code",
   "execution_count": 16,
   "metadata": {},
   "outputs": [
    {
     "name": "stdout",
     "output_type": "stream",
     "text": [
      "Hello 5\n"
     ]
    }
   ],
   "source": [
    "## Common Errors in DataTypes\n",
    "# result = 'Hello' + 5 ## cannot concat string and int\n",
    "result = 'Hello' +' '+ str(5)\n",
    "print(result)\n"
   ]
  },
  {
   "cell_type": "code",
   "execution_count": 1,
   "metadata": {},
   "outputs": [],
   "source": [
    "import os"
   ]
  },
  {
   "cell_type": "code",
   "execution_count": 2,
   "metadata": {},
   "outputs": [
    {
     "name": "stdout",
     "output_type": "stream",
     "text": [
      "8\n"
     ]
    }
   ],
   "source": [
    "print(os.cpu_count())"
   ]
  }
 ],
 "metadata": {
  "kernelspec": {
   "display_name": "stable_env_nlp",
   "language": "python",
   "name": "python3"
  },
  "language_info": {
   "codemirror_mode": {
    "name": "ipython",
    "version": 3
   },
   "file_extension": ".py",
   "mimetype": "text/x-python",
   "name": "python",
   "nbconvert_exporter": "python",
   "pygments_lexer": "ipython3",
   "version": "3.10.15"
  }
 },
 "nbformat": 4,
 "nbformat_minor": 2
}
