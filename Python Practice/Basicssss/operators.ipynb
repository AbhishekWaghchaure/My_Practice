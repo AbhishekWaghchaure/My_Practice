{
 "cells": [
  {
   "cell_type": "code",
   "execution_count": 1,
   "metadata": {},
   "outputs": [],
   "source": [
    "import sys, os"
   ]
  },
  {
   "cell_type": "code",
   "execution_count": 5,
   "metadata": {},
   "outputs": [
    {
     "name": "stdout",
     "output_type": "stream",
     "text": [
      "25\n",
      "28\n",
      "28\n",
      "28\n"
     ]
    }
   ],
   "source": [
    "## Arithmetic operations\n",
    "a = 10\n",
    "b = 15\n",
    "result = a + b\n",
    "print(result)\n",
    "print(sys.getsizeof(a))\n",
    "print(sys.getsizeof(b))\n",
    "print(sys.getsizeof(result))"
   ]
  },
  {
   "cell_type": "code",
   "execution_count": 8,
   "metadata": {},
   "outputs": [
    {
     "name": "stdout",
     "output_type": "stream",
     "text": [
      "30\n",
      "10\n",
      "200\n",
      "2.0\n",
      "0\n",
      "2\n"
     ]
    }
   ],
   "source": [
    "## Arithmetric Operators\n",
    "a = 20\n",
    "b = 10\n",
    "\n",
    "add_result = a + b\n",
    "sub_result = a - b\n",
    "mult_result = a * b\n",
    "div_result = a / b\n",
    "mod_result = a % b\n",
    "floor_result = a // b\n",
    "\n",
    "print(add_result)\n",
    "print(sub_result)\n",
    "print(mult_result)\n",
    "print(div_result)\n",
    "print(mod_result)\n",
    "print(floor_result)\n"
   ]
  },
  {
   "cell_type": "code",
   "execution_count": 10,
   "metadata": {},
   "outputs": [
    {
     "name": "stdout",
     "output_type": "stream",
     "text": [
      "False\n",
      "<class 'bool'>\n",
      "24\n"
     ]
    }
   ],
   "source": [
    "## Comparisons Operators\n",
    "a = 10 \n",
    "b = 30\n",
    "equal = a == b\n",
    "print(equal)\n",
    "print(type(equal))\n",
    "print(sys.getsizeof(equal))"
   ]
  },
  {
   "cell_type": "code",
   "execution_count": 12,
   "metadata": {},
   "outputs": [
    {
     "name": "stdout",
     "output_type": "stream",
     "text": [
      "False\n",
      "True\n",
      "False\n",
      "True\n"
     ]
    }
   ],
   "source": [
    "## Comparison Operator\n",
    "\n",
    "a = 40\n",
    "b =60 \n",
    "equal_to = a == b\n",
    "notequal_to = a != b\n",
    "greater_than_a = a > b\n",
    "lesser_than_a = a < b\n",
    "\n",
    "print(equal_to)\n",
    "print(notequal_to)\n",
    "print(greater_than_a)\n",
    "print(lesser_than_a)"
   ]
  },
  {
   "cell_type": "code",
   "execution_count": 19,
   "metadata": {},
   "outputs": [
    {
     "name": "stdout",
     "output_type": "stream",
     "text": [
      "True\n",
      "True\n"
     ]
    }
   ],
   "source": [
    "## Logical Operators (AND, OR, NOT)\n",
    "X = True\n",
    "Y = True\n",
    "AND_result = X and Y\n",
    "OR_result = X or Y\n",
    "print(AND_result)\n",
    "print(OR_result)"
   ]
  },
  {
   "cell_type": "code",
   "execution_count": 20,
   "metadata": {},
   "outputs": [
    {
     "name": "stdout",
     "output_type": "stream",
     "text": [
      "False\n"
     ]
    }
   ],
   "source": [
    "print(not X)"
   ]
  }
 ],
 "metadata": {
  "kernelspec": {
   "display_name": "stable_env_nlp",
   "language": "python",
   "name": "python3"
  },
  "language_info": {
   "codemirror_mode": {
    "name": "ipython",
    "version": 3
   },
   "file_extension": ".py",
   "mimetype": "text/x-python",
   "name": "python",
   "nbconvert_exporter": "python",
   "pygments_lexer": "ipython3",
   "version": "3.10.15"
  }
 },
 "nbformat": 4,
 "nbformat_minor": 2
}
