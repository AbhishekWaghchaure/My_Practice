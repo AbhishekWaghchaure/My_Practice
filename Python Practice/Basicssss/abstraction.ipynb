{
 "cells": [
  {
   "metadata": {},
   "cell_type": "markdown",
   "source": "### Abstraction",
   "id": "df54d5a1ca83f50d"
  },
  {
   "metadata": {},
   "cell_type": "markdown",
   "source": "#### The concept of hiding the complex implementation and showing only necessary features of an object...is abstraction..",
   "id": "c093e9ff444efa25"
  },
  {
   "cell_type": "code",
   "id": "initial_id",
   "metadata": {
    "collapsed": true,
    "ExecuteTime": {
     "end_time": "2024-12-09T13:33:42.371790Z",
     "start_time": "2024-12-09T13:33:42.367394Z"
    }
   },
   "source": "from abc import ABC, abstractmethod",
   "outputs": [],
   "execution_count": 2
  },
  {
   "metadata": {
    "ExecuteTime": {
     "end_time": "2024-12-09T13:42:23.767164Z",
     "start_time": "2024-12-09T13:42:23.761489Z"
    }
   },
   "cell_type": "code",
   "source": [
    "## Abstract base class\n",
    "class Vehicle(ABC):\n",
    "    def drive(self):\n",
    "        print(\"The Vehicle is used for driving\")\n",
    "\n",
    "    @abstractmethod\n",
    "    def start_engine(self):\n",
    "        pass\n",
    "\n",
    "class Car(Vehicle):\n",
    "    def start_engine(self):\n",
    "        print('Car engine started')\n",
    "\n",
    "def operate_vehicle(vehicle):\n",
    "    vehicle.start_engine()\n"
   ],
   "id": "8292867de60d9b87",
   "outputs": [],
   "execution_count": 14
  },
  {
   "metadata": {
    "ExecuteTime": {
     "end_time": "2024-12-09T13:42:24.869987Z",
     "start_time": "2024-12-09T13:42:24.865680Z"
    }
   },
   "cell_type": "code",
   "source": "operate_vehicle(Car())",
   "id": "7ca817be2b991d98",
   "outputs": [
    {
     "name": "stdout",
     "output_type": "stream",
     "text": [
      "Car engine started\n"
     ]
    }
   ],
   "execution_count": 15
  }
 ],
 "metadata": {
  "kernelspec": {
   "display_name": "Python 3",
   "language": "python",
   "name": "python3"
  },
  "language_info": {
   "codemirror_mode": {
    "name": "ipython",
    "version": 2
   },
   "file_extension": ".py",
   "mimetype": "text/x-python",
   "name": "python",
   "nbconvert_exporter": "python",
   "pygments_lexer": "ipython2",
   "version": "2.7.6"
  }
 },
 "nbformat": 4,
 "nbformat_minor": 5
}
