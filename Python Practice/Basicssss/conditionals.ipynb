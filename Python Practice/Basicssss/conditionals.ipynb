{
 "cells": [
  {
   "cell_type": "code",
   "execution_count": 2,
   "metadata": {},
   "outputs": [
    {
     "name": "stdout",
     "output_type": "stream",
     "text": [
      "You are not allowed to fuck\n"
     ]
    }
   ],
   "source": [
    "## if Statements\n",
    "age = int(input(\"Enter the age\") )\n",
    "if age >= 20 :\n",
    "    print(\"You are allowerd to fuck\")\n",
    "else:\n",
    "    print(\"You are not allowed to fuck\")"
   ]
  },
  {
   "cell_type": "code",
   "execution_count": 4,
   "metadata": {},
   "outputs": [
    {
     "name": "stdout",
     "output_type": "stream",
     "text": [
      "You are an adult\n"
     ]
    }
   ],
   "source": [
    "## if elif else\n",
    "\n",
    "age = int(input(\"Enter the age\"))\n",
    "if age < 13:\n",
    "    print(\"You are a child\")\n",
    "elif age < 18:\n",
    "    print(\"You are a tennager\")\n",
    "else:\n",
    "    print('You are an adult')"
   ]
  },
  {
   "cell_type": "code",
   "execution_count": 6,
   "metadata": {},
   "outputs": [
    {
     "name": "stdout",
     "output_type": "stream",
     "text": [
      "The number is zero or negative\n"
     ]
    }
   ],
   "source": [
    "## Nested conditionals\n",
    "number = int(input(\"Enter the number\"))\n",
    "\n",
    "if number > 0 :\n",
    "    print(\"The number is positive\")\n",
    "    if (number % 2 == 0):\n",
    "        print(\"The number is Even number\")\n",
    "    else:\n",
    "        print('The number is odd')\n",
    "else:\n",
    "    print(\"The number is zero or negative\")"
   ]
  },
  {
   "cell_type": "code",
   "execution_count": 12,
   "metadata": {},
   "outputs": [
    {
     "name": "stdout",
     "output_type": "stream",
     "text": [
      "This 2024 year is a leap year\n"
     ]
    }
   ],
   "source": [
    "## Use Case or practical examples\n",
    "\n",
    "## Determine if year is a leap year using nested conditional statements\n",
    "year = int(input(\"Enter the year you want to check\"))\n",
    "\n",
    "if (year % 4) == 0:\n",
    "    if year % 100 == 0:\n",
    "        if year % 400 == 0:\n",
    "            print(f\"This {year} year is a leap year\")\n",
    "        else:\n",
    "            print(f'This {year} year is not a leap year')\n",
    "    else:\n",
    "        print(f\"This {year} year is a leap year\")\n",
    "else:\n",
    "    print(f\"This {year} year is not a leap year\")"
   ]
  }
 ],
 "metadata": {
  "kernelspec": {
   "display_name": "stable_env_nlp",
   "language": "python",
   "name": "python3"
  },
  "language_info": {
   "codemirror_mode": {
    "name": "ipython",
    "version": 3
   },
   "file_extension": ".py",
   "mimetype": "text/x-python",
   "name": "python",
   "nbconvert_exporter": "python",
   "pygments_lexer": "ipython3",
   "version": "3.10.15"
  }
 },
 "nbformat": 4,
 "nbformat_minor": 2
}
