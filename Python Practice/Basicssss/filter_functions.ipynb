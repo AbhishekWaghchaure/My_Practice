{
 "cells": [
  {
   "cell_type": "code",
   "metadata": {
    "ExecuteTime": {
     "end_time": "2024-11-20T04:05:33.392554Z",
     "start_time": "2024-11-20T04:05:33.389779Z"
    }
   },
   "source": [
    "def even(num):\n",
    "    if num % 2 == 0:\n",
    "       return True\n",
    "    \n",
    "print(even(2))"
   ],
   "outputs": [
    {
     "name": "stdout",
     "output_type": "stream",
     "text": [
      "True\n"
     ]
    }
   ],
   "execution_count": 2
  },
  {
   "cell_type": "code",
   "metadata": {
    "ExecuteTime": {
     "end_time": "2024-11-20T04:05:33.483386Z",
     "start_time": "2024-11-20T04:05:33.480665Z"
    }
   },
   "source": [
    "numbers = [1,2,3,4,5,6,7,8,9,10,11,12,13,14,15,16]\n",
    "\n",
    "result = filter(even, numbers)\n",
    "print(*result)"
   ],
   "outputs": [
    {
     "name": "stdout",
     "output_type": "stream",
     "text": [
      "2 4 6 8 10 12 14 16\n"
     ]
    }
   ],
   "execution_count": 3
  },
  {
   "metadata": {
    "ExecuteTime": {
     "end_time": "2024-11-20T04:05:33.573142Z",
     "start_time": "2024-11-20T04:05:33.569439Z"
    }
   },
   "cell_type": "code",
   "source": [
    "## Filter with lambda\n",
    "\n",
    "result = filter(lambda x: x > 5, numbers)\n",
    "print(* result)"
   ],
   "outputs": [
    {
     "name": "stdout",
     "output_type": "stream",
     "text": [
      "6 7 8 9 10 11 12 13 14 15 16\n"
     ]
    }
   ],
   "execution_count": 4
  },
  {
   "metadata": {
    "ExecuteTime": {
     "end_time": "2024-11-20T04:05:46.070053Z",
     "start_time": "2024-11-20T04:05:46.065346Z"
    }
   },
   "cell_type": "code",
   "source": [
    "result2 = filter(lambda x : x > 10 and x % 2 == 0, numbers)\n",
    "print(*result2)"
   ],
   "outputs": [
    {
     "name": "stdout",
     "output_type": "stream",
     "text": [
      "12 14 16\n"
     ]
    }
   ],
   "execution_count": 6
  },
  {
   "metadata": {
    "ExecuteTime": {
     "end_time": "2024-11-20T04:08:19.597423Z",
     "start_time": "2024-11-20T04:08:19.594332Z"
    }
   },
   "cell_type": "code",
   "source": [
    "## Filter to Dictionary\n",
    "\n",
    "people = [{'name' : 'Abhishek', 'age' : 27},{'name':'Ram', 'age' : 29},{'name':'john', 'age' : 28}, {'name':'krishna', 'age' : 21}]\n",
    "\n",
    "def get_names(list):\n",
    "    return list['age'] > 25\n",
    "\n",
    "names = filter(get_names, people)\n",
    "print(*(names))"
   ],
   "outputs": [
    {
     "name": "stdout",
     "output_type": "stream",
     "text": [
      "{'name': 'Abhishek', 'age': 27} {'name': 'Ram', 'age': 29} {'name': 'john', 'age': 28}\n"
     ]
    }
   ],
   "execution_count": 7
  }
 ],
 "metadata": {
  "kernelspec": {
   "display_name": "stable_env_nlp",
   "language": "python",
   "name": "python3"
  },
  "language_info": {
   "codemirror_mode": {
    "name": "ipython",
    "version": 3
   },
   "file_extension": ".py",
   "mimetype": "text/x-python",
   "name": "python",
   "nbconvert_exporter": "python",
   "pygments_lexer": "ipython3",
   "version": "3.10.15"
  }
 },
 "nbformat": 4,
 "nbformat_minor": 2
}
