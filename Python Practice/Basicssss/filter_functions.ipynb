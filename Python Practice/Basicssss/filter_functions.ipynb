{
 "cells": [
  {
   "cell_type": "code",
   "metadata": {
    "ExecuteTime": {
     "end_time": "2024-11-19T17:52:01.076087Z",
     "start_time": "2024-11-19T17:52:01.073728Z"
    }
   },
   "source": [
    "def even(num):\n",
    "    if num % 2 == 0:\n",
    "       return True\n",
    "    \n",
    "print(even(2))"
   ],
   "outputs": [
    {
     "name": "stdout",
     "output_type": "stream",
     "text": [
      "True\n"
     ]
    }
   ],
   "execution_count": 2
  },
  {
   "cell_type": "code",
   "metadata": {
    "ExecuteTime": {
     "end_time": "2024-11-19T17:53:49.605405Z",
     "start_time": "2024-11-19T17:53:49.602390Z"
    }
   },
   "source": [
    "numbers = [1,2,3,4,5,6,7,8,9,10,11,12,13,14,15,16]\n",
    "\n",
    "result = filter(even, numbers)\n",
    "print(*result)"
   ],
   "outputs": [
    {
     "name": "stdout",
     "output_type": "stream",
     "text": [
      "2 4 6 8 10 12 14 16\n"
     ]
    }
   ],
   "execution_count": 7
  },
  {
   "metadata": {
    "ExecuteTime": {
     "end_time": "2024-11-19T17:53:50.820947Z",
     "start_time": "2024-11-19T17:53:50.818586Z"
    }
   },
   "cell_type": "code",
   "source": [
    "## Filter with lambda\n",
    "\n",
    "result = filter(lambda x: x > 5, numbers)\n",
    "print(* result)"
   ],
   "outputs": [
    {
     "name": "stdout",
     "output_type": "stream",
     "text": [
      "6 7 8 9 10 11 12 13 14 15 16\n"
     ]
    }
   ],
   "execution_count": 8
  }
 ],
 "metadata": {
  "kernelspec": {
   "display_name": "stable_env_nlp",
   "language": "python",
   "name": "python3"
  },
  "language_info": {
   "codemirror_mode": {
    "name": "ipython",
    "version": 3
   },
   "file_extension": ".py",
   "mimetype": "text/x-python",
   "name": "python",
   "nbconvert_exporter": "python",
   "pygments_lexer": "ipython3",
   "version": "3.10.15"
  }
 },
 "nbformat": 4,
 "nbformat_minor": 2
}
