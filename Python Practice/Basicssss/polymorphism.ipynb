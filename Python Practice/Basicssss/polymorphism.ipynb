{
 "cells": [
  {
   "cell_type": "markdown",
   "metadata": {},
   "source": [
    "### Polymorphism ---> Multiple forms >> achieved through method overidng and interfaces and abstract classes"
   ]
  },
  {
   "cell_type": "code",
   "metadata": {
    "ExecuteTime": {
     "end_time": "2024-12-08T07:46:31.058738Z",
     "start_time": "2024-12-08T07:46:31.055467Z"
    }
   },
   "source": [
    "class Animal:\n",
    "    def speak(self):\n",
    "        return f\"sound of the animal\""
   ],
   "outputs": [],
   "execution_count": 11
  },
  {
   "cell_type": "code",
   "metadata": {
    "ExecuteTime": {
     "end_time": "2024-12-08T07:46:31.086117Z",
     "start_time": "2024-12-08T07:46:31.082976Z"
    }
   },
   "source": [
    "class Dog(Animal):\n",
    "    def speak(self):\n",
    "        return f\"Woofffff\" ## Method overridden"
   ],
   "outputs": [],
   "execution_count": 12
  },
  {
   "cell_type": "code",
   "metadata": {
    "ExecuteTime": {
     "end_time": "2024-12-08T07:46:31.104190Z",
     "start_time": "2024-12-08T07:46:31.100184Z"
    }
   },
   "source": [
    "class Cat(Animal):\n",
    "    def speak(self):\n",
    "        return f\"Meowwww\" ## Method overridden"
   ],
   "outputs": [],
   "execution_count": 13
  },
  {
   "cell_type": "code",
   "metadata": {
    "ExecuteTime": {
     "end_time": "2024-12-08T07:46:31.112030Z",
     "start_time": "2024-12-08T07:46:31.109976Z"
    }
   },
   "source": [
    "dog = Dog()\n",
    "cat = Cat()\n",
    "animal = Animal()"
   ],
   "outputs": [],
   "execution_count": 14
  },
  {
   "cell_type": "code",
   "metadata": {
    "ExecuteTime": {
     "end_time": "2024-12-08T07:46:31.127613Z",
     "start_time": "2024-12-08T07:46:31.124499Z"
    }
   },
   "source": [
    "print(dog.speak())\n",
    "print(cat.speak())\n",
    "print(animal.speak())"
   ],
   "outputs": [
    {
     "name": "stdout",
     "output_type": "stream",
     "text": [
      "Woofffff\n",
      "Meowwww\n",
      "sound of the animal\n"
     ]
    }
   ],
   "execution_count": 15
  },
  {
   "cell_type": "code",
   "metadata": {
    "ExecuteTime": {
     "end_time": "2024-12-08T07:46:31.203466Z",
     "start_time": "2024-12-08T07:46:31.200637Z"
    }
   },
   "source": [
    "## function that demonstrates polymorphism\n",
    "\n",
    "def animal_speak(animal):\n",
    "    return(animal.speak())"
   ],
   "outputs": [],
   "execution_count": 16
  },
  {
   "cell_type": "code",
   "metadata": {
    "ExecuteTime": {
     "end_time": "2024-12-08T07:46:31.233466Z",
     "start_time": "2024-12-08T07:46:31.230647Z"
    }
   },
   "source": [
    "print(animal_speak(dog)) ## passing object to the method\n",
    "print(animal_speak(cat))"
   ],
   "outputs": [
    {
     "name": "stdout",
     "output_type": "stream",
     "text": [
      "Woofffff\n",
      "Meowwww\n"
     ]
    }
   ],
   "execution_count": 17
  },
  {
   "cell_type": "code",
   "metadata": {
    "ExecuteTime": {
     "end_time": "2024-12-08T07:46:31.260096Z",
     "start_time": "2024-12-08T07:46:31.257352Z"
    }
   },
   "source": [
    "## polymorphism with functions \n",
    "class Shape:\n",
    "    def area(self):\n",
    "        return \"The area of the figure\"\n",
    "\n",
    "# Derived Class    \n",
    "class Rectangle(Shape):\n",
    "    def __init__(self, width, height):\n",
    "        self.width = width\n",
    "        self.height = height\n",
    "        \n",
    "    def area(self):\n",
    "        return self.width * self.height\n",
    "    \n",
    "# Derived class 2\n",
    "class Circle(Shape):\n",
    "    def __init__(self, radius):\n",
    "        self.radius = radius\n",
    "    \n",
    "    def area(self):\n",
    "        return 3.14 * self.radius ** 2"
   ],
   "outputs": [],
   "execution_count": 18
  },
  {
   "cell_type": "code",
   "metadata": {
    "ExecuteTime": {
     "end_time": "2024-12-08T07:46:31.281110Z",
     "start_time": "2024-12-08T07:46:31.279112Z"
    }
   },
   "source": [
    "def print_area(shape):\n",
    "    return f\"The area of {shape.area()}\""
   ],
   "outputs": [],
   "execution_count": 19
  },
  {
   "cell_type": "code",
   "metadata": {
    "ExecuteTime": {
     "end_time": "2024-12-08T07:47:33.788537Z",
     "start_time": "2024-12-08T07:47:33.784864Z"
    }
   },
   "source": [
    "print(print_area(Rectangle(3,4)))\n",
    "print(print_area(Circle(4)))"
   ],
   "outputs": [
    {
     "name": "stdout",
     "output_type": "stream",
     "text": [
      "The area of 12\n",
      "The area of 50.24\n"
     ]
    }
   ],
   "execution_count": 21
  },
  {
   "metadata": {},
   "cell_type": "markdown",
   "source": "## Polymorphism with abstract base class"
  },
  {
   "metadata": {
    "ExecuteTime": {
     "end_time": "2024-12-08T07:50:24.543247Z",
     "start_time": "2024-12-08T07:50:24.539305Z"
    }
   },
   "cell_type": "code",
   "source": "from abc import ABC, abstractmethod",
   "outputs": [],
   "execution_count": 22
  },
  {
   "metadata": {
    "ExecuteTime": {
     "end_time": "2024-12-08T07:58:25.679896Z",
     "start_time": "2024-12-08T07:58:25.675264Z"
    }
   },
   "cell_type": "code",
   "source": [
    "class Vehicle(ABC):\n",
    "    @abstractmethod\n",
    "    def start_engine(self):\n",
    "        pass\n",
    "\n",
    "## Derived Class 1\n",
    "class Car(Vehicle):\n",
    "    def start_engine(self):\n",
    "        return f\"Car engine Started\"\n",
    "\n",
    "## Derived Class 2\n",
    "class MotorCycle(Vehicle):\n",
    "    def start_engine(self):\n",
    "        return f\"MotorCycle engine started\"\n",
    "\n",
    "## Function that demonstrates polymorphism\n",
    "def start_vehicle(object):\n",
    "    return object.start_engine()\n",
    "\n",
    "print(start_vehicle(MotorCycle()))\n",
    "print(start_vehicle(Car()))"
   ],
   "outputs": [
    {
     "name": "stdout",
     "output_type": "stream",
     "text": [
      "MotorCycle engine started\n",
      "Car engine Started\n"
     ]
    }
   ],
   "execution_count": 27
  },
  {
   "metadata": {},
   "cell_type": "code",
   "outputs": [],
   "execution_count": null,
   "source": ""
  }
 ],
 "metadata": {
  "kernelspec": {
   "display_name": "stable_env_nlp",
   "language": "python",
   "name": "python3"
  },
  "language_info": {
   "codemirror_mode": {
    "name": "ipython",
    "version": 3
   },
   "file_extension": ".py",
   "mimetype": "text/x-python",
   "name": "python",
   "nbconvert_exporter": "python",
   "pygments_lexer": "ipython3",
   "version": "3.10.15"
  }
 },
 "nbformat": 4,
 "nbformat_minor": 2
}
