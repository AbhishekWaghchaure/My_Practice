{
 "cells": [
  {
   "metadata": {},
   "cell_type": "markdown",
   "source": [
    "## Magic Methods\n",
    "### Also called as dunder methods that can be overriden to change the behaviour of your object"
   ],
   "id": "30d3d1d81f890e40"
  },
  {
   "cell_type": "code",
   "id": "initial_id",
   "metadata": {
    "collapsed": true,
    "ExecuteTime": {
     "end_time": "2024-12-10T04:56:13.032228Z",
     "start_time": "2024-12-10T04:56:13.028278Z"
    }
   },
   "source": [
    "class Person:\n",
    "    pass\n",
    "\n",
    "print(dir(Person()))"
   ],
   "outputs": [
    {
     "name": "stdout",
     "output_type": "stream",
     "text": [
      "['__class__', '__delattr__', '__dict__', '__dir__', '__doc__', '__eq__', '__format__', '__ge__', '__getattribute__', '__gt__', '__hash__', '__init__', '__init_subclass__', '__le__', '__lt__', '__module__', '__ne__', '__new__', '__reduce__', '__reduce_ex__', '__repr__', '__setattr__', '__sizeof__', '__str__', '__subclasshook__', '__weakref__']\n"
     ]
    }
   ],
   "execution_count": 23
  },
  {
   "metadata": {
    "ExecuteTime": {
     "end_time": "2024-12-10T05:09:39.739196Z",
     "start_time": "2024-12-10T05:09:39.733259Z"
    }
   },
   "cell_type": "code",
   "source": [
    "class Person:\n",
    "    def __init__(self, name, age):\n",
    "        self.name = name\n",
    "        self.age = age\n",
    "    def __str__(self): ## Just like string object from java\n",
    "        return f\"{self.name} is {self.age} years old\"\n",
    "    # def __repr__(self):\n",
    "    #     return f\"Person(name : {self.name}, age : {self.age}) \"\n",
    "    def __len__(self):\n",
    "        return len(self.name)\n",
    "person = Person(\"Abhi\", 45)\n",
    "print(person)\n",
    "# print(repr(person))\n",
    "print(person.__len__())"
   ],
   "id": "75b9031f9dfb25f2",
   "outputs": [
    {
     "name": "stdout",
     "output_type": "stream",
     "text": [
      "Abhi is 45 years old\n",
      "4\n"
     ]
    }
   ],
   "execution_count": 44
  },
  {
   "metadata": {
    "ExecuteTime": {
     "end_time": "2024-12-10T06:28:24.573262Z",
     "start_time": "2024-12-10T06:28:24.566945Z"
    }
   },
   "cell_type": "code",
   "source": [
    "## Operator Overloading\n",
    "\n",
    "class Vector:\n",
    "    def __init__(self,x,y):\n",
    "        self.x = x\n",
    "        self.y = y\n",
    "\n",
    "    def __add__(self, other):\n",
    "        return Vector(self.x + other.x, self.y + other.y)\n",
    "\n",
    "    def __sub__(self, other):\n",
    "        return Vector(self.x - other.x, self.y - other.y)\n",
    "\n",
    "    def __repr__(self):\n",
    "        return f\"Vector ({self.x}, {self.y})\""
   ],
   "id": "4fb4f401d6f6a52b",
   "outputs": [],
   "execution_count": 48
  },
  {
   "metadata": {
    "ExecuteTime": {
     "end_time": "2024-12-10T06:28:25.948182Z",
     "start_time": "2024-12-10T06:28:25.943359Z"
    }
   },
   "cell_type": "code",
   "source": [
    "v1 = Vector(3,4)\n",
    "v2 = Vector(1,2)\n",
    "print(v1 + v2)"
   ],
   "id": "e7edc3311f1326e8",
   "outputs": [
    {
     "name": "stdout",
     "output_type": "stream",
     "text": [
      "Vector (4, 6)\n"
     ]
    }
   ],
   "execution_count": 49
  },
  {
   "metadata": {
    "ExecuteTime": {
     "end_time": "2024-12-10T06:28:27.192472Z",
     "start_time": "2024-12-10T06:28:27.187584Z"
    }
   },
   "cell_type": "code",
   "source": "v1 - v2",
   "id": "6bc7a3bd6e0925cf",
   "outputs": [
    {
     "data": {
      "text/plain": [
       "Vector (2, 2)"
      ]
     },
     "execution_count": 50,
     "metadata": {},
     "output_type": "execute_result"
    }
   ],
   "execution_count": 50
  }
 ],
 "metadata": {
  "kernelspec": {
   "display_name": "Python 3",
   "language": "python",
   "name": "python3"
  },
  "language_info": {
   "codemirror_mode": {
    "name": "ipython",
    "version": 2
   },
   "file_extension": ".py",
   "mimetype": "text/x-python",
   "name": "python",
   "nbconvert_exporter": "python",
   "pygments_lexer": "ipython2",
   "version": "2.7.6"
  }
 },
 "nbformat": 4,
 "nbformat_minor": 5
}
