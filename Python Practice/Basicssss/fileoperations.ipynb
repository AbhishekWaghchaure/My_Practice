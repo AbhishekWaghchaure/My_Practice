{
 "cells": [
  {
   "cell_type": "code",
   "execution_count": 3,
   "metadata": {},
   "outputs": [
    {
     "name": "stdout",
     "output_type": "stream",
     "text": [
      "How are you?\n",
      "Abhishek is my name\n",
      "hows your day going so far?\n"
     ]
    }
   ],
   "source": [
    "with open('example.txt', mode = 'r') as file:\n",
    "    content = file.read()\n",
    "    print(content)"
   ]
  },
  {
   "cell_type": "code",
   "execution_count": 5,
   "metadata": {},
   "outputs": [
    {
     "name": "stdout",
     "output_type": "stream",
     "text": [
      "How are you?\n",
      "Abhishek is my name\n",
      "hows your day going so far?\n"
     ]
    }
   ],
   "source": [
    "with open('example.txt', mode ='r') as file:\n",
    "    for line in file:\n",
    "        print(line.strip())"
   ]
  },
  {
   "cell_type": "code",
   "execution_count": 6,
   "metadata": {},
   "outputs": [],
   "source": [
    "## Writting in a file\n",
    "\n",
    "with open(\"example.txt\", mode = 'w') as file:\n",
    "    file.write('Hello World! \\n')\n",
    "    file.write('This is a new line \\n')"
   ]
  },
  {
   "cell_type": "code",
   "execution_count": 9,
   "metadata": {},
   "outputs": [],
   "source": [
    "## Writ a file wothout overwritting\n",
    "\n",
    "with open(\"example.txt\", mode = 'a') as file:\n",
    "    file.write('Appending this line to the existing content \\n')"
   ]
  },
  {
   "cell_type": "code",
   "execution_count": 11,
   "metadata": {},
   "outputs": [],
   "source": [
    "## Writting list of lines\n",
    "\n",
    "list = ['First line\\n','Second line\\n','Third line\\n']\n",
    "with open(\"example.txt\",mode='a') as file:\n",
    "    file.writelines(list)"
   ]
  },
  {
   "cell_type": "code",
   "execution_count": 12,
   "metadata": {},
   "outputs": [],
   "source": [
    "## Binary files \n",
    "data = b\"\\x00\\x01\\x02\\x03\\x04\"\n",
    "with open(\"example.bin\", mode = 'wb') as file:\n",
    "    file.write(data)"
   ]
  },
  {
   "cell_type": "code",
   "execution_count": 13,
   "metadata": {},
   "outputs": [
    {
     "name": "stdout",
     "output_type": "stream",
     "text": [
      "b'\\x00\\x01\\x02\\x03\\x04'\n"
     ]
    }
   ],
   "source": [
    "with open('example.bin', mode = 'rb') as file:\n",
    "    print(file.read())"
   ]
  },
  {
   "cell_type": "code",
   "execution_count": 15,
   "metadata": {},
   "outputs": [
    {
     "name": "stdout",
     "output_type": "stream",
     "text": [
      "Hello World! \n",
      "This is a new line \n",
      "Appendin this line to the existing content \n",
      "Appending this line to the existing content \n",
      "First line\n",
      "Second line\n",
      "Third line\n",
      "\n"
     ]
    }
   ],
   "source": [
    "## Read the content from the source and write it in destination file\n",
    "with open('example.txt', mode = 'r') as file:\n",
    "    content = file.read()\n",
    "    \n",
    "with open(\"destination.txt\", mode = 'w') as file2:\n",
    "    file2.write(content)\n",
    "\n",
    "with open(\"destination.txt\", mode = 'r') as file2:\n",
    "    print(file2.read())\n"
   ]
  },
  {
   "cell_type": "code",
   "execution_count": 17,
   "metadata": {},
   "outputs": [
    {
     "name": "stdout",
     "output_type": "stream",
     "text": [
      "Hello World!! \n",
      "New line \n",
      "\n"
     ]
    }
   ],
   "source": [
    "## Writting and then reading a file\n",
    "\n",
    "with open(\"example.txt\", mode = 'w+') as file:\n",
    "    file.write(\"Hello World!! \\n\")\n",
    "    file.write('New line \\n')\n",
    "    \n",
    "    file.seek(0)\n",
    "    print(file.read())"
   ]
  }
 ],
 "metadata": {
  "kernelspec": {
   "display_name": "stable_env_nlp",
   "language": "python",
   "name": "python3"
  },
  "language_info": {
   "codemirror_mode": {
    "name": "ipython",
    "version": 3
   },
   "file_extension": ".py",
   "mimetype": "text/x-python",
   "name": "python",
   "nbconvert_exporter": "python",
   "pygments_lexer": "ipython3",
   "version": "3.10.15"
  }
 },
 "nbformat": 4,
 "nbformat_minor": 2
}
