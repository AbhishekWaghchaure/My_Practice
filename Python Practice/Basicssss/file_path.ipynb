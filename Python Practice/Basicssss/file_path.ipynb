{
 "cells": [
  {
   "cell_type": "code",
   "execution_count": 1,
   "metadata": {},
   "outputs": [],
   "source": [
    "import sys,os"
   ]
  },
  {
   "cell_type": "code",
   "execution_count": 2,
   "metadata": {},
   "outputs": [
    {
     "name": "stdout",
     "output_type": "stream",
     "text": [
      "/Users/abhishekwaghchaure/Desktop/My_practice_noteooks/Python Practice/Basicssss\n"
     ]
    }
   ],
   "source": [
    "print(os.getcwd())"
   ]
  },
  {
   "cell_type": "code",
   "execution_count": 5,
   "metadata": {},
   "outputs": [
    {
     "name": "stdout",
     "output_type": "stream",
     "text": [
      "Directory /Users/abhishekwaghchaure/Desktop/sample is created\n"
     ]
    }
   ],
   "source": [
    "new_directory = '/Users/abhishekwaghchaure/Desktop/sample'\n",
    "os.mkdir(new_directory)\n",
    "print(f\"Directory {new_directory} is created\")"
   ]
  },
  {
   "cell_type": "code",
   "execution_count": 6,
   "metadata": {},
   "outputs": [
    {
     "name": "stdout",
     "output_type": "stream",
     "text": [
      "['lambda_function.ipynb', 'Data Structures', 'destination.txt', 'fileoperations.ipynb', 'String Problems', 'file_path.ipynb', 'operators.ipynb', 'Pattern Practic Questions', 'loops.ipynb', 'Custom_package_prac', 'python_data_types.ipynb', 'Maths Problems', 'functions.ipynb', 'function_examples.ipynb', 'example.bin', 'example.txt', 'Inbuilt Data Structure Problems', 'conditionals.ipynb', 'filter_functions.ipynb']\n"
     ]
    }
   ],
   "source": [
    "## List files\n",
    "\n",
    "print(os.listdir())"
   ]
  },
  {
   "cell_type": "code",
   "execution_count": 8,
   "metadata": {},
   "outputs": [
    {
     "data": {
      "text/plain": [
       "'folder/file.txt'"
      ]
     },
     "execution_count": 8,
     "metadata": {},
     "output_type": "execute_result"
    }
   ],
   "source": [
    "## Joining paths\n",
    "\n",
    "dir_name = 'folder'\n",
    "filename = 'file.txt'\n",
    "\n",
    "os.path.join(dir_name, filename)"
   ]
  },
  {
   "cell_type": "code",
   "execution_count": 9,
   "metadata": {},
   "outputs": [
    {
     "data": {
      "text/plain": [
       "'/Users/abhishekwaghchaure/Desktop/My_practice_noteooks/Python Practice/Basicssss/folder/file.txt'"
      ]
     },
     "execution_count": 9,
     "metadata": {},
     "output_type": "execute_result"
    }
   ],
   "source": [
    "dir_name = 'folder'\n",
    "filename = 'file.txt'\n",
    "\n",
    "os.path.join(os.getcwd(), dir_name, filename)"
   ]
  },
  {
   "cell_type": "code",
   "execution_count": 11,
   "metadata": {},
   "outputs": [
    {
     "name": "stdout",
     "output_type": "stream",
     "text": [
      "The path example.txt exists\n"
     ]
    }
   ],
   "source": [
    "path = ('example.txt')\n",
    "\n",
    "if os.path.exists(path):\n",
    "    print(f\"The path {path} exists\")\n",
    "else:\n",
    "    print(f\"The path {path} does not exist\")"
   ]
  },
  {
   "cell_type": "code",
   "execution_count": 12,
   "metadata": {},
   "outputs": [
    {
     "name": "stdout",
     "output_type": "stream",
     "text": [
      "It is a file\n"
     ]
    }
   ],
   "source": [
    "## Check if path is file or directory\n",
    "\n",
    "path = ('example.txt')\n",
    "\n",
    "if os.path.isfile(path):\n",
    "    print('It is a file')\n",
    "    \n",
    "elif os.path.isdir(path):\n",
    "    print('It is a Directory')\n",
    "    \n",
    "else:\n",
    "    print('Nither Directory nor a File')"
   ]
  },
  {
   "cell_type": "code",
   "execution_count": 13,
   "metadata": {},
   "outputs": [
    {
     "name": "stdout",
     "output_type": "stream",
     "text": [
      "/Users/abhishekwaghchaure/Desktop/My_practice_noteooks/Python Practice/Basicssss/example.txt\n"
     ]
    }
   ],
   "source": [
    "print(os.path.abspath(path))"
   ]
  }
 ],
 "metadata": {
  "kernelspec": {
   "display_name": "stable_env_nlp",
   "language": "python",
   "name": "python3"
  },
  "language_info": {
   "codemirror_mode": {
    "name": "ipython",
    "version": 3
   },
   "file_extension": ".py",
   "mimetype": "text/x-python",
   "name": "python",
   "nbconvert_exporter": "python",
   "pygments_lexer": "ipython3",
   "version": "3.10.15"
  }
 },
 "nbformat": 4,
 "nbformat_minor": 2
}
