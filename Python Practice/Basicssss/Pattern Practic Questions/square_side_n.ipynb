{
 "cells": [
  {
   "cell_type": "markdown",
   "id": "4d7f6d6048d70eba",
   "metadata": {},
   "source": [
    "# Square of Side 'N'\n",
    "\n",
    "## Problem Description\n",
    "You are given an integer `n`. Your task is to return a square pattern of size `n x n` made up of the character `'*'`, represented as a list of strings.\n",
    "\n",
    "---\n",
    "\n",
    "## Input Parameters\n",
    "- **n (int):** The size of the square (number of rows and columns).\n",
    "\n",
    "---\n",
    "\n",
    "## Output\n",
    "- **List of Strings:** A list where each string represents a row of `n` characters, all being `'*'`.\n",
    "\n",
    "---\n",
    "\n",
    "## Examples\n",
    "\n",
    "### Example 1:\n",
    "**Input:**\n",
    "`n = 3`\n",
    "\n",
    "**Output:**\n",
    "`['***', '***', '***']`\n",
    "\n",
    "### Example 2:\n",
    "**Input:**\n",
    "`n = 5`\n",
    "\n",
    "**Output:**\n",
    "`['*****', '*****', '*****', '*****', '*****']`\n",
    "\n",
    "---\n",
    "\n",
    "## Constraints\n",
    "- \\( 1 \\leq n \\leq 100 \\)\n",
    "\n",
    "---\n",
    "\n",
    "## Solution Approach\n",
    "To create the square:\n",
    "1. Generate a single row of `n` `'*'` characters as a string.\n",
    "2. Repeat the same row `n` times to form a list of strings.\n",
    "3. Return the list."
   ]
  },
  {
   "cell_type": "code",
   "execution_count": 5,
   "id": "initial_id",
   "metadata": {
    "ExecuteTime": {
     "end_time": "2024-11-20T08:24:39.149320Z",
     "start_time": "2024-11-20T08:24:39.144555Z"
    },
    "collapsed": true
   },
   "outputs": [
    {
     "name": "stdout",
     "output_type": "stream",
     "text": [
      "['*****', '*****', '*****', '*****', '*****']\n"
     ]
    }
   ],
   "source": [
    "## SOLUTION 1\n",
    "# num = int(input(\"Enter the number:\"))\n",
    "num = 5\n",
    "pattern = []\n",
    "for i in range(1,num+1):\n",
    "    patt = num * '*'\n",
    "    pattern.append(patt)\n",
    "print(pattern)\n"
   ]
  },
  {
   "cell_type": "code",
   "execution_count": 41,
   "id": "84c130ddaf872639",
   "metadata": {
    "ExecuteTime": {
     "end_time": "2024-11-20T08:24:07.068738Z",
     "start_time": "2024-11-20T08:24:07.065121Z"
    }
   },
   "outputs": [
    {
     "name": "stdout",
     "output_type": "stream",
     "text": [
      "['*****', '*****', '*****', '*****', '*****']\n"
     ]
    }
   ],
   "source": [
    "## SOLUTION 2\n",
    "num = 5\n",
    "row = num * '*'\n",
    "lst = []\n",
    "for i in range(1, num+1):\n",
    "    lst.append(row)\n",
    "print(lst)\n"
   ]
  },
  {
   "cell_type": "code",
   "execution_count": 29,
   "id": "9beecfa5c44f99ad",
   "metadata": {
    "ExecuteTime": {
     "end_time": "2024-11-20T08:16:58.865789Z",
     "start_time": "2024-11-20T08:16:58.861066Z"
    }
   },
   "outputs": [
    {
     "name": "stdout",
     "output_type": "stream",
     "text": [
      "['*****', '*****', '*****', '*****', '*****']\n"
     ]
    }
   ],
   "source": [
    "num = 5\n",
    "square = [row for i in range(num)]\n",
    "print(square)"
   ]
  },
  {
   "cell_type": "code",
   "execution_count": 3,
   "id": "f05fc76189f30f55",
   "metadata": {
    "ExecuteTime": {
     "end_time": "2024-11-20T09:03:33.986569Z",
     "start_time": "2024-11-20T09:03:28.957445Z"
    }
   },
   "outputs": [
    {
     "name": "stdout",
     "output_type": "stream",
     "text": [
      "['*****', '*   *', '*   *', '*   *', '*****']\n",
      "*****\n",
      "*   *\n",
      "*   *\n",
      "*   *\n",
      "*****\n"
     ]
    }
   ],
   "source": [
    "def generating_hollow(num):\n",
    "\n",
    "    if num == 1:\n",
    "        return [num * '*']\n",
    "\n",
    "    if num == 2:\n",
    "        return [num * '*', num * '*']\n",
    "    pattern = [num * \"*\"]\n",
    "\n",
    "    ## middle rows\n",
    "    for _ in range(num - 2):\n",
    "        pattern.append('*' + ' ' * (num - 2) + '*')\n",
    "\n",
    "    ## Last rows\n",
    "    pattern.append(num * '*')\n",
    "\n",
    "    return pattern\n",
    "\n",
    "# number = int(input(\"Enter the number for creating hollow pattern : \"))\n",
    "print(generating_hollow(5))\n",
    "print(\"\\n\".join(generating_hollow(5)))  "
   ]
  },
  {
   "cell_type": "code",
   "execution_count": 26,
   "id": "254a1ed1",
   "metadata": {},
   "outputs": [
    {
     "name": "stdout",
     "output_type": "stream",
     "text": [
      "110\n"
     ]
    }
   ],
   "source": [
    "sum = 0\n",
    "for i in range(1,11):\n",
    "    sum = 2 * i + sum\n",
    "print(sum)"
   ]
  },
  {
   "cell_type": "code",
   "execution_count": 11,
   "id": "25384a58",
   "metadata": {},
   "outputs": [
    {
     "name": "stdout",
     "output_type": "stream",
     "text": [
      "30\n"
     ]
    }
   ],
   "source": [
    "print(sum(10))"
   ]
  }
 ],
 "metadata": {
  "kernelspec": {
   "display_name": "stable_env_nlp",
   "language": "python",
   "name": "python3"
  },
  "language_info": {
   "codemirror_mode": {
    "name": "ipython",
    "version": 3
   },
   "file_extension": ".py",
   "mimetype": "text/x-python",
   "name": "python",
   "nbconvert_exporter": "python",
   "pygments_lexer": "ipython3",
   "version": "3.10.15"
  }
 },
 "nbformat": 4,
 "nbformat_minor": 5
}
