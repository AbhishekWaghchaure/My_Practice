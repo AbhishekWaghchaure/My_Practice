{
 "cells": [
  {
   "metadata": {},
   "cell_type": "markdown",
   "source": "### Encapsulation --- > Concept of wrapping variables and methods together as a same unit ... It restricts direct access to some of objects components, which means accidental and misuse of data",
   "id": "1feb15631c799592"
  },
  {
   "metadata": {},
   "cell_type": "markdown",
   "source": [
    "### Encapsulation with getter and setter\n",
    "### Access Specifiers\n",
    "* Public\n",
    "* private\n",
    "* protected"
   ],
   "id": "1077d88f06d2a127"
  },
  {
   "metadata": {
    "ExecuteTime": {
     "end_time": "2024-12-09T06:00:24.521569Z",
     "start_time": "2024-12-09T06:00:24.516279Z"
    }
   },
   "cell_type": "code",
   "source": [
    "class Person:\n",
    "    def __init__(self, name, age):\n",
    "        self.name = name ## These instance variables are public variable\n",
    "        self.age = age  ## Public variable\n",
    "\n",
    "def get_name(person):\n",
    "    return person.name\n",
    "\n",
    "person = Person('Abhishek',23)\n",
    "print(person.name)\n",
    "print(get_name(person))"
   ],
   "id": "f60dc13e9831e1ef",
   "outputs": [
    {
     "name": "stdout",
     "output_type": "stream",
     "text": [
      "Abhishek\n",
      "Abhishek\n"
     ]
    }
   ],
   "execution_count": 10
  },
  {
   "metadata": {},
   "cell_type": "markdown",
   "source": [
    "### Private instance variables\n",
    "#### Private variables cannot be accesed from outside the class.."
   ],
   "id": "6706a8300f42ed82"
  },
  {
   "metadata": {
    "ExecuteTime": {
     "end_time": "2024-12-08T12:24:30.900035Z",
     "start_time": "2024-12-08T12:24:30.896574Z"
    }
   },
   "cell_type": "code",
   "source": "print(dir(person))",
   "id": "bad32e4e1332b5d",
   "outputs": [
    {
     "name": "stdout",
     "output_type": "stream",
     "text": [
      "['__class__', '__delattr__', '__dict__', '__dir__', '__doc__', '__eq__', '__format__', '__ge__', '__getattribute__', '__gt__', '__hash__', '__init__', '__init_subclass__', '__le__', '__lt__', '__module__', '__ne__', '__new__', '__reduce__', '__reduce_ex__', '__repr__', '__setattr__', '__sizeof__', '__str__', '__subclasshook__', '__weakref__', 'age', 'name']\n"
     ]
    }
   ],
   "execution_count": 8
  },
  {
   "metadata": {
    "ExecuteTime": {
     "end_time": "2024-12-09T06:18:32.493268Z",
     "start_time": "2024-12-09T06:18:32.489199Z"
    }
   },
   "cell_type": "code",
   "source": [
    "class Person:\n",
    "    def __init__(self, name, age):\n",
    "        self.__name = name ## These instance variables are Private variable\n",
    "        self.__age = age  ## Private variable\n",
    "def get_name(person):\n",
    "    return person._Person__name"
   ],
   "id": "7f9234bd2d9184f1",
   "outputs": [],
   "execution_count": 53
  },
  {
   "metadata": {
    "ExecuteTime": {
     "end_time": "2024-12-09T06:18:33.962785Z",
     "start_time": "2024-12-09T06:18:33.957311Z"
    }
   },
   "cell_type": "code",
   "source": [
    "person = Person(\"Abhishek\", 27)\n",
    "print(dir(person))"
   ],
   "id": "f74fb5a0acccde05",
   "outputs": [
    {
     "name": "stdout",
     "output_type": "stream",
     "text": [
      "['_Person__age', '_Person__name', '__class__', '__delattr__', '__dict__', '__dir__', '__doc__', '__eq__', '__format__', '__ge__', '__getattribute__', '__gt__', '__hash__', '__init__', '__init_subclass__', '__le__', '__lt__', '__module__', '__ne__', '__new__', '__reduce__', '__reduce_ex__', '__repr__', '__setattr__', '__sizeof__', '__str__', '__subclasshook__', '__weakref__']\n"
     ]
    }
   ],
   "execution_count": 54
  },
  {
   "metadata": {
    "ExecuteTime": {
     "end_time": "2024-12-09T06:18:38.476979Z",
     "start_time": "2024-12-09T06:18:38.472974Z"
    }
   },
   "cell_type": "code",
   "source": [
    "# print(person.na me)\n",
    "get_name(person)"
   ],
   "id": "a711d40ff8d86ea0",
   "outputs": [
    {
     "data": {
      "text/plain": [
       "'Abhishek'"
      ]
     },
     "execution_count": 55,
     "metadata": {},
     "output_type": "execute_result"
    }
   ],
   "execution_count": 55
  },
  {
   "metadata": {},
   "cell_type": "markdown",
   "source": [
    "### Protected instance variables\n",
    "#### Can be accesed from the derived class..."
   ],
   "id": "31d41a99189f8942"
  },
  {
   "metadata": {
    "ExecuteTime": {
     "end_time": "2024-12-09T06:20:08.249592Z",
     "start_time": "2024-12-09T06:20:08.244921Z"
    }
   },
   "cell_type": "code",
   "source": [
    "class Person:\n",
    "    def __init__(self, name, age):\n",
    "        self._name = name ## These instance variables are Protected variable\n",
    "        self._age = age  ## Protected variable\n",
    "\n",
    "class Employee(Person):\n",
    "    def __init__(self, name, age):\n",
    "        super().__init__(name, age)\n"
   ],
   "id": "d442c42661803f0f",
   "outputs": [],
   "execution_count": 56
  },
  {
   "metadata": {
    "ExecuteTime": {
     "end_time": "2024-12-09T06:20:10.050548Z",
     "start_time": "2024-12-09T06:20:10.046626Z"
    }
   },
   "cell_type": "code",
   "source": [
    "person = Person(\"Ram\", 28)\n",
    "emp = Employee(\"Jay\", 32)"
   ],
   "id": "43f1e5556f726f10",
   "outputs": [],
   "execution_count": 57
  },
  {
   "metadata": {
    "ExecuteTime": {
     "end_time": "2024-12-09T06:20:13.838342Z",
     "start_time": "2024-12-09T06:20:13.834901Z"
    }
   },
   "cell_type": "code",
   "source": "print(emp._name)",
   "id": "8c445ba52196b4d8",
   "outputs": [
    {
     "name": "stdout",
     "output_type": "stream",
     "text": [
      "Jay\n"
     ]
    }
   ],
   "execution_count": 58
  },
  {
   "metadata": {
    "ExecuteTime": {
     "end_time": "2024-12-09T06:18:16.979625Z",
     "start_time": "2024-12-09T06:18:16.976869Z"
    }
   },
   "cell_type": "code",
   "source": "print(dir(emp))",
   "id": "b287d9a99d9632ee",
   "outputs": [
    {
     "name": "stdout",
     "output_type": "stream",
     "text": [
      "['_Person__age', '_Person__name', '__class__', '__delattr__', '__dict__', '__dir__', '__doc__', '__eq__', '__format__', '__ge__', '__getattribute__', '__gt__', '__hash__', '__init__', '__init_subclass__', '__le__', '__lt__', '__module__', '__ne__', '__new__', '__reduce__', '__reduce_ex__', '__repr__', '__setattr__', '__sizeof__', '__str__', '__subclasshook__', '__weakref__']\n"
     ]
    }
   ],
   "execution_count": 50
  },
  {
   "metadata": {},
   "cell_type": "markdown",
   "source": "### Encapsulation with Getter and Setter",
   "id": "25bd58955a6835b9"
  },
  {
   "metadata": {
    "ExecuteTime": {
     "end_time": "2024-12-09T13:22:30.588012Z",
     "start_time": "2024-12-09T13:22:30.579893Z"
    }
   },
   "cell_type": "code",
   "source": [
    "class Person:\n",
    "    def __init__(self, name, age):\n",
    "        self.__name = name ## These instance variables are Private variable\n",
    "        self.__age = age  ## Private variable\n",
    "\n",
    "    ## Getter method\n",
    "    def get_name(self):\n",
    "        return self.__name\n",
    "\n",
    "    ## Setter Method\n",
    "    def set_name(self, name):\n",
    "        self.__name = name\n",
    "\n",
    "    def get_age(self):\n",
    "        return self.__age\n",
    "\n",
    "    def set_age(self, age):\n",
    "        if age > 0:\n",
    "            self.__age = age\n",
    "        else:\n",
    "            print(\"Age cannot be negative or zero\")"
   ],
   "id": "c992187621151a01",
   "outputs": [],
   "execution_count": 62
  },
  {
   "metadata": {
    "ExecuteTime": {
     "end_time": "2024-12-09T13:24:07.803944Z",
     "start_time": "2024-12-09T13:24:07.799406Z"
    }
   },
   "cell_type": "code",
   "source": [
    "per = Person(\"Krishna\", 12)\n",
    "print(per.get_name())\n",
    "print(per.set_name(\"Abhishek\"))\n",
    "print(per.get_name())\n"
   ],
   "id": "f8f362f145febde0",
   "outputs": [
    {
     "name": "stdout",
     "output_type": "stream",
     "text": [
      "Krishna\n",
      "None\n",
      "Abhishek\n"
     ]
    }
   ],
   "execution_count": 67
  }
 ],
 "metadata": {
  "kernelspec": {
   "display_name": "Python 3",
   "language": "python",
   "name": "python3"
  },
  "language_info": {
   "codemirror_mode": {
    "name": "ipython",
    "version": 2
   },
   "file_extension": ".py",
   "mimetype": "text/x-python",
   "name": "python",
   "nbconvert_exporter": "python",
   "pygments_lexer": "ipython2",
   "version": "2.7.6"
  }
 },
 "nbformat": 4,
 "nbformat_minor": 5
}
