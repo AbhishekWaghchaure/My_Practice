{
 "cells": [
  {
   "metadata": {},
   "cell_type": "markdown",
   "source": "## Custom Exception",
   "id": "44a820e7354dad2c"
  },
  {
   "cell_type": "code",
   "id": "initial_id",
   "metadata": {
    "collapsed": true,
    "ExecuteTime": {
     "end_time": "2024-12-10T06:34:31.575447Z",
     "start_time": "2024-12-10T06:34:31.573846Z"
    }
   },
   "source": [
    "class Error(Exception):\n",
    "    pass\n",
    "\n",
    "class dobException(Error):\n",
    "    pass"
   ],
   "outputs": [],
   "execution_count": 1
  },
  {
   "metadata": {
    "ExecuteTime": {
     "end_time": "2024-12-10T06:43:34.903118Z",
     "start_time": "2024-12-10T06:43:28.425304Z"
    }
   },
   "cell_type": "code",
   "source": [
    "year = int(input(\"Enter the dob\"))\n",
    "age = 2024 - year\n",
    "try:\n",
    "    if 30 >= age >= 20:\n",
    "        print(\"The age is valid...You can apply for the exam..\")\n",
    "    else:\n",
    "        raise dobException\n",
    "except dobException as e:\n",
    "    print('Sorry your age shold be greater than 20 or less than 30 to give this exam')\n"
   ],
   "id": "158bb54b4cbd589b",
   "outputs": [
    {
     "name": "stdout",
     "output_type": "stream",
     "text": [
      "Sorry your age shold be greater than 20 or less than 30 to give this exam\n"
     ]
    }
   ],
   "execution_count": 4
  }
 ],
 "metadata": {
  "kernelspec": {
   "display_name": "Python 3",
   "language": "python",
   "name": "python3"
  },
  "language_info": {
   "codemirror_mode": {
    "name": "ipython",
    "version": 2
   },
   "file_extension": ".py",
   "mimetype": "text/x-python",
   "name": "python",
   "nbconvert_exporter": "python",
   "pygments_lexer": "ipython2",
   "version": "2.7.6"
  }
 },
 "nbformat": 4,
 "nbformat_minor": 5
}
