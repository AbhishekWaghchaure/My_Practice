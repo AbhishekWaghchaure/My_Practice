{
 "cells": [
  {
   "cell_type": "code",
   "execution_count": 3,
   "metadata": {},
   "outputs": [
    {
     "name": "stdout",
     "output_type": "stream",
     "text": [
      "<class '__main__.Car'>\n"
     ]
    }
   ],
   "source": [
    "class Car:\n",
    "    pass\n",
    "\n",
    "audi = Car() ## objects --> instance of a class\n",
    "bmw = Car()\n",
    "\n",
    "print(type(audi))"
   ]
  },
  {
   "cell_type": "code",
   "execution_count": 5,
   "metadata": {},
   "outputs": [
    {
     "data": {
      "text/plain": [
       "['__class__',\n",
       " '__delattr__',\n",
       " '__dict__',\n",
       " '__dir__',\n",
       " '__doc__',\n",
       " '__eq__',\n",
       " '__format__',\n",
       " '__ge__',\n",
       " '__getattribute__',\n",
       " '__gt__',\n",
       " '__hash__',\n",
       " '__init__',\n",
       " '__init_subclass__',\n",
       " '__le__',\n",
       " '__lt__',\n",
       " '__module__',\n",
       " '__ne__',\n",
       " '__new__',\n",
       " '__reduce__',\n",
       " '__reduce_ex__',\n",
       " '__repr__',\n",
       " '__setattr__',\n",
       " '__sizeof__',\n",
       " '__str__',\n",
       " '__subclasshook__',\n",
       " '__weakref__']"
      ]
     },
     "execution_count": 5,
     "metadata": {},
     "output_type": "execute_result"
    }
   ],
   "source": [
    "dir(Car)"
   ]
  },
  {
   "cell_type": "code",
   "execution_count": 6,
   "metadata": {},
   "outputs": [],
   "source": [
    "class Dog:\n",
    "    \n",
    "    #Constructor\n",
    "   def __init__(self, name, age):\n",
    "       self.name = name  ## instance variable is assigned\n",
    "       self.age = age"
   ]
  },
  {
   "cell_type": "code",
   "execution_count": 12,
   "metadata": {},
   "outputs": [
    {
     "name": "stdout",
     "output_type": "stream",
     "text": [
      "<__main__.Dog object at 0x1037349d0>\n",
      "sheth\n",
      "3\n"
     ]
    }
   ],
   "source": [
    "dog1 = Dog('sheth', 3)\n",
    "print(dog1)\n",
    "print(dog1.name)\n",
    "print(dog1.age)"
   ]
  },
  {
   "cell_type": "code",
   "execution_count": 13,
   "metadata": {},
   "outputs": [
    {
     "name": "stdout",
     "output_type": "stream",
     "text": [
      "lucy\n",
      "4\n"
     ]
    }
   ],
   "source": [
    "dog2 = Dog('lucy', 4)\n",
    "print(dog2.name)\n",
    "print(dog2.age)"
   ]
  },
  {
   "cell_type": "code",
   "execution_count": 17,
   "metadata": {},
   "outputs": [],
   "source": [
    "## Class with instance methods with instance attributes\n",
    "\n",
    "class Cat:\n",
    "    def __init__(self, name, age):\n",
    "        self.name = name\n",
    "        self.age = age\n",
    "        \n",
    "    def meow(self):\n",
    "        print(f\"{self.name} says Meoooooow meowwwwwwww meeeeeeeoooooowwwwww\")"
   ]
  },
  {
   "cell_type": "code",
   "execution_count": 18,
   "metadata": {},
   "outputs": [
    {
     "name": "stdout",
     "output_type": "stream",
     "text": [
      "bud\n",
      "2\n",
      "bud says Meoooooow meowwwwwwww meeeeeeeoooooowwwwww\n",
      "None\n"
     ]
    }
   ],
   "source": [
    "cat1 = Cat('bud', 2)\n",
    "print(cat1.name)\n",
    "print(cat1.age)\n",
    "print(cat1.meow())"
   ]
  },
  {
   "cell_type": "code",
   "execution_count": 19,
   "metadata": {},
   "outputs": [
    {
     "name": "stdout",
     "output_type": "stream",
     "text": [
      "nemooo\n",
      "2\n",
      "nemooo says Meoooooow meowwwwwwww meeeeeeeoooooowwwwww\n",
      "None\n"
     ]
    }
   ],
   "source": [
    "cat1 = Cat('nemooo', 2)\n",
    "print(cat1.name)\n",
    "print(cat1.age)\n",
    "print(cat1.meow())"
   ]
  },
  {
   "cell_type": "code",
   "execution_count": 34,
   "metadata": {},
   "outputs": [],
   "source": [
    "## Modelling a Bank Account\n",
    "\n",
    "class BankAccount:\n",
    "    def __init__(self,owner, balance = 0): ## balance is predefined instance attribute\n",
    "        self.owner = owner\n",
    "        self.balance = balance\n",
    "    \n",
    "    def deposit(self, amount):\n",
    "        self.balance = self.balance + amount\n",
    "        print(f\"The amount is deposoted. Available Balance is {self.balance}\")\n",
    "        \n",
    "    def withdraw(self, amount):\n",
    "        if self.balance < amount:\n",
    "            print(f\"Insufficient Funds\")\n",
    "        else:\n",
    "            self.balance -= amount\n",
    "            print(f\"{amount} is withdrawn from your account...New Balance is {self.balance}\")\n",
    "    \n",
    "    def balance(self):\n",
    "        print(f\"Your current available balance is {self.balance}\")"
   ]
  },
  {
   "cell_type": "code",
   "execution_count": 35,
   "metadata": {},
   "outputs": [],
   "source": [
    "acc1 = BankAccount('Abhishek')"
   ]
  },
  {
   "cell_type": "code",
   "execution_count": 36,
   "metadata": {},
   "outputs": [
    {
     "name": "stdout",
     "output_type": "stream",
     "text": [
      "0\n",
      "Abhishek\n"
     ]
    }
   ],
   "source": [
    "print(acc1.balance)\n",
    "print(acc1.owner)"
   ]
  },
  {
   "cell_type": "code",
   "execution_count": 37,
   "metadata": {},
   "outputs": [
    {
     "name": "stdout",
     "output_type": "stream",
     "text": [
      "The amount is deposoted. Available Balance is 100\n",
      "100\n",
      "10 is withdrawn from your account...New Balance is 90\n"
     ]
    }
   ],
   "source": [
    "(acc1.deposit(100))\n",
    "print(acc1.balance)\n",
    "acc1.withdraw(10)\n"
   ]
  }
 ],
 "metadata": {
  "kernelspec": {
   "display_name": "stable_env_nlp",
   "language": "python",
   "name": "python3"
  },
  "language_info": {
   "codemirror_mode": {
    "name": "ipython",
    "version": 3
   },
   "file_extension": ".py",
   "mimetype": "text/x-python",
   "name": "python",
   "nbconvert_exporter": "python",
   "pygments_lexer": "ipython3",
   "version": "3.10.15"
  }
 },
 "nbformat": 4,
 "nbformat_minor": 2
}
