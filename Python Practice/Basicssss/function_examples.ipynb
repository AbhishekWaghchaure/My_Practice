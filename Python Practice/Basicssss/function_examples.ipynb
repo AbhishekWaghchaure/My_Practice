{
 "cells": [
  {
   "cell_type": "markdown",
   "metadata": {},
   "source": [
    "# Function Examples"
   ]
  },
  {
   "cell_type": "markdown",
   "metadata": {},
   "source": [
    "### Example 1 : Temperature Conversions"
   ]
  },
  {
   "cell_type": "code",
   "execution_count": 9,
   "metadata": {},
   "outputs": [],
   "source": [
    "def temp_conversion(temp, unit):\n",
    "    \"\"\"This function converts temperature from Celsius to Fahrenheit and vice versa.\"\"\"\n",
    "    \n",
    "    if unit == \"celsius\":\n",
    "        fahrenheit = (temp * 9/5) + 32\n",
    "        return (f\"The {temp} Celsius is {fahrenheit} Fahrenheit.\") \n",
    "    elif unit == \"fahrenheit\":\n",
    "        celsius = (temp - 32) * 5/9\n",
    "        return (f\"The {temp} Fahrenheit is {celsius} Celsius.\") \n",
    "    else:\n",
    "        return (\"The unit you have entered is not correct.......\")"
   ]
  },
  {
   "cell_type": "code",
   "execution_count": 10,
   "metadata": {},
   "outputs": [
    {
     "name": "stdout",
     "output_type": "stream",
     "text": [
      "The 100 Celsius is 212.0 Fahrenheit.\n",
      "The 212 Fahrenheit is 100.0 Celsius.\n",
      "The unit you have entered is not correct.......\n"
     ]
    }
   ],
   "source": [
    "print(temp_conversion(temp=100, unit = \"celsius\"))\n",
    "# Output: The 100 Celsius is 212.0 Fahrenheit.\n",
    "\n",
    "print(temp_conversion(212, \"fahrenheit\"))\n",
    "# Output: The 212 Fahrenheit is 100.0 Celsius.\n",
    "\n",
    "print(temp_conversion(50, \"kelvin\"))\n",
    "# Output: The unit you have entered is not correct......."
   ]
  },
  {
   "cell_type": "markdown",
   "metadata": {},
   "source": [
    "### Example 2 Password Strength Checker"
   ]
  },
  {
   "cell_type": "code",
   "execution_count": 14,
   "metadata": {},
   "outputs": [],
   "source": [
    "def is_strong_password(password):\n",
    "    \"\"\"This function checks if the password is strong or not\"\"\"\n",
    "    if len(password) < 8:\n",
    "        return (\"Weak password\")\n",
    "    if not any(char.isdigit() for char in password):\n",
    "        return (\"Weak password\")\n",
    "    if not any(char.islower() for char in password):\n",
    "        return(\"Weak Password\")\n",
    "    if not any(char.isupper() for char in password):\n",
    "        return(\"weak password\")\n",
    "    if not any(char in '!@#$%^&*()' for char in password):\n",
    "        return(\"Weak password\")\n",
    "    else:\n",
    "        return(\"Strong Password\")"
   ]
  },
  {
   "cell_type": "code",
   "execution_count": 16,
   "metadata": {},
   "outputs": [
    {
     "name": "stdout",
     "output_type": "stream",
     "text": [
      "Strong Password\n",
      "Weak password\n"
     ]
    }
   ],
   "source": [
    "print(is_strong_password('Abhisw@28'))\n",
    "print(is_strong_password('qwerty'))"
   ]
  },
  {
   "cell_type": "markdown",
   "metadata": {},
   "source": [
    "### Example 3 Calculate the Total Cost Of Items In a Shop"
   ]
  },
  {
   "cell_type": "code",
   "execution_count": 59,
   "metadata": {},
   "outputs": [],
   "source": [
    "cart = [{'name': 'iphone', 'price':160000, 'quantity': 2},\n",
    "        {'name': 'charger', 'price':2000, 'quantity': 1},\n",
    "        {'name': 'ipad', 'price':80000, 'quantity': 4},\n",
    "        {'name': 'macbook', 'price':200000, 'quantity': 4}]\n",
    "\n",
    "def calculate_total_cost(cart, product_name):\n",
    "    total_cost = 0\n",
    "    for product in cart:\n",
    "        if product_name == 'iphone' or 'charger' or 'ipad' or 'mackbook':\n",
    "            # if product['name'] == 'iphone':\n",
    "            #     cost = product['price'] * product['quantity']\n",
    "            #     return(f\"The cost of selected items from cart is : {cost}\")\n",
    "            \n",
    "            # if product['name'] == 'charger':\n",
    "            #     cost = product['price'] * product['quantity']\n",
    "            #     return(f\"The cost of selected items from cart is : {cost}\")\n",
    "            \n",
    "            # if product['name'] == 'ipad':\n",
    "            #     cost = product['price'] * product['quantity']\n",
    "            #     return(f\"The cost of selected items from cart is : {cost}\")\n",
    "            \n",
    "            # if product['name'] == 'macbook':\n",
    "            #     cost = product['price'] * product['quantity']\n",
    "            #     return(f\"The cost of selected items from cart is : {cost}\")\n",
    "            \n",
    "            if product_name == 'iphone':\n",
    "                cost = [total_cost + items['price'] * items['quantity'] for items in cart if (items['name'] == 'iphone')]\n",
    "                return (f\"The total value of product is : {cost}\")\n",
    "            \n",
    "            if product_name == 'charger':\n",
    "                cost = [total_cost +items['price'] * items['quantity'] for items in cart if (items['name'] == 'charger')]\n",
    "                return (f\"The total value of product is : {cost}\")\n",
    "            \n",
    "            if product_name == 'ipad':\n",
    "                cost = [total_cost +items['price'] * items['quantity'] for items in cart if (items['name'] == 'ipad')]\n",
    "                return (f\"The total value of product is : {cost}\")\n",
    "            \n",
    "            if product_name == 'macbook':\n",
    "                cost = [total_cost +items['price'] * items['quantity'] for items in cart if (items['name'] == 'macbook')]\n",
    "                return (f\"The total value of product is : {cost}\")\n",
    "        \n",
    "        elif product['name'] == 'all_products':\n",
    "            cost = product['price'] * product['quantity']\n",
    "            return(f\"The total cost af all products in cart is :{cost}\")\n",
    "        else:\n",
    "            return(f\"No such item added to the cart\")"
   ]
  },
  {
   "cell_type": "code",
   "execution_count": 60,
   "metadata": {},
   "outputs": [
    {
     "name": "stdout",
     "output_type": "stream",
     "text": [
      "The cost of selected items from cart is : 320000\n",
      "The cost of selected items from cart is : 320000\n",
      "The cost of selected items from cart is : 320000\n",
      "The cost of selected items from cart is : 320000\n",
      "The cost of selected items from cart is : 320000\n"
     ]
    }
   ],
   "source": [
    "print(calculate_total_cost(cart, 'iphone'))\n",
    "print(calculate_total_cost(cart, 'ipad'))\n",
    "print(calculate_total_cost(cart, 'charger'))\n",
    "print(calculate_total_cost(cart, 'macbook'))\n",
    "print(calculate_total_cost(cart, 'all_products'))"
   ]
  },
  {
   "cell_type": "code",
   "execution_count": 69,
   "metadata": {},
   "outputs": [],
   "source": [
    "cart = [{'name': 'iphone', 'price':160000, 'quantity': 2},\n",
    "        {'name': 'charger', 'price':2000, 'quantity': 1},\n",
    "        {'name': 'ipad', 'price':80000, 'quantity': 4},\n",
    "        {'name': 'macbook', 'price':200000, 'quantity': 4}]\n",
    "\n",
    "def total_cost_cart(cart, product_name):\n",
    "    total_cost = 0\n",
    "    if product_name == 'iphone':\n",
    "        cost = [total_cost + items['price'] * items['quantity'] for items in cart if (items['name'] == 'iphone')]\n",
    "        return (f\"The total value of product is : {cost}\")\n",
    "        \n",
    "    elif product_name == 'charger':\n",
    "        cost = [total_cost +items['price'] * items['quantity'] for items in cart if (items['name'] == 'charger')]\n",
    "        return (f\"The total value of product is : {cost}\")\n",
    "            \n",
    "    elif product_name == 'ipad':\n",
    "        cost = [total_cost +items['price'] * items['quantity'] for items in cart if (items['name'] == 'ipad')]\n",
    "        return (f\"The total value of product is : {cost}\")\n",
    "            \n",
    "    elif product_name == 'macbook':\n",
    "        cost = [total_cost +items['price'] * items['quantity'] for items in cart if (items['name'] == 'macbook')]\n",
    "        return (f\"The total value of product is : {cost}\")\n",
    "    \n",
    "    elif product_name == 'total_cart':\n",
    "        for items in cart:\n",
    "            total_cost += items['price'] * items['quantity']\n",
    "            \n",
    "        return(f\"The total cost of cart : {total_cost}\")\n",
    "    "
   ]
  },
  {
   "cell_type": "code",
   "execution_count": 70,
   "metadata": {},
   "outputs": [
    {
     "name": "stdout",
     "output_type": "stream",
     "text": [
      "The total value of product is : [320000]\n",
      "The total value of product is : [320000]\n",
      "The total value of product is : [2000]\n",
      "The total value of product is : [800000]\n",
      "The total cost of cart : 1442000\n"
     ]
    }
   ],
   "source": [
    "print(total_cost_cart(cart, 'iphone'))\n",
    "print(total_cost_cart(cart, 'ipad'))\n",
    "print(total_cost_cart(cart, 'charger'))\n",
    "print(total_cost_cart(cart, 'macbook'))\n",
    "print(total_cost_cart(cart, 'total_cart'))"
   ]
  },
  {
   "cell_type": "markdown",
   "metadata": {},
   "source": [
    "## Check if String is Palindrome"
   ]
  },
  {
   "cell_type": "code",
   "execution_count": 71,
   "metadata": {},
   "outputs": [
    {
     "name": "stdout",
     "output_type": "stream",
     "text": [
      "kehsihba\n",
      "kehsihba\n"
     ]
    }
   ],
   "source": [
    "def is_palindrome(s):\n",
    "    s = s.lower().replace(\" \", \"\")\n",
    "    return s == s[::-1]\n",
    "\n",
    "is_palindrome('malyalam')\n",
    "\n",
    "string = \"abhishek\"\n",
    "print(string[::-1])\n",
    "print(string[::-1])"
   ]
  },
  {
   "cell_type": "markdown",
   "metadata": {},
   "source": [
    "### Check the factorial of number\n"
   ]
  },
  {
   "cell_type": "code",
   "execution_count": 85,
   "metadata": {},
   "outputs": [
    {
     "data": {
      "text/plain": [
       "120"
      ]
     },
     "execution_count": 85,
     "metadata": {},
     "output_type": "execute_result"
    }
   ],
   "source": [
    "\n",
    "num = int(input(\"Enter the number whose factorial you want : \"))\n",
    "\n",
    "def factorial_recursion(num):\n",
    "    if num == 0:\n",
    "        return 1\n",
    "    else:\n",
    "        return num * factorial_recursion(num-1)\n",
    "    \n",
    "factorial_recursion(num)"
   ]
  },
  {
   "cell_type": "code",
   "execution_count": 83,
   "metadata": {},
   "outputs": [
    {
     "name": "stdout",
     "output_type": "stream",
     "text": [
      "Factorial of this number is  120\n"
     ]
    }
   ],
   "source": [
    "num = int(input(\"Enter the number whose factorial you want to check : \"))\n",
    "\n",
    "def factorial(num):\n",
    "    factorial = 1\n",
    "    if num < 0:\n",
    "        print(\"Factorial does not exist for negative numbers\")\n",
    "    elif (num == 0): \n",
    "        print(\"Factorial of 0 is 1\")\n",
    "    else:\n",
    "        for i in range(1, num + 1):\n",
    "            factorial = factorial * i\n",
    "        print(\"Factorial of this number is \", factorial)\n",
    "        \n",
    "factorial(num)"
   ]
  }
 ],
 "metadata": {
  "kernelspec": {
   "display_name": "stable_env_nlp",
   "language": "python",
   "name": "python3"
  },
  "language_info": {
   "codemirror_mode": {
    "name": "ipython",
    "version": 3
   },
   "file_extension": ".py",
   "mimetype": "text/x-python",
   "name": "python",
   "nbconvert_exporter": "python",
   "pygments_lexer": "ipython3",
   "version": "3.10.15"
  }
 },
 "nbformat": 4,
 "nbformat_minor": 2
}
