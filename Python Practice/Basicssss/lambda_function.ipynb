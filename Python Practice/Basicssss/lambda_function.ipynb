{
 "cells": [
  {
   "cell_type": "markdown",
   "metadata": {},
   "source": [
    "### Anonymous functions---- function without name"
   ]
  },
  {
   "cell_type": "code",
   "execution_count": 2,
   "metadata": {},
   "outputs": [
    {
     "name": "stdout",
     "output_type": "stream",
     "text": [
      "7\n"
     ]
    }
   ],
   "source": [
    "def add (a,b):\n",
    "    return a+b\n",
    "\n",
    "print(add(3,4))"
   ]
  },
  {
   "cell_type": "code",
   "execution_count": 4,
   "metadata": {},
   "outputs": [
    {
     "data": {
      "text/plain": [
       "7"
      ]
     },
     "execution_count": 4,
     "metadata": {},
     "output_type": "execute_result"
    }
   ],
   "source": [
    "fun = (lambda a,b : a+b)\n",
    "fun(3,4)"
   ]
  },
  {
   "cell_type": "code",
   "execution_count": 5,
   "metadata": {},
   "outputs": [
    {
     "name": "stdout",
     "output_type": "stream",
     "text": [
      "12\n"
     ]
    }
   ],
   "source": [
    "add = lambda x,y,z:x+y+z\n",
    "print(add(3,4,5))"
   ]
  },
  {
   "cell_type": "markdown",
   "metadata": {},
   "source": [
    "## Map Filter and Reduce"
   ]
  },
  {
   "cell_type": "code",
   "execution_count": 9,
   "metadata": {},
   "outputs": [
    {
     "name": "stdout",
     "output_type": "stream",
     "text": [
      "[4, 9, 16, 25, 36]\n",
      "List comprehension result : [4, 9, 16, 25, 36]\n"
     ]
    }
   ],
   "source": [
    "lst = [2,3,4,5,6]\n",
    "# 1st method to find squares of each element in this list\n",
    "def for_loop_result(list):\n",
    "    result = []\n",
    "    for i in list:\n",
    "        square = i ** 2\n",
    "        result.append(square)\n",
    "    return result\n",
    "    \n",
    "print(for_loop_result(lst))\n",
    "\n",
    "# 2nd method using list comprehensions\n",
    "def list_comprehension(list):\n",
    "    result = [i ** 2 for i in list]\n",
    "    return(f\"List comprehension result : {result}\")\n",
    "print(list_comprehension(lst))\n"
   ]
  },
  {
   "cell_type": "code",
   "execution_count": 14,
   "metadata": {},
   "outputs": [
    {
     "name": "stdout",
     "output_type": "stream",
     "text": [
      "New list having Square of original list usin Map function : [4, 9, 16, 25, 36]\n"
     ]
    }
   ],
   "source": [
    "## Using map lambda function to do the same thing\n",
    "map_fun = list(map(lambda x : x**2, lst))\n",
    "print(f\"New list having Square of original list usin Map function : {list(map(lambda x : x**2, lst))}\")"
   ]
  },
  {
   "cell_type": "code",
   "execution_count": 19,
   "metadata": {},
   "outputs": [
    {
     "name": "stdout",
     "output_type": "stream",
     "text": [
      "8\n",
      "27 64 125 216\n"
     ]
    }
   ],
   "source": [
    "map_fun = map(lambda x : x**3, lst)\n",
    "print(next(map_fun))\n",
    "print(*(map_fun))"
   ]
  },
  {
   "cell_type": "code",
   "execution_count": 21,
   "metadata": {},
   "outputs": [
    {
     "name": "stdout",
     "output_type": "stream",
     "text": [
      "6 8 10 12 14\n"
     ]
    }
   ],
   "source": [
    "## Map Multiple Iterables\n",
    "\n",
    "number1 = [1,2,3,4,5]\n",
    "number2 =[5,6,7,8,9]\n",
    "\n",
    "added_numbers = map(lambda x,y : x + y, number1, number2)\n",
    "print(*added_numbers)"
   ]
  },
  {
   "cell_type": "code",
   "execution_count": 22,
   "metadata": {},
   "outputs": [
    {
     "name": "stdout",
     "output_type": "stream",
     "text": [
      "ABHI SOMNATH SUMATI WAGHCHAURE\n"
     ]
    }
   ],
   "source": [
    "words = ['abhi', 'somnath', 'sumati', 'waghchaure']\n",
    "upper = map(str.upper, words)\n",
    "print(*(upper))"
   ]
  },
  {
   "cell_type": "code",
   "execution_count": 23,
   "metadata": {},
   "outputs": [
    {
     "name": "stdout",
     "output_type": "stream",
     "text": [
      "Abhishek Ram\n"
     ]
    }
   ],
   "source": [
    "## Map to Dictionary\n",
    "\n",
    "people = [{'name' : 'Abhishek', 'age' : 27},{'name':'Ram', 'age' : 2}]\n",
    "\n",
    "def get_names(list):\n",
    "    return list['name']\n",
    "\n",
    "names = map(get_names, people)\n",
    "print(*(names))"
   ]
  }
 ],
 "metadata": {
  "kernelspec": {
   "display_name": "stable_env_nlp",
   "language": "python",
   "name": "python3"
  },
  "language_info": {
   "codemirror_mode": {
    "name": "ipython",
    "version": 3
   },
   "file_extension": ".py",
   "mimetype": "text/x-python",
   "name": "python",
   "nbconvert_exporter": "python",
   "pygments_lexer": "ipython3",
   "version": "3.10.15"
  }
 },
 "nbformat": 4,
 "nbformat_minor": 2
}
