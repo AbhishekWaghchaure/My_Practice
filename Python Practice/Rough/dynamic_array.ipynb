{
 "cells": [
  {
   "cell_type": "code",
   "execution_count": 113,
   "metadata": {},
   "outputs": [],
   "source": [
    "import ctypes, sys"
   ]
  },
  {
   "cell_type": "code",
   "execution_count": 114,
   "metadata": {},
   "outputs": [],
   "source": [
    "class MeraList:\n",
    "    \n",
    "    def __init__(self):\n",
    "        self.size = 1\n",
    "        self.n = 0\n",
    "        # create ctype array with size = sef.size\n",
    "        self.A = self.__create_array(self.size)\n",
    "    \n",
    "    def __len__(self):\n",
    "        return self.n\n",
    "    \n",
    "    def append(self,new_element):\n",
    "        # Resize\n",
    "        if self.n == self.size:\n",
    "            self.__resize(self.size * 2)\n",
    "            \n",
    "        # append\n",
    "        self.A[self.n] = new_element\n",
    "        self.n = self.n + 1\n",
    "        \n",
    "    def __resize(self, new_capacity):\n",
    "        #create a new array with new capacity\n",
    "        B = self.__create_array(new_capacity)\n",
    "        self.size = new_capacity\n",
    "        \n",
    "        # Copy the content of a to b\n",
    "        for i in range(self.n):\n",
    "            B[i] = self.A[i]\n",
    "            \n",
    "        # Reassign A\n",
    "        self.A = B\n",
    "        \n",
    "    def __create_array(self, capacity):\n",
    "        # creates a ctype array with size capacity (Static and referential array)\n",
    "        return (capacity*ctypes.py_object)()\n",
    "        "
   ]
  },
  {
   "cell_type": "code",
   "execution_count": 115,
   "metadata": {},
   "outputs": [],
   "source": [
    "L = MeraList()"
   ]
  },
  {
   "cell_type": "code",
   "execution_count": 116,
   "metadata": {},
   "outputs": [
    {
     "name": "stdout",
     "output_type": "stream",
     "text": [
      "0\n"
     ]
    }
   ],
   "source": [
    "type(L)\n",
    "print(len(L))"
   ]
  },
  {
   "cell_type": "code",
   "execution_count": 150,
   "metadata": {},
   "outputs": [
    {
     "name": "stdout",
     "output_type": "stream",
     "text": [
      "30\n",
      "48\n"
     ]
    }
   ],
   "source": [
    "L.append('hello')\n",
    "print(len(L))\n",
    "print(sys.getsizeof(L))"
   ]
  },
  {
   "cell_type": "markdown",
   "metadata": {},
   "source": [
    "## Normal Python List Class which is ---- Dynamic and heterogenous"
   ]
  },
  {
   "cell_type": "code",
   "execution_count": 118,
   "metadata": {},
   "outputs": [],
   "source": [
    "import sys"
   ]
  },
  {
   "cell_type": "code",
   "execution_count": 119,
   "metadata": {},
   "outputs": [
    {
     "name": "stdout",
     "output_type": "stream",
     "text": [
      "<class '__main__.MeraList'>\n",
      "1\n",
      "88\n"
     ]
    }
   ],
   "source": [
    "l = [10,20,30,40]\n",
    "print(type(L))\n",
    "print(len(L))\n",
    "print(sys.getsizeof(l))"
   ]
  },
  {
   "cell_type": "code",
   "execution_count": 120,
   "metadata": {},
   "outputs": [
    {
     "name": "stdout",
     "output_type": "stream",
     "text": [
      "56\n",
      "88\n",
      "88\n",
      "88\n",
      "88\n",
      "88\n",
      "88\n",
      "88\n",
      "88\n",
      "120\n",
      "120\n",
      "120\n",
      "120\n",
      "120\n",
      "120\n",
      "120\n",
      "120\n",
      "184\n",
      "184\n",
      "184\n",
      "184\n",
      "184\n",
      "184\n",
      "184\n",
      "184\n",
      "184\n",
      "184\n",
      "184\n",
      "184\n",
      "184\n",
      "184\n",
      "184\n",
      "184\n",
      "248\n",
      "248\n",
      "248\n",
      "248\n",
      "248\n",
      "248\n",
      "248\n",
      "248\n",
      "248\n",
      "248\n",
      "248\n",
      "248\n",
      "248\n",
      "248\n",
      "248\n",
      "248\n",
      "312\n",
      "312\n",
      "312\n",
      "312\n",
      "312\n",
      "312\n",
      "312\n",
      "312\n",
      "312\n",
      "312\n",
      "312\n"
     ]
    }
   ],
   "source": [
    "a = []\n",
    "for i in range(30):\n",
    "    print(sys.getsizeof(a))\n",
    "    a.append(i)\n",
    "    print(sys.getsizeof(a))"
   ]
  },
  {
   "cell_type": "code",
   "execution_count": 121,
   "metadata": {},
   "outputs": [
    {
     "name": "stdout",
     "output_type": "stream",
     "text": [
      "[10, 20, 30, 40, ['Hello']]\n",
      "120\n"
     ]
    }
   ],
   "source": [
    "l.append(['Hello'])\n",
    "print(l)\n",
    "print(sys.getsizeof(l))"
   ]
  }
 ],
 "metadata": {
  "kernelspec": {
   "display_name": "stable_env_nlp",
   "language": "python",
   "name": "python3"
  },
  "language_info": {
   "codemirror_mode": {
    "name": "ipython",
    "version": 3
   },
   "file_extension": ".py",
   "mimetype": "text/x-python",
   "name": "python",
   "nbconvert_exporter": "python",
   "pygments_lexer": "ipython3",
   "version": "3.10.15"
  }
 },
 "nbformat": 4,
 "nbformat_minor": 2
}
