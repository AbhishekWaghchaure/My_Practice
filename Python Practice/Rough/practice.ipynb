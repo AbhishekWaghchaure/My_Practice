{
 "cells": [
  {
   "cell_type": "code",
   "execution_count": 6,
   "metadata": {},
   "outputs": [
    {
     "name": "stdout",
     "output_type": "stream",
     "text": [
      "The custo list created is [1, 2, 3, 4, 5]\n"
     ]
    }
   ],
   "source": [
    "digit = int(input(\"Enter the digit of length of list\"))\n",
    "\n",
    "cust_list = []\n",
    "for i in range(digit):\n",
    "    cust_list.append(int(input(f\"Enter the {i+1} element\")))\n",
    "print(f\"The custo list created is {cust_list}\")\n",
    "\n",
    "## Traditional by using a swap variable :\n",
    "\n",
    "# swap = cust_list[0]\n",
    "# cust_list[0] = cust_list[len(cust_list) - 1]"
   ]
  },
  {
   "cell_type": "code",
   "execution_count": 7,
   "metadata": {},
   "outputs": [
    {
     "data": {
      "text/plain": [
       "5"
      ]
     },
     "execution_count": 7,
     "metadata": {},
     "output_type": "execute_result"
    }
   ],
   "source": [
    "cust_list[len(cust_list) - 1]"
   ]
  },
  {
   "cell_type": "code",
   "execution_count": 8,
   "metadata": {},
   "outputs": [],
   "source": [
    "swap = cust_list[0]\n",
    "cust_list[0] = cust_list[len(cust_list) - 1]\n",
    "cust_list[len(cust_list) - 1] = swap"
   ]
  },
  {
   "cell_type": "code",
   "execution_count": 9,
   "metadata": {},
   "outputs": [
    {
     "name": "stdout",
     "output_type": "stream",
     "text": [
      "The list after swap is : [5, 2, 3, 4, 1]\n"
     ]
    }
   ],
   "source": [
    "print(f\"The list after swap is : {cust_list}\")"
   ]
  },
  {
   "cell_type": "code",
   "execution_count": 10,
   "metadata": {},
   "outputs": [
    {
     "name": "stdout",
     "output_type": "stream",
     "text": [
      "[4, 2, 3, 5, 1]\n"
     ]
    }
   ],
   "source": [
    "cust_list[0],cust_list[3] = cust_list[3], cust_list[0]\n",
    "print(cust_list)"
   ]
  },
  {
   "cell_type": "code",
   "execution_count": 11,
   "metadata": {},
   "outputs": [],
   "source": [
    "first_pop = cust_list.pop(0)\n",
    "second_pop = cust_list.pop(4-1)"
   ]
  },
  {
   "cell_type": "code",
   "execution_count": 12,
   "metadata": {},
   "outputs": [
    {
     "data": {
      "text/plain": [
       "[1, 2, 3, 5, 4]"
      ]
     },
     "execution_count": 12,
     "metadata": {},
     "output_type": "execute_result"
    }
   ],
   "source": [
    "cust_list.insert(3,first_pop)\n",
    "cust_list.insert(0,second_pop)\n",
    "cust_list"
   ]
  },
  {
   "metadata": {
    "ExecuteTime": {
     "end_time": "2024-12-12T12:21:26.003321Z",
     "start_time": "2024-12-12T12:21:25.997466Z"
    }
   },
   "cell_type": "code",
   "source": [
    "# num = 10\n",
    "# sum = 0\n",
    "# for i in range(num + 1):\n",
    "#     sum = i + sum\n",
    "#\n",
    "# print(sum)\n",
    "\n",
    "\n",
    "def sum_of_n_numbers(num):\n",
    "    sum = 0\n",
    "    for i in range(num+1):\n",
    "        sum += i\n",
    "    return sum\n",
    "\n",
    "sum_of_n_numbers(10)"
   ],
   "outputs": [
    {
     "data": {
      "text/plain": [
       "55"
      ]
     },
     "execution_count": 9,
     "metadata": {},
     "output_type": "execute_result"
    }
   ],
   "execution_count": 9
  }
 ],
 "metadata": {
  "kernelspec": {
   "display_name": "tensor",
   "language": "python",
   "name": "python3"
  },
  "language_info": {
   "codemirror_mode": {
    "name": "ipython",
    "version": 3
   },
   "file_extension": ".py",
   "mimetype": "text/x-python",
   "name": "python",
   "nbconvert_exporter": "python",
   "pygments_lexer": "ipython3",
   "version": "3.10.14"
  }
 },
 "nbformat": 4,
 "nbformat_minor": 2
}
