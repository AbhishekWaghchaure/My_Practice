{
 "cells": [
  {
   "cell_type": "code",
   "execution_count": 6,
   "metadata": {},
   "outputs": [
    {
     "name": "stdout",
     "output_type": "stream",
     "text": [
      "The custo list created is [1, 2, 3, 4, 5]\n"
     ]
    }
   ],
   "source": [
    "digit = int(input(\"Enter the digit of length of list\"))\n",
    "\n",
    "cust_list = []\n",
    "for i in range(digit):\n",
    "    cust_list.append(int(input(f\"Enter the {i+1} element\")))\n",
    "print(f\"The custo list created is {cust_list}\")\n",
    "\n",
    "## Traditional by using a swap variable :\n",
    "\n",
    "# swap = cust_list[0]\n",
    "# cust_list[0] = cust_list[len(cust_list) - 1]"
   ]
  },
  {
   "cell_type": "code",
   "execution_count": 7,
   "metadata": {},
   "outputs": [
    {
     "data": {
      "text/plain": [
       "5"
      ]
     },
     "execution_count": 7,
     "metadata": {},
     "output_type": "execute_result"
    }
   ],
   "source": [
    "cust_list[len(cust_list) - 1]"
   ]
  },
  {
   "cell_type": "code",
   "execution_count": 8,
   "metadata": {},
   "outputs": [],
   "source": [
    "swap = cust_list[0]\n",
    "cust_list[0] = cust_list[len(cust_list) - 1]\n",
    "cust_list[len(cust_list) - 1] = swap"
   ]
  },
  {
   "cell_type": "code",
   "execution_count": 9,
   "metadata": {},
   "outputs": [
    {
     "name": "stdout",
     "output_type": "stream",
     "text": [
      "The list after swap is : [5, 2, 3, 4, 1]\n"
     ]
    }
   ],
   "source": [
    "print(f\"The list after swap is : {cust_list}\")"
   ]
  },
  {
   "cell_type": "code",
   "execution_count": 10,
   "metadata": {},
   "outputs": [
    {
     "name": "stdout",
     "output_type": "stream",
     "text": [
      "[4, 2, 3, 5, 1]\n"
     ]
    }
   ],
   "source": [
    "cust_list[0],cust_list[3] = cust_list[3], cust_list[0]\n",
    "print(cust_list)"
   ]
  },
  {
   "cell_type": "code",
   "execution_count": 11,
   "metadata": {},
   "outputs": [],
   "source": [
    "first_pop = cust_list.pop(0)\n",
    "second_pop = cust_list.pop(4-1)"
   ]
  },
  {
   "cell_type": "code",
   "execution_count": 12,
   "metadata": {},
   "outputs": [
    {
     "data": {
      "text/plain": [
       "[1, 2, 3, 5, 4]"
      ]
     },
     "execution_count": 12,
     "metadata": {},
     "output_type": "execute_result"
    }
   ],
   "source": [
    "cust_list.insert(3,first_pop)\n",
    "cust_list.insert(0,second_pop)\n",
    "cust_list"
   ]
  },
  {
   "metadata": {
    "ExecuteTime": {
     "end_time": "2024-12-12T12:21:26.003321Z",
     "start_time": "2024-12-12T12:21:25.997466Z"
    }
   },
   "cell_type": "code",
   "source": [
    "# num = 10\n",
    "# sum = 0\n",
    "# for i in range(num + 1):\n",
    "#     sum = i + sum\n",
    "#\n",
    "# print(sum)\n",
    "\n",
    "\n",
    "def sum_of_n_numbers(num):\n",
    "    sum = 0\n",
    "    for i in range(num+1):\n",
    "        sum += i\n",
    "    return sum\n",
    "\n",
    "sum_of_n_numbers(10)"
   ],
   "outputs": [
    {
     "data": {
      "text/plain": [
       "55"
      ]
     },
     "execution_count": 9,
     "metadata": {},
     "output_type": "execute_result"
    }
   ],
   "execution_count": 9
  },
  {
   "metadata": {
    "ExecuteTime": {
     "end_time": "2024-12-14T04:33:59.507587Z",
     "start_time": "2024-12-14T04:33:59.506065Z"
    }
   },
   "cell_type": "code",
   "source": "lst = [10,30,40,20,19,56,21]",
   "outputs": [],
   "execution_count": 1
  },
  {
   "metadata": {
    "ExecuteTime": {
     "end_time": "2024-12-14T04:34:58.770916Z",
     "start_time": "2024-12-14T04:34:58.763396Z"
    }
   },
   "cell_type": "code",
   "source": "lst[0:]",
   "outputs": [
    {
     "data": {
      "text/plain": [
       "[10, 30, 40, 20, 19, 56, 21]"
      ]
     },
     "execution_count": 2,
     "metadata": {},
     "output_type": "execute_result"
    }
   ],
   "execution_count": 2
  },
  {
   "metadata": {
    "ExecuteTime": {
     "end_time": "2024-12-14T04:39:21.523105Z",
     "start_time": "2024-12-14T04:39:21.518582Z"
    }
   },
   "cell_type": "code",
   "source": "lst[: :-1]",
   "outputs": [
    {
     "data": {
      "text/plain": [
       "[21, 56, 19, 20]"
      ]
     },
     "execution_count": 14,
     "metadata": {},
     "output_type": "execute_result"
    }
   ],
   "execution_count": 14
  },
  {
   "metadata": {
    "ExecuteTime": {
     "end_time": "2024-12-14T05:01:40.230467Z",
     "start_time": "2024-12-14T05:01:40.227423Z"
    }
   },
   "cell_type": "code",
   "source": "lst[len(lst)-1]",
   "outputs": [
    {
     "data": {
      "text/plain": [
       "21"
      ]
     },
     "execution_count": 17,
     "metadata": {},
     "output_type": "execute_result"
    }
   ],
   "execution_count": 17
  },
  {
   "metadata": {
    "ExecuteTime": {
     "end_time": "2024-12-15T07:00:43.412479Z",
     "start_time": "2024-12-15T07:00:43.243296Z"
    }
   },
   "cell_type": "code",
   "source": [
    "arr = [1,2,3,4]\n",
    "arr[100] = 500\n",
    "print(arr)"
   ],
   "outputs": [
    {
     "ename": "IndexError",
     "evalue": "list assignment index out of range",
     "output_type": "error",
     "traceback": [
      "\u001B[0;31m---------------------------------------------------------------------------\u001B[0m",
      "\u001B[0;31mIndexError\u001B[0m                                Traceback (most recent call last)",
      "Cell \u001B[0;32mIn[1], line 2\u001B[0m\n\u001B[1;32m      1\u001B[0m arr \u001B[38;5;241m=\u001B[39m [\u001B[38;5;241m1\u001B[39m,\u001B[38;5;241m2\u001B[39m,\u001B[38;5;241m3\u001B[39m,\u001B[38;5;241m4\u001B[39m]\n\u001B[0;32m----> 2\u001B[0m \u001B[43marr\u001B[49m\u001B[43m[\u001B[49m\u001B[38;5;241;43m100\u001B[39;49m\u001B[43m]\u001B[49m \u001B[38;5;241m=\u001B[39m \u001B[38;5;241m500\u001B[39m\n\u001B[1;32m      3\u001B[0m \u001B[38;5;28mprint\u001B[39m(arr)\n",
      "\u001B[0;31mIndexError\u001B[0m: list assignment index out of range"
     ]
    }
   ],
   "execution_count": 1
  },
  {
   "metadata": {
    "ExecuteTime": {
     "end_time": "2024-12-15T07:03:17.790229Z",
     "start_time": "2024-12-15T07:03:17.784485Z"
    }
   },
   "cell_type": "code",
   "source": "type",
   "outputs": [
    {
     "data": {
      "text/plain": [
       "type"
      ]
     },
     "execution_count": 4,
     "metadata": {},
     "output_type": "execute_result"
    }
   ],
   "execution_count": 4
  },
  {
   "metadata": {
    "ExecuteTime": {
     "end_time": "2024-12-15T07:03:01.249297Z",
     "start_time": "2024-12-15T07:03:01.245756Z"
    }
   },
   "cell_type": "code",
   "source": "type(100)",
   "outputs": [
    {
     "data": {
      "text/plain": [
       "int"
      ]
     },
     "execution_count": 3,
     "metadata": {},
     "output_type": "execute_result"
    }
   ],
   "execution_count": 3
  },
  {
   "metadata": {
    "ExecuteTime": {
     "end_time": "2024-12-15T07:02:23.833156Z",
     "start_time": "2024-12-15T07:02:23.827409Z"
    }
   },
   "cell_type": "code",
   "source": "type(type(100))",
   "outputs": [
    {
     "data": {
      "text/plain": [
       "type"
      ]
     },
     "execution_count": 2,
     "metadata": {},
     "output_type": "execute_result"
    }
   ],
   "execution_count": 2
  },
  {
   "metadata": {
    "ExecuteTime": {
     "end_time": "2024-12-15T07:05:53.513949Z",
     "start_time": "2024-12-15T07:05:53.509857Z"
    }
   },
   "cell_type": "code",
   "source": "print([...,\"abhishek\"])",
   "outputs": [
    {
     "name": "stdout",
     "output_type": "stream",
     "text": [
      "[Ellipsis, 'abhishek']\n"
     ]
    }
   ],
   "execution_count": 9
  },
  {
   "metadata": {
    "ExecuteTime": {
     "end_time": "2024-12-15T07:10:32.263152Z",
     "start_time": "2024-12-15T07:10:32.242665Z"
    }
   },
   "cell_type": "code",
   "source": "print(int('Abji'))",
   "outputs": [
    {
     "ename": "ValueError",
     "evalue": "invalid literal for int() with base 10: 'Abji'",
     "output_type": "error",
     "traceback": [
      "\u001B[0;31m---------------------------------------------------------------------------\u001B[0m",
      "\u001B[0;31mValueError\u001B[0m                                Traceback (most recent call last)",
      "Cell \u001B[0;32mIn[11], line 1\u001B[0m\n\u001B[0;32m----> 1\u001B[0m \u001B[38;5;28mprint\u001B[39m(\u001B[38;5;28;43mint\u001B[39;49m\u001B[43m(\u001B[49m\u001B[38;5;124;43m'\u001B[39;49m\u001B[38;5;124;43mAbji\u001B[39;49m\u001B[38;5;124;43m'\u001B[39;49m\u001B[43m)\u001B[49m)\n",
      "\u001B[0;31mValueError\u001B[0m: invalid literal for int() with base 10: 'Abji'"
     ]
    }
   ],
   "execution_count": 11
  },
  {
   "metadata": {
    "ExecuteTime": {
     "end_time": "2024-12-15T07:11:28.283370Z",
     "start_time": "2024-12-15T07:11:28.279793Z"
    }
   },
   "cell_type": "code",
   "source": "print(int('3'+'2'))",
   "outputs": [
    {
     "name": "stdout",
     "output_type": "stream",
     "text": [
      "32\n"
     ]
    }
   ],
   "execution_count": 12
  },
  {
   "metadata": {
    "ExecuteTime": {
     "end_time": "2024-12-15T07:11:53.434290Z",
     "start_time": "2024-12-15T07:11:53.428989Z"
    }
   },
   "cell_type": "code",
   "source": "type(\"3\" + \"2\")",
   "outputs": [
    {
     "data": {
      "text/plain": [
       "str"
      ]
     },
     "execution_count": 14,
     "metadata": {},
     "output_type": "execute_result"
    }
   ],
   "execution_count": 14
  },
  {
   "metadata": {
    "ExecuteTime": {
     "end_time": "2024-12-15T07:12:54.916995Z",
     "start_time": "2024-12-15T07:12:54.897147Z"
    }
   },
   "cell_type": "code",
   "source": "print(int('7FM'))",
   "outputs": [
    {
     "ename": "ValueError",
     "evalue": "invalid literal for int() with base 10: '7FM'",
     "output_type": "error",
     "traceback": [
      "\u001B[0;31m---------------------------------------------------------------------------\u001B[0m",
      "\u001B[0;31mValueError\u001B[0m                                Traceback (most recent call last)",
      "Cell \u001B[0;32mIn[15], line 1\u001B[0m\n\u001B[0;32m----> 1\u001B[0m \u001B[38;5;28mprint\u001B[39m(\u001B[38;5;28;43mint\u001B[39;49m\u001B[43m(\u001B[49m\u001B[38;5;124;43m'\u001B[39;49m\u001B[38;5;124;43m7FM\u001B[39;49m\u001B[38;5;124;43m'\u001B[39;49m\u001B[43m)\u001B[49m)\n",
      "\u001B[0;31mValueError\u001B[0m: invalid literal for int() with base 10: '7FM'"
     ]
    }
   ],
   "execution_count": 15
  }
 ],
 "metadata": {
  "kernelspec": {
   "display_name": "tensor",
   "language": "python",
   "name": "python3"
  },
  "language_info": {
   "codemirror_mode": {
    "name": "ipython",
    "version": 3
   },
   "file_extension": ".py",
   "mimetype": "text/x-python",
   "name": "python",
   "nbconvert_exporter": "python",
   "pygments_lexer": "ipython3",
   "version": "3.10.14"
  }
 },
 "nbformat": 4,
 "nbformat_minor": 2
}
