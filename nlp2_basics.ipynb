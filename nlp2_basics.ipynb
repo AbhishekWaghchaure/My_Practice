{
 "cells": [
  {
   "cell_type": "code",
   "execution_count": 81,
   "metadata": {},
   "outputs": [],
   "source": [
    "paragraph = \"\"\"\"\n",
    "Narendra Damodardas Modi (Gujarati: [ˈnəɾendɾə dɑmodəɾˈdɑs ˈmodiː] ⓘ; born 17 September 1950)[b] is an Indian politician who has served as the 14th prime minister of India since May 2014. Modi was the Chief Minister of Gujarat from 2001 to 2014 and is the Member of Parliament (MP) for Varanasi. He is a member of the Bharatiya Janata Party (BJP) and of the Rashtriya Swayamsevak Sangh (RSS), a right-wing Hindu nationalist paramilitary volunteer organisation. He is the longest-serving prime minister from outside the Indian National Congress.\n",
    "\n",
    "Modi was born and raised in Vadnagar in northeastern Gujarat, where he completed his secondary education. He was introduced to the RSS at the age of eight. His account of helping his father sell tea at the Vadnagar railway station has not been reliably corroborated. At age 18, he was married to Jashodaben Modi, whom he abandoned soon after, only publicly acknowledging her four decades later when legally required to do so. Modi became a full-time worker for the RSS in Gujarat in 1971. The RSS assigned him to the BJP in 1985 and he held several positions within the party hierarchy until 2001, rising to the rank of general secretary.[c]\n",
    "\n",
    "In 2001, Modi was appointed Chief Minister of Gujarat and elected to the legislative assembly soon after. His administration is considered complicit in the 2002 Gujarat riots,[d] and has been criticised for its management of the crisis. A little over 1,000 people were killed, according to official records, three-quarters of whom were Muslim; independent sources estimated 2,000 deaths, mostly Muslim.[10] A Special Investigation Team appointed by the Supreme Court of India in 2012 found no evidence to initiate prosecution proceedings against him.[e] While his policies as chief minister, which were credited for encouraging economic growth, were praised, Modi's administration was criticised for failing to significantly improve health, poverty and education indices in the state.[f] In the 2014 Indian general election, Modi led the BJP to a parliamentary majority, the first for a party since 1984. His administration increased direct foreign investment; it reduced spending on healthcare, education, and social-welfare programmes. Modi began a high-profile sanitation campaign, controversially initiated the 2016 demonetisation of high-denomination banknotes and introduced the Goods and Services Tax, and weakened or abolished environmental and labour laws.\"\"\""
   ]
  },
  {
   "cell_type": "code",
   "execution_count": 82,
   "metadata": {},
   "outputs": [],
   "source": [
    "import nltk\n",
    "from nltk.corpus import stopwords\n",
    "from nltk.stem import PorterStemmer\n",
    "from nltk.stem import WordNetLemmatizer\n",
    "import re"
   ]
  },
  {
   "cell_type": "code",
   "execution_count": 83,
   "metadata": {},
   "outputs": [
    {
     "name": "stderr",
     "output_type": "stream",
     "text": [
      "[nltk_data] Downloading package punkt to\n",
      "[nltk_data]     /Users/abhishekwaghchaure/nltk_data...\n",
      "[nltk_data]   Package punkt is already up-to-date!\n"
     ]
    },
    {
     "data": {
      "text/plain": [
       "True"
      ]
     },
     "execution_count": 83,
     "metadata": {},
     "output_type": "execute_result"
    }
   ],
   "source": [
    "nltk.download('punkt')"
   ]
  },
  {
   "cell_type": "code",
   "execution_count": 84,
   "metadata": {},
   "outputs": [
    {
     "name": "stdout",
     "output_type": "stream",
     "text": [
      "['\"\\nNarendra Damodardas Modi (Gujarati: [ˈnəɾendɾə dɑmodəɾˈdɑs ˈmodiː] ⓘ; born 17 September 1950)[b] is an Indian politician who has served as the 14th prime minister of India since May 2014.', 'Modi was the Chief Minister of Gujarat from 2001 to 2014 and is the Member of Parliament (MP) for Varanasi.', 'He is a member of the Bharatiya Janata Party (BJP) and of the Rashtriya Swayamsevak Sangh (RSS), a right-wing Hindu nationalist paramilitary volunteer organisation.', 'He is the longest-serving prime minister from outside the Indian National Congress.', 'Modi was born and raised in Vadnagar in northeastern Gujarat, where he completed his secondary education.', 'He was introduced to the RSS at the age of eight.', 'His account of helping his father sell tea at the Vadnagar railway station has not been reliably corroborated.', 'At age 18, he was married to Jashodaben Modi, whom he abandoned soon after, only publicly acknowledging her four decades later when legally required to do so.', 'Modi became a full-time worker for the RSS in Gujarat in 1971.', 'The RSS assigned him to the BJP in 1985 and he held several positions within the party hierarchy until 2001, rising to the rank of general secretary.', '[c]\\n\\nIn 2001, Modi was appointed Chief Minister of Gujarat and elected to the legislative assembly soon after.', 'His administration is considered complicit in the 2002 Gujarat riots,[d] and has been criticised for its management of the crisis.', 'A little over 1,000 people were killed, according to official records, three-quarters of whom were Muslim; independent sources estimated 2,000 deaths, mostly Muslim.', '[10] A Special Investigation Team appointed by the Supreme Court of India in 2012 found no evidence to initiate prosecution proceedings against him.', \"[e] While his policies as chief minister, which were credited for encouraging economic growth, were praised, Modi's administration was criticised for failing to significantly improve health, poverty and education indices in the state.\", '[f] In the 2014 Indian general election, Modi led the BJP to a parliamentary majority, the first for a party since 1984.', 'His administration increased direct foreign investment; it reduced spending on healthcare, education, and social-welfare programmes.', 'Modi began a high-profile sanitation campaign, controversially initiated the 2016 demonetisation of high-denomination banknotes and introduced the Goods and Services Tax, and weakened or abolished environmental and labour laws.']\n"
     ]
    }
   ],
   "source": [
    "sentence_tokenize = nltk.sent_tokenize(paragraph)\n",
    "print(sentence_tokenize)"
   ]
  },
  {
   "cell_type": "code",
   "execution_count": 85,
   "metadata": {},
   "outputs": [],
   "source": [
    "corpus = []\n",
    "for i in range (len(sentence_tokenize)):\n",
    "    review = re.sub('[^a-zA-Z]', '  ', sentence_tokenize[i])\n",
    "    review = review.lower()\n",
    "    corpus.append(review)"
   ]
  },
  {
   "cell_type": "code",
   "execution_count": 86,
   "metadata": {},
   "outputs": [
    {
     "name": "stdout",
     "output_type": "stream",
     "text": [
      "18\n",
      "['    narendra  damodardas  modi    gujarati        n    end      d  mod      d  s    modi            born        september              b    is  an  indian  politician  who  has  served  as  the      th  prime  minister  of  india  since  may            ', 'modi  was  the  chief  minister  of  gujarat  from            to            and  is  the  member  of  parliament    mp    for  varanasi  ', 'he  is  a  member  of  the  bharatiya  janata  party    bjp    and  of  the  rashtriya  swayamsevak  sangh    rss      a  right  wing  hindu  nationalist  paramilitary  volunteer  organisation  ', 'he  is  the  longest  serving  prime  minister  from  outside  the  indian  national  congress  ', 'modi  was  born  and  raised  in  vadnagar  in  northeastern  gujarat    where  he  completed  his  secondary  education  ', 'he  was  introduced  to  the  rss  at  the  age  of  eight  ', 'his  account  of  helping  his  father  sell  tea  at  the  vadnagar  railway  station  has  not  been  reliably  corroborated  ', 'at  age          he  was  married  to  jashodaben  modi    whom  he  abandoned  soon  after    only  publicly  acknowledging  her  four  decades  later  when  legally  required  to  do  so  ', 'modi  became  a  full  time  worker  for  the  rss  in  gujarat  in            ', 'the  rss  assigned  him  to  the  bjp  in            and  he  held  several  positions  within  the  party  hierarchy  until              rising  to  the  rank  of  general  secretary  ', '  c      in              modi  was  appointed  chief  minister  of  gujarat  and  elected  to  the  legislative  assembly  soon  after  ', 'his  administration  is  considered  complicit  in  the            gujarat  riots    d    and  has  been  criticised  for  its  management  of  the  crisis  ', 'a  little  over              people  were  killed    according  to  official  records    three  quarters  of  whom  were  muslim    independent  sources  estimated              deaths    mostly  muslim  ', '          a  special  investigation  team  appointed  by  the  supreme  court  of  india  in            found  no  evidence  to  initiate  prosecution  proceedings  against  him  ', '  e    while  his  policies  as  chief  minister    which  were  credited  for  encouraging  economic  growth    were  praised    modi  s  administration  was  criticised  for  failing  to  significantly  improve  health    poverty  and  education  indices  in  the  state  ', '  f    in  the            indian  general  election    modi  led  the  bjp  to  a  parliamentary  majority    the  first  for  a  party  since            ', 'his  administration  increased  direct  foreign  investment    it  reduced  spending  on  healthcare    education    and  social  welfare  programmes  ', 'modi  began  a  high  profile  sanitation  campaign    controversially  initiated  the            demonetisation  of  high  denomination  banknotes  and  introduced  the  goods  and  services  tax    and  weakened  or  abolished  environmental  and  labour  laws  ']\n"
     ]
    }
   ],
   "source": [
    "print(len(corpus))\n",
    "print(corpus)"
   ]
  },
  {
   "cell_type": "code",
   "execution_count": 87,
   "metadata": {},
   "outputs": [],
   "source": [
    "stemmer = PorterStemmer()\n",
    "lemattizer = WordNetLemmatizer()"
   ]
  },
  {
   "cell_type": "code",
   "execution_count": 88,
   "metadata": {},
   "outputs": [
    {
     "name": "stdout",
     "output_type": "stream",
     "text": [
      "narendra\n",
      "damodarda\n",
      "modi\n",
      "gujarati\n",
      "n\n",
      "end\n",
      "mod\n",
      "modi\n",
      "born\n",
      "septemb\n",
      "b\n",
      "indian\n",
      "politician\n",
      "serv\n",
      "th\n",
      "prime\n",
      "minist\n",
      "india\n",
      "sinc\n",
      "may\n",
      "modi\n",
      "chief\n",
      "minist\n",
      "gujarat\n",
      "member\n",
      "parliament\n",
      "mp\n",
      "varanasi\n",
      "member\n",
      "bharatiya\n",
      "janata\n",
      "parti\n",
      "bjp\n",
      "rashtriya\n",
      "swayamsevak\n",
      "sangh\n",
      "rss\n",
      "right\n",
      "wing\n",
      "hindu\n",
      "nationalist\n",
      "paramilitari\n",
      "volunt\n",
      "organis\n",
      "longest\n",
      "serv\n",
      "prime\n",
      "minist\n",
      "outsid\n",
      "indian\n",
      "nation\n",
      "congress\n",
      "modi\n",
      "born\n",
      "rais\n",
      "vadnagar\n",
      "northeastern\n",
      "gujarat\n",
      "complet\n",
      "secondari\n",
      "educ\n",
      "introduc\n",
      "rss\n",
      "age\n",
      "eight\n",
      "account\n",
      "help\n",
      "father\n",
      "sell\n",
      "tea\n",
      "vadnagar\n",
      "railway\n",
      "station\n",
      "reliabl\n",
      "corrobor\n",
      "age\n",
      "marri\n",
      "jashodaben\n",
      "modi\n",
      "abandon\n",
      "soon\n",
      "publicli\n",
      "acknowledg\n",
      "four\n",
      "decad\n",
      "later\n",
      "legal\n",
      "requir\n",
      "modi\n",
      "becam\n",
      "full\n",
      "time\n",
      "worker\n",
      "rss\n",
      "gujarat\n",
      "rss\n",
      "assign\n",
      "bjp\n",
      "held\n",
      "sever\n",
      "posit\n",
      "within\n",
      "parti\n",
      "hierarchi\n",
      "rise\n",
      "rank\n",
      "gener\n",
      "secretari\n",
      "c\n",
      "modi\n",
      "appoint\n",
      "chief\n",
      "minist\n",
      "gujarat\n",
      "elect\n",
      "legisl\n",
      "assembl\n",
      "soon\n",
      "administr\n",
      "consid\n",
      "complicit\n",
      "gujarat\n",
      "riot\n",
      "criticis\n",
      "manag\n",
      "crisi\n",
      "littl\n",
      "peopl\n",
      "kill\n",
      "accord\n",
      "offici\n",
      "record\n",
      "three\n",
      "quarter\n",
      "muslim\n",
      "independ\n",
      "sourc\n",
      "estim\n",
      "death\n",
      "mostli\n",
      "muslim\n",
      "special\n",
      "investig\n",
      "team\n",
      "appoint\n",
      "suprem\n",
      "court\n",
      "india\n",
      "found\n",
      "evid\n",
      "initi\n",
      "prosecut\n",
      "proceed\n",
      "e\n",
      "polici\n",
      "chief\n",
      "minist\n",
      "credit\n",
      "encourag\n",
      "econom\n",
      "growth\n",
      "prais\n",
      "modi\n",
      "administr\n",
      "criticis\n",
      "fail\n",
      "significantli\n",
      "improv\n",
      "health\n",
      "poverti\n",
      "educ\n",
      "indic\n",
      "state\n",
      "f\n",
      "indian\n",
      "gener\n",
      "elect\n",
      "modi\n",
      "led\n",
      "bjp\n",
      "parliamentari\n",
      "major\n",
      "first\n",
      "parti\n",
      "sinc\n",
      "administr\n",
      "increas\n",
      "direct\n",
      "foreign\n",
      "invest\n",
      "reduc\n",
      "spend\n",
      "healthcar\n",
      "educ\n",
      "social\n",
      "welfar\n",
      "programm\n",
      "modi\n",
      "began\n",
      "high\n",
      "profil\n",
      "sanit\n",
      "campaign\n",
      "controversi\n",
      "initi\n",
      "demonetis\n",
      "high\n",
      "denomin\n",
      "banknot\n",
      "introduc\n",
      "good\n",
      "servic\n",
      "tax\n",
      "weaken\n",
      "abolish\n",
      "environment\n",
      "labour\n",
      "law\n"
     ]
    }
   ],
   "source": [
    "for sentence in corpus:\n",
    "    word_tokenize = nltk.word_tokenize(sentence)\n",
    "    for words in word_tokenize:\n",
    "        if words not in set(stopwords.words('english')):\n",
    "            stemmed = stemmer.stem(words)\n",
    "            print(stemmed)"
   ]
  },
  {
   "cell_type": "code",
   "execution_count": 89,
   "metadata": {},
   "outputs": [
    {
     "data": {
      "text/plain": [
       "['\"\\nNarendra Damodardas Modi (Gujarati: [ˈnəɾendɾə dɑmodəɾˈdɑs ˈmodiː] ⓘ; born 17 September 1950)[b] is an Indian politician who has served as the 14th prime minister of India since May 2014.',\n",
       " 'Modi was the Chief Minister of Gujarat from 2001 to 2014 and is the Member of Parliament (MP) for Varanasi.',\n",
       " 'He is a member of the Bharatiya Janata Party (BJP) and of the Rashtriya Swayamsevak Sangh (RSS), a right-wing Hindu nationalist paramilitary volunteer organisation.',\n",
       " 'He is the longest-serving prime minister from outside the Indian National Congress.',\n",
       " 'Modi was born and raised in Vadnagar in northeastern Gujarat, where he completed his secondary education.',\n",
       " 'He was introduced to the RSS at the age of eight.',\n",
       " 'His account of helping his father sell tea at the Vadnagar railway station has not been reliably corroborated.',\n",
       " 'At age 18, he was married to Jashodaben Modi, whom he abandoned soon after, only publicly acknowledging her four decades later when legally required to do so.',\n",
       " 'Modi became a full-time worker for the RSS in Gujarat in 1971.',\n",
       " 'The RSS assigned him to the BJP in 1985 and he held several positions within the party hierarchy until 2001, rising to the rank of general secretary.',\n",
       " '[c]\\n\\nIn 2001, Modi was appointed Chief Minister of Gujarat and elected to the legislative assembly soon after.',\n",
       " 'His administration is considered complicit in the 2002 Gujarat riots,[d] and has been criticised for its management of the crisis.',\n",
       " 'A little over 1,000 people were killed, according to official records, three-quarters of whom were Muslim; independent sources estimated 2,000 deaths, mostly Muslim.',\n",
       " '[10] A Special Investigation Team appointed by the Supreme Court of India in 2012 found no evidence to initiate prosecution proceedings against him.',\n",
       " \"[e] While his policies as chief minister, which were credited for encouraging economic growth, were praised, Modi's administration was criticised for failing to significantly improve health, poverty and education indices in the state.\",\n",
       " '[f] In the 2014 Indian general election, Modi led the BJP to a parliamentary majority, the first for a party since 1984.',\n",
       " 'His administration increased direct foreign investment; it reduced spending on healthcare, education, and social-welfare programmes.',\n",
       " 'Modi began a high-profile sanitation campaign, controversially initiated the 2016 demonetisation of high-denomination banknotes and introduced the Goods and Services Tax, and weakened or abolished environmental and labour laws.']"
      ]
     },
     "execution_count": 89,
     "metadata": {},
     "output_type": "execute_result"
    }
   ],
   "source": [
    "sentence_tokenize"
   ]
  },
  {
   "cell_type": "code",
   "execution_count": 90,
   "metadata": {},
   "outputs": [],
   "source": [
    "corpus = []\n",
    "for i in range (len(sentence_tokenize)):\n",
    "    review = re.sub('[^a-zA-Z]', '  ', sentence_tokenize[i])\n",
    "    review = review.lower()\n",
    "    corpus.append(review)"
   ]
  },
  {
   "cell_type": "code",
   "execution_count": 91,
   "metadata": {},
   "outputs": [],
   "source": [
    "for i in range(len(corpus)):\n",
    "    words_tokenized = nltk.word_tokenize(corpus[i])\n",
    "    words_tokenized=[stemmer.stem(words) for words in words_tokenized if words not in set(stopwords.words('english'))]\n",
    "    corpus[i] = \"  \".join(words_tokenized)"
   ]
  },
  {
   "cell_type": "code",
   "execution_count": 92,
   "metadata": {},
   "outputs": [
    {
     "data": {
      "text/plain": [
       "['narendra  damodarda  modi  gujarati  n  end  mod  modi  born  septemb  b  indian  politician  serv  th  prime  minist  india  sinc  may',\n",
       " 'modi  chief  minist  gujarat  member  parliament  mp  varanasi',\n",
       " 'member  bharatiya  janata  parti  bjp  rashtriya  swayamsevak  sangh  rss  right  wing  hindu  nationalist  paramilitari  volunt  organis',\n",
       " 'longest  serv  prime  minist  outsid  indian  nation  congress',\n",
       " 'modi  born  rais  vadnagar  northeastern  gujarat  complet  secondari  educ',\n",
       " 'introduc  rss  age  eight',\n",
       " 'account  help  father  sell  tea  vadnagar  railway  station  reliabl  corrobor',\n",
       " 'age  marri  jashodaben  modi  abandon  soon  publicli  acknowledg  four  decad  later  legal  requir',\n",
       " 'modi  becam  full  time  worker  rss  gujarat',\n",
       " 'rss  assign  bjp  held  sever  posit  within  parti  hierarchi  rise  rank  gener  secretari',\n",
       " 'c  modi  appoint  chief  minist  gujarat  elect  legisl  assembl  soon',\n",
       " 'administr  consid  complicit  gujarat  riot  criticis  manag  crisi',\n",
       " 'littl  peopl  kill  accord  offici  record  three  quarter  muslim  independ  sourc  estim  death  mostli  muslim',\n",
       " 'special  investig  team  appoint  suprem  court  india  found  evid  initi  prosecut  proceed',\n",
       " 'e  polici  chief  minist  credit  encourag  econom  growth  prais  modi  administr  criticis  fail  significantli  improv  health  poverti  educ  indic  state',\n",
       " 'f  indian  gener  elect  modi  led  bjp  parliamentari  major  first  parti  sinc',\n",
       " 'administr  increas  direct  foreign  invest  reduc  spend  healthcar  educ  social  welfar  programm',\n",
       " 'modi  began  high  profil  sanit  campaign  controversi  initi  demonetis  high  denomin  banknot  introduc  good  servic  tax  weaken  abolish  environment  labour  law']"
      ]
     },
     "execution_count": 92,
     "metadata": {},
     "output_type": "execute_result"
    }
   ],
   "source": [
    "corpus"
   ]
  }
 ],
 "metadata": {
  "kernelspec": {
   "display_name": "tensor",
   "language": "python",
   "name": "python3"
  },
  "language_info": {
   "codemirror_mode": {
    "name": "ipython",
    "version": 3
   },
   "file_extension": ".py",
   "mimetype": "text/x-python",
   "name": "python",
   "nbconvert_exporter": "python",
   "pygments_lexer": "ipython3",
   "version": "3.10.14"
  }
 },
 "nbformat": 4,
 "nbformat_minor": 2
}
