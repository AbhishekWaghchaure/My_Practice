{
 "cells": [
  {
   "cell_type": "code",
   "execution_count": 61,
   "metadata": {},
   "outputs": [],
   "source": [
    "import pandas as pd\n",
    "import matplotlib.pyplot as plt\n",
    "import seaborn as sns\n",
    "import numpy as np\n",
    "import warnings\n",
    "warnings.filterwarnings(\"ignore\")"
   ]
  },
  {
   "cell_type": "code",
   "execution_count": 62,
   "metadata": {},
   "outputs": [],
   "source": [
    "train = pd.read_csv(\"/Users/abhishekwaghchaure/Desktop/Datasets/titanic/train.csv\")\n",
    "test = pd.read_csv(\"/Users/abhishekwaghchaure/Desktop/Datasets/titanic/test.csv\")"
   ]
  },
  {
   "cell_type": "code",
   "execution_count": 63,
   "metadata": {},
   "outputs": [],
   "source": [
    "df = pd.concat([train,test]).sample(1309)"
   ]
  },
  {
   "cell_type": "code",
   "execution_count": 64,
   "metadata": {},
   "outputs": [
    {
     "data": {
      "text/html": [
       "<div>\n",
       "<style scoped>\n",
       "    .dataframe tbody tr th:only-of-type {\n",
       "        vertical-align: middle;\n",
       "    }\n",
       "\n",
       "    .dataframe tbody tr th {\n",
       "        vertical-align: top;\n",
       "    }\n",
       "\n",
       "    .dataframe thead th {\n",
       "        text-align: right;\n",
       "    }\n",
       "</style>\n",
       "<table border=\"1\" class=\"dataframe\">\n",
       "  <thead>\n",
       "    <tr style=\"text-align: right;\">\n",
       "      <th></th>\n",
       "      <th>PassengerId</th>\n",
       "      <th>Survived</th>\n",
       "      <th>Pclass</th>\n",
       "      <th>Name</th>\n",
       "      <th>Sex</th>\n",
       "      <th>Age</th>\n",
       "      <th>SibSp</th>\n",
       "      <th>Parch</th>\n",
       "      <th>Ticket</th>\n",
       "      <th>Fare</th>\n",
       "      <th>Cabin</th>\n",
       "      <th>Embarked</th>\n",
       "    </tr>\n",
       "  </thead>\n",
       "  <tbody>\n",
       "    <tr>\n",
       "      <th>848</th>\n",
       "      <td>849</td>\n",
       "      <td>0.0</td>\n",
       "      <td>2</td>\n",
       "      <td>Harper, Rev. John</td>\n",
       "      <td>male</td>\n",
       "      <td>28.0</td>\n",
       "      <td>0</td>\n",
       "      <td>1</td>\n",
       "      <td>248727</td>\n",
       "      <td>33.0000</td>\n",
       "      <td>NaN</td>\n",
       "      <td>S</td>\n",
       "    </tr>\n",
       "    <tr>\n",
       "      <th>148</th>\n",
       "      <td>1040</td>\n",
       "      <td>NaN</td>\n",
       "      <td>1</td>\n",
       "      <td>Crafton, Mr. John Bertram</td>\n",
       "      <td>male</td>\n",
       "      <td>NaN</td>\n",
       "      <td>0</td>\n",
       "      <td>0</td>\n",
       "      <td>113791</td>\n",
       "      <td>26.5500</td>\n",
       "      <td>NaN</td>\n",
       "      <td>S</td>\n",
       "    </tr>\n",
       "    <tr>\n",
       "      <th>161</th>\n",
       "      <td>162</td>\n",
       "      <td>1.0</td>\n",
       "      <td>2</td>\n",
       "      <td>Watt, Mrs. James (Elizabeth \"Bessie\" Inglis Mi...</td>\n",
       "      <td>female</td>\n",
       "      <td>40.0</td>\n",
       "      <td>0</td>\n",
       "      <td>0</td>\n",
       "      <td>C.A. 33595</td>\n",
       "      <td>15.7500</td>\n",
       "      <td>NaN</td>\n",
       "      <td>S</td>\n",
       "    </tr>\n",
       "    <tr>\n",
       "      <th>230</th>\n",
       "      <td>231</td>\n",
       "      <td>1.0</td>\n",
       "      <td>1</td>\n",
       "      <td>Harris, Mrs. Henry Birkhardt (Irene Wallach)</td>\n",
       "      <td>female</td>\n",
       "      <td>35.0</td>\n",
       "      <td>1</td>\n",
       "      <td>0</td>\n",
       "      <td>36973</td>\n",
       "      <td>83.4750</td>\n",
       "      <td>C83</td>\n",
       "      <td>S</td>\n",
       "    </tr>\n",
       "    <tr>\n",
       "      <th>223</th>\n",
       "      <td>1115</td>\n",
       "      <td>NaN</td>\n",
       "      <td>3</td>\n",
       "      <td>Karlsson, Mr. Einar Gervasius</td>\n",
       "      <td>male</td>\n",
       "      <td>21.0</td>\n",
       "      <td>0</td>\n",
       "      <td>0</td>\n",
       "      <td>350053</td>\n",
       "      <td>7.7958</td>\n",
       "      <td>NaN</td>\n",
       "      <td>S</td>\n",
       "    </tr>\n",
       "  </tbody>\n",
       "</table>\n",
       "</div>"
      ],
      "text/plain": [
       "     PassengerId  Survived  Pclass  \\\n",
       "848          849       0.0       2   \n",
       "148         1040       NaN       1   \n",
       "161          162       1.0       2   \n",
       "230          231       1.0       1   \n",
       "223         1115       NaN       3   \n",
       "\n",
       "                                                  Name     Sex   Age  SibSp  \\\n",
       "848                                  Harper, Rev. John    male  28.0      0   \n",
       "148                          Crafton, Mr. John Bertram    male   NaN      0   \n",
       "161  Watt, Mrs. James (Elizabeth \"Bessie\" Inglis Mi...  female  40.0      0   \n",
       "230       Harris, Mrs. Henry Birkhardt (Irene Wallach)  female  35.0      1   \n",
       "223                      Karlsson, Mr. Einar Gervasius    male  21.0      0   \n",
       "\n",
       "     Parch      Ticket     Fare Cabin Embarked  \n",
       "848      1      248727  33.0000   NaN        S  \n",
       "148      0      113791  26.5500   NaN        S  \n",
       "161      0  C.A. 33595  15.7500   NaN        S  \n",
       "230      0       36973  83.4750   C83        S  \n",
       "223      0      350053   7.7958   NaN        S  "
      ]
     },
     "execution_count": 64,
     "metadata": {},
     "output_type": "execute_result"
    }
   ],
   "source": [
    "df.head()"
   ]
  },
  {
   "cell_type": "code",
   "execution_count": 65,
   "metadata": {},
   "outputs": [
    {
     "data": {
      "text/plain": [
       "PassengerId       0\n",
       "Survived        418\n",
       "Pclass            0\n",
       "Name              0\n",
       "Sex               0\n",
       "Age             263\n",
       "SibSp             0\n",
       "Parch             0\n",
       "Ticket            0\n",
       "Fare              1\n",
       "Cabin          1014\n",
       "Embarked          2\n",
       "dtype: int64"
      ]
     },
     "execution_count": 65,
     "metadata": {},
     "output_type": "execute_result"
    }
   ],
   "source": [
    "df.isnull().sum()"
   ]
  },
  {
   "cell_type": "code",
   "execution_count": 66,
   "metadata": {},
   "outputs": [
    {
     "name": "stdout",
     "output_type": "stream",
     "text": [
      "(1046,)\n"
     ]
    }
   ],
   "source": [
    "population_age = df['Age'].dropna()\n",
    "print(population_age.shape)"
   ]
  },
  {
   "cell_type": "code",
   "execution_count": 67,
   "metadata": {},
   "outputs": [
    {
     "name": "stdout",
     "output_type": "stream",
     "text": [
      "<class 'numpy.ndarray'>\n"
     ]
    }
   ],
   "source": [
    "sample_age = population_age.sample(25).to_numpy()\n",
    "print(type(sample_age))"
   ]
  },
  {
   "cell_type": "code",
   "execution_count": 68,
   "metadata": {},
   "outputs": [
    {
     "data": {
      "text/plain": [
       "array([48.,  4., 21., 20., 47., 35., 53., 43., 18., 35., 22., 33., 45.,\n",
       "       51.,  3.,  5., 29., 49., 25.,  7., 23., 30., 39., 31., 48.])"
      ]
     },
     "execution_count": 68,
     "metadata": {},
     "output_type": "execute_result"
    }
   ],
   "source": [
    "sample_age"
   ]
  },
  {
   "cell_type": "markdown",
   "metadata": {},
   "source": [
    "* (H0) -> Null hypothesis is that the mean age is 35\n",
    "* (H1) -> Alternate hypothesis is that the mean age < 35"
   ]
  },
  {
   "cell_type": "code",
   "execution_count": 69,
   "metadata": {},
   "outputs": [
    {
     "data": {
      "image/png": "[encoded data removed]",
      "text/plain": [
       "<Figure size 1600x400 with 2 Axes>"
      ]
     },
     "metadata": {},
     "output_type": "display_data"
    }
   ],
   "source": [
    "plt.figure(figsize=(16,4))\n",
    "plt.subplot(121)\n",
    "sns.distplot(population_age)\n",
    "plt.title('Population Data Distribution')\n",
    "plt.subplot(122)\n",
    "sns.distplot(sample_age)\n",
    "plt.title('Sample Data Distribution')\n",
    "plt.xlabel('Age')\n",
    "\n",
    "plt.show()"
   ]
  },
  {
   "cell_type": "markdown",
   "metadata": {},
   "source": [
    "### alpha value significancee value given is 0.05"
   ]
  },
  {
   "cell_type": "markdown",
   "metadata": {},
   "source": [
    "## Check if the sample is normal distribution or not by shapiro wilk test\n",
    "* As the sample size is less than 30 so CLT will not apply and will have to test explicitly for normality\n",
    "* if the p value > 0.05 -> Normal\n",
    "* if p value < 0.05 -> not Normal"
   ]
  },
  {
   "cell_type": "code",
   "execution_count": 70,
   "metadata": {},
   "outputs": [
    {
     "name": "stdout",
     "output_type": "stream",
     "text": [
      "ShapiroResult(statistic=0.9379710277091668, pvalue=0.13287508759211183)\n"
     ]
    }
   ],
   "source": [
    "from scipy.stats import shapiro\n",
    "shapiro_age = shapiro(sample_age)\n",
    "print(shapiro_age)\n"
   ]
  },
  {
   "cell_type": "markdown",
   "metadata": {},
   "source": [
    "### As p value > 0.05 ---- the age sample is normal"
   ]
  },
  {
   "cell_type": "code",
   "execution_count": 71,
   "metadata": {},
   "outputs": [
    {
     "name": "stdout",
     "output_type": "stream",
     "text": [
      "T Statistic Value is : -1.4258234896533792\n",
      "P Values is : 0.08339868890899216\n"
     ]
    }
   ],
   "source": [
    "import scipy.stats as stats\n",
    "population_mean = 35\n",
    "\n",
    "t_statistic, p_value = stats.ttest_1samp(sample_age, population_mean)\n",
    "\n",
    "print(f\"T Statistic Value is : {t_statistic}\")\n",
    "print(f\"P Values is : {p_value/2}\")\n",
    " "
   ]
  },
  {
   "cell_type": "code",
   "execution_count": 72,
   "metadata": {},
   "outputs": [
    {
     "name": "stdout",
     "output_type": "stream",
     "text": [
      "Reject the null Hypothesis\n"
     ]
    }
   ],
   "source": [
    "alpha = 0.05\n",
    "\n",
    "if p_value > alpha:\n",
    "    print('Reject the null Hypothesis')\n",
    "else:\n",
    "    print(\"Null Hypothesis accepted\")"
   ]
  }
 ],
 "metadata": {
  "kernelspec": {
   "display_name": "stable_env_nlp",
   "language": "python",
   "name": "python3"
  },
  "language_info": {
   "codemirror_mode": {
    "name": "ipython",
    "version": 3
   },
   "file_extension": ".py",
   "mimetype": "text/x-python",
   "name": "python",
   "nbconvert_exporter": "python",
   "pygments_lexer": "ipython3",
   "version": "3.10.15"
  }
 },
 "nbformat": 4,
 "nbformat_minor": 2
}
