{
 "cells": [
  {
   "cell_type": "code",
   "execution_count": 46,
   "metadata": {},
   "outputs": [],
   "source": [
    "import pandas as pd\n",
    "import matplotlib.pyplot as plt\n",
    "import seaborn as sns\n",
    "\n",
    "import scipy.stats as stats\n",
    "from scipy.stats import shapiro, levene\n"
   ]
  },
  {
   "cell_type": "code",
   "execution_count": 47,
   "metadata": {},
   "outputs": [],
   "source": [
    "train = pd.read_csv(\"/Users/abhishekwaghchaure/Desktop/Datasets/titanic/train.csv\")\n",
    "test = pd.read_csv(\"/Users/abhishekwaghchaure/Desktop/Datasets/titanic/test.csv\")"
   ]
  },
  {
   "cell_type": "code",
   "execution_count": 48,
   "metadata": {},
   "outputs": [],
   "source": [
    "df = pd.concat([train,test]).sample(1309)"
   ]
  },
  {
   "cell_type": "code",
   "execution_count": 49,
   "metadata": {},
   "outputs": [],
   "source": [
    "population_male = df[df['Sex'] == 'male']['Age'].dropna()\n",
    "population_female = df[df['Sex'] == 'female']['Age'].dropna()"
   ]
  },
  {
   "cell_type": "code",
   "execution_count": 50,
   "metadata": {},
   "outputs": [
    {
     "data": {
      "text/plain": [
       "150    23.0\n",
       "303     NaN\n",
       "404    20.0\n",
       "414    39.0\n",
       "410     NaN\n",
       "       ... \n",
       "222    22.0\n",
       "199    24.0\n",
       "319    40.0\n",
       "275    63.0\n",
       "216    27.0\n",
       "Name: Age, Length: 466, dtype: float64"
      ]
     },
     "execution_count": 50,
     "metadata": {},
     "output_type": "execute_result"
    }
   ],
   "source": [
    "df[df['Sex'] == 'female']['Age']"
   ]
  },
  {
   "cell_type": "markdown",
   "metadata": {},
   "source": [
    "### Average age of male is significantly greater than avg age of females\n",
    "* Single tail independent 2 sample t test"
   ]
  },
  {
   "cell_type": "code",
   "execution_count": 51,
   "metadata": {},
   "outputs": [],
   "source": [
    "sample_male = population_male.sample(25)\n",
    "sample_female = population_female.sample(25)\n",
    "alpha = 0.05"
   ]
  },
  {
   "cell_type": "code",
   "execution_count": 52,
   "metadata": {},
   "outputs": [
    {
     "name": "stdout",
     "output_type": "stream",
     "text": [
      "Shapiro Wilk Test for testing the normality of sample males : ShapiroResult(statistic=0.9784419516467294, pvalue=0.8525792804739035)\n",
      "Shapiro Wilk Test for testing the normality of sample females : ShapiroResult(statistic=0.9349640879920588, pvalue=0.1132021503332051)\n"
     ]
    }
   ],
   "source": [
    "shapiro_male = shapiro(sample_male)\n",
    "shapiro_female = shapiro(sample_female)\n",
    "\n",
    "print(f\"Shapiro Wilk Test for testing the normality of sample males : {shapiro_male}\")\n",
    "print(f\"Shapiro Wilk Test for testing the normality of sample females : {shapiro_female}\")"
   ]
  },
  {
   "cell_type": "markdown",
   "metadata": {},
   "source": [
    "#### As P value > alpha (0.05) ---> Normality check pass"
   ]
  },
  {
   "cell_type": "code",
   "execution_count": 53,
   "metadata": {},
   "outputs": [
    {
     "name": "stdout",
     "output_type": "stream",
     "text": [
      "Levene Test : LeveneResult(statistic=0.07369385884509622, pvalue=0.7871966938618535)\n"
     ]
    }
   ],
   "source": [
    "levene_test = levene(sample_female, sample_male)\n",
    "print(f'Levene Test : {levene_test}')"
   ]
  },
  {
   "cell_type": "code",
   "execution_count": 55,
   "metadata": {},
   "outputs": [
    {
     "name": "stdout",
     "output_type": "stream",
     "text": [
      "population_female mean is : 28.68708762886598\n",
      "Population male mean : 30.58522796352584\n"
     ]
    }
   ],
   "source": [
    "print(f\"population_female mean is : {population_female.mean()}\")\n",
    "print(f\"Population male mean : {population_male.mean()}\")"
   ]
  },
  {
   "cell_type": "markdown",
   "metadata": {},
   "source": [
    "#### As p value > alpha 0.05 -----> the variance of two samples is similar"
   ]
  },
  {
   "cell_type": "code",
   "execution_count": 54,
   "metadata": {},
   "outputs": [
    {
     "name": "stdout",
     "output_type": "stream",
     "text": [
      "T- statistics : 1.0755908840472297\n",
      "P vlaue : 0.14374354060731212\n"
     ]
    }
   ],
   "source": [
    "t_statistics, p_value = stats.ttest_ind(sample_male,sample_female)\n",
    "print(f\"T- statistics : {t_statistics}\")\n",
    "print(f\"P vlaue : {p_value/2}\")"
   ]
  },
  {
   "cell_type": "markdown",
   "metadata": {},
   "source": [
    "## As p value < alpha (0.05) so we reject numll hypothesis"
   ]
  }
 ],
 "metadata": {
  "kernelspec": {
   "display_name": "stable_env_nlp",
   "language": "python",
   "name": "python3"
  },
  "language_info": {
   "codemirror_mode": {
    "name": "ipython",
    "version": 3
   },
   "file_extension": ".py",
   "mimetype": "text/x-python",
   "name": "python",
   "nbconvert_exporter": "python",
   "pygments_lexer": "ipython3",
   "version": "3.10.15"
  }
 },
 "nbformat": 4,
 "nbformat_minor": 2
}
