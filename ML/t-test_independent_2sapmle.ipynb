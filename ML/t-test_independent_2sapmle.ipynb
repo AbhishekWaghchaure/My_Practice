{
 "cells": [
  {
   "cell_type": "code",
   "metadata": {
    "ExecuteTime": {
     "end_time": "2024-12-21T13:10:27.523347Z",
     "start_time": "2024-12-21T13:10:27.519734Z"
    }
   },
   "source": [
    "import pandas as pd\n",
    "import matplotlib.pyplot as plt\n",
    "import seaborn as sns\n",
    "\n",
    "import scipy.stats as stats\n",
    "from scipy.stats import shapiro, levene\n"
   ],
   "outputs": [],
   "execution_count": 15
  },
  {
   "cell_type": "code",
   "metadata": {
    "ExecuteTime": {
     "end_time": "2024-12-21T13:10:27.536042Z",
     "start_time": "2024-12-21T13:10:27.528578Z"
    }
   },
   "source": [
    "train = pd.read_csv(\"/Users/abhishekwaghchaure/Desktop/Datasets/titanic/train.csv\")\n",
    "test = pd.read_csv(\"/Users/abhishekwaghchaure/Desktop/Datasets/titanic/test.csv\")"
   ],
   "outputs": [],
   "execution_count": 16
  },
  {
   "cell_type": "code",
   "metadata": {
    "ExecuteTime": {
     "end_time": "2024-12-21T13:10:27.552886Z",
     "start_time": "2024-12-21T13:10:27.547500Z"
    }
   },
   "source": [
    "df = pd.concat([train,test]).sample(1309)"
   ],
   "outputs": [],
   "execution_count": 17
  },
  {
   "cell_type": "code",
   "metadata": {
    "ExecuteTime": {
     "end_time": "2024-12-21T13:10:27.566600Z",
     "start_time": "2024-12-21T13:10:27.562269Z"
    }
   },
   "source": [
    "population_male = df[df['Sex'] == 'male']['Age'].dropna()\n",
    "population_female = df[df['Sex'] == 'female']['Age'].dropna()"
   ],
   "outputs": [],
   "execution_count": 18
  },
  {
   "cell_type": "code",
   "metadata": {
    "ExecuteTime": {
     "end_time": "2024-12-21T13:10:27.583277Z",
     "start_time": "2024-12-21T13:10:27.577827Z"
    }
   },
   "source": [
    "df[df['Sex'] == 'female']['Age']"
   ],
   "outputs": [
    {
     "data": {
      "text/plain": [
       "774    54.0\n",
       "19      NaN\n",
       "882    22.0\n",
       "564     NaN\n",
       "4      22.0\n",
       "       ... \n",
       "141    22.0\n",
       "264     NaN\n",
       "77     55.0\n",
       "92     27.0\n",
       "49     36.0\n",
       "Name: Age, Length: 466, dtype: float64"
      ]
     },
     "execution_count": 19,
     "metadata": {},
     "output_type": "execute_result"
    }
   ],
   "execution_count": 19
  },
  {
   "cell_type": "markdown",
   "metadata": {},
   "source": [
    "### Average age of male is significantly greater than avg age of females\n",
    "* Single tail independent 2 sample t test"
   ]
  },
  {
   "cell_type": "code",
   "metadata": {
    "ExecuteTime": {
     "end_time": "2024-12-21T13:10:27.617216Z",
     "start_time": "2024-12-21T13:10:27.615201Z"
    }
   },
   "source": [
    "sample_male = population_male.sample(25)\n",
    "sample_female = population_female.sample(25)\n",
    "alpha = 0.05"
   ],
   "outputs": [],
   "execution_count": 20
  },
  {
   "cell_type": "code",
   "metadata": {
    "ExecuteTime": {
     "end_time": "2024-12-21T13:10:27.652061Z",
     "start_time": "2024-12-21T13:10:27.648963Z"
    }
   },
   "source": [
    "shapiro_male = shapiro(sample_male)\n",
    "shapiro_female = shapiro(sample_female)\n",
    "\n",
    "print(f\"Shapiro Wilk Test for testing the normality of sample males : {shapiro_male}\")\n",
    "print(f\"Shapiro Wilk Test for testing the normality of sample females : {shapiro_female}\")"
   ],
   "outputs": [
    {
     "name": "stdout",
     "output_type": "stream",
     "text": [
      "Shapiro Wilk Test for testing the normality of sample males : ShapiroResult(statistic=0.9738389550547893, pvalue=0.7427843893249393)\n",
      "Shapiro Wilk Test for testing the normality of sample females : ShapiroResult(statistic=0.9460377520633886, pvalue=0.20380543617000202)\n"
     ]
    }
   ],
   "execution_count": 21
  },
  {
   "metadata": {
    "ExecuteTime": {
     "end_time": "2024-12-21T13:10:27.769620Z",
     "start_time": "2024-12-21T13:10:27.666517Z"
    }
   },
   "cell_type": "code",
   "source": "sns.histplot(shapiro_male, kde = True)",
   "outputs": [
    {
     "data": {
      "text/plain": [
       "<Axes: ylabel='Count'>"
      ]
     },
     "execution_count": 22,
     "metadata": {},
     "output_type": "execute_result"
    },
    {
     "data": {
      "text/plain": [
       "<Figure size 640x480 with 1 Axes>"
      ],
      "image/png": "[encoded data removed]"
     },
     "metadata": {},
     "output_type": "display_data"
    }
   ],
   "execution_count": 22
  },
  {
   "cell_type": "markdown",
   "metadata": {},
   "source": [
    "#### As P value > alpha (0.05) ---> Normality check pass"
   ]
  },
  {
   "cell_type": "code",
   "metadata": {
    "ExecuteTime": {
     "end_time": "2024-12-21T13:10:27.793282Z",
     "start_time": "2024-12-21T13:10:27.787411Z"
    }
   },
   "source": [
    "levene_test = levene(sample_female, sample_male)\n",
    "print(f'Levene Test : {levene_test}')"
   ],
   "outputs": [
    {
     "name": "stdout",
     "output_type": "stream",
     "text": [
      "Levene Test : LeveneResult(statistic=0.0932992847511534, pvalue=0.761344693002827)\n"
     ]
    }
   ],
   "execution_count": 23
  },
  {
   "cell_type": "code",
   "metadata": {
    "ExecuteTime": {
     "end_time": "2024-12-21T13:10:27.816581Z",
     "start_time": "2024-12-21T13:10:27.810687Z"
    }
   },
   "source": [
    "print(f\"population_female mean is : {population_female.mean()}\")\n",
    "print(f\"Population male mean : {population_male.mean()}\")"
   ],
   "outputs": [
    {
     "name": "stdout",
     "output_type": "stream",
     "text": [
      "population_female mean is : 28.68708762886598\n",
      "Population male mean : 30.58522796352584\n"
     ]
    }
   ],
   "execution_count": 24
  },
  {
   "cell_type": "markdown",
   "metadata": {},
   "source": [
    "#### As p value > alpha 0.05 -----> the variance of two samples is similar"
   ]
  },
  {
   "cell_type": "code",
   "metadata": {
    "ExecuteTime": {
     "end_time": "2024-12-21T13:10:27.860074Z",
     "start_time": "2024-12-21T13:10:27.853085Z"
    }
   },
   "source": [
    "t_statistics, p_value = stats.ttest_ind(sample_male,sample_female)\n",
    "print(f\"T- statistics : {t_statistics}\")\n",
    "print(f\"P vlaue : {p_value/2}\")"
   ],
   "outputs": [
    {
     "name": "stdout",
     "output_type": "stream",
     "text": [
      "T- statistics : -0.8320867001604497\n",
      "P vlaue : 0.20474036393024841\n"
     ]
    }
   ],
   "execution_count": 25
  },
  {
   "cell_type": "markdown",
   "metadata": {},
   "source": [
    "## As p value < alpha (0.05) so we reject numll hypothesis"
   ]
  }
 ],
 "metadata": {
  "kernelspec": {
   "display_name": "stable_env_nlp",
   "language": "python",
   "name": "python3"
  },
  "language_info": {
   "codemirror_mode": {
    "name": "ipython",
    "version": 3
   },
   "file_extension": ".py",
   "mimetype": "text/x-python",
   "name": "python",
   "nbconvert_exporter": "python",
   "pygments_lexer": "ipython3",
   "version": "3.10.15"
  }
 },
 "nbformat": 4,
 "nbformat_minor": 2
}
