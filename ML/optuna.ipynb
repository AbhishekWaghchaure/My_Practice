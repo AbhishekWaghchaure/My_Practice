{
 "cells": [
  {
   "cell_type": "code",
   "execution_count": 118,
   "metadata": {},
   "outputs": [],
   "source": [
    "import pandas as pd\n",
    "import numpy as np\n",
    "from sklearn.datasets import load_diabetes\n",
    "from sklearn.model_selection import train_test_split\n",
    "from sklearn.preprocessing import StandardScaler"
   ]
  },
  {
   "cell_type": "code",
   "execution_count": 119,
   "metadata": {},
   "outputs": [
    {
     "data": {
      "text/plain": [
       "['age', 'sex', 'bmi', 'bp', 's1', 's2', 's3', 's4', 's5', 's6']"
      ]
     },
     "execution_count": 119,
     "metadata": {},
     "output_type": "execute_result"
    }
   ],
   "source": [
    "df = load_diabetes()\n",
    "df.data\n",
    "df.target\n",
    "df.keys()\n",
    "df.feature_names"
   ]
  },
  {
   "cell_type": "code",
   "execution_count": 120,
   "metadata": {},
   "outputs": [],
   "source": [
    "url = \"https://raw.githubusercontent.com/jbrownlee/Datasets/master/pima-indians-diabetes.data.csv\"\n",
    "columns = ['Pregnancies','Glucose','BloodPreassure','SkinThickness','Insulin','BMI','DiabetesPedigreeFunction','Age','Outcome']\n",
    "df = pd.read_csv(url, names=columns)"
   ]
  },
  {
   "cell_type": "code",
   "execution_count": 121,
   "metadata": {},
   "outputs": [
    {
     "data": {
      "text/html": [
       "<div>\n",
       "<style scoped>\n",
       "    .dataframe tbody tr th:only-of-type {\n",
       "        vertical-align: middle;\n",
       "    }\n",
       "\n",
       "    .dataframe tbody tr th {\n",
       "        vertical-align: top;\n",
       "    }\n",
       "\n",
       "    .dataframe thead th {\n",
       "        text-align: right;\n",
       "    }\n",
       "</style>\n",
       "<table border=\"1\" class=\"dataframe\">\n",
       "  <thead>\n",
       "    <tr style=\"text-align: right;\">\n",
       "      <th></th>\n",
       "      <th>Pregnancies</th>\n",
       "      <th>Glucose</th>\n",
       "      <th>BloodPreassure</th>\n",
       "      <th>SkinThickness</th>\n",
       "      <th>Insulin</th>\n",
       "      <th>BMI</th>\n",
       "      <th>DiabetesPedigreeFunction</th>\n",
       "      <th>Age</th>\n",
       "      <th>Outcome</th>\n",
       "    </tr>\n",
       "  </thead>\n",
       "  <tbody>\n",
       "    <tr>\n",
       "      <th>0</th>\n",
       "      <td>6</td>\n",
       "      <td>148</td>\n",
       "      <td>72</td>\n",
       "      <td>35</td>\n",
       "      <td>0</td>\n",
       "      <td>33.6</td>\n",
       "      <td>0.627</td>\n",
       "      <td>50</td>\n",
       "      <td>1</td>\n",
       "    </tr>\n",
       "    <tr>\n",
       "      <th>1</th>\n",
       "      <td>1</td>\n",
       "      <td>85</td>\n",
       "      <td>66</td>\n",
       "      <td>29</td>\n",
       "      <td>0</td>\n",
       "      <td>26.6</td>\n",
       "      <td>0.351</td>\n",
       "      <td>31</td>\n",
       "      <td>0</td>\n",
       "    </tr>\n",
       "    <tr>\n",
       "      <th>2</th>\n",
       "      <td>8</td>\n",
       "      <td>183</td>\n",
       "      <td>64</td>\n",
       "      <td>0</td>\n",
       "      <td>0</td>\n",
       "      <td>23.3</td>\n",
       "      <td>0.672</td>\n",
       "      <td>32</td>\n",
       "      <td>1</td>\n",
       "    </tr>\n",
       "    <tr>\n",
       "      <th>3</th>\n",
       "      <td>1</td>\n",
       "      <td>89</td>\n",
       "      <td>66</td>\n",
       "      <td>23</td>\n",
       "      <td>94</td>\n",
       "      <td>28.1</td>\n",
       "      <td>0.167</td>\n",
       "      <td>21</td>\n",
       "      <td>0</td>\n",
       "    </tr>\n",
       "    <tr>\n",
       "      <th>4</th>\n",
       "      <td>0</td>\n",
       "      <td>137</td>\n",
       "      <td>40</td>\n",
       "      <td>35</td>\n",
       "      <td>168</td>\n",
       "      <td>43.1</td>\n",
       "      <td>2.288</td>\n",
       "      <td>33</td>\n",
       "      <td>1</td>\n",
       "    </tr>\n",
       "  </tbody>\n",
       "</table>\n",
       "</div>"
      ],
      "text/plain": [
       "   Pregnancies  Glucose  BloodPreassure  ...  DiabetesPedigreeFunction  Age  Outcome\n",
       "0            6      148              72  ...                     0.627   50        1\n",
       "1            1       85              66  ...                     0.351   31        0\n",
       "2            8      183              64  ...                     0.672   32        1\n",
       "3            1       89              66  ...                     0.167   21        0\n",
       "4            0      137              40  ...                     2.288   33        1\n",
       "\n",
       "[5 rows x 9 columns]"
      ]
     },
     "execution_count": 121,
     "metadata": {},
     "output_type": "execute_result"
    }
   ],
   "source": [
    "df.head()"
   ]
  },
  {
   "cell_type": "code",
   "execution_count": 122,
   "metadata": {},
   "outputs": [
    {
     "name": "stdout",
     "output_type": "stream",
     "text": [
      "<class 'pandas.core.frame.DataFrame'>\n",
      "RangeIndex: 768 entries, 0 to 767\n",
      "Data columns (total 9 columns):\n",
      " #   Column                    Non-Null Count  Dtype  \n",
      "---  ------                    --------------  -----  \n",
      " 0   Pregnancies               768 non-null    int64  \n",
      " 1   Glucose                   768 non-null    int64  \n",
      " 2   BloodPreassure            768 non-null    int64  \n",
      " 3   SkinThickness             768 non-null    int64  \n",
      " 4   Insulin                   768 non-null    int64  \n",
      " 5   BMI                       768 non-null    float64\n",
      " 6   DiabetesPedigreeFunction  768 non-null    float64\n",
      " 7   Age                       768 non-null    int64  \n",
      " 8   Outcome                   768 non-null    int64  \n",
      "dtypes: float64(2), int64(7)\n",
      "memory usage: 54.1 KB\n"
     ]
    }
   ],
   "source": [
    "df.info()"
   ]
  },
  {
   "cell_type": "code",
   "execution_count": 123,
   "metadata": {},
   "outputs": [
    {
     "data": {
      "text/plain": [
       "Pregnancies                 0\n",
       "Glucose                     0\n",
       "BloodPreassure              0\n",
       "SkinThickness               0\n",
       "Insulin                     0\n",
       "BMI                         0\n",
       "DiabetesPedigreeFunction    0\n",
       "Age                         0\n",
       "Outcome                     0\n",
       "dtype: int64"
      ]
     },
     "execution_count": 123,
     "metadata": {},
     "output_type": "execute_result"
    }
   ],
   "source": [
    "df.isnull().sum()"
   ]
  },
  {
   "cell_type": "code",
   "execution_count": 124,
   "metadata": {},
   "outputs": [
    {
     "data": {
      "text/html": [
       "<div>\n",
       "<style scoped>\n",
       "    .dataframe tbody tr th:only-of-type {\n",
       "        vertical-align: middle;\n",
       "    }\n",
       "\n",
       "    .dataframe tbody tr th {\n",
       "        vertical-align: top;\n",
       "    }\n",
       "\n",
       "    .dataframe thead th {\n",
       "        text-align: right;\n",
       "    }\n",
       "</style>\n",
       "<table border=\"1\" class=\"dataframe\">\n",
       "  <thead>\n",
       "    <tr style=\"text-align: right;\">\n",
       "      <th></th>\n",
       "      <th>Pregnancies</th>\n",
       "      <th>Glucose</th>\n",
       "      <th>BloodPreassure</th>\n",
       "      <th>SkinThickness</th>\n",
       "      <th>Insulin</th>\n",
       "      <th>BMI</th>\n",
       "      <th>DiabetesPedigreeFunction</th>\n",
       "      <th>Age</th>\n",
       "      <th>Outcome</th>\n",
       "    </tr>\n",
       "  </thead>\n",
       "  <tbody>\n",
       "    <tr>\n",
       "      <th>count</th>\n",
       "      <td>768.000000</td>\n",
       "      <td>768.000000</td>\n",
       "      <td>768.000000</td>\n",
       "      <td>768.000000</td>\n",
       "      <td>768.000000</td>\n",
       "      <td>768.000000</td>\n",
       "      <td>768.000000</td>\n",
       "      <td>768.000000</td>\n",
       "      <td>768.000000</td>\n",
       "    </tr>\n",
       "    <tr>\n",
       "      <th>mean</th>\n",
       "      <td>3.845052</td>\n",
       "      <td>120.894531</td>\n",
       "      <td>69.105469</td>\n",
       "      <td>20.536458</td>\n",
       "      <td>79.799479</td>\n",
       "      <td>31.992578</td>\n",
       "      <td>0.471876</td>\n",
       "      <td>33.240885</td>\n",
       "      <td>0.348958</td>\n",
       "    </tr>\n",
       "    <tr>\n",
       "      <th>std</th>\n",
       "      <td>3.369578</td>\n",
       "      <td>31.972618</td>\n",
       "      <td>19.355807</td>\n",
       "      <td>15.952218</td>\n",
       "      <td>115.244002</td>\n",
       "      <td>7.884160</td>\n",
       "      <td>0.331329</td>\n",
       "      <td>11.760232</td>\n",
       "      <td>0.476951</td>\n",
       "    </tr>\n",
       "    <tr>\n",
       "      <th>min</th>\n",
       "      <td>0.000000</td>\n",
       "      <td>0.000000</td>\n",
       "      <td>0.000000</td>\n",
       "      <td>0.000000</td>\n",
       "      <td>0.000000</td>\n",
       "      <td>0.000000</td>\n",
       "      <td>0.078000</td>\n",
       "      <td>21.000000</td>\n",
       "      <td>0.000000</td>\n",
       "    </tr>\n",
       "    <tr>\n",
       "      <th>25%</th>\n",
       "      <td>1.000000</td>\n",
       "      <td>99.000000</td>\n",
       "      <td>62.000000</td>\n",
       "      <td>0.000000</td>\n",
       "      <td>0.000000</td>\n",
       "      <td>27.300000</td>\n",
       "      <td>0.243750</td>\n",
       "      <td>24.000000</td>\n",
       "      <td>0.000000</td>\n",
       "    </tr>\n",
       "    <tr>\n",
       "      <th>50%</th>\n",
       "      <td>3.000000</td>\n",
       "      <td>117.000000</td>\n",
       "      <td>72.000000</td>\n",
       "      <td>23.000000</td>\n",
       "      <td>30.500000</td>\n",
       "      <td>32.000000</td>\n",
       "      <td>0.372500</td>\n",
       "      <td>29.000000</td>\n",
       "      <td>0.000000</td>\n",
       "    </tr>\n",
       "    <tr>\n",
       "      <th>75%</th>\n",
       "      <td>6.000000</td>\n",
       "      <td>140.250000</td>\n",
       "      <td>80.000000</td>\n",
       "      <td>32.000000</td>\n",
       "      <td>127.250000</td>\n",
       "      <td>36.600000</td>\n",
       "      <td>0.626250</td>\n",
       "      <td>41.000000</td>\n",
       "      <td>1.000000</td>\n",
       "    </tr>\n",
       "    <tr>\n",
       "      <th>max</th>\n",
       "      <td>17.000000</td>\n",
       "      <td>199.000000</td>\n",
       "      <td>122.000000</td>\n",
       "      <td>99.000000</td>\n",
       "      <td>846.000000</td>\n",
       "      <td>67.100000</td>\n",
       "      <td>2.420000</td>\n",
       "      <td>81.000000</td>\n",
       "      <td>1.000000</td>\n",
       "    </tr>\n",
       "  </tbody>\n",
       "</table>\n",
       "</div>"
      ],
      "text/plain": [
       "       Pregnancies     Glucose  ...         Age     Outcome\n",
       "count   768.000000  768.000000  ...  768.000000  768.000000\n",
       "mean      3.845052  120.894531  ...   33.240885    0.348958\n",
       "std       3.369578   31.972618  ...   11.760232    0.476951\n",
       "min       0.000000    0.000000  ...   21.000000    0.000000\n",
       "25%       1.000000   99.000000  ...   24.000000    0.000000\n",
       "50%       3.000000  117.000000  ...   29.000000    0.000000\n",
       "75%       6.000000  140.250000  ...   41.000000    1.000000\n",
       "max      17.000000  199.000000  ...   81.000000    1.000000\n",
       "\n",
       "[8 rows x 9 columns]"
      ]
     },
     "execution_count": 124,
     "metadata": {},
     "output_type": "execute_result"
    }
   ],
   "source": [
    "df.describe()"
   ]
  },
  {
   "cell_type": "code",
   "execution_count": 125,
   "metadata": {},
   "outputs": [
    {
     "data": {
      "text/plain": [
       "Pregnancies                   0\n",
       "Glucose                       5\n",
       "BloodPreassure               35\n",
       "SkinThickness               227\n",
       "Insulin                     374\n",
       "BMI                          11\n",
       "DiabetesPedigreeFunction      0\n",
       "Age                           0\n",
       "Outcome                       0\n",
       "dtype: int64"
      ]
     },
     "execution_count": 125,
     "metadata": {},
     "output_type": "execute_result"
    }
   ],
   "source": [
    "col_with_zero_values = ['Glucose','BloodPreassure','SkinThickness','Insulin','BMI']\n",
    "df[col_with_zero_values] = df[col_with_zero_values].replace(0, np.nan)\n",
    "df.isnull().sum()"
   ]
  },
  {
   "cell_type": "code",
   "execution_count": 126,
   "metadata": {},
   "outputs": [
    {
     "data": {
      "text/plain": [
       "Pregnancies                 0\n",
       "Glucose                     0\n",
       "BloodPreassure              0\n",
       "SkinThickness               0\n",
       "Insulin                     0\n",
       "BMI                         0\n",
       "DiabetesPedigreeFunction    0\n",
       "Age                         0\n",
       "Outcome                     0\n",
       "dtype: int64"
      ]
     },
     "execution_count": 126,
     "metadata": {},
     "output_type": "execute_result"
    }
   ],
   "source": [
    "df.fillna(df.mean(), inplace = True)\n",
    "df.isnull().sum()"
   ]
  },
  {
   "cell_type": "code",
   "execution_count": 127,
   "metadata": {},
   "outputs": [],
   "source": [
    "X = df.drop(columns=['Outcome'], axis = 1)\n",
    "y= df['Outcome']"
   ]
  },
  {
   "cell_type": "code",
   "execution_count": 128,
   "metadata": {},
   "outputs": [],
   "source": [
    "X_train, X_test, y_train, y_test = train_test_split(X, y, test_size=0.3, random_state=32)\n",
    "scaler = StandardScaler()\n",
    "X_train = scaler.fit_transform(X_train)\n",
    "X_test = scaler.transform(X_test)"
   ]
  },
  {
   "cell_type": "code",
   "execution_count": 129,
   "metadata": {},
   "outputs": [
    {
     "name": "stdout",
     "output_type": "stream",
     "text": [
      "Training Shpae : (537, 8)\n",
      "Test Shpae : (231, 8)\n"
     ]
    }
   ],
   "source": [
    "print(f\"Training Shpae : {X_train.shape}\")\n",
    "print(f\"Test Shpae : {X_test.shape}\")"
   ]
  },
  {
   "cell_type": "code",
   "execution_count": 130,
   "metadata": {},
   "outputs": [],
   "source": [
    "from sklearn.ensemble import RandomForestClassifier\n",
    "from sklearn.model_selection import cross_val_score\n",
    "import optuna\n",
    "from optuna.visualization import plot_contour \n",
    "import plotly\n",
    "\n",
    "def objective(trial):\n",
    "    ## Suggest values for hyperparameters\n",
    "    n_estimators = trial.suggest_int('n_estimators', 50, 200)\n",
    "    max_depth = trial.suggest_int('max_depth', 3, 20)\n",
    "    \n",
    "    model = RandomForestClassifier(\n",
    "        n_estimators = n_estimators,\n",
    "        max_depth = max_depth\n",
    "    )\n",
    "    \n",
    "    score = cross_val_score(model, X_train, y_train, cv = 3, scoring = 'accuracy').mean()\n",
    "    \n",
    "    return score"
   ]
  },
  {
   "cell_type": "code",
   "execution_count": 131,
   "metadata": {},
   "outputs": [
    {
     "name": "stderr",
     "output_type": "stream",
     "text": [
      "[I 2025-01-19 17:51:19,154] A new study created in memory with name: no-name-fb0ea2d1-9f8f-49ba-96f0-e350d9a57f36\n",
      "[I 2025-01-19 17:51:19,321] Trial 0 finished with value: 0.7597765363128491 and parameters: {'n_estimators': 83, 'max_depth': 14}. Best is trial 0 with value: 0.7597765363128491.\n",
      "[I 2025-01-19 17:51:19,480] Trial 1 finished with value: 0.7616387337057727 and parameters: {'n_estimators': 84, 'max_depth': 12}. Best is trial 1 with value: 0.7616387337057727.\n",
      "[I 2025-01-19 17:51:19,638] Trial 2 finished with value: 0.7653631284916201 and parameters: {'n_estimators': 86, 'max_depth': 8}. Best is trial 2 with value: 0.7653631284916201.\n",
      "[I 2025-01-19 17:51:19,804] Trial 3 finished with value: 0.7616387337057727 and parameters: {'n_estimators': 87, 'max_depth': 15}. Best is trial 2 with value: 0.7653631284916201.\n",
      "[I 2025-01-19 17:51:20,032] Trial 4 finished with value: 0.7616387337057727 and parameters: {'n_estimators': 122, 'max_depth': 15}. Best is trial 2 with value: 0.7653631284916201.\n",
      "[I 2025-01-19 17:51:20,189] Trial 5 finished with value: 0.7728119180633146 and parameters: {'n_estimators': 95, 'max_depth': 4}. Best is trial 5 with value: 0.7728119180633146.\n",
      "[I 2025-01-19 17:51:20,516] Trial 6 finished with value: 0.756052141527002 and parameters: {'n_estimators': 155, 'max_depth': 20}. Best is trial 5 with value: 0.7728119180633146.\n",
      "[I 2025-01-19 17:51:20,897] Trial 7 finished with value: 0.7616387337057727 and parameters: {'n_estimators': 189, 'max_depth': 10}. Best is trial 5 with value: 0.7728119180633146.\n",
      "[I 2025-01-19 17:51:21,222] Trial 8 finished with value: 0.7448789571694601 and parameters: {'n_estimators': 173, 'max_depth': 12}. Best is trial 5 with value: 0.7728119180633146.\n",
      "[I 2025-01-19 17:51:21,433] Trial 9 finished with value: 0.7579143389199255 and parameters: {'n_estimators': 112, 'max_depth': 11}. Best is trial 5 with value: 0.7728119180633146.\n",
      "[I 2025-01-19 17:51:21,530] Trial 10 finished with value: 0.7690875232774674 and parameters: {'n_estimators': 53, 'max_depth': 3}. Best is trial 5 with value: 0.7728119180633146.\n",
      "[I 2025-01-19 17:51:21,623] Trial 11 finished with value: 0.7560521415270017 and parameters: {'n_estimators': 51, 'max_depth': 3}. Best is trial 5 with value: 0.7728119180633146.\n",
      "[I 2025-01-19 17:51:21,722] Trial 12 finished with value: 0.7597765363128491 and parameters: {'n_estimators': 51, 'max_depth': 3}. Best is trial 5 with value: 0.7728119180633146.\n",
      "[I 2025-01-19 17:51:21,980] Trial 13 finished with value: 0.7616387337057727 and parameters: {'n_estimators': 144, 'max_depth': 6}. Best is trial 5 with value: 0.7728119180633146.\n",
      "[I 2025-01-19 17:51:22,107] Trial 14 finished with value: 0.7541899441340781 and parameters: {'n_estimators': 67, 'max_depth': 6}. Best is trial 5 with value: 0.7728119180633146.\n",
      "[I 2025-01-19 17:51:22,292] Trial 15 finished with value: 0.7616387337057727 and parameters: {'n_estimators': 103, 'max_depth': 6}. Best is trial 5 with value: 0.7728119180633146.\n",
      "[I 2025-01-19 17:51:22,513] Trial 16 finished with value: 0.7616387337057727 and parameters: {'n_estimators': 140, 'max_depth': 3}. Best is trial 5 with value: 0.7728119180633146.\n",
      "[I 2025-01-19 17:51:22,648] Trial 17 finished with value: 0.74487895716946 and parameters: {'n_estimators': 69, 'max_depth': 8}. Best is trial 5 with value: 0.7728119180633146.\n",
      "[I 2025-01-19 17:51:22,823] Trial 18 finished with value: 0.7672253258845437 and parameters: {'n_estimators': 100, 'max_depth': 5}. Best is trial 5 with value: 0.7728119180633146.\n",
      "[I 2025-01-19 17:51:22,957] Trial 19 finished with value: 0.7616387337057727 and parameters: {'n_estimators': 67, 'max_depth': 19}. Best is trial 5 with value: 0.7728119180633146.\n",
      "[I 2025-01-19 17:51:23,189] Trial 20 finished with value: 0.750465549348231 and parameters: {'n_estimators': 124, 'max_depth': 8}. Best is trial 5 with value: 0.7728119180633146.\n",
      "[I 2025-01-19 17:51:23,372] Trial 21 finished with value: 0.7672253258845437 and parameters: {'n_estimators': 103, 'max_depth': 5}. Best is trial 5 with value: 0.7728119180633146.\n",
      "[I 2025-01-19 17:51:23,553] Trial 22 finished with value: 0.7690875232774674 and parameters: {'n_estimators': 102, 'max_depth': 5}. Best is trial 5 with value: 0.7728119180633146.\n",
      "[I 2025-01-19 17:51:23,779] Trial 23 finished with value: 0.7635009310986964 and parameters: {'n_estimators': 136, 'max_depth': 4}. Best is trial 5 with value: 0.7728119180633146.\n",
      "[I 2025-01-19 17:51:23,990] Trial 24 finished with value: 0.7579143389199255 and parameters: {'n_estimators': 114, 'max_depth': 7}. Best is trial 5 with value: 0.7728119180633146.\n",
      "[I 2025-01-19 17:51:24,127] Trial 25 finished with value: 0.7560521415270017 and parameters: {'n_estimators': 76, 'max_depth': 4}. Best is trial 5 with value: 0.7728119180633146.\n",
      "[I 2025-01-19 17:51:24,241] Trial 26 finished with value: 0.7635009310986964 and parameters: {'n_estimators': 56, 'max_depth': 9}. Best is trial 5 with value: 0.7728119180633146.\n",
      "[I 2025-01-19 17:51:24,406] Trial 27 finished with value: 0.7802607076350093 and parameters: {'n_estimators': 93, 'max_depth': 5}. Best is trial 27 with value: 0.7802607076350093.\n",
      "[I 2025-01-19 17:51:24,569] Trial 28 finished with value: 0.7672253258845437 and parameters: {'n_estimators': 95, 'max_depth': 4}. Best is trial 27 with value: 0.7802607076350093.\n",
      "[I 2025-01-19 17:51:24,720] Trial 29 finished with value: 0.7579143389199254 and parameters: {'n_estimators': 76, 'max_depth': 17}. Best is trial 27 with value: 0.7802607076350093.\n",
      "[I 2025-01-19 17:51:24,836] Trial 30 finished with value: 0.7616387337057727 and parameters: {'n_estimators': 61, 'max_depth': 7}. Best is trial 27 with value: 0.7802607076350093.\n",
      "[I 2025-01-19 17:51:25,002] Trial 31 finished with value: 0.7560521415270017 and parameters: {'n_estimators': 95, 'max_depth': 5}. Best is trial 27 with value: 0.7802607076350093.\n",
      "[I 2025-01-19 17:51:25,181] Trial 32 finished with value: 0.7579143389199254 and parameters: {'n_estimators': 112, 'max_depth': 3}. Best is trial 27 with value: 0.7802607076350093.\n",
      "[I 2025-01-19 17:51:25,340] Trial 33 finished with value: 0.7597765363128491 and parameters: {'n_estimators': 88, 'max_depth': 5}. Best is trial 27 with value: 0.7802607076350093.\n",
      "[I 2025-01-19 17:51:25,479] Trial 34 finished with value: 0.7653631284916201 and parameters: {'n_estimators': 74, 'max_depth': 7}. Best is trial 27 with value: 0.7802607076350093.\n",
      "[I 2025-01-19 17:51:25,631] Trial 35 finished with value: 0.750465549348231 and parameters: {'n_estimators': 84, 'max_depth': 4}. Best is trial 27 with value: 0.7802607076350093.\n",
      "[I 2025-01-19 17:51:25,809] Trial 36 finished with value: 0.750465549348231 and parameters: {'n_estimators': 92, 'max_depth': 13}. Best is trial 27 with value: 0.7802607076350093.\n",
      "[I 2025-01-19 17:51:26,058] Trial 37 finished with value: 0.756052141527002 and parameters: {'n_estimators': 133, 'max_depth': 9}. Best is trial 27 with value: 0.7802607076350093.\n",
      "[I 2025-01-19 17:51:26,262] Trial 38 finished with value: 0.7653631284916201 and parameters: {'n_estimators': 115, 'max_depth': 6}. Best is trial 27 with value: 0.7802607076350093.\n",
      "[I 2025-01-19 17:51:26,550] Trial 39 finished with value: 0.7579143389199254 and parameters: {'n_estimators': 154, 'max_depth': 10}. Best is trial 27 with value: 0.7802607076350093.\n",
      "[I 2025-01-19 17:51:26,687] Trial 40 finished with value: 0.7746741154562383 and parameters: {'n_estimators': 80, 'max_depth': 4}. Best is trial 27 with value: 0.7802607076350093.\n",
      "[I 2025-01-19 17:51:26,821] Trial 41 finished with value: 0.7672253258845437 and parameters: {'n_estimators': 78, 'max_depth': 4}. Best is trial 27 with value: 0.7802607076350093.\n",
      "[I 2025-01-19 17:51:26,955] Trial 42 finished with value: 0.7560521415270017 and parameters: {'n_estimators': 82, 'max_depth': 3}. Best is trial 27 with value: 0.7802607076350093.\n",
      "[I 2025-01-19 17:51:27,139] Trial 43 finished with value: 0.7597765363128491 and parameters: {'n_estimators': 106, 'max_depth': 5}. Best is trial 27 with value: 0.7802607076350093.\n",
      "[I 2025-01-19 17:51:27,240] Trial 44 finished with value: 0.7541899441340781 and parameters: {'n_estimators': 60, 'max_depth': 3}. Best is trial 27 with value: 0.7802607076350093.\n",
      "[I 2025-01-19 17:51:27,406] Trial 45 finished with value: 0.7783985102420856 and parameters: {'n_estimators': 90, 'max_depth': 6}. Best is trial 27 with value: 0.7802607076350093.\n",
      "[I 2025-01-19 17:51:27,565] Trial 46 finished with value: 0.7653631284916201 and parameters: {'n_estimators': 88, 'max_depth': 6}. Best is trial 27 with value: 0.7802607076350093.\n",
      "[I 2025-01-19 17:51:27,695] Trial 47 finished with value: 0.7579143389199254 and parameters: {'n_estimators': 69, 'max_depth': 7}. Best is trial 27 with value: 0.7802607076350093.\n",
      "[I 2025-01-19 17:51:27,999] Trial 48 finished with value: 0.7728119180633147 and parameters: {'n_estimators': 186, 'max_depth': 4}. Best is trial 27 with value: 0.7802607076350093.\n",
      "[I 2025-01-19 17:51:28,374] Trial 49 finished with value: 0.7597765363128491 and parameters: {'n_estimators': 200, 'max_depth': 15}. Best is trial 27 with value: 0.7802607076350093.\n"
     ]
    }
   ],
   "source": [
    "study = optuna.create_study(direction = 'maximize')\n",
    "study.optimize(objective, n_trials=50)"
   ]
  },
  {
   "cell_type": "code",
   "execution_count": 132,
   "metadata": {},
   "outputs": [
    {
     "name": "stdout",
     "output_type": "stream",
     "text": [
      "Best trial accuracy : [0.7802607076350093]\n",
      "Best trial accuracy : {'n_estimators': 93, 'max_depth': 5}\n"
     ]
    }
   ],
   "source": [
    "print(f\"Best trial accuracy : {study.best_trial.values}\")\n",
    "print(f\"Best trial accuracy : {study.best_trial.params}\")"
   ]
  },
  {
   "cell_type": "code",
   "execution_count": 133,
   "metadata": {},
   "outputs": [
    {
     "name": "stdout",
     "output_type": "stream",
     "text": [
      "ImportError: Tried to import 'plotly' but failed. Please make sure that the package is installed correctly to use this feature. Actual error: No module named 'plotly'.\n"
     ]
    }
   ],
   "source": [
    "try:\n",
    "    from optuna.visualization import plot_contour\n",
    "    plot_contour(study).show()\n",
    "except ImportError as e:\n",
    "    print(f\"ImportError: {e}\")\n",
    "except Exception as e:\n",
    "    print(f\"Other Error: {e}\")"
   ]
  },
  {
   "cell_type": "code",
   "execution_count": 134,
   "metadata": {},
   "outputs": [
    {
     "ename": "ImportError",
     "evalue": "Tried to import 'plotly' but failed. Please make sure that the package is installed correctly to use this feature. Actual error: No module named 'plotly'.",
     "output_type": "error",
     "traceback": [
      "\u001b[0;31m---------------------------------------------------------------------------\u001b[0m",
      "\u001b[0;31mModuleNotFoundError\u001b[0m                       Traceback (most recent call last)",
      "File \u001b[0;32m/opt/anaconda3/envs/stable_env_nlp/lib/python3.10/site-packages/optuna/visualization/_plotly_imports.py:7\u001b[0m\n\u001b[1;32m      6\u001b[0m \u001b[38;5;28;01mwith\u001b[39;00m try_import() \u001b[38;5;28;01mas\u001b[39;00m _imports:\n\u001b[0;32m----> 7\u001b[0m     \u001b[38;5;28;01mimport\u001b[39;00m \u001b[38;5;21;01mplotly\u001b[39;00m\n\u001b[1;32m      8\u001b[0m     \u001b[38;5;28;01mfrom\u001b[39;00m \u001b[38;5;21;01mplotly\u001b[39;00m \u001b[38;5;28;01mimport\u001b[39;00m __version__ \u001b[38;5;28;01mas\u001b[39;00m plotly_version\n",
      "\u001b[0;31mModuleNotFoundError\u001b[0m: No module named 'plotly'",
      "\nThe above exception was the direct cause of the following exception:\n",
      "\u001b[0;31mImportError\u001b[0m                               Traceback (most recent call last)",
      "Cell \u001b[0;32mIn[134], line 1\u001b[0m\n\u001b[0;32m----> 1\u001b[0m \u001b[43mplot_contour\u001b[49m\u001b[43m(\u001b[49m\u001b[43mstudy\u001b[49m\u001b[43m)\u001b[49m\u001b[38;5;241m.\u001b[39mshow()\n",
      "File \u001b[0;32m/opt/anaconda3/envs/stable_env_nlp/lib/python3.10/site-packages/optuna/visualization/_contour.py:99\u001b[0m, in \u001b[0;36mplot_contour\u001b[0;34m(study, params, target, target_name)\u001b[0m\n\u001b[1;32m     66\u001b[0m \u001b[38;5;28;01mdef\u001b[39;00m \u001b[38;5;21mplot_contour\u001b[39m(\n\u001b[1;32m     67\u001b[0m     study: Study,\n\u001b[1;32m     68\u001b[0m     params: \u001b[38;5;28mlist\u001b[39m[\u001b[38;5;28mstr\u001b[39m] \u001b[38;5;241m|\u001b[39m \u001b[38;5;28;01mNone\u001b[39;00m \u001b[38;5;241m=\u001b[39m \u001b[38;5;28;01mNone\u001b[39;00m,\n\u001b[0;32m   (...)\u001b[0m\n\u001b[1;32m     71\u001b[0m     target_name: \u001b[38;5;28mstr\u001b[39m \u001b[38;5;241m=\u001b[39m \u001b[38;5;124m\"\u001b[39m\u001b[38;5;124mObjective Value\u001b[39m\u001b[38;5;124m\"\u001b[39m,\n\u001b[1;32m     72\u001b[0m ) \u001b[38;5;241m-\u001b[39m\u001b[38;5;241m>\u001b[39m \u001b[38;5;124m\"\u001b[39m\u001b[38;5;124mgo.Figure\u001b[39m\u001b[38;5;124m\"\u001b[39m:\n\u001b[1;32m     73\u001b[0m \u001b[38;5;250m    \u001b[39m\u001b[38;5;124;03m\"\"\"Plot the parameter relationship as contour plot in a study.\u001b[39;00m\n\u001b[1;32m     74\u001b[0m \n\u001b[1;32m     75\u001b[0m \u001b[38;5;124;03m    Note that, if a parameter contains missing values, a trial with missing values is not plotted.\u001b[39;00m\n\u001b[0;32m   (...)\u001b[0m\n\u001b[1;32m     96\u001b[0m \u001b[38;5;124;03m        of :class:`~optuna.study.Study` is ``minimize``.\u001b[39;00m\n\u001b[1;32m     97\u001b[0m \u001b[38;5;124;03m    \"\"\"\u001b[39;00m\n\u001b[0;32m---> 99\u001b[0m     \u001b[43m_imports\u001b[49m\u001b[38;5;241;43m.\u001b[39;49m\u001b[43mcheck\u001b[49m\u001b[43m(\u001b[49m\u001b[43m)\u001b[49m\n\u001b[1;32m    100\u001b[0m     info \u001b[38;5;241m=\u001b[39m _get_contour_info(study, params, target, target_name)\n\u001b[1;32m    101\u001b[0m     \u001b[38;5;28;01mreturn\u001b[39;00m _get_contour_plot(info)\n",
      "File \u001b[0;32m/opt/anaconda3/envs/stable_env_nlp/lib/python3.10/site-packages/optuna/_imports.py:95\u001b[0m, in \u001b[0;36m_DeferredImportExceptionContextManager.check\u001b[0;34m(self)\u001b[0m\n\u001b[1;32m     93\u001b[0m \u001b[38;5;28;01mif\u001b[39;00m \u001b[38;5;28mself\u001b[39m\u001b[38;5;241m.\u001b[39m_deferred \u001b[38;5;129;01mis\u001b[39;00m \u001b[38;5;129;01mnot\u001b[39;00m \u001b[38;5;28;01mNone\u001b[39;00m:\n\u001b[1;32m     94\u001b[0m     exc_value, message \u001b[38;5;241m=\u001b[39m \u001b[38;5;28mself\u001b[39m\u001b[38;5;241m.\u001b[39m_deferred\n\u001b[0;32m---> 95\u001b[0m     \u001b[38;5;28;01mraise\u001b[39;00m \u001b[38;5;167;01mImportError\u001b[39;00m(message) \u001b[38;5;28;01mfrom\u001b[39;00m \u001b[38;5;21;01mexc_value\u001b[39;00m\n",
      "\u001b[0;31mImportError\u001b[0m: Tried to import 'plotly' but failed. Please make sure that the package is installed correctly to use this feature. Actual error: No module named 'plotly'."
     ]
    }
   ],
   "source": [
    "plot_contour(study).show()"
   ]
  },
  {
   "cell_type": "code",
   "execution_count": 117,
   "metadata": {},
   "outputs": [
    {
     "name": "stderr",
     "output_type": "stream",
     "text": [
      "/var/folders/vt/hgv58_ws0rjfsg_1d8fcxgww0000gn/T/ipykernel_82787/891353567.py:2: ExperimentalWarning:\n",
      "\n",
      "plot_contour is experimental (supported from v2.2.0). The interface can change in the future.\n",
      "\n",
      "[W 2025-01-19 10:07:22,208] Output figures of this Matplotlib-based `plot_contour` function would be different from those of the Plotly-based `plot_contour`.\n"
     ]
    },
    {
     "data": {
      "text/plain": [
       "<Axes: title={'center': 'Contour Plot'}, xlabel='x', ylabel='y'>"
      ]
     },
     "execution_count": 117,
     "metadata": {},
     "output_type": "execute_result"
    },
    {
     "data": {
      "image/png": "[encoded data removed]",
      "text/plain": [
       "<Figure size 640x480 with 2 Axes>"
      ]
     },
     "metadata": {},
     "output_type": "display_data"
    }
   ],
   "source": [
    "from optuna.visualization.matplotlib import plot_contour\n",
    "plot_contour(study)"
   ]
  },
  {
   "cell_type": "code",
   "execution_count": 52,
   "metadata": {},
   "outputs": [
    {
     "name": "stdout",
     "output_type": "stream",
     "text": [
      "The accuracy with the best hyper parameter: 0.7445887445887446\n"
     ]
    }
   ],
   "source": [
    "from sklearn.metrics import accuracy_score\n",
    "best_model = RandomForestClassifier(**study.best_trial.params, random_state = 32)\n",
    "\n",
    "best_model.fit(X_train, y_train)\n",
    "\n",
    "y_pred = best_model.predict(X_test)\n",
    "\n",
    "test_accuracy = accuracy_score(y_test, y_pred)\n",
    "\n",
    "print(f\"The accuracy with the best hyper parameter: {test_accuracy}\")"
   ]
  }
 ],
 "metadata": {
  "kernelspec": {
   "display_name": "stable_env_nlp",
   "language": "python",
   "name": "python3"
  },
  "language_info": {
   "codemirror_mode": {
    "name": "ipython",
    "version": 3
   },
   "file_extension": ".py",
   "mimetype": "text/x-python",
   "name": "python",
   "nbconvert_exporter": "python",
   "pygments_lexer": "ipython3",
   "version": "3.10.15"
  }
 },
 "nbformat": 4,
 "nbformat_minor": 2
}
