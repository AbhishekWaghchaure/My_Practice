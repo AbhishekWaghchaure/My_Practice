{
 "cells": [
  {
   "cell_type": "code",
   "id": "initial_id",
   "metadata": {
    "collapsed": true,
    "ExecuteTime": {
     "end_time": "2024-12-20T11:56:57.495757Z",
     "start_time": "2024-12-20T11:56:57.491688Z"
    }
   },
   "source": "str = \"The golden rays of the setting sun bathed the quiet village in a warm, amber glow. The streets, once bustling with the day's activities, now lay still and serene. The aroma of freshly baked bread wafted through the air, mingling with the earthy scent of the fields just beyond the village's edge. Children’s laughter echoed faintly from a distant corner, a reminder of the day's simple joys. As the sky transitioned to shades of purple and navy, stars began to twinkle into view, heralding the arriva\"",
   "outputs": [],
   "execution_count": 3
  },
  {
   "metadata": {
    "ExecuteTime": {
     "end_time": "2024-12-20T11:56:39.021641Z",
     "start_time": "2024-12-20T11:56:39.018853Z"
    }
   },
   "cell_type": "code",
   "source": [
    "def unique_words(input_string):\n",
    "    words = input_string.lower().spilt()\n",
    "    unique_words = set(word.strip(\".,'\")for word in words)\n",
    "    return unique_words"
   ],
   "id": "b20e4bc8c2306995",
   "outputs": [],
   "execution_count": 2
  },
  {
   "metadata": {
    "ExecuteTime": {
     "end_time": "2024-12-20T16:15:07.055907Z",
     "start_time": "2024-12-20T16:15:07.049365Z"
    }
   },
   "cell_type": "code",
   "source": [
    "import nltk\n",
    "from nltk.tokenize import word_tokenize\n",
    "from nltk.corpus import stopwords\n",
    "from nltk.stem import WordNetLemmatizer\n",
    "import re\n",
    "stem = WordNetLemmatizer()\n",
    "nltk.download('punkt')\n",
    "nltk.download('stopwords')\n",
    "\n",
    "def unique_words(input_string):\n",
    "    words = re.sub(\"[^a-zA-Z]\", \" \", input_string)\n",
    "    # stop_words = stopwords.words('english')\n",
    "    # filtered_words = [word for word in words if word not in stopwords]\n",
    "\n",
    "    words = nltk.word_tokenize(words)\n",
    "    filtered_words = [word.lower() for word in words if word not in set(stopwords.words(\"english\"))]\n",
    "    unique_words = set(filtered_words)\n",
    "    return unique_words\n"
   ],
   "id": "bc47067aef03c083",
   "outputs": [
    {
     "name": "stderr",
     "output_type": "stream",
     "text": [
      "[nltk_data] Downloading package punkt to\n",
      "[nltk_data]     /Users/abhishekwaghchaure/nltk_data...\n",
      "[nltk_data]   Package punkt is already up-to-date!\n",
      "[nltk_data] Downloading package stopwords to\n",
      "[nltk_data]     /Users/abhishekwaghchaure/nltk_data...\n",
      "[nltk_data]   Package stopwords is already up-to-date!\n"
     ]
    }
   ],
   "execution_count": 25
  },
  {
   "metadata": {
    "ExecuteTime": {
     "end_time": "2024-12-20T16:15:09.342170Z",
     "start_time": "2024-12-20T16:15:09.327267Z"
    }
   },
   "cell_type": "code",
   "source": "unique_words(str)",
   "id": "6ac51e08cdc393b6",
   "outputs": [
    {
     "data": {
      "text/plain": [
       "{'activities',\n",
       " 'air',\n",
       " 'amber',\n",
       " 'aroma',\n",
       " 'arriva',\n",
       " 'as',\n",
       " 'baked',\n",
       " 'bathed',\n",
       " 'began',\n",
       " 'beyond',\n",
       " 'bread',\n",
       " 'bustling',\n",
       " 'children',\n",
       " 'corner',\n",
       " 'day',\n",
       " 'distant',\n",
       " 'earthy',\n",
       " 'echoed',\n",
       " 'edge',\n",
       " 'faintly',\n",
       " 'fields',\n",
       " 'freshly',\n",
       " 'glow',\n",
       " 'golden',\n",
       " 'heralding',\n",
       " 'joys',\n",
       " 'laughter',\n",
       " 'lay',\n",
       " 'mingling',\n",
       " 'navy',\n",
       " 'purple',\n",
       " 'quiet',\n",
       " 'rays',\n",
       " 'reminder',\n",
       " 'scent',\n",
       " 'serene',\n",
       " 'setting',\n",
       " 'shades',\n",
       " 'simple',\n",
       " 'sky',\n",
       " 'stars',\n",
       " 'still',\n",
       " 'streets',\n",
       " 'sun',\n",
       " 'the',\n",
       " 'transitioned',\n",
       " 'twinkle',\n",
       " 'view',\n",
       " 'village',\n",
       " 'wafted',\n",
       " 'warm'}"
      ]
     },
     "execution_count": 26,
     "metadata": {},
     "output_type": "execute_result"
    }
   ],
   "execution_count": 26
  },
  {
   "metadata": {
    "ExecuteTime": {
     "end_time": "2024-12-20T12:15:43.911974Z",
     "start_time": "2024-12-20T12:15:43.896774Z"
    }
   },
   "cell_type": "code",
   "source": "print(len(unique_words(str)))",
   "id": "b5be55e25b9dc377",
   "outputs": [
    {
     "name": "stdout",
     "output_type": "stream",
     "text": [
      "51\n"
     ]
    }
   ],
   "execution_count": 19
  }
 ],
 "metadata": {
  "kernelspec": {
   "display_name": "Python 3",
   "language": "python",
   "name": "python3"
  },
  "language_info": {
   "codemirror_mode": {
    "name": "ipython",
    "version": 2
   },
   "file_extension": ".py",
   "mimetype": "text/x-python",
   "name": "python",
   "nbconvert_exporter": "python",
   "pygments_lexer": "ipython2",
   "version": "2.7.6"
  }
 },
 "nbformat": 4,
 "nbformat_minor": 5
}
