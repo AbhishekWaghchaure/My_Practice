{
 "cells": [
  {
   "cell_type": "code",
   "execution_count": 31,
   "metadata": {},
   "outputs": [],
   "source": [
    "import numpy as np"
   ]
  },
  {
   "cell_type": "code",
   "execution_count": 39,
   "metadata": {},
   "outputs": [],
   "source": [
    "def create_sequences(df, seq_length):\n",
    "    xs, ys = [], []\n",
    "    \n",
    "    for i in range(len(df) - seq_length):\n",
    "        x = df.iloc[i:(i+seq_length),1]\n",
    "        y = df.iloc[i+seq_length, 1]\n",
    "        \n",
    "        xs.append(x)\n",
    "        ys.append(y)\n",
    "        \n",
    "    return np.array(xs), np.array(ys)"
   ]
  },
  {
   "cell_type": "code",
   "execution_count": 33,
   "metadata": {},
   "outputs": [],
   "source": [
    "import pandas as pd"
   ]
  },
  {
   "cell_type": "code",
   "execution_count": 34,
   "metadata": {},
   "outputs": [],
   "source": [
    "train_data =pd.read_csv(\"/Users/abhishekwaghchaure/Desktop/PWSkillsDataScience/DataSets/electricity_consump/electricity_train.csv\")"
   ]
  },
  {
   "cell_type": "code",
   "execution_count": 35,
   "metadata": {},
   "outputs": [
    {
     "data": {
      "text/html": [
       "<div>\n",
       "<style scoped>\n",
       "    .dataframe tbody tr th:only-of-type {\n",
       "        vertical-align: middle;\n",
       "    }\n",
       "\n",
       "    .dataframe tbody tr th {\n",
       "        vertical-align: top;\n",
       "    }\n",
       "\n",
       "    .dataframe thead th {\n",
       "        text-align: right;\n",
       "    }\n",
       "</style>\n",
       "<table border=\"1\" class=\"dataframe\">\n",
       "  <thead>\n",
       "    <tr style=\"text-align: right;\">\n",
       "      <th></th>\n",
       "      <th>timestamp</th>\n",
       "      <th>consumption</th>\n",
       "    </tr>\n",
       "  </thead>\n",
       "  <tbody>\n",
       "    <tr>\n",
       "      <th>0</th>\n",
       "      <td>2011-01-01 00:15:00</td>\n",
       "      <td>-0.704319</td>\n",
       "    </tr>\n",
       "    <tr>\n",
       "      <th>1</th>\n",
       "      <td>2011-01-01 00:30:00</td>\n",
       "      <td>-0.704319</td>\n",
       "    </tr>\n",
       "    <tr>\n",
       "      <th>2</th>\n",
       "      <td>2011-01-01 00:45:00</td>\n",
       "      <td>-0.678983</td>\n",
       "    </tr>\n",
       "    <tr>\n",
       "      <th>3</th>\n",
       "      <td>2011-01-01 01:00:00</td>\n",
       "      <td>-0.653647</td>\n",
       "    </tr>\n",
       "    <tr>\n",
       "      <th>4</th>\n",
       "      <td>2011-01-01 01:15:00</td>\n",
       "      <td>-0.704319</td>\n",
       "    </tr>\n",
       "  </tbody>\n",
       "</table>\n",
       "</div>"
      ],
      "text/plain": [
       "             timestamp  consumption\n",
       "0  2011-01-01 00:15:00    -0.704319\n",
       "1  2011-01-01 00:30:00    -0.704319\n",
       "2  2011-01-01 00:45:00    -0.678983\n",
       "3  2011-01-01 01:00:00    -0.653647\n",
       "4  2011-01-01 01:15:00    -0.704319"
      ]
     },
     "execution_count": 35,
     "metadata": {},
     "output_type": "execute_result"
    }
   ],
   "source": [
    "train_data.head()"
   ]
  },
  {
   "cell_type": "code",
   "execution_count": 42,
   "metadata": {},
   "outputs": [
    {
     "name": "stdout",
     "output_type": "stream",
     "text": [
      "(105119, 96)\n",
      "(105119,)\n"
     ]
    }
   ],
   "source": [
    "X_train, y_train =create_sequences(train_data, 24 * 4)\n",
    "print(X_train.shape)\n",
    "print(y_train.shape)"
   ]
  },
  {
   "cell_type": "code",
   "execution_count": 49,
   "metadata": {},
   "outputs": [
    {
     "data": {
      "text/plain": [
       "array([-0.70431852, -0.70431852, -0.67898263, -0.65364675, -0.70431852,\n",
       "       -0.70431852, -0.72990776, -0.70431852, -0.70431852, -0.67898263,\n",
       "       -0.67898263, -0.62831087, -0.67898263, -0.72990776, -0.72990776,\n",
       "       -0.72990776, -0.70431852, -0.67898263, -0.70431852, -0.75524365,\n",
       "       -0.67898263, -0.67898263, -0.67898263, -0.65364675, -0.72990776,\n",
       "       -0.70431852, -0.67898263, -0.67898263, -0.70431852, -0.72990776,\n",
       "       -0.70431852, -0.72990776, -0.67898263, -0.70431852, -0.75524365,\n",
       "       -0.90725895, -1.00885585, -0.95793072, -0.93259484, -0.98326661,\n",
       "       -0.98326661, -1.00885585, -0.98326661, -1.00885585, -0.98326661,\n",
       "       -0.95793072, -0.95793072, -0.95793072, -0.95793072, -1.00885585,\n",
       "       -0.98326661, -0.95793072, -0.98326661, -0.98326661, -1.00885585,\n",
       "       -0.95793072, -0.93259484, -1.00885585, -0.98326661, -0.93259484,\n",
       "       -0.98326661, -1.03419173, -0.98326661, -0.98326661, -0.85658718,\n",
       "       -0.67898263, -0.72990776, -0.72990776, -0.70431852, -0.70431852,\n",
       "       -0.72990776, -0.70431852, -0.70431852, -0.67898263, -0.67898263,\n",
       "       -0.65364675, -0.67898263, -0.65364675, -0.67898263, -0.70431852,\n",
       "       -0.70431852, -0.72990776, -0.72990776, -0.67898263, -0.65364675,\n",
       "       -0.72990776, -0.70431852, -0.72990776, -0.72990776, -0.62831087,\n",
       "       -0.65364675, -0.70431852, -0.70431852, -0.65364675, -0.72990776,\n",
       "       -0.70431852])"
      ]
     },
     "execution_count": 49,
     "metadata": {},
     "output_type": "execute_result"
    }
   ],
   "source": [
    "X_train[0]"
   ]
  },
  {
   "cell_type": "code",
   "execution_count": 41,
   "metadata": {},
   "outputs": [],
   "source": [
    "import torch\n",
    "from torch.utils.data import TensorDataset\n",
    "\n",
    "dataset_train = TensorDataset(\n",
    "    torch.from_numpy(X_train).float(),\n",
    "    torch.from_numpy(y_train).float()\n",
    ")\n"
   ]
  },
  {
   "cell_type": "code",
   "execution_count": 47,
   "metadata": {},
   "outputs": [
    {
     "name": "stdout",
     "output_type": "stream",
     "text": [
      "105119\n"
     ]
    }
   ],
   "source": [
    "print(len(dataset_train ))"
   ]
  },
  {
   "cell_type": "code",
   "execution_count": 50,
   "metadata": {},
   "outputs": [],
   "source": [
    "from torch import nn as nn"
   ]
  },
  {
   "cell_type": "code",
   "execution_count": 53,
   "metadata": {},
   "outputs": [],
   "source": [
    "class Rnn(nn.Module):\n",
    "    def __init__ (self):\n",
    "        super().__init__()\n",
    "        self.rnn = nn.RNN(\n",
    "            input_size = 1,\n",
    "            hidden_size = 32,\n",
    "            batch_first =True,\n",
    "            num_layers = 2\n",
    "        )\n",
    "        self.fc = nn.Linear(32,1)\n",
    "        \n",
    "    def forward(self,x):\n",
    "        h0 = torch.zeros(2,x.size(0), 32)\n",
    "        out,_ = self.rnn(x,h0)\n",
    "        # out.reshape(out.shape[0],-1)\n",
    "        out = self.fc(out[:,-1,:])\n",
    "        return out"
   ]
  }
 ],
 "metadata": {
  "kernelspec": {
   "display_name": "tensor",
   "language": "python",
   "name": "python3"
  },
  "language_info": {
   "codemirror_mode": {
    "name": "ipython",
    "version": 3
   },
   "file_extension": ".py",
   "mimetype": "text/x-python",
   "name": "python",
   "nbconvert_exporter": "python",
   "pygments_lexer": "ipython3",
   "version": "3.10.14"
  }
 },
 "nbformat": 4,
 "nbformat_minor": 2
}
