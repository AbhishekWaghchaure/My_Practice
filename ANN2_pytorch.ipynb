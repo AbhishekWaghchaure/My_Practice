{
 "cells": [
  {
   "cell_type": "code",
   "execution_count": 1,
   "metadata": {},
   "outputs": [
    {
     "name": "stdout",
     "output_type": "stream",
     "text": [
      "Output shape: torch.Size([5, 3, 20])\n",
      "Hidden state shape: torch.Size([1, 5, 20])\n"
     ]
    }
   ],
   "source": [
    "import torch\n",
    "import torch.nn as nn\n",
    "\n",
    "# RNN example with input size 10, hidden size 20, and 1 layer\n",
    "rnn = nn.RNN(input_size=10, hidden_size=20, batch_first=True)\n",
    "\n",
    "# Input: batch_size = 5, timesteps = 3, input_dim = 10\n",
    "x = torch.randn(5, 3, 10)\n",
    "\n",
    "# Initial hidden state (optional, defaults to zero if not provided)\n",
    "h0 = torch.zeros(1, 5, 20)  # (num_layers, batch_size, hidden_size)\n",
    "\n",
    "# Forward pass\n",
    "output, hidden = rnn(x, h0)\n",
    "\n",
    "print(f\"Output shape: {output.shape}\")  # Output shape: (batch_size, timesteps, hidden_size)\n",
    "print(f\"Hidden state shape: {hidden.shape}\")  # Hidden state shape: (num_layers, batch_size, hidden_size)"
   ]
  },
  {
   "cell_type": "code",
   "execution_count": 2,
   "metadata": {},
   "outputs": [
    {
     "data": {
      "text/plain": [
       "tensor([[ 0.0470,  0.0307,  0.2032, -0.2874, -0.5586,  0.4938,  0.1505, -0.3232,\n",
       "          0.2333,  0.3352, -0.2811, -0.3745, -0.4689, -0.7677, -0.0739, -0.5153,\n",
       "         -0.6125,  0.1565,  0.8702,  0.1625],\n",
       "        [-0.3446, -0.2853, -0.4784, -0.7732, -0.8227, -0.6184,  0.5398, -0.4286,\n",
       "          0.1054,  0.5689,  0.3497,  0.0154,  0.7674, -0.7450, -0.0435, -0.5104,\n",
       "          0.6242,  0.3471,  0.6473,  0.7647],\n",
       "        [ 0.2387, -0.5260, -0.1410, -0.3571, -0.4376, -0.1283, -0.8102, -0.1223,\n",
       "          0.1250, -0.7212,  0.2115,  0.5796, -0.4128,  0.3467, -0.2805,  0.2309,\n",
       "         -0.0847, -0.0373,  0.4796,  0.2329]], grad_fn=<SelectBackward0>)"
      ]
     },
     "execution_count": 2,
     "metadata": {},
     "output_type": "execute_result"
    }
   ],
   "source": [
    "output[0]"
   ]
  },
  {
   "cell_type": "code",
   "execution_count": 3,
   "metadata": {},
   "outputs": [
    {
     "data": {
      "text/plain": [
       "tensor([[ 2.3867e-01, -5.2597e-01, -1.4099e-01, -3.5708e-01, -4.3759e-01,\n",
       "         -1.2834e-01, -8.1021e-01, -1.2233e-01,  1.2499e-01, -7.2116e-01,\n",
       "          2.1154e-01,  5.7957e-01, -4.1278e-01,  3.4672e-01, -2.8050e-01,\n",
       "          2.3087e-01, -8.4655e-02, -3.7261e-02,  4.7959e-01,  2.3294e-01],\n",
       "        [ 4.9543e-01, -8.4983e-02,  5.0580e-01, -5.6658e-01, -8.1712e-01,\n",
       "         -5.8305e-01,  5.6922e-01, -5.6503e-01,  7.1709e-01,  2.1927e-01,\n",
       "         -3.3016e-01,  5.7295e-01, -6.4894e-01,  1.5530e-01, -3.7847e-01,\n",
       "         -6.4571e-01,  2.5785e-01,  4.7677e-01,  5.4520e-04,  9.3167e-02],\n",
       "        [ 4.1242e-01, -5.0968e-01,  2.5319e-01, -4.1080e-01, -6.6670e-01,\n",
       "         -8.2225e-01, -2.0392e-02, -1.6970e-01,  2.4825e-01, -6.9434e-01,\n",
       "         -7.6573e-01,  7.8301e-01, -4.5875e-01,  2.3796e-01, -4.9997e-01,\n",
       "         -3.6197e-01,  7.2212e-01,  7.7001e-01,  3.2283e-01, -1.7782e-01],\n",
       "        [-8.8459e-02, -7.6668e-01, -9.0655e-01,  7.5358e-01,  3.0023e-01,\n",
       "          5.0671e-01,  1.7233e-01,  4.7631e-01,  2.5677e-01, -4.1649e-01,\n",
       "          3.3163e-01, -4.6679e-01,  1.7715e-01, -9.4508e-01, -2.4135e-01,\n",
       "          8.2370e-01, -2.6205e-01,  6.2246e-01,  1.7777e-01, -5.2863e-01],\n",
       "        [ 1.0717e-01, -6.4611e-01,  5.3211e-01, -4.2833e-01, -4.8014e-01,\n",
       "         -1.9280e-01, -6.6252e-01, -3.4666e-01, -4.1322e-02, -1.5826e-01,\n",
       "          1.8634e-01,  3.4663e-01, -6.1536e-01, -4.8130e-01, -7.2588e-01,\n",
       "         -5.6737e-01,  4.2536e-01,  7.6038e-02,  5.7101e-01,  4.1897e-01]],\n",
       "       grad_fn=<SelectBackward0>)"
      ]
     },
     "execution_count": 3,
     "metadata": {},
     "output_type": "execute_result"
    }
   ],
   "source": [
    "hidden[0]"
   ]
  }
 ],
 "metadata": {
  "kernelspec": {
   "display_name": "tensor",
   "language": "python",
   "name": "python3"
  },
  "language_info": {
   "codemirror_mode": {
    "name": "ipython",
    "version": 3
   },
   "file_extension": ".py",
   "mimetype": "text/x-python",
   "name": "python",
   "nbconvert_exporter": "python",
   "pygments_lexer": "ipython3",
   "version": "3.10.14"
  }
 },
 "nbformat": 4,
 "nbformat_minor": 2
}
