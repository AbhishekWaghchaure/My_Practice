{
 "cells": [
  {
   "cell_type": "code",
   "execution_count": 1,
   "metadata": {
    "ExecuteTime": {
     "end_time": "2024-10-18T17:07:21.757865Z",
     "start_time": "2024-10-18T17:07:21.751452Z"
    }
   },
   "outputs": [],
   "source": [
    "import torch"
   ]
  },
  {
   "cell_type": "code",
   "execution_count": 2,
   "metadata": {
    "ExecuteTime": {
     "end_time": "2024-10-18T17:07:21.815999Z",
     "start_time": "2024-10-18T17:07:21.812980Z"
    }
   },
   "outputs": [],
   "source": [
    "# device = 'cuda' if torch.cuda.is_available() else 'cpu'"
   ]
  },
  {
   "cell_type": "code",
   "execution_count": 3,
   "metadata": {
    "ExecuteTime": {
     "end_time": "2024-10-18T17:07:21.869616Z",
     "start_time": "2024-10-18T17:07:21.864836Z"
    }
   },
   "outputs": [
    {
     "name": "stdout",
     "output_type": "stream",
     "text": [
      "tensor([[1, 2, 3],\n",
      "        [4, 5, 6]])\n"
     ]
    },
    {
     "name": "stderr",
     "output_type": "stream",
     "text": [
      "\n",
      "A module that was compiled using NumPy 1.x cannot be run in\n",
      "NumPy 2.1.3 as it may crash. To support both 1.x and 2.x\n",
      "versions of NumPy, modules must be compiled with NumPy 2.0.\n",
      "Some module may need to rebuild instead e.g. with 'pybind11>=2.12'.\n",
      "\n",
      "If you are a user of the module, the easiest solution will be to\n",
      "downgrade to 'numpy<2' or try to upgrade the affected module.\n",
      "We expect that some modules will need time to support NumPy 2.\n",
      "\n",
      "Traceback (most recent call last):  File \"/opt/anaconda3/envs/stable_env_nlp/lib/python3.10/runpy.py\", line 196, in _run_module_as_main\n",
      "    return _run_code(code, main_globals, None,\n",
      "  File \"/opt/anaconda3/envs/stable_env_nlp/lib/python3.10/runpy.py\", line 86, in _run_code\n",
      "    exec(code, run_globals)\n",
      "  File \"/opt/anaconda3/envs/stable_env_nlp/lib/python3.10/site-packages/ipykernel_launcher.py\", line 18, in <module>\n",
      "    app.launch_new_instance()\n",
      "  File \"/opt/anaconda3/envs/stable_env_nlp/lib/python3.10/site-packages/traitlets/config/application.py\", line 1075, in launch_instance\n",
      "    app.start()\n",
      "  File \"/opt/anaconda3/envs/stable_env_nlp/lib/python3.10/site-packages/ipykernel/kernelapp.py\", line 739, in start\n",
      "    self.io_loop.start()\n",
      "  File \"/opt/anaconda3/envs/stable_env_nlp/lib/python3.10/site-packages/tornado/platform/asyncio.py\", line 205, in start\n",
      "    self.asyncio_loop.run_forever()\n",
      "  File \"/opt/anaconda3/envs/stable_env_nlp/lib/python3.10/asyncio/base_events.py\", line 603, in run_forever\n",
      "    self._run_once()\n",
      "  File \"/opt/anaconda3/envs/stable_env_nlp/lib/python3.10/asyncio/base_events.py\", line 1909, in _run_once\n",
      "    handle._run()\n",
      "  File \"/opt/anaconda3/envs/stable_env_nlp/lib/python3.10/asyncio/events.py\", line 80, in _run\n",
      "    self._context.run(self._callback, *self._args)\n",
      "  File \"/opt/anaconda3/envs/stable_env_nlp/lib/python3.10/site-packages/ipykernel/kernelbase.py\", line 545, in dispatch_queue\n",
      "    await self.process_one()\n",
      "  File \"/opt/anaconda3/envs/stable_env_nlp/lib/python3.10/site-packages/ipykernel/kernelbase.py\", line 534, in process_one\n",
      "    await dispatch(*args)\n",
      "  File \"/opt/anaconda3/envs/stable_env_nlp/lib/python3.10/site-packages/ipykernel/kernelbase.py\", line 437, in dispatch_shell\n",
      "    await result\n",
      "  File \"/opt/anaconda3/envs/stable_env_nlp/lib/python3.10/site-packages/ipykernel/ipkernel.py\", line 362, in execute_request\n",
      "    await super().execute_request(stream, ident, parent)\n",
      "  File \"/opt/anaconda3/envs/stable_env_nlp/lib/python3.10/site-packages/ipykernel/kernelbase.py\", line 778, in execute_request\n",
      "    reply_content = await reply_content\n",
      "  File \"/opt/anaconda3/envs/stable_env_nlp/lib/python3.10/site-packages/ipykernel/ipkernel.py\", line 449, in do_execute\n",
      "    res = shell.run_cell(\n",
      "  File \"/opt/anaconda3/envs/stable_env_nlp/lib/python3.10/site-packages/ipykernel/zmqshell.py\", line 549, in run_cell\n",
      "    return super().run_cell(*args, **kwargs)\n",
      "  File \"/opt/anaconda3/envs/stable_env_nlp/lib/python3.10/site-packages/IPython/core/interactiveshell.py\", line 3075, in run_cell\n",
      "    result = self._run_cell(\n",
      "  File \"/opt/anaconda3/envs/stable_env_nlp/lib/python3.10/site-packages/IPython/core/interactiveshell.py\", line 3130, in _run_cell\n",
      "    result = runner(coro)\n",
      "  File \"/opt/anaconda3/envs/stable_env_nlp/lib/python3.10/site-packages/IPython/core/async_helpers.py\", line 128, in _pseudo_sync_runner\n",
      "    coro.send(None)\n",
      "  File \"/opt/anaconda3/envs/stable_env_nlp/lib/python3.10/site-packages/IPython/core/interactiveshell.py\", line 3334, in run_cell_async\n",
      "    has_raised = await self.run_ast_nodes(code_ast.body, cell_name,\n",
      "  File \"/opt/anaconda3/envs/stable_env_nlp/lib/python3.10/site-packages/IPython/core/interactiveshell.py\", line 3517, in run_ast_nodes\n",
      "    if await self.run_code(code, result, async_=asy):\n",
      "  File \"/opt/anaconda3/envs/stable_env_nlp/lib/python3.10/site-packages/IPython/core/interactiveshell.py\", line 3577, in run_code\n",
      "    exec(code_obj, self.user_global_ns, self.user_ns)\n",
      "  File \"/var/folders/vt/hgv58_ws0rjfsg_1d8fcxgww0000gn/T/ipykernel_99016/3298628125.py\", line 1, in <module>\n",
      "    my_tensor1 = torch.tensor([[1,2,3],[4,5,6]],device='cpu')\n",
      "/var/folders/vt/hgv58_ws0rjfsg_1d8fcxgww0000gn/T/ipykernel_99016/3298628125.py:1: UserWarning: Failed to initialize NumPy: _ARRAY_API not found (Triggered internally at /Users/runner/work/pytorch/pytorch/pytorch/torch/csrc/utils/tensor_numpy.cpp:84.)\n",
      "  my_tensor1 = torch.tensor([[1,2,3],[4,5,6]],device='cpu')\n"
     ]
    }
   ],
   "source": [
    "my_tensor1 = torch.tensor([[1,2,3],[4,5,6]],device='cpu')\n",
    "print(my_tensor1)"
   ]
  },
  {
   "cell_type": "code",
   "execution_count": 4,
   "metadata": {
    "ExecuteTime": {
     "end_time": "2024-10-18T17:07:22.129089Z",
     "start_time": "2024-10-18T17:07:22.099110Z"
    }
   },
   "outputs": [
    {
     "name": "stdout",
     "output_type": "stream",
     "text": [
      "tensor([[1., 2., 3.],\n",
      "        [4., 5., 6.]])\n",
      "tensor([1., 2., 3.])\n",
      "torch.Size([2, 3])\n",
      "cpu\n"
     ]
    }
   ],
   "source": [
    "my_tensor = torch.tensor([[1,2,3],[4,5,6]], dtype=torch.float32)\n",
    "\n",
    "print(my_tensor)\n",
    "print(my_tensor[0])\n",
    "print(my_tensor.shape)\n",
    "print(my_tensor.device)"
   ]
  },
  {
   "cell_type": "code",
   "execution_count": 5,
   "metadata": {
    "ExecuteTime": {
     "end_time": "2024-10-18T17:08:43.101461Z",
     "start_time": "2024-10-18T17:08:43.093771Z"
    }
   },
   "outputs": [],
   "source": [
    "x = torch.rand((3,3))\n",
    "x = torch.eye(5,5)\n"
   ]
  },
  {
   "cell_type": "code",
   "execution_count": 6,
   "metadata": {
    "ExecuteTime": {
     "end_time": "2024-10-18T17:08:01.289245Z",
     "start_time": "2024-10-18T17:08:01.283210Z"
    }
   },
   "outputs": [
    {
     "name": "stdout",
     "output_type": "stream",
     "text": [
      "tensor([[1., 0., 0., 0., 0.],\n",
      "        [0., 1., 0., 0., 0.],\n",
      "        [0., 0., 1., 0., 0.],\n",
      "        [0., 0., 0., 1., 0.],\n",
      "        [0., 0., 0., 0., 1.]])\n"
     ]
    }
   ],
   "source": [
    "print(x)"
   ]
  },
  {
   "cell_type": "code",
   "execution_count": 7,
   "metadata": {
    "ExecuteTime": {
     "end_time": "2024-10-18T17:17:39.074616Z",
     "start_time": "2024-10-18T17:17:39.064383Z"
    }
   },
   "outputs": [
    {
     "name": "stdout",
     "output_type": "stream",
     "text": [
      "tensor([[0., 0., 0.],\n",
      "        [0., 0., 0.],\n",
      "        [0., 0., 0.]])\n"
     ]
    },
    {
     "data": {
      "text/plain": [
       "tensor([[ 1.6176,  0.3273,  0.4470, -0.0216,  0.3393],\n",
       "        [ 1.0394,  0.1650,  0.3308,  0.3003, -1.3930],\n",
       "        [ 0.4751, -0.1962, -0.8457, -0.9112,  0.5127],\n",
       "        [ 1.4767, -0.3106,  1.4494, -0.3885, -0.8741],\n",
       "        [-0.2133, -0.3923,  0.4692, -1.3708, -0.8179]])"
      ]
     },
     "execution_count": 7,
     "metadata": {},
     "output_type": "execute_result"
    }
   ],
   "source": [
    "x = torch.linspace(start = 0.05, end =1, steps = 10)\n",
    "x = torch.zeros((3,3))\n",
    "print(x)\n",
    "torch.empty(size = (5,5)).normal_(mean = 0, std = 1)"
   ]
  },
  {
   "cell_type": "code",
   "execution_count": 8,
   "metadata": {
    "ExecuteTime": {
     "end_time": "2024-10-18T17:19:24.425055Z",
     "start_time": "2024-10-18T17:19:24.417881Z"
    }
   },
   "outputs": [
    {
     "data": {
      "text/plain": [
       "tensor([[0.0046, 0.1263, 0.8206, 0.1322, 0.1831, 0.8849, 0.6247, 0.2687, 0.9001,\n",
       "         0.5125],\n",
       "        [0.7864, 0.0315, 0.7216, 0.9928, 0.7956, 0.4836, 0.7655, 0.7954, 0.5450,\n",
       "         0.9733],\n",
       "        [0.4187, 0.0224, 0.9742, 0.2750, 0.1909, 0.6695, 0.1385, 0.3699, 0.6852,\n",
       "         0.5806],\n",
       "        [0.7597, 0.6150, 0.8297, 0.7259, 0.3331, 0.7075, 0.5737, 0.5329, 0.3474,\n",
       "         0.0432],\n",
       "        [0.2132, 0.0873, 0.8828, 0.7374, 0.2390, 0.5410, 0.0066, 0.3195, 0.7303,\n",
       "         0.1292],\n",
       "        [0.8989, 0.8898, 0.2100, 0.9596, 0.1927, 0.4401, 0.2602, 0.0757, 0.4380,\n",
       "         0.0971],\n",
       "        [0.9486, 0.5285, 0.0571, 0.0963, 0.7190, 0.3699, 0.7360, 0.7327, 0.3426,\n",
       "         0.0733],\n",
       "        [0.4182, 0.3096, 0.8583, 0.3597, 0.5946, 0.9829, 0.4675, 0.1847, 0.6938,\n",
       "         0.8180],\n",
       "        [0.3751, 0.9624, 0.8615, 0.2287, 0.9750, 0.7076, 0.6623, 0.5718, 0.5230,\n",
       "         0.5336],\n",
       "        [0.9895, 0.5940, 0.3770, 0.6484, 0.7386, 0.9514, 0.9891, 0.0619, 0.2785,\n",
       "         0.4396],\n",
       "        [0.3290, 0.3113, 0.6105, 0.9169, 0.2030, 0.8744, 0.7899, 0.2180, 0.3911,\n",
       "         0.2947],\n",
       "        [0.9613, 0.8608, 0.6510, 0.7975, 0.0923, 0.4292, 0.1226, 0.6659, 0.9081,\n",
       "         0.6771],\n",
       "        [0.6495, 0.3099, 0.2801, 0.3236, 0.0747, 0.3930, 0.2006, 0.3616, 0.1768,\n",
       "         0.6304],\n",
       "        [0.0013, 0.6465, 0.3044, 0.5540, 0.1196, 0.7039, 0.9509, 0.7741, 0.6405,\n",
       "         0.6166],\n",
       "        [0.7423, 0.3488, 0.7040, 0.1627, 0.7399, 0.4885, 0.9945, 0.3095, 0.7677,\n",
       "         0.6463]])"
      ]
     },
     "execution_count": 8,
     "metadata": {},
     "output_type": "execute_result"
    }
   ],
   "source": [
    "torch.empty(size = (15,10)).uniform_(0,1)"
   ]
  },
  {
   "cell_type": "code",
   "execution_count": 9,
   "metadata": {
    "ExecuteTime": {
     "end_time": "2024-10-18T17:27:57.437191Z",
     "start_time": "2024-10-18T17:27:57.431574Z"
    }
   },
   "outputs": [
    {
     "data": {
      "text/plain": [
       "tensor([ 0.0200,  5.0100, 10.0000])"
      ]
     },
     "execution_count": 9,
     "metadata": {},
     "output_type": "execute_result"
    }
   ],
   "source": [
    "torch.linspace(start=0.02,end=10,steps=3, dtype = torch.float32)"
   ]
  },
  {
   "cell_type": "code",
   "execution_count": 10,
   "metadata": {
    "ExecuteTime": {
     "end_time": "2024-10-18T17:33:40.412716Z",
     "start_time": "2024-10-18T17:33:40.406357Z"
    }
   },
   "outputs": [
    {
     "data": {
      "text/plain": [
       "tensor([1, 2, 3, 4, 5, 6, 7, 8, 9])"
      ]
     },
     "execution_count": 10,
     "metadata": {},
     "output_type": "execute_result"
    }
   ],
   "source": [
    "torch.arange(start=1,end=10)"
   ]
  },
  {
   "cell_type": "markdown",
   "metadata": {},
   "source": [
    "## Converting tensors to different types"
   ]
  },
  {
   "cell_type": "code",
   "execution_count": 11,
   "metadata": {
    "ExecuteTime": {
     "end_time": "2024-10-18T17:37:33.119677Z",
     "start_time": "2024-10-18T17:37:33.115996Z"
    }
   },
   "outputs": [],
   "source": [
    "import numpy as np\n",
    "\n",
    "array = np.zeros((5,5))"
   ]
  },
  {
   "cell_type": "code",
   "execution_count": 12,
   "metadata": {
    "ExecuteTime": {
     "end_time": "2024-10-18T17:37:50.405279Z",
     "start_time": "2024-10-18T17:37:50.397882Z"
    }
   },
   "outputs": [
    {
     "ename": "RuntimeError",
     "evalue": "Numpy is not available",
     "output_type": "error",
     "traceback": [
      "\u001b[0;31m---------------------------------------------------------------------------\u001b[0m",
      "\u001b[0;31mRuntimeError\u001b[0m                              Traceback (most recent call last)",
      "Cell \u001b[0;32mIn[12], line 1\u001b[0m\n\u001b[0;32m----> 1\u001b[0m \u001b[43mtorch\u001b[49m\u001b[38;5;241;43m.\u001b[39;49m\u001b[43mfrom_numpy\u001b[49m\u001b[43m(\u001b[49m\u001b[43marray\u001b[49m\u001b[43m)\u001b[49m\n",
      "\u001b[0;31mRuntimeError\u001b[0m: Numpy is not available"
     ]
    }
   ],
   "source": [
    "torch.from_numpy(array)"
   ]
  },
  {
   "cell_type": "code",
   "execution_count": 14,
   "metadata": {},
   "outputs": [],
   "source": [
    "tensor = torch.randn(3, 5, 7)\n",
    "tensor2 = torch.randn(3,5)"
   ]
  },
  {
   "cell_type": "code",
   "execution_count": 16,
   "metadata": {},
   "outputs": [
    {
     "name": "stdout",
     "output_type": "stream",
     "text": [
      "<class 'torch.Tensor'>\n",
      "<class 'torch.dtype'>\n"
     ]
    }
   ],
   "source": [
    "print(type(tensor))\n",
    "print(torch.dtype)"
   ]
  },
  {
   "cell_type": "code",
   "execution_count": 17,
   "metadata": {},
   "outputs": [
    {
     "name": "stdout",
     "output_type": "stream",
     "text": [
      "tensor([[-2.6206,  1.0753, -0.3568,  0.7711,  1.5965],\n",
      "        [ 0.3307, -0.6471,  0.5818, -0.3293, -0.4117],\n",
      "        [-0.6212,  0.5400, -1.0890,  1.8086,  0.8381]])\n"
     ]
    }
   ],
   "source": [
    "print(tensor2)"
   ]
  },
  {
   "cell_type": "code",
   "execution_count": 27,
   "metadata": {},
   "outputs": [
    {
     "name": "stdout",
     "output_type": "stream",
     "text": [
      "torch.Size([3, 5, 7])\n",
      "105\n"
     ]
    }
   ],
   "source": [
    "print(tensor.shape)\n",
    "print(tensor.numel())"
   ]
  },
  {
   "cell_type": "code",
   "execution_count": 13,
   "metadata": {},
   "outputs": [],
   "source": [
    "tensor = [[1,2,3],[1,2,3],[4,5,6],[4,5,6]]"
   ]
  },
  {
   "cell_type": "code",
   "execution_count": 23,
   "metadata": {},
   "outputs": [
    {
     "name": "stdout",
     "output_type": "stream",
     "text": [
      "<class 'list'>\n",
      "tensor([[1., 2., 3.],\n",
      "        [1., 2., 3.],\n",
      "        [4., 5., 6.],\n",
      "        [4., 5., 6.]], dtype=torch.float64)\n",
      "torch.float64\n",
      "<class 'torch.Tensor'>\n",
      "torch.Size([4, 3])\n"
     ]
    }
   ],
   "source": [
    "print(type(tensor))\n",
    "real_tensor =torch.tensor(tensor, dtype=torch.float64)\n",
    "print(real_tensor)\n",
    "print(real_tensor.dtype)\n",
    "print(type(real_tensor))\n",
    "print(real_tensor.shape)"
   ]
  },
  {
   "cell_type": "code",
   "execution_count": 52,
   "metadata": {},
   "outputs": [
    {
     "data": {
      "text/plain": [
       "tensor([[0.4101, 0.2752, 0.8823],\n",
       "        [0.7056, 0.5537, 0.4521],\n",
       "        [0.5061, 0.1842, 0.9900],\n",
       "        [0.5962, 0.7901, 0.2643]], dtype=torch.float64)"
      ]
     },
     "execution_count": 52,
     "metadata": {},
     "output_type": "execute_result"
    }
   ],
   "source": [
    "torch.rand_like(real_tensor)"
   ]
  },
  {
   "cell_type": "code",
   "execution_count": 53,
   "metadata": {},
   "outputs": [
    {
     "data": {
      "text/plain": [
       "tensor([[0., 0., 0.],\n",
       "        [0., 0., 0.],\n",
       "        [0., 0., 0.],\n",
       "        [0., 0., 0.]], dtype=torch.float64)"
      ]
     },
     "execution_count": 53,
     "metadata": {},
     "output_type": "execute_result"
    }
   ],
   "source": [
    "torch.empty_like(real_tensor)"
   ]
  },
  {
   "cell_type": "code",
   "execution_count": 24,
   "metadata": {},
   "outputs": [
    {
     "data": {
      "text/plain": [
       "tensor([[0., 0., 0.],\n",
       "        [0., 0., 0.],\n",
       "        [0., 0., 0.]])"
      ]
     },
     "execution_count": 24,
     "metadata": {},
     "output_type": "execute_result"
    }
   ],
   "source": [
    "torch.zeros(3,3)"
   ]
  },
  {
   "cell_type": "code",
   "execution_count": 28,
   "metadata": {},
   "outputs": [
    {
     "name": "stdout",
     "output_type": "stream",
     "text": [
      "tensor([[1, 0, 0, 0, 0],\n",
      "        [0, 1, 0, 0, 0],\n",
      "        [0, 0, 1, 0, 0],\n",
      "        [0, 0, 0, 1, 0],\n",
      "        [0, 0, 0, 0, 1]])\n",
      "<class 'torch.Tensor'>\n"
     ]
    }
   ],
   "source": [
    "identity_matrix = torch.eye(5, dtype = torch.int64)\n",
    "print(identity_matrix)\n",
    "print(type(identity_matrix))"
   ]
  },
  {
   "cell_type": "code",
   "execution_count": 35,
   "metadata": {},
   "outputs": [
    {
     "data": {
      "text/plain": [
       "tensor([  0,   7,  14,  21,  28,  35,  42,  50,  57,  64,  71,  78,  85,  92,\n",
       "        100], dtype=torch.int16)"
      ]
     },
     "execution_count": 35,
     "metadata": {},
     "output_type": "execute_result"
    }
   ],
   "source": [
    "torch.linspace(0,100,15,dtype=torch.int16)"
   ]
  },
  {
   "cell_type": "code",
   "execution_count": 46,
   "metadata": {},
   "outputs": [
    {
     "name": "stdout",
     "output_type": "stream",
     "text": [
      "tensor([[6, 6, 6],\n",
      "        [6, 6, 6],\n",
      "        [6, 6, 6]])\n",
      "tensor([[1, 0, 0, 0, 0],\n",
      "        [0, 1, 0, 0, 0],\n",
      "        [0, 0, 1, 0, 0],\n",
      "        [0, 0, 0, 1, 0],\n",
      "        [0, 0, 0, 0, 1]], dtype=torch.int32)\n",
      "tensor([0, 1, 2, 3, 4, 5, 6, 7, 8, 9])\n",
      "tensor([0.0000, 0.1111, 0.2222, 0.3333, 0.4444, 0.5556, 0.6667, 0.7778, 0.8889,\n",
      "        1.0000])\n"
     ]
    }
   ],
   "source": [
    "square_matrix = torch.full((3,3),6)\n",
    "print(square_matrix)\n",
    "\n",
    "identity_matrix = torch.eye(5, dtype=torch.int)\n",
    "print(identity_matrix)\n",
    "\n",
    "vector = torch.arange(0,10,1)\n",
    "print(vector)\n",
    "\n",
    "vector2 =torch.linspace(0,1,10)\n",
    "print(vector2)"
   ]
  },
  {
   "cell_type": "code",
   "execution_count": 51,
   "metadata": {},
   "outputs": [
    {
     "name": "stdout",
     "output_type": "stream",
     "text": [
      "tensor([[0., 0., 0.],\n",
      "        [0., 0., 0.],\n",
      "        [0., 0., 0.]])\n",
      "tensor([[-1.3708,  0.3068, -0.2712],\n",
      "        [ 1.3652, -1.0240,  0.9374]])\n",
      "tensor([[0.4045, 0.1973, 0.7069],\n",
      "        [0.3468, 0.0087, 0.9110]])\n"
     ]
    }
   ],
   "source": [
    "empty_matrix = torch.zeros(3,3)\n",
    "print(empty_matrix)\n",
    "\n",
    "random_matrix = torch.randn(2,3)\n",
    "print(random_matrix)\n",
    "\n",
    "random_2 = torch.rand(2,3)\n",
    "print(random_2)"
   ]
  },
  {
   "cell_type": "code",
   "execution_count": 64,
   "metadata": {},
   "outputs": [
    {
     "name": "stdout",
     "output_type": "stream",
     "text": [
      "tensor([[0.1117, 0.8158, 0.2626],\n",
      "        [0.4839, 0.6765, 0.7539],\n",
      "        [0.2627, 0.0428, 0.2080]])\n"
     ]
    }
   ],
   "source": [
    "torch.manual_seed(100)\n",
    "x = torch.rand(3,3)\n",
    "print(x)"
   ]
  },
  {
   "cell_type": "markdown",
   "metadata": {},
   "source": [
    "### Scalar Operations"
   ]
  },
  {
   "cell_type": "code",
   "execution_count": 59,
   "metadata": {},
   "outputs": [
    {
     "name": "stdout",
     "output_type": "stream",
     "text": [
      "tensor([[2.3221, 2.9215, 2.2711],\n",
      "        [2.6352, 2.4454, 2.2248],\n",
      "        [2.7026, 2.6572, 2.6469]])\n",
      "tensor([[-1.6779, -1.0785, -1.7289],\n",
      "        [-1.3648, -1.5546, -1.7752],\n",
      "        [-1.2974, -1.3428, -1.3531]])\n",
      "tensor([[0.9662, 2.7646, 0.8134],\n",
      "        [1.9055, 1.3362, 0.6744],\n",
      "        [2.1078, 1.9716, 1.9408]])\n"
     ]
    }
   ],
   "source": [
    "## addition\n",
    "add = x + 2\n",
    "print(add)\n",
    "\n",
    "sub = x - 2\n",
    "print(sub)\n",
    "\n",
    "multiply = x * 3\n",
    "print(multiply)"
   ]
  },
  {
   "cell_type": "markdown",
   "metadata": {},
   "source": [
    "## Elementwise Operations"
   ]
  },
  {
   "cell_type": "code",
   "execution_count": 74,
   "metadata": {},
   "outputs": [
    {
     "name": "stdout",
     "output_type": "stream",
     "text": [
      "tensor([[0.1117, 0.8158, 0.2626],\n",
      "        [0.4839, 0.6765, 0.7539],\n",
      "        [0.2627, 0.0428, 0.2080]])\n",
      "tensor([[0.1180, 0.1217, 0.7356],\n",
      "        [0.7118, 0.7876, 0.4183],\n",
      "        [0.9014, 0.9969, 0.7565]])\n"
     ]
    }
   ],
   "source": [
    "torch.manual_seed(100)\n",
    "x = torch.rand(3,3)\n",
    "y = torch.rand(3,3)\n",
    "print(x)\n",
    "print(y)"
   ]
  },
  {
   "cell_type": "code",
   "execution_count": 77,
   "metadata": {},
   "outputs": [
    {
     "name": "stdout",
     "output_type": "stream",
     "text": [
      "tensor([[0.2297, 0.9375, 0.9982],\n",
      "        [1.1956, 1.4641, 1.1722],\n",
      "        [1.1641, 1.0397, 0.9645]])\n",
      "tensor([[-0.0064,  0.6941, -0.4730],\n",
      "        [-0.2279, -0.1111,  0.3356],\n",
      "        [-0.6387, -0.9540, -0.5485]])\n",
      "tensor([[0.0132, 0.0993, 0.1931],\n",
      "        [0.3444, 0.5328, 0.3154],\n",
      "        [0.2368, 0.0427, 0.1574]])\n",
      "tensor([[0.9460, 6.7040, 0.3569],\n",
      "        [0.6798, 0.8590, 1.8023],\n",
      "        [0.2914, 0.0430, 0.2750]])\n",
      "tensor([[0.1117, 0.0857, 0.2626],\n",
      "        [0.4839, 0.6765, 0.3356],\n",
      "        [0.2627, 0.0428, 0.2080]])\n"
     ]
    }
   ],
   "source": [
    "\n",
    "print(x + y)\n",
    "print(x-y)\n",
    "print(x*y)\n",
    "print(x/y)\n",
    "print(x % y)"
   ]
  },
  {
   "cell_type": "markdown",
   "metadata": {},
   "source": [
    "## Reduction operations\n"
   ]
  },
  {
   "cell_type": "code",
   "execution_count": 92,
   "metadata": {},
   "outputs": [
    {
     "name": "stdout",
     "output_type": "stream",
     "text": [
      "tensor([[7., 0., 0.],\n",
      "        [9., 5., 7.]])\n"
     ]
    }
   ],
   "source": [
    "e = torch.randint(size = (2,3) , low = 0, high = 10, dtype = torch.float32)\n",
    "print(e)"
   ]
  },
  {
   "cell_type": "code",
   "execution_count": 93,
   "metadata": {},
   "outputs": [
    {
     "name": "stdout",
     "output_type": "stream",
     "text": [
      "tensor(28.)\n",
      "tensor([16.,  5.,  7.])\n",
      "tensor([ 7., 21.])\n"
     ]
    }
   ],
   "source": [
    "print(torch.sum(e))\n",
    "print(torch.sum(e, dim = 0))\n",
    "print(torch.sum(e, dim = 1))"
   ]
  },
  {
   "cell_type": "code",
   "execution_count": 95,
   "metadata": {},
   "outputs": [
    {
     "name": "stdout",
     "output_type": "stream",
     "text": [
      "tensor(4.6667)\n",
      "tensor([8.0000, 2.5000, 3.5000])\n"
     ]
    }
   ],
   "source": [
    "print(torch.mean(e))\n",
    "print(torch.mean(e, dim = 0))"
   ]
  },
  {
   "cell_type": "code",
   "execution_count": 100,
   "metadata": {},
   "outputs": [
    {
     "name": "stdout",
     "output_type": "stream",
     "text": [
      "tensor(5.)\n",
      "tensor(9.)\n",
      "tensor(0.)\n",
      "tensor(14.6667)\n"
     ]
    }
   ],
   "source": [
    "print(torch.median(e))\n",
    "print(torch.max(e))\n",
    "print(torch.prod(e))\n",
    "print(torch.var(e))"
   ]
  },
  {
   "cell_type": "code",
   "execution_count": 102,
   "metadata": {},
   "outputs": [
    {
     "name": "stdout",
     "output_type": "stream",
     "text": [
      "tensor(3)\n",
      "tensor(1)\n"
     ]
    }
   ],
   "source": [
    "print(torch.argmax(e))\n",
    "print(torch.argmin(e))"
   ]
  },
  {
   "cell_type": "markdown",
   "metadata": {},
   "source": [
    "## Matrix Operations"
   ]
  },
  {
   "cell_type": "code",
   "execution_count": 103,
   "metadata": {},
   "outputs": [
    {
     "name": "stdout",
     "output_type": "stream",
     "text": [
      "tensor([[0.1117, 0.8158, 0.2626],\n",
      "        [0.4839, 0.6765, 0.7539],\n",
      "        [0.2627, 0.0428, 0.2080]])\n",
      "tensor([[0.1180, 0.1217, 0.7356],\n",
      "        [0.7118, 0.7876, 0.4183],\n",
      "        [0.9014, 0.9969, 0.7565]])\n"
     ]
    }
   ],
   "source": [
    "torch.manual_seed(100)\n",
    "x = torch.rand(3,3)\n",
    "y = torch.rand(3,3)\n",
    "print(x)\n",
    "print(y)"
   ]
  },
  {
   "cell_type": "code",
   "execution_count": 122,
   "metadata": {},
   "outputs": [
    {
     "name": "stdout",
     "output_type": "stream",
     "text": [
      "tensor([[0.8305, 0.9179, 0.6220],\n",
      "        [1.2182, 1.3432, 1.2093],\n",
      "        [0.2490, 0.2731, 0.3685]])\n"
     ]
    }
   ],
   "source": [
    "print(torch.matmul(x,y))"
   ]
  },
  {
   "cell_type": "code",
   "execution_count": 141,
   "metadata": {},
   "outputs": [
    {
     "name": "stdout",
     "output_type": "stream",
     "text": [
      "tensor([[0.0000],\n",
      "        [0.5000],\n",
      "        [1.0000]])\n"
     ]
    },
    {
     "data": {
      "text/plain": [
       "torch.Size([3, 1])"
      ]
     },
     "execution_count": 141,
     "metadata": {},
     "output_type": "execute_result"
    }
   ],
   "source": [
    "vector = torch.linspace(0,1,3).unsqueeze(1)\n",
    "print(vector)\n",
    "vector.shape"
   ]
  },
  {
   "cell_type": "code",
   "execution_count": 143,
   "metadata": {},
   "outputs": [
    {
     "name": "stdout",
     "output_type": "stream",
     "text": [
      "tensor([[0.6705],\n",
      "        [1.0922],\n",
      "        [0.2294]])\n"
     ]
    }
   ],
   "source": [
    "transformed = torch.mm(x,vector)\n",
    "print(transformed)"
   ]
  },
  {
   "cell_type": "code",
   "execution_count": 144,
   "metadata": {},
   "outputs": [
    {
     "data": {
      "text/plain": [
       "tensor(0.0503)"
      ]
     },
     "execution_count": 144,
     "metadata": {},
     "output_type": "execute_result"
    }
   ],
   "source": [
    "torch.det(x)"
   ]
  },
  {
   "cell_type": "code",
   "execution_count": 145,
   "metadata": {},
   "outputs": [
    {
     "name": "stdout",
     "output_type": "stream",
     "text": [
      "tensor([[ 2.1540, -3.1479,  8.6896],\n",
      "        [ 1.9345, -0.9087,  0.8514],\n",
      "        [-3.1183,  4.1622, -6.3412]])\n"
     ]
    }
   ],
   "source": [
    "inverse = torch.inverse(x)\n",
    "print(inverse)"
   ]
  },
  {
   "cell_type": "code",
   "execution_count": 146,
   "metadata": {},
   "outputs": [
    {
     "name": "stdout",
     "output_type": "stream",
     "text": [
      "tensor([[0.0000],\n",
      "        [0.5000],\n",
      "        [1.0000]])\n"
     ]
    }
   ],
   "source": [
    "ori_x = torch.mm(inverse, transformed)\n",
    "print(ori_x)"
   ]
  }
 ],
 "metadata": {
  "kernelspec": {
   "display_name": "stable_env_nlp",
   "language": "python",
   "name": "python3"
  },
  "language_info": {
   "codemirror_mode": {
    "name": "ipython",
    "version": 3
   },
   "file_extension": ".py",
   "mimetype": "text/x-python",
   "name": "python",
   "nbconvert_exporter": "python",
   "pygments_lexer": "ipython3",
   "version": "3.10.15"
  }
 },
 "nbformat": 4,
 "nbformat_minor": 2
}
