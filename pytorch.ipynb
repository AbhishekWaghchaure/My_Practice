{
 "cells": [
  {
   "cell_type": "code",
   "execution_count": 2,
   "metadata": {
    "ExecuteTime": {
     "end_time": "2024-10-18T17:07:21.757865Z",
     "start_time": "2024-10-18T17:07:21.751452Z"
    }
   },
   "outputs": [],
   "source": [
    "import torch"
   ]
  },
  {
   "cell_type": "code",
   "execution_count": 3,
   "metadata": {
    "ExecuteTime": {
     "end_time": "2024-10-18T17:07:21.815999Z",
     "start_time": "2024-10-18T17:07:21.812980Z"
    }
   },
   "outputs": [],
   "source": [
    "# device = 'cuda' if torch.cuda.is_available() else 'cpu'"
   ]
  },
  {
   "cell_type": "code",
   "execution_count": 4,
   "metadata": {
    "ExecuteTime": {
     "end_time": "2024-10-18T17:07:21.869616Z",
     "start_time": "2024-10-18T17:07:21.864836Z"
    }
   },
   "outputs": [
    {
     "name": "stdout",
     "output_type": "stream",
     "text": [
      "tensor([[1, 2, 3],\n",
      "        [4, 5, 6]])\n"
     ]
    }
   ],
   "source": [
    "my_tensor1 = torch.tensor([[1,2,3],[4,5,6]],device='cpu')\n",
    "print(my_tensor1)"
   ]
  },
  {
   "cell_type": "code",
   "execution_count": 5,
   "metadata": {
    "ExecuteTime": {
     "end_time": "2024-10-18T17:07:22.129089Z",
     "start_time": "2024-10-18T17:07:22.099110Z"
    }
   },
   "outputs": [
    {
     "name": "stdout",
     "output_type": "stream",
     "text": [
      "tensor([[1., 2., 3.],\n",
      "        [4., 5., 6.]])\n",
      "tensor([1., 2., 3.])\n",
      "torch.Size([2, 3])\n",
      "cpu\n"
     ]
    }
   ],
   "source": [
    "my_tensor = torch.tensor([[1,2,3],[4,5,6]], dtype=torch.float32)\n",
    "\n",
    "print(my_tensor)\n",
    "print(my_tensor[0])\n",
    "print(my_tensor.shape)\n",
    "print(my_tensor.device)"
   ]
  },
  {
   "cell_type": "code",
   "execution_count": 6,
   "metadata": {
    "ExecuteTime": {
     "end_time": "2024-10-18T17:08:43.101461Z",
     "start_time": "2024-10-18T17:08:43.093771Z"
    }
   },
   "outputs": [],
   "source": [
    "x = torch.rand((3,3))\n",
    "x = torch.eye(5,5)\n"
   ]
  },
  {
   "cell_type": "code",
   "execution_count": 7,
   "metadata": {
    "ExecuteTime": {
     "end_time": "2024-10-18T17:08:01.289245Z",
     "start_time": "2024-10-18T17:08:01.283210Z"
    }
   },
   "outputs": [
    {
     "name": "stdout",
     "output_type": "stream",
     "text": [
      "tensor([[1., 0., 0., 0., 0.],\n",
      "        [0., 1., 0., 0., 0.],\n",
      "        [0., 0., 1., 0., 0.],\n",
      "        [0., 0., 0., 1., 0.],\n",
      "        [0., 0., 0., 0., 1.]])\n"
     ]
    }
   ],
   "source": [
    "print(x)"
   ]
  },
  {
   "cell_type": "code",
   "execution_count": 8,
   "metadata": {
    "ExecuteTime": {
     "end_time": "2024-10-18T17:17:39.074616Z",
     "start_time": "2024-10-18T17:17:39.064383Z"
    }
   },
   "outputs": [
    {
     "name": "stdout",
     "output_type": "stream",
     "text": [
      "tensor([[0., 0., 0.],\n",
      "        [0., 0., 0.],\n",
      "        [0., 0., 0.]])\n"
     ]
    },
    {
     "data": {
      "text/plain": [
       "tensor([[-0.3558,  0.7379, -1.7216, -0.3631,  1.1865],\n",
       "        [ 0.4218, -0.4094,  0.5986,  0.1697,  0.2632],\n",
       "        [-0.0799, -0.0855, -0.3329, -0.7650, -1.4052],\n",
       "        [ 2.5321, -0.4126,  0.8638, -0.3430, -1.0707],\n",
       "        [-1.0863,  0.6351,  1.0240, -0.0723,  1.3903]])"
      ]
     },
     "execution_count": 8,
     "metadata": {},
     "output_type": "execute_result"
    }
   ],
   "source": [
    "x = torch.linspace(start = 0.05, end =1, steps = 10)\n",
    "x = torch.zeros((3,3))\n",
    "print(x)\n",
    "torch.empty(size = (5,5)).normal_(mean = 0, std = 1)"
   ]
  },
  {
   "cell_type": "code",
   "execution_count": 9,
   "metadata": {
    "ExecuteTime": {
     "end_time": "2024-10-18T17:19:24.425055Z",
     "start_time": "2024-10-18T17:19:24.417881Z"
    }
   },
   "outputs": [
    {
     "data": {
      "text/plain": [
       "tensor([[4.5904e-01, 6.8572e-01, 5.6569e-01, 9.1080e-01, 7.5640e-01, 3.4257e-01,\n",
       "         3.8202e-01, 8.4676e-01, 7.8185e-01, 8.0855e-01],\n",
       "        [4.7160e-01, 1.4901e-01, 7.7415e-01, 4.8595e-02, 6.3844e-01, 9.9028e-01,\n",
       "         1.5187e-02, 4.2667e-01, 6.6851e-01, 2.9709e-01],\n",
       "        [3.5013e-01, 1.5020e-01, 7.1725e-01, 8.8221e-01, 8.8149e-01, 7.6207e-02,\n",
       "         2.1494e-03, 8.2127e-01, 1.5041e-01, 2.9187e-01],\n",
       "        [2.5760e-01, 4.3073e-02, 9.8494e-01, 7.8187e-02, 3.7318e-01, 5.4223e-01,\n",
       "         4.5217e-01, 9.1778e-01, 9.5354e-01, 6.4314e-01],\n",
       "        [6.6348e-01, 2.3656e-01, 5.5589e-01, 4.0179e-01, 9.0418e-01, 9.3163e-01,\n",
       "         5.9255e-01, 3.5495e-01, 3.6582e-01, 7.1666e-01],\n",
       "        [2.8658e-04, 5.7095e-01, 1.0425e-02, 7.5228e-01, 3.5393e-02, 1.5242e-02,\n",
       "         7.4262e-01, 9.4087e-01, 8.9348e-01, 4.9843e-01],\n",
       "        [8.9688e-01, 5.5702e-01, 7.6240e-01, 9.9075e-01, 8.7107e-01, 7.6973e-01,\n",
       "         6.6710e-01, 6.5159e-01, 6.9165e-02, 1.7564e-01],\n",
       "        [3.5276e-01, 3.4051e-01, 1.5616e-01, 4.6711e-01, 7.4505e-01, 4.3590e-01,\n",
       "         8.8748e-01, 2.5718e-01, 9.6603e-01, 3.0084e-01],\n",
       "        [3.1764e-02, 6.4332e-02, 8.5888e-01, 9.2845e-01, 5.2352e-01, 2.8613e-01,\n",
       "         9.8172e-01, 4.8833e-01, 1.7804e-01, 5.5952e-01],\n",
       "        [2.9893e-01, 5.1393e-02, 4.1596e-01, 6.6258e-01, 3.7481e-01, 7.3335e-01,\n",
       "         3.1271e-01, 7.6803e-01, 5.2703e-01, 5.1265e-01],\n",
       "        [4.9092e-01, 3.9951e-01, 4.3386e-01, 2.6631e-01, 2.6169e-01, 9.7923e-01,\n",
       "         8.1975e-01, 3.3379e-01, 8.9122e-01, 5.8792e-01],\n",
       "        [2.0983e-01, 8.3212e-01, 8.8323e-01, 1.7778e-01, 5.9821e-02, 2.0704e-01,\n",
       "         8.7297e-03, 2.8358e-01, 1.8938e-01, 3.8156e-01],\n",
       "        [3.9421e-01, 4.9594e-01, 8.6843e-01, 1.1815e-01, 5.1420e-01, 8.9404e-02,\n",
       "         8.0234e-01, 4.8651e-02, 8.9800e-02, 9.3900e-01],\n",
       "        [5.3708e-01, 9.5916e-01, 4.1340e-01, 7.4906e-01, 1.0858e-02, 6.4715e-01,\n",
       "         6.9124e-01, 6.4079e-01, 4.0241e-01, 7.1620e-01],\n",
       "        [7.2372e-02, 2.2709e-04, 7.8772e-01, 7.8010e-01, 6.5831e-01, 9.9962e-01,\n",
       "         8.4277e-01, 4.8903e-01, 4.3717e-01, 8.8728e-01]])"
      ]
     },
     "execution_count": 9,
     "metadata": {},
     "output_type": "execute_result"
    }
   ],
   "source": [
    "torch.empty(size = (15,10)).uniform_(0,1)"
   ]
  },
  {
   "cell_type": "code",
   "execution_count": 10,
   "metadata": {
    "ExecuteTime": {
     "end_time": "2024-10-18T17:27:57.437191Z",
     "start_time": "2024-10-18T17:27:57.431574Z"
    }
   },
   "outputs": [
    {
     "data": {
      "text/plain": [
       "tensor([ 0.0200,  5.0100, 10.0000])"
      ]
     },
     "execution_count": 10,
     "metadata": {},
     "output_type": "execute_result"
    }
   ],
   "source": [
    "torch.linspace(start=0.02,end=10,steps=3, dtype = torch.float32)"
   ]
  },
  {
   "cell_type": "code",
   "execution_count": 11,
   "metadata": {
    "ExecuteTime": {
     "end_time": "2024-10-18T17:33:40.412716Z",
     "start_time": "2024-10-18T17:33:40.406357Z"
    }
   },
   "outputs": [
    {
     "data": {
      "text/plain": [
       "tensor([1, 2, 3, 4, 5, 6, 7, 8, 9])"
      ]
     },
     "execution_count": 11,
     "metadata": {},
     "output_type": "execute_result"
    }
   ],
   "source": [
    "torch.arange(start=1,end=10)"
   ]
  },
  {
   "cell_type": "markdown",
   "metadata": {},
   "source": [
    "## Converting tensors to different types"
   ]
  },
  {
   "cell_type": "code",
   "execution_count": 12,
   "metadata": {
    "ExecuteTime": {
     "end_time": "2024-10-18T17:37:33.119677Z",
     "start_time": "2024-10-18T17:37:33.115996Z"
    }
   },
   "outputs": [],
   "source": [
    "import numpy as np\n",
    "\n",
    "array = np.zeros((5,5))"
   ]
  },
  {
   "cell_type": "code",
   "execution_count": 13,
   "metadata": {
    "ExecuteTime": {
     "end_time": "2024-10-18T17:37:50.405279Z",
     "start_time": "2024-10-18T17:37:50.397882Z"
    }
   },
   "outputs": [
    {
     "data": {
      "text/plain": [
       "tensor([[0., 0., 0., 0., 0.],\n",
       "        [0., 0., 0., 0., 0.],\n",
       "        [0., 0., 0., 0., 0.],\n",
       "        [0., 0., 0., 0., 0.],\n",
       "        [0., 0., 0., 0., 0.]], dtype=torch.float64)"
      ]
     },
     "execution_count": 13,
     "metadata": {},
     "output_type": "execute_result"
    }
   ],
   "source": [
    "torch.from_numpy(array)"
   ]
  },
  {
   "cell_type": "code",
   "execution_count": 16,
   "metadata": {},
   "outputs": [],
   "source": [
    "tensor = torch.randn(3, 5, 7)\n",
    "tensor2 = torch.randn(3,5)"
   ]
  },
  {
   "cell_type": "code",
   "execution_count": 15,
   "metadata": {},
   "outputs": [
    {
     "data": {
      "text/plain": [
       "tensor([[[ 0.6567, -1.2895,  1.9252, -0.3503,  0.2045,  0.9494, -0.0080],\n",
       "         [ 1.0024, -1.0137,  0.7811,  0.3498, -1.6366, -0.8023, -0.3725],\n",
       "         [ 0.9333, -1.3199,  0.1279, -0.8405,  1.4475, -1.5913,  0.3452],\n",
       "         [-0.0261, -0.1443, -1.6655, -0.8761, -0.9584, -0.8526,  0.1086],\n",
       "         [ 0.5762,  0.9218, -0.4195, -0.9456,  0.2614, -0.0459, -1.7869]],\n",
       "\n",
       "        [[-0.0331,  1.3913, -0.2608,  0.4408, -0.8804,  0.2045, -0.2662],\n",
       "         [-0.9797,  1.1224, -0.8129,  0.4757,  0.9840,  0.1403,  1.2394],\n",
       "         [ 0.1604,  1.0113, -0.5701, -0.0397, -0.3808,  0.1814, -0.5136],\n",
       "         [ 1.7745,  1.3186,  0.6035, -0.0186,  1.7702, -0.2886, -0.2118],\n",
       "         [-2.3470,  0.8636, -0.2389,  0.0915,  0.0733, -0.4188, -0.1687]],\n",
       "\n",
       "        [[-0.7038,  1.1333, -0.2897, -1.3056,  1.0121,  2.1352, -1.1139],\n",
       "         [-2.1006, -1.0298, -0.1093, -0.6660,  0.5843, -0.0272,  1.5453],\n",
       "         [ 1.2059,  0.8602,  1.1104, -1.5080, -1.0279, -1.0576,  0.4540],\n",
       "         [ 0.6408,  0.2916, -0.9105,  0.6945, -0.3585, -1.4661,  0.6789],\n",
       "         [-0.0987, -0.6337, -0.0232,  1.0356, -0.2167,  0.2760, -0.9239]]])"
      ]
     },
     "execution_count": 15,
     "metadata": {},
     "output_type": "execute_result"
    }
   ],
   "source": [
    "tensor"
   ]
  },
  {
   "cell_type": "code",
   "execution_count": 17,
   "metadata": {},
   "outputs": [
    {
     "name": "stdout",
     "output_type": "stream",
     "text": [
      "tensor([[-2.6206,  1.0753, -0.3568,  0.7711,  1.5965],\n",
      "        [ 0.3307, -0.6471,  0.5818, -0.3293, -0.4117],\n",
      "        [-0.6212,  0.5400, -1.0890,  1.8086,  0.8381]])\n"
     ]
    }
   ],
   "source": [
    "print(tensor2)"
   ]
  },
  {
   "cell_type": "code",
   "execution_count": 27,
   "metadata": {},
   "outputs": [
    {
     "name": "stdout",
     "output_type": "stream",
     "text": [
      "torch.Size([3, 5, 7])\n",
      "105\n"
     ]
    }
   ],
   "source": [
    "print(tensor.shape)\n",
    "print(tensor.numel())"
   ]
  }
 ],
 "metadata": {
  "kernelspec": {
   "display_name": "tensor",
   "language": "python",
   "name": "python3"
  },
  "language_info": {
   "codemirror_mode": {
    "name": "ipython",
    "version": 3
   },
   "file_extension": ".py",
   "mimetype": "text/x-python",
   "name": "python",
   "nbconvert_exporter": "python",
   "pygments_lexer": "ipython3",
   "version": "3.10.14"
  }
 },
 "nbformat": 4,
 "nbformat_minor": 2
}
