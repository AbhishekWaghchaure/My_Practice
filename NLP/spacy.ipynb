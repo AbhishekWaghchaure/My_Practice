{
 "cells": [
  {
   "cell_type": "code",
   "execution_count": 75,
   "id": "initial_id",
   "metadata": {
    "ExecuteTime": {
     "end_time": "2024-10-30T14:05:11.886849Z",
     "start_time": "2024-10-30T14:05:11.835134Z"
    },
    "collapsed": true
   },
   "outputs": [],
   "source": [
    "import torch\n",
    "import torch.nn as nn\n",
    "from torch.utils.data import DataLoader, Dataset, TensorDataset\n",
    "# from torchtext.datasets import Multi30k\n",
    "# from torchtext.data import BucketIterator,Field\n",
    "import re\n",
    "import nltk\n",
    "from nltk.corpus import stopwords\n",
    "import spacy"
   ]
  },
  {
   "cell_type": "code",
   "execution_count": 69,
   "id": "6e9028f4",
   "metadata": {},
   "outputs": [
    {
     "name": "stdout",
     "output_type": "stream",
     "text": [
      "PyTorch version: 2.5.1\n"
     ]
    },
    {
     "ename": "NameError",
     "evalue": "name 'torchtext' is not defined",
     "output_type": "error",
     "traceback": [
      "\u001b[0;31m---------------------------------------------------------------------------\u001b[0m",
      "\u001b[0;31mNameError\u001b[0m                                 Traceback (most recent call last)",
      "Cell \u001b[0;32mIn[69], line 2\u001b[0m\n\u001b[1;32m      1\u001b[0m \u001b[38;5;28mprint\u001b[39m(\u001b[38;5;124m\"\u001b[39m\u001b[38;5;124mPyTorch version:\u001b[39m\u001b[38;5;124m\"\u001b[39m, torch\u001b[38;5;241m.\u001b[39m__version__)\n\u001b[0;32m----> 2\u001b[0m \u001b[38;5;28mprint\u001b[39m(\u001b[38;5;124m\"\u001b[39m\u001b[38;5;124mTorchText version:\u001b[39m\u001b[38;5;124m\"\u001b[39m, \u001b[43mtorchtext\u001b[49m\u001b[38;5;241m.\u001b[39m__version__)\n\u001b[1;32m      3\u001b[0m \u001b[38;5;28mprint\u001b[39m(\u001b[38;5;124m\"\u001b[39m\u001b[38;5;124mspaCy version:\u001b[39m\u001b[38;5;124m\"\u001b[39m, spacy\u001b[38;5;241m.\u001b[39m__version__)\n",
      "\u001b[0;31mNameError\u001b[0m: name 'torchtext' is not defined"
     ]
    },
    {
     "ename": "",
     "evalue": "",
     "output_type": "error",
     "traceback": [
      "\u001b[1;31mnotebook controller is DISPOSED. \n",
      "\u001b[1;31mView Jupyter <a href='command:jupyter.viewOutput'>log</a> for further details."
     ]
    }
   ],
   "source": [
    "print(\"PyTorch version:\", torch.__version__)\n",
    "print(\"TorchText version:\", torchtext.__version__)\n",
    "print(\"spaCy version:\", spacy.__version__)"
   ]
  },
  {
   "cell_type": "code",
   "execution_count": 55,
   "id": "b3924c7b",
   "metadata": {},
   "outputs": [
    {
     "ename": "",
     "evalue": "",
     "output_type": "error",
     "traceback": [
      "\u001b[1;31mnotebook controller is DISPOSED. \n",
      "\u001b[1;31mView Jupyter <a href='command:jupyter.viewOutput'>log</a> for further details."
     ]
    }
   ],
   "source": [
    "import spacy\n",
    "spacy_eng = spacy.load(\"en_core_web_sm\")\n",
    "spacy_ger = spacy.load(\"de_core_news_sm\")"
   ]
  },
  {
   "cell_type": "code",
   "execution_count": 56,
   "id": "4196f855",
   "metadata": {},
   "outputs": [
    {
     "name": "stdout",
     "output_type": "stream",
     "text": [
      "Hello INTJ\n",
      ", PUNCT\n",
      "how SCONJ\n",
      "are AUX\n",
      "you PRON\n",
      "? PUNCT\n"
     ]
    },
    {
     "ename": "",
     "evalue": "",
     "output_type": "error",
     "traceback": [
      "\u001b[1;31mnotebook controller is DISPOSED. \n",
      "\u001b[1;31mView Jupyter <a href='command:jupyter.viewOutput'>log</a> for further details."
     ]
    }
   ],
   "source": [
    "doc_eng = spacy_eng(\"Hello, how are you?\")\n",
    "for token in doc_eng:\n",
    "    print(token.text, token.pos_)  "
   ]
  },
  {
   "cell_type": "code",
   "execution_count": 57,
   "id": "9bda7a5f",
   "metadata": {},
   "outputs": [
    {
     "ename": "",
     "evalue": "",
     "output_type": "error",
     "traceback": [
      "\u001b[1;31mnotebook controller is DISPOSED. \n",
      "\u001b[1;31mView Jupyter <a href='command:jupyter.viewOutput'>log</a> for further details."
     ]
    }
   ],
   "source": [
    "def tokenize_eng(text):\n",
    "   return [token.text for token in spacy_eng.tokenizer(text)] \n",
    "\n",
    "def tokenize_eng(text):\n",
    "    return [token.text for token in spacy_ger.tokenizer(text)]"
   ]
  },
  {
   "cell_type": "code",
   "execution_count": 58,
   "id": "50e26dae",
   "metadata": {},
   "outputs": [
    {
     "ename": "",
     "evalue": "",
     "output_type": "error",
     "traceback": [
      "\u001b[1;31mnotebook controller is DISPOSED. \n",
      "\u001b[1;31mView Jupyter <a href='command:jupyter.viewOutput'>log</a> for further details."
     ]
    }
   ],
   "source": [
    "doc = spacy_eng(\"\"\"Everyday scratch defense with flexible and shock-absorbent layer.\n",
    "Matte finish with carbon fiber accents add a modern look.\n",
    "Raised bezels for bolstered screen protection.\n",
    "Adjustable wristband with secure metal clasp.\n",
    "Specifically engineered to fit Apple Watch Band with Case 45mm/44mm Series 9/8/SE2/7/6/SE/5/4. Fits 5.5 inch to 8.5 inch (140mm - 215mm) wrists.\n",
    "\"\"\")"
   ]
  },
  {
   "cell_type": "code",
   "execution_count": 59,
   "id": "39af804b",
   "metadata": {},
   "outputs": [
    {
     "data": {
      "text/plain": [
       "Everyday scratch defense with flexible and shock-absorbent layer.\n",
       "Matte finish with carbon fiber accents add a modern look.\n",
       "Raised bezels for bolstered screen protection.\n",
       "Adjustable wristband with secure metal clasp.\n",
       "Specifically engineered to fit Apple Watch Band with Case 45mm/44mm Series 9/8/SE2/7/6/SE/5/4. Fits 5.5 inch to 8.5 inch (140mm - 215mm) wrists."
      ]
     },
     "execution_count": 59,
     "metadata": {},
     "output_type": "execute_result"
    },
    {
     "ename": "",
     "evalue": "",
     "output_type": "error",
     "traceback": [
      "\u001b[1;31mnotebook controller is DISPOSED. \n",
      "\u001b[1;31mView Jupyter <a href='command:jupyter.viewOutput'>log</a> for further details."
     ]
    }
   ],
   "source": [
    "(doc)"
   ]
  },
  {
   "cell_type": "code",
   "execution_count": 60,
   "id": "16a77198",
   "metadata": {},
   "outputs": [
    {
     "name": "stdout",
     "output_type": "stream",
     "text": [
      "Everyday scratch defense with flexible and shock-absorbent layer.\n",
      "\n",
      "Matte finish with carbon fiber accents add a modern look.\n",
      "\n",
      "Raised bezels for bolstered screen protection.\n",
      "\n",
      "Adjustable wristband with secure metal clasp.\n",
      "\n",
      "Specifically engineered to fit Apple Watch Band with Case 45mm/44mm Series 9/8/SE2/7/6/SE/5/4.\n",
      "Fits 5.5 inch to 8.5 inch (140mm - 215mm) wrists.\n",
      "\n"
     ]
    },
    {
     "ename": "",
     "evalue": "",
     "output_type": "error",
     "traceback": [
      "\u001b[1;31mnotebook controller is DISPOSED. \n",
      "\u001b[1;31mView Jupyter <a href='command:jupyter.viewOutput'>log</a> for further details."
     ]
    }
   ],
   "source": [
    "for sent in doc.sents:\n",
    "    print (sent.text)"
   ]
  },
  {
   "cell_type": "code",
   "execution_count": 61,
   "id": "6728c117",
   "metadata": {},
   "outputs": [
    {
     "ename": "",
     "evalue": "",
     "output_type": "error",
     "traceback": [
      "\u001b[1;31mnotebook controller is DISPOSED. \n",
      "\u001b[1;31mView Jupyter <a href='command:jupyter.viewOutput'>log</a> for further details."
     ]
    }
   ],
   "source": [
    "sentece_tokenize = [sent.text for sent in doc.sents]"
   ]
  },
  {
   "cell_type": "code",
   "execution_count": 62,
   "id": "69f63aab",
   "metadata": {},
   "outputs": [
    {
     "ename": "",
     "evalue": "",
     "output_type": "error",
     "traceback": [
      "\u001b[1;31mnotebook controller is DISPOSED. \n",
      "\u001b[1;31mView Jupyter <a href='command:jupyter.viewOutput'>log</a> for further details."
     ]
    }
   ],
   "source": [
    "word_tokenize = [spacy_eng.tokenizer(sent) for sent in sentece_tokenize]"
   ]
  },
  {
   "cell_type": "code",
   "execution_count": 63,
   "id": "ff092aeb",
   "metadata": {},
   "outputs": [
    {
     "ename": "",
     "evalue": "",
     "output_type": "error",
     "traceback": [
      "\u001b[1;31mnotebook controller is DISPOSED. \n",
      "\u001b[1;31mView Jupyter <a href='command:jupyter.viewOutput'>log</a> for further details."
     ]
    }
   ],
   "source": [
    "tokenized_words = [[(token.text, token.pos_) for token in tokens] for tokens in word_tokenize]"
   ]
  },
  {
   "cell_type": "code",
   "execution_count": 64,
   "id": "cea32d15",
   "metadata": {},
   "outputs": [
    {
     "data": {
      "text/plain": [
       "[('Everyday', ''),\n",
       " ('scratch', ''),\n",
       " ('defense', ''),\n",
       " ('with', ''),\n",
       " ('flexible', ''),\n",
       " ('and', ''),\n",
       " ('shock', ''),\n",
       " ('-', ''),\n",
       " ('absorbent', ''),\n",
       " ('layer', ''),\n",
       " ('.', ''),\n",
       " ('\\n', '')]"
      ]
     },
     "execution_count": 64,
     "metadata": {},
     "output_type": "execute_result"
    },
    {
     "ename": "",
     "evalue": "",
     "output_type": "error",
     "traceback": [
      "\u001b[1;31mnotebook controller is DISPOSED. \n",
      "\u001b[1;31mView Jupyter <a href='command:jupyter.viewOutput'>log</a> for further details."
     ]
    }
   ],
   "source": [
    "tokenized_words[0]"
   ]
  },
  {
   "cell_type": "code",
   "execution_count": 66,
   "id": "2eb8bc42",
   "metadata": {},
   "outputs": [
    {
     "name": "stdout",
     "output_type": "stream",
     "text": [
      "[('Adjustable', ''), ('wristband', ''), ('with', ''), ('secure', ''), ('metal', ''), ('clasp', ''), ('.', ''), ('\\n', '')]\n"
     ]
    },
    {
     "ename": "",
     "evalue": "",
     "output_type": "error",
     "traceback": [
      "\u001b[1;31mnotebook controller is DISPOSED. \n",
      "\u001b[1;31mView Jupyter <a href='command:jupyter.viewOutput'>log</a> for further details."
     ]
    }
   ],
   "source": [
    "print(tokenized_words[3])"
   ]
  },
  {
   "cell_type": "code",
   "execution_count": null,
   "id": "7264b304",
   "metadata": {},
   "outputs": [
    {
     "ename": "",
     "evalue": "",
     "output_type": "error",
     "traceback": [
      "\u001b[1;31mnotebook controller is DISPOSED. \n",
      "\u001b[1;31mView Jupyter <a href='command:jupyter.viewOutput'>log</a> for further details."
     ]
    }
   ],
   "source": [
    "english = Fields()"
   ]
  }
 ],
 "metadata": {
  "kernelspec": {
   "display_name": "torch-mac",
   "language": "python",
   "name": "python3"
  },
  "language_info": {
   "codemirror_mode": {
    "name": "ipython",
    "version": 3
   },
   "file_extension": ".py",
   "mimetype": "text/x-python",
   "name": "python",
   "nbconvert_exporter": "python",
   "pygments_lexer": "ipython3",
   "version": "3.10.15"
  }
 },
 "nbformat": 4,
 "nbformat_minor": 5
}
