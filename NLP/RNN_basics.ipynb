{
 "cells": [
  {
   "cell_type": "code",
   "execution_count": 296,
   "id": "initial_id",
   "metadata": {
    "ExecuteTime": {
     "end_time": "2024-10-20T07:41:12.365115Z",
     "start_time": "2024-10-20T07:41:12.361859Z"
    },
    "collapsed": true
   },
   "outputs": [],
   "source": [
    "import torch\n",
    "import torch.nn as nn\n",
    "import torch.nn.functional as F\n",
    "from torch.utils.data import DataLoader\n",
    "import torchvision.datasets as datasets\n",
    "import torchvision.transforms as transforms\n",
    "import torch.optim as optim"
   ]
  },
  {
   "cell_type": "code",
   "execution_count": 297,
   "id": "23f8764ffa948b5d",
   "metadata": {
    "ExecuteTime": {
     "end_time": "2024-10-20T07:41:12.383676Z",
     "start_time": "2024-10-20T07:41:12.380453Z"
    }
   },
   "outputs": [],
   "source": [
    "device = torch.device('mps')\n",
    "# device = ('mps' if torch.mps.is_available() else \"cpu\")"
   ]
  },
  {
   "cell_type": "code",
   "execution_count": 298,
   "id": "957428921ee4d5ae",
   "metadata": {
    "ExecuteTime": {
     "end_time": "2024-10-20T07:41:12.484374Z",
     "start_time": "2024-10-20T07:41:12.433678Z"
    }
   },
   "outputs": [],
   "source": [
    "train_dataset = datasets.MNIST(root = 'datasets/', train = True, transform = transforms.ToTensor(), download=True)\n",
    "train_loader = DataLoader(dataset = train_dataset, batch_size=batch_size, shuffle=True)"
   ]
  },
  {
   "cell_type": "code",
   "execution_count": 299,
   "id": "840c8cea032643c3",
   "metadata": {
    "ExecuteTime": {
     "end_time": "2024-10-20T07:41:12.511764Z",
     "start_time": "2024-10-20T07:41:12.503747Z"
    }
   },
   "outputs": [],
   "source": [
    "test_dataset = datasets.MNIST(root = 'datasets/', train = False, transform = transforms.ToTensor(), download=True)\n",
    "test_loader = DataLoader(dataset = test_dataset, batch_size=batch_size, shuffle=True)"
   ]
  },
  {
   "cell_type": "code",
   "execution_count": 300,
   "id": "76b73189780ae2b3",
   "metadata": {
    "ExecuteTime": {
     "end_time": "2024-10-20T07:41:14.739711Z",
     "start_time": "2024-10-20T07:41:12.526465Z"
    }
   },
   "outputs": [],
   "source": [
    "for data, target in train_loader:\n",
    "    data = data.to(device = device)\n",
    "    target = target.to(device = device)"
   ]
  },
  {
   "cell_type": "code",
   "execution_count": 301,
   "id": "d2e15f15c8164c0a",
   "metadata": {
    "ExecuteTime": {
     "end_time": "2024-10-20T07:41:14.774288Z",
     "start_time": "2024-10-20T07:41:14.771821Z"
    }
   },
   "outputs": [
    {
     "name": "stdout",
     "output_type": "stream",
     "text": [
      "torch.Size([32, 1, 28, 28])\n",
      "torch.Size([32, 784])\n"
     ]
    }
   ],
   "source": [
    "print(data.shape)\n",
    "data = data.reshape(data.shape[0],-1)\n",
    "print(data.shape)"
   ]
  },
  {
   "cell_type": "code",
   "execution_count": 302,
   "id": "b78a59170fcaa346",
   "metadata": {
    "ExecuteTime": {
     "end_time": "2024-10-20T07:47:36.033892Z",
     "start_time": "2024-10-20T07:47:36.024213Z"
    }
   },
   "outputs": [
    {
     "name": "stdout",
     "output_type": "stream",
     "text": [
      "torch.Size([32])\n",
      "torch.Size([32])\n",
      "tensor([1, 6, 1, 7, 4, 5, 2, 0, 9, 9, 3, 8, 5, 3, 1, 2, 5, 1, 2, 6, 4, 0, 8, 5,\n",
      "        0, 9, 4, 4, 2, 5, 3, 4], device='mps:0')\n"
     ]
    }
   ],
   "source": [
    "print(target.shape)\n",
    "print(target.size())\n",
    "print(target)"
   ]
  },
  {
   "cell_type": "markdown",
   "id": "a91479b1f4ed56c4",
   "metadata": {},
   "source": [
    "## Create RNN"
   ]
  },
  {
   "cell_type": "code",
   "execution_count": 303,
   "id": "309aa84aafdb4508",
   "metadata": {
    "ExecuteTime": {
     "end_time": "2024-10-20T08:06:54.978944Z",
     "start_time": "2024-10-20T08:06:54.973581Z"
    }
   },
   "outputs": [],
   "source": [
    "import torch\n",
    "import torch.nn as nn\n",
    "\n",
    "class Recurrent(nn.Module):\n",
    "    def __init__(self, input_size, hidden_size, num_layers, num_classes,sequence_length):\n",
    "        super(Recurrent, self).__init__()\n",
    "        self.hidden_size = hidden_size\n",
    "        self.num_layers = num_layers\n",
    "        self.sequence_length = sequence_length\n",
    "\n",
    "        # Define the RNN layer\n",
    "        self.rnn = nn.RNN(\n",
    "            input_size=self.input_size, \n",
    "            hidden_size=self.hidden_size, \n",
    "            num_layers=self.num_layers, \n",
    "            batch_first=True\n",
    "        )\n",
    "\n",
    "        # Define the fully connected layer\n",
    "        self.fc = nn.Linear(hidden_size, num_classes)  # Output layer based on number of classes\n",
    "\n",
    "    def forward(self, x):\n",
    "        # Initialize hidden state with zeros (num_layers, batch_size, hidden_size)\n",
    "        h0 = torch.zeros(self.num_layers, x.size(0), self.hidden_size).to(x.device)\n",
    "\n",
    "        # Pass the input through the RNN (batch_size, seq_length, input_size)\n",
    "        out, _ = self.rnn(x, h0)\n",
    "\n",
    "        # Get the last hidden state output for classification (batch_size, hidden_size)\n",
    "        out = out[:, -1, :]\n",
    "\n",
    "        # Pass through the fully connected layer (batch_size, num_classes)\n",
    "        out = self.fc(out)\n",
    "\n",
    "        return out\n",
    "\n",
    "\n",
    "# Instantiate the model\n",
    "input_size = 28 \n",
    "sequence_length = 28# Example: number of features per time step\n",
    "hidden_size = 256  # Example: hidden size of the RNN\n",
    "num_layers = 2  # Example: number of RNN layers\n",
    "num_classes = 10  # Example: number of output classes\n",
    "device = torch.device(\"mps\")\n",
    "batch_size = 64\n",
    "lr = 0.001\n",
    "\n",
    "\n",
    "\n"
   ]
  },
  {
   "cell_type": "code",
   "execution_count": 304,
   "id": "06d69580",
   "metadata": {},
   "outputs": [],
   "source": [
    "# Instantiate the model\n",
    "model = Recurrent(input_size=input_size, hidden_size=hidden_size, num_layers=num_layers, num_classes=num_classes, sequence_length=sequence_length).to(device)"
   ]
  },
  {
   "cell_type": "code",
   "execution_count": 305,
   "id": "0a5ceb94",
   "metadata": {},
   "outputs": [],
   "source": [
    "\n",
    "criterion = nn.CrossEntropyLoss()\n",
    "optimizer = torch.optim.Adam(model.parameters(), lr=lr)"
   ]
  },
  {
   "cell_type": "code",
   "execution_count": 306,
   "id": "3afbd838",
   "metadata": {},
   "outputs": [
    {
     "data": {
      "text/plain": [
       "<bound method Module.parameters of Recurrent(\n",
       "  (rnn): RNN(28, 256, num_layers=2, batch_first=True)\n",
       "  (fc): Linear(in_features=256, out_features=10, bias=True)\n",
       ")>"
      ]
     },
     "execution_count": 306,
     "metadata": {},
     "output_type": "execute_result"
    }
   ],
   "source": [
    "model.parameters"
   ]
  },
  {
   "cell_type": "code",
   "execution_count": 307,
   "id": "36b0a307",
   "metadata": {},
   "outputs": [],
   "source": [
    "from tqdm import tqdm\n",
    "from torchmetrics import Accuracy"
   ]
  },
  {
   "cell_type": "code",
   "execution_count": 308,
   "id": "b9dddad0",
   "metadata": {},
   "outputs": [],
   "source": [
    "acc = Accuracy(task='multiclass', num_classes=10).to(device=device)"
   ]
  },
  {
   "cell_type": "code",
   "execution_count": 309,
   "id": "bb976c8c",
   "metadata": {},
   "outputs": [
    {
     "name": "stderr",
     "output_type": "stream",
     "text": [
      "Epoch [0/5]: 100%|██████████| 938/938 [00:38<00:00, 24.53it/s, accuracy=0.875, loss=0.261]\n",
      "Epoch [1/5]: 100%|██████████| 938/938 [00:37<00:00, 24.84it/s, accuracy=1, loss=0.0672]    \n",
      "Epoch [2/5]: 100%|██████████| 938/938 [00:37<00:00, 24.72it/s, accuracy=1, loss=0.0136]    \n",
      "Epoch [3/5]: 100%|██████████| 938/938 [00:38<00:00, 24.28it/s, accuracy=0.938, loss=0.178] \n",
      "Epoch [4/5]: 100%|██████████| 938/938 [00:37<00:00, 24.93it/s, accuracy=1, loss=0.0427]    \n"
     ]
    }
   ],
   "source": [
    "# Example Training Loop\n",
    "from tqdm import tqdm\n",
    "\n",
    "# Assuming train_loader is defined\n",
    "epochs = 5\n",
    "for epoch in range(epochs):\n",
    "    loop = tqdm(enumerate(train_loader), total=len(train_loader))\n",
    "    for idx, (features, targets) in loop:\n",
    "        features = features.squeeze(1).to(device)  # Move data to the device\n",
    "        targets = targets.to(device)  # Move targets to the device\n",
    "\n",
    "        # Forward pass\n",
    "        scores = model(features)\n",
    "        loss = criterion(scores, targets)\n",
    "\n",
    "        # Backpropagation\n",
    "        optimizer.zero_grad()\n",
    "        loss.backward()\n",
    "        optimizer.step()\n",
    "\n",
    "        # Calculate accuracy (assuming acc is your accuracy function)\n",
    "        acc_value = acc(scores, targets)\n",
    "\n",
    "        # Update progress bar\n",
    "        loop.set_description(f\"Epoch [{epoch}/{epochs}]\")\n",
    "        loop.set_postfix(loss=loss.item(), accuracy=acc_value.item())"
   ]
  },
  {
   "cell_type": "code",
   "execution_count": 310,
   "id": "ab0a5d0a",
   "metadata": {},
   "outputs": [],
   "source": [
    "def check_accuracy(loader,model):\n",
    "    num_correct = 0\n",
    "    num_samples = 0\n",
    "    model.eval()\n",
    "    \n",
    "    with torch.no_grad():\n",
    "        for x,y in loader:\n",
    "            x = x.to(device=device).squeeze(1)\n",
    "            y = y.to(device=device)\n",
    "            \n",
    "            scores = model(x)\n",
    "            _,predictions = scores.max(1)\n",
    "            \n",
    "            num_correct += (predictions == y).sum()\n",
    "            num_samples += predictions.size(0)\n",
    "            \n",
    "        print(f\"Got {num_correct} / {num_samples} with accuracy \\\n",
    "            {float(num_correct)/float(num_samples)*100:.2f}\")\n",
    "        model.train()\n",
    "    "
   ]
  },
  {
   "cell_type": "code",
   "execution_count": 311,
   "id": "d4f6acc5",
   "metadata": {},
   "outputs": [
    {
     "name": "stdout",
     "output_type": "stream",
     "text": [
      "Got 57715 / 60000 with accuracy             96.19\n"
     ]
    }
   ],
   "source": [
    "check_accuracy(train_loader,model)"
   ]
  }
 ],
 "metadata": {
  "kernelspec": {
   "display_name": "tensor",
   "language": "python",
   "name": "python3"
  },
  "language_info": {
   "codemirror_mode": {
    "name": "ipython",
    "version": 3
   },
   "file_extension": ".py",
   "mimetype": "text/x-python",
   "name": "python",
   "nbconvert_exporter": "python",
   "pygments_lexer": "ipython3",
   "version": "3.10.14"
  }
 },
 "nbformat": 4,
 "nbformat_minor": 5
}
