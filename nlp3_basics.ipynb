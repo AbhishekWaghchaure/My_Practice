{
 "cells": [
  {
   "cell_type": "code",
   "execution_count": 87,
   "metadata": {},
   "outputs": [],
   "source": [
    "import re\n",
    "import nltk\n",
    "from nltk.corpus import stopwords\n",
    "from nltk.stem import PorterStemmer, WordNetLemmatizer\n"
   ]
  },
  {
   "cell_type": "code",
   "execution_count": 88,
   "metadata": {},
   "outputs": [],
   "source": [
    "parahagraph = \"\"\"\"Apple (company)\" redirects here. For other companies with the same name, see Apple (disambiguation) § Businesses and organisations.\n",
    "Apple Inc.\n",
    "\n",
    "Logo since 1998\n",
    "\n",
    "Apple Park is the company's headquarters in Cupertino, California, in Silicon Valley.\n",
    "Formerly\t\n",
    "Apple Computer Company (1976–1977)\n",
    "Apple Computer, Inc.\n",
    "(1977–2007)\n",
    "Company type\tPublic\n",
    "Traded as\t\n",
    "Nasdaq: AAPL\n",
    "Nasdaq-100 component\n",
    "DJIA component\n",
    "S&P 100 component\n",
    "S&P 500 component\n",
    "ISIN\tUS0378331005\n",
    "Industry\t\n",
    "Consumer electronics\n",
    "Software services\n",
    "Online services\n",
    "Founded\tApril 1, 1976; 48 years ago in Los Altos, California, U.S.\n",
    "Founders\t\n",
    "Steve Jobs\n",
    "Steve Wozniak\n",
    "Ronald Wayne\n",
    "Headquarters\t1 Apple Park Way, Cupertino, California, U.S.\n",
    "Number of locations\t530 retail stores (2024)\n",
    "Area served\tWorldwide\n",
    "Key people\t\n",
    "Arthur Levinson (Chairman)\n",
    "Tim Cook (CEO)\n",
    "Jeff Williams (COO)\n",
    "Luca Maestri (CFO)\n",
    "Products\t\n",
    "AirPods\n",
    "Apple TV\n",
    "Apple Watch\n",
    "Apple Vision Pro\n",
    "HomePod\n",
    "iPad\n",
    "iPhone\n",
    "Macintosh\n",
    "Full list\n",
    "Services\t\n",
    "App Store\n",
    "Apple Card\n",
    "Apple One\n",
    "Apple Music\n",
    "Apple Pay\n",
    "Apple TV+\n",
    "iCloud\n",
    "Shazam\n",
    "Revenue\tDecrease US$383.29 billion (2023)\n",
    "Operating income\tDecrease US$114.30 billion (2023)\n",
    "Net income\tDecrease US$97.00 billion (2023)\n",
    "Total assets\tDecrease US$352.58 billion (2023)\n",
    "Total equity\tIncrease US$62.15 billion (2023)\n",
    "Number of employees\t161,000 (2023)\n",
    "Subsidiaries\t\n",
    "Apple Studios\n",
    "Beats Electronics\n",
    "Beddit\n",
    "Braeburn Capital\n",
    "Claris\n",
    "Drive.ai\n",
    "InVisage Technologies\n",
    "ASN\t\n",
    "714\n",
    "Website\tapple.com\n",
    "Footnotes / references\n",
    "[1][2][3][4][5]\n",
    "Apple Inc. is an American multinational corporation and technology company headquartered in Cupertino, California, in Silicon Valley. It designs, develops, and sells consumer electronics, computer software, and online services. Devices include the iPhone, iPad, Mac, Apple Watch, Vision Pro, and Apple TV; operating systems include iOS, iPadOS, macOS, watchOS, tvOS, and visionOS; and software applications and services include iTunes, iCloud, Apple Music, and Apple TV+.\n",
    "\n",
    "Since 2011, Apple has been the world's largest company by market capitalization except when Microsoft held the position between January and June 2024.[6][7][8] In 2022, Apple was the largest technology company by revenue, with US$394.3 billion.[9][failed verification] As of 2023, Apple was the fourth-largest personal computer vendor by unit sales,[10] the largest manufacturing company by revenue, and the largest vendor of mobile phones in the world.[11] It is one of the Big Five American information technology companies, alongside Alphabet (the parent company of Google), Amazon, Meta (the parent company of Facebook), and Microsoft.\n",
    "\n",
    "Apple was founded as Apple Computer Company on April 1, 1976, to produce and market Steve Wozniak's Apple I personal computer. The company was incorporated by Wozniak and Steve Jobs in 1977. Its second computer, the Apple II, became a best seller as one of the first mass-produced microcomputers. Apple introduced the Lisa in 1983 and the Macintosh in 1984, as some of the first computers to use a graphical user interface and a mouse. By 1985, the company's internal problems included the high cost of its products and power struggles between executives. That year Jobs left Apple to form NeXT, Inc., and Wozniak withdrew to other ventures. The market for personal computers expanded and evolved throughout the 1990s, and Apple lost considerable market share to the lower-priced Wintel duopoly of the Microsoft Windows operating system on Intel-powered PC clones.\n",
    "\n",
    "In 1997, Apple was weeks away from bankruptcy. To resolve its failed operating system strategy and entice Jobs's return, it bought NeXT. Over the next decade, Jobs guided Apple back to profitability through several tactics including introducing the iMac, iPod, iPhone, and iPad to critical acclaim, launching the \"Think different\" campaign and other memorable advertising campaigns, opening the Apple Store retail chain, and acquiring numerous companies to broaden its product portfolio. Jobs resigned in 2011 for health reasons, and died two months later. He was succeeded as CEO by Tim Cook.\n",
    "\n",
    "Apple has received criticism regarding its contractors' labor practices, its environmental practices, and its business ethics, including anti-competitive practices and materials sourcing. Nevertheless, it has a large following and a high level of brand loyalty. It has been consistently ranked as one of the world's most valuable brands.\n",
    "\n",
    "Apple became the first publicly traded U.S. company to be valued at over $1 trillion in August 2018, then at $2 trillion in August 2020, and at $3 trillion in January 2022. In June 2024, it was valued at just over $3.2 trillion.[8]\"\"\""
   ]
  },
  {
   "cell_type": "code",
   "execution_count": 89,
   "metadata": {},
   "outputs": [],
   "source": [
    "sentence_tokenized = nltk.sent_tokenize(parahagraph) "
   ]
  },
  {
   "cell_type": "code",
   "execution_count": 90,
   "metadata": {},
   "outputs": [],
   "source": [
    "corpus = []\n",
    "for i in range (len(sentence_tokenized)):\n",
    "    review = re.sub('[^a-zA-Z]', '  ', sentence_tokenized[i])\n",
    "    review = review.lower()\n",
    "    corpus.append(review)"
   ]
  },
  {
   "cell_type": "markdown",
   "metadata": {},
   "source": [
    "## Stemmed Corpus"
   ]
  },
  {
   "cell_type": "code",
   "execution_count": 91,
   "metadata": {},
   "outputs": [],
   "source": [
    "stemmer = PorterStemmer()"
   ]
  },
  {
   "cell_type": "code",
   "execution_count": 92,
   "metadata": {},
   "outputs": [],
   "source": [
    "for i in range (len(corpus)):\n",
    "    words_tokenized = nltk.word_tokenize(corpus[i])\n",
    "    stemmed_corpus = [stemmer.stem(words) for words in words_tokenized if words not in (set(stopwords.words('english')))]\n",
    "    corpus[i] = \" \".join(stemmed_corpus)"
   ]
  },
  {
   "cell_type": "code",
   "execution_count": 93,
   "metadata": {},
   "outputs": [
    {
     "data": {
      "text/plain": [
       "['appl compani redirect',\n",
       " 'compani name see appl disambigu busi organis',\n",
       " 'appl inc',\n",
       " 'logo sinc appl park compani headquart cupertino california silicon valley',\n",
       " 'formerli appl comput compani appl comput inc compani type public trade nasdaq aapl nasdaq compon djia compon p compon p compon isin us industri consum electron softwar servic onlin servic found april year ago lo alto california u',\n",
       " 'founder steve job steve wozniak ronald wayn headquart appl park way cupertino california u',\n",
       " 'number locat retail store area serv worldwid key peopl arthur levinson chairman tim cook ceo jeff william coo luca maestri cfo product airpod appl tv appl watch appl vision pro homepod ipad iphon macintosh full list servic app store appl card appl one appl music appl pay appl tv icloud shazam revenu decreas us billion oper incom decreas us billion net incom decreas us billion total asset decreas us billion total equiti increas us billion number employe subsidiari appl studio beat electron beddit braeburn capit clari drive ai invisag technolog asn websit appl com footnot refer appl inc american multin corpor technolog compani headquart cupertino california silicon valley',\n",
       " 'design develop sell consum electron comput softwar onlin servic',\n",
       " 'devic includ iphon ipad mac appl watch vision pro appl tv oper system includ io ipado maco watcho tvo visiono softwar applic servic includ itun icloud appl music appl tv',\n",
       " 'sinc appl world largest compani market capit except microsoft held posit januari june',\n",
       " 'appl largest technolog compani revenu us billion',\n",
       " 'fail verif appl fourth largest person comput vendor unit sale largest manufactur compani revenu largest vendor mobil phone world',\n",
       " 'one big five american inform technolog compani alongsid alphabet parent compani googl amazon meta parent compani facebook microsoft',\n",
       " 'appl found appl comput compani april produc market steve wozniak appl person comput',\n",
       " 'compani incorpor wozniak steve job',\n",
       " 'second comput appl ii becam best seller one first mass produc microcomput',\n",
       " 'appl introduc lisa macintosh first comput use graphic user interfac mous',\n",
       " 'compani intern problem includ high cost product power struggl execut',\n",
       " 'year job left appl form next inc wozniak withdrew ventur',\n",
       " 'market person comput expand evolv throughout appl lost consider market share lower price wintel duopoli microsoft window oper system intel power pc clone',\n",
       " 'appl week away bankruptci',\n",
       " 'resolv fail oper system strategi entic job return bought next',\n",
       " 'next decad job guid appl back profit sever tactic includ introduc imac ipod iphon ipad critic acclaim launch think differ campaign memor advertis campaign open appl store retail chain acquir numer compani broaden product portfolio',\n",
       " 'job resign health reason die two month later',\n",
       " 'succeed ceo tim cook',\n",
       " 'appl receiv critic regard contractor labor practic environment practic busi ethic includ anti competit practic materi sourc',\n",
       " 'nevertheless larg follow high level brand loyalti',\n",
       " 'consist rank one world valuabl brand',\n",
       " 'appl becam first publicli trade u compani valu trillion august trillion august trillion januari',\n",
       " 'june valu trillion',\n",
       " '']"
      ]
     },
     "execution_count": 93,
     "metadata": {},
     "output_type": "execute_result"
    }
   ],
   "source": [
    "corpus"
   ]
  },
  {
   "cell_type": "markdown",
   "metadata": {},
   "source": [
    "## Lemmatized Coprus"
   ]
  },
  {
   "cell_type": "code",
   "execution_count": 94,
   "metadata": {},
   "outputs": [],
   "source": [
    "corpus2 = []\n",
    "for i in range (len(sentence_tokenized)):\n",
    "    review = re.sub('[^a-zA-Z]', '  ', sentence_tokenized[i])\n",
    "    review = review.lower()\n",
    "    corpus2.append(review)"
   ]
  },
  {
   "cell_type": "code",
   "execution_count": 95,
   "metadata": {},
   "outputs": [
    {
     "data": {
      "text/plain": [
       "['  apple    company      redirects  here  ',\n",
       " 'for  other  companies  with  the  same  name    see  apple    disambiguation        businesses  and  organisations  ',\n",
       " 'apple  inc  ',\n",
       " 'logo  since              apple  park  is  the  company  s  headquarters  in  cupertino    california    in  silicon  valley  ',\n",
       " 'formerly    apple  computer  company                          apple  computer    inc                            company  type  public  traded  as    nasdaq    aapl  nasdaq          component  djia  component  s  p          component  s  p          component  isin  us                      industry    consumer  electronics  software  services  online  services  founded  april                          years  ago  in  los  altos    california    u  s  ',\n",
       " 'founders    steve  jobs  steve  wozniak  ronald  wayne  headquarters      apple  park  way    cupertino    california    u  s  ',\n",
       " 'number  of  locations          retail  stores                area  served  worldwide  key  people    arthur  levinson    chairman    tim  cook    ceo    jeff  williams    coo    luca  maestri    cfo    products    airpods  apple  tv  apple  watch  apple  vision  pro  homepod  ipad  iphone  macintosh  full  list  services    app  store  apple  card  apple  one  apple  music  apple  pay  apple  tv    icloud  shazam  revenue  decrease  us                billion                operating  income  decrease  us                billion                net  income  decrease  us              billion                total  assets  decrease  us                billion                total  equity  increase  us              billion                number  of  employees                                subsidiaries    apple  studios  beats  electronics  beddit  braeburn  capital  claris  drive  ai  invisage  technologies  asn            website  apple  com  footnotes      references                                  apple  inc    is  an  american  multinational  corporation  and  technology  company  headquartered  in  cupertino    california    in  silicon  valley  ',\n",
       " 'it  designs    develops    and  sells  consumer  electronics    computer  software    and  online  services  ',\n",
       " 'devices  include  the  iphone    ipad    mac    apple  watch    vision  pro    and  apple  tv    operating  systems  include  ios    ipados    macos    watchos    tvos    and  visionos    and  software  applications  and  services  include  itunes    icloud    apple  music    and  apple  tv    ',\n",
       " 'since              apple  has  been  the  world  s  largest  company  by  market  capitalization  except  when  microsoft  held  the  position  between  january  and  june            ',\n",
       " '                    in              apple  was  the  largest  technology  company  by  revenue    with  us              billion  ',\n",
       " '        failed  verification    as  of              apple  was  the  fourth  largest  personal  computer  vendor  by  unit  sales            the  largest  manufacturing  company  by  revenue    and  the  largest  vendor  of  mobile  phones  in  the  world  ',\n",
       " '          it  is  one  of  the  big  five  american  information  technology  companies    alongside  alphabet    the  parent  company  of  google      amazon    meta    the  parent  company  of  facebook      and  microsoft  ',\n",
       " 'apple  was  founded  as  apple  computer  company  on  april                    to  produce  and  market  steve  wozniak  s  apple  i  personal  computer  ',\n",
       " 'the  company  was  incorporated  by  wozniak  and  steve  jobs  in            ',\n",
       " 'its  second  computer    the  apple  ii    became  a  best  seller  as  one  of  the  first  mass  produced  microcomputers  ',\n",
       " 'apple  introduced  the  lisa  in            and  the  macintosh  in              as  some  of  the  first  computers  to  use  a  graphical  user  interface  and  a  mouse  ',\n",
       " 'by              the  company  s  internal  problems  included  the  high  cost  of  its  products  and  power  struggles  between  executives  ',\n",
       " 'that  year  jobs  left  apple  to  form  next    inc      and  wozniak  withdrew  to  other  ventures  ',\n",
       " 'the  market  for  personal  computers  expanded  and  evolved  throughout  the          s    and  apple  lost  considerable  market  share  to  the  lower  priced  wintel  duopoly  of  the  microsoft  windows  operating  system  on  intel  powered  pc  clones  ',\n",
       " 'in              apple  was  weeks  away  from  bankruptcy  ',\n",
       " 'to  resolve  its  failed  operating  system  strategy  and  entice  jobs  s  return    it  bought  next  ',\n",
       " 'over  the  next  decade    jobs  guided  apple  back  to  profitability  through  several  tactics  including  introducing  the  imac    ipod    iphone    and  ipad  to  critical  acclaim    launching  the    think  different    campaign  and  other  memorable  advertising  campaigns    opening  the  apple  store  retail  chain    and  acquiring  numerous  companies  to  broaden  its  product  portfolio  ',\n",
       " 'jobs  resigned  in            for  health  reasons    and  died  two  months  later  ',\n",
       " 'he  was  succeeded  as  ceo  by  tim  cook  ',\n",
       " 'apple  has  received  criticism  regarding  its  contractors    labor  practices    its  environmental  practices    and  its  business  ethics    including  anti  competitive  practices  and  materials  sourcing  ',\n",
       " 'nevertheless    it  has  a  large  following  and  a  high  level  of  brand  loyalty  ',\n",
       " 'it  has  been  consistently  ranked  as  one  of  the  world  s  most  valuable  brands  ',\n",
       " 'apple  became  the  first  publicly  traded  u  s    company  to  be  valued  at  over        trillion  in  august              then  at        trillion  in  august              and  at        trillion  in  january            ',\n",
       " 'in  june              it  was  valued  at  just  over            trillion  ',\n",
       " '      ']"
      ]
     },
     "execution_count": 95,
     "metadata": {},
     "output_type": "execute_result"
    }
   ],
   "source": [
    "corpus2"
   ]
  },
  {
   "cell_type": "code",
   "execution_count": 96,
   "metadata": {},
   "outputs": [
    {
     "name": "stderr",
     "output_type": "stream",
     "text": [
      "[nltk_data] Downloading package wordnet to\n",
      "[nltk_data]     /Users/abhishekwaghchaure/nltk_data...\n",
      "[nltk_data]   Package wordnet is already up-to-date!\n"
     ]
    },
    {
     "data": {
      "text/plain": [
       "True"
      ]
     },
     "execution_count": 96,
     "metadata": {},
     "output_type": "execute_result"
    }
   ],
   "source": [
    "lemmatizer = WordNetLemmatizer()\n",
    "nltk.download('wordnet')"
   ]
  },
  {
   "cell_type": "code",
   "execution_count": 97,
   "metadata": {},
   "outputs": [],
   "source": [
    "for i in range (len(corpus2)):\n",
    "    words_tokenized = nltk.word_tokenize(corpus[i])\n",
    "    lemmatized_corpus = [lemmatizer.lemmatize(words) for words in words_tokenized if words not in set (stopwords.words('english'))]\n",
    "    corpus2[i] = \" \".join(lemmatized_corpus)"
   ]
  },
  {
   "cell_type": "code",
   "execution_count": 98,
   "metadata": {},
   "outputs": [
    {
     "name": "stdout",
     "output_type": "stream",
     "text": [
      "<class 'list'>\n"
     ]
    }
   ],
   "source": [
    "print(type(lemmatized_corpus))"
   ]
  },
  {
   "cell_type": "code",
   "execution_count": 99,
   "metadata": {},
   "outputs": [
    {
     "name": "stdout",
     "output_type": "stream",
     "text": [
      "<class 'list'>\n"
     ]
    },
    {
     "data": {
      "text/plain": [
       "['appl compani redirect',\n",
       " 'compani name see appl disambigu busi organis',\n",
       " 'appl inc',\n",
       " 'logo sinc appl park compani headquart cupertino california silicon valley',\n",
       " 'formerli appl comput compani appl comput inc compani type public trade nasdaq aapl nasdaq compon djia compon p compon p compon isin u industri consum electron softwar servic onlin servic found april year ago lo alto california u',\n",
       " 'founder steve job steve wozniak ronald wayn headquart appl park way cupertino california u',\n",
       " 'number locat retail store area serv worldwid key peopl arthur levinson chairman tim cook ceo jeff william coo luca maestro cfo product airpod appl tv appl watch appl vision pro homepod ipad iphon macintosh full list servic app store appl card appl one appl music appl pay appl tv icloud shazam revenu decreas u billion oper incom decreas u billion net incom decreas u billion total asset decreas u billion total equiti increas u billion number employe subsidiari appl studio beat electron beddit braeburn capit clari drive ai invisag technolog asn websit appl com footnot refer appl inc american multin corpor technolog compani headquart cupertino california silicon valley',\n",
       " 'design develop sell consum electron comput softwar onlin servic',\n",
       " 'devic includ iphon ipad mac appl watch vision pro appl tv oper system includ io ipado maco watcho tvo visiono softwar applic servic includ itun icloud appl music appl tv',\n",
       " 'sinc appl world largest compani market capit except microsoft held posit januari june',\n",
       " 'appl largest technolog compani revenu u billion',\n",
       " 'fail verif appl fourth largest person comput vendor unit sale largest manufactur compani revenu largest vendor mobil phone world',\n",
       " 'one big five american inform technolog compani alongsid alphabet parent compani googl amazon meta parent compani facebook microsoft',\n",
       " 'appl found appl comput compani april produc market steve wozniak appl person comput',\n",
       " 'compani incorpor wozniak steve job',\n",
       " 'second comput appl ii becam best seller one first mass produc microcomput',\n",
       " 'appl introduc lisa macintosh first comput use graphic user interfac mous',\n",
       " 'compani intern problem includ high cost product power struggl execut',\n",
       " 'year job left appl form next inc wozniak withdrew ventur',\n",
       " 'market person comput expand evolv throughout appl lost consider market share lower price wintel duopoli microsoft window oper system intel power pc clone',\n",
       " 'appl week away bankruptci',\n",
       " 'resolv fail oper system strategi entic job return bought next',\n",
       " 'next decad job guid appl back profit sever tactic includ introduc imac ipod iphon ipad critic acclaim launch think differ campaign memor advertis campaign open appl store retail chain acquir numer compani broaden product portfolio',\n",
       " 'job resign health reason die two month later',\n",
       " 'succeed ceo tim cook',\n",
       " 'appl receiv critic regard contractor labor practic environment practic busi ethic includ anti competit practic materi sourc',\n",
       " 'nevertheless larg follow high level brand loyalti',\n",
       " 'consist rank one world valuabl brand',\n",
       " 'appl becam first publicli trade u compani valu trillion august trillion august trillion januari',\n",
       " 'june valu trillion',\n",
       " '']"
      ]
     },
     "execution_count": 99,
     "metadata": {},
     "output_type": "execute_result"
    }
   ],
   "source": [
    "print(type(corpus2))\n",
    "corpus2"
   ]
  },
  {
   "cell_type": "code",
   "execution_count": 100,
   "metadata": {},
   "outputs": [],
   "source": [
    "from sklearn.feature_extraction.text import CountVectorizer"
   ]
  },
  {
   "cell_type": "code",
   "execution_count": 101,
   "metadata": {},
   "outputs": [],
   "source": [
    "cv = CountVectorizer(stop_words='english', lowercase=True, max_features=1500)"
   ]
  },
  {
   "cell_type": "code",
   "execution_count": 102,
   "metadata": {},
   "outputs": [
    {
     "name": "stdout",
     "output_type": "stream",
     "text": [
      "[[0 0 0 ... 0 0 0]\n",
      " [0 0 0 ... 0 0 0]\n",
      " [0 0 0 ... 0 0 0]\n",
      " ...\n",
      " [0 0 0 ... 0 0 0]\n",
      " [0 0 0 ... 0 0 0]\n",
      " [0 0 0 ... 0 0 0]]\n"
     ]
    }
   ],
   "source": [
    "X = cv.fit_transform(corpus2).toarray()\n",
    "print(X)"
   ]
  },
  {
   "cell_type": "code",
   "execution_count": 120,
   "metadata": {},
   "outputs": [],
   "source": [
    "from sklearn.feature_extraction.text import TfidfVectorizer\n",
    "tfidf = TfidfVectorizer()\n",
    "X_tfidf = tfidf.fit_transform(corpus2).toarray()"
   ]
  },
  {
   "cell_type": "code",
   "execution_count": 121,
   "metadata": {},
   "outputs": [
    {
     "name": "stdout",
     "output_type": "stream",
     "text": [
      "<class 'numpy.ndarray'>\n"
     ]
    }
   ],
   "source": [
    "print(type(X_tfidf))"
   ]
  },
  {
   "cell_type": "code",
   "execution_count": 123,
   "metadata": {},
   "outputs": [
    {
     "name": "stdout",
     "output_type": "stream",
     "text": [
      "[0.         0.         0.         0.         0.         0.\n",
      " 0.         0.         0.         0.         0.         0.\n",
      " 0.         0.         0.14832    0.         0.         0.\n",
      " 0.         0.         0.         0.         0.         0.\n",
      " 0.         0.         0.         0.         0.         0.\n",
      " 0.         0.         0.         0.         0.         0.\n",
      " 0.2980876  0.         0.         0.         0.         0.\n",
      " 0.         0.         0.         0.         0.         0.18343475\n",
      " 0.         0.         0.         0.         0.         0.\n",
      " 0.         0.         0.         0.         0.         0.\n",
      " 0.3213752  0.         0.         0.         0.         0.\n",
      " 0.         0.         0.         0.         0.         0.\n",
      " 0.         0.         0.         0.         0.         0.\n",
      " 0.         0.         0.         0.         0.         0.\n",
      " 0.         0.         0.         0.         0.         0.\n",
      " 0.         0.         0.         0.         0.         0.\n",
      " 0.         0.3213752  0.         0.         0.         0.\n",
      " 0.         0.         0.         0.         0.         0.\n",
      " 0.         0.         0.         0.         0.         0.\n",
      " 0.         0.         0.         0.         0.         0.\n",
      " 0.         0.         0.         0.         0.         0.\n",
      " 0.         0.         0.         0.         0.         0.\n",
      " 0.         0.         0.         0.         0.         0.\n",
      " 0.         0.         0.         0.39371309 0.         0.\n",
      " 0.         0.         0.         0.         0.         0.\n",
      " 0.         0.         0.         0.         0.         0.\n",
      " 0.         0.         0.         0.         0.         0.\n",
      " 0.         0.         0.         0.         0.         0.\n",
      " 0.         0.         0.         0.         0.         0.\n",
      " 0.         0.         0.35139814 0.         0.         0.\n",
      " 0.         0.         0.         0.         0.         0.\n",
      " 0.         0.         0.         0.         0.         0.\n",
      " 0.         0.         0.         0.         0.         0.\n",
      " 0.         0.         0.         0.         0.         0.\n",
      " 0.         0.         0.         0.         0.         0.\n",
      " 0.         0.         0.         0.         0.         0.\n",
      " 0.35139814 0.35139814 0.         0.         0.         0.\n",
      " 0.         0.         0.         0.         0.         0.\n",
      " 0.         0.         0.         0.         0.         0.\n",
      " 0.         0.         0.         0.         0.         0.\n",
      " 0.         0.         0.         0.35139814 0.         0.\n",
      " 0.         0.         0.         0.         0.         0.\n",
      " 0.         0.         0.         0.         0.         0.\n",
      " 0.         0.         0.         0.         0.         0.\n",
      " 0.        ]\n",
      "(31, 265)\n"
     ]
    }
   ],
   "source": [
    "print(X_tfidf[3,])\n",
    "len(X_tfidf[3])\n",
    "print(X_tfidf.shape)"
   ]
  }
 ],
 "metadata": {
  "kernelspec": {
   "display_name": "tensor",
   "language": "python",
   "name": "python3"
  },
  "language_info": {
   "codemirror_mode": {
    "name": "ipython",
    "version": 3
   },
   "file_extension": ".py",
   "mimetype": "text/x-python",
   "name": "python",
   "nbconvert_exporter": "python",
   "pygments_lexer": "ipython3",
   "version": "3.10.14"
  }
 },
 "nbformat": 4,
 "nbformat_minor": 2
}
