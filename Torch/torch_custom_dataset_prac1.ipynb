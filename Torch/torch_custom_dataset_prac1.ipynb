{
 "cells": [
  {
   "cell_type": "code",
   "id": "initial_id",
   "metadata": {
    "collapsed": true,
    "ExecuteTime": {
     "end_time": "2024-12-15T12:37:12.227584Z",
     "start_time": "2024-12-15T12:37:12.225400Z"
    }
   },
   "source": [
    "from sklearn.datasets import make_classification\n",
    "import torch\n",
    "from torch.utils.data import DataLoader, Dataset, TensorDataset"
   ],
   "outputs": [],
   "execution_count": 23
  },
  {
   "metadata": {
    "ExecuteTime": {
     "end_time": "2024-12-15T12:37:13.196944Z",
     "start_time": "2024-12-15T12:37:13.191098Z"
    }
   },
   "cell_type": "code",
   "source": [
    "X, y = make_classification(\n",
    "    n_samples = 10,\n",
    "    n_features = 5,\n",
    "    n_informative = 5,\n",
    "    n_redundant = 0,\n",
    "    n_classes = 2,\n",
    "    random_state = 42\n",
    ")"
   ],
   "id": "6d779aa9660b9c4c",
   "outputs": [],
   "execution_count": 24
  },
  {
   "metadata": {
    "ExecuteTime": {
     "end_time": "2024-12-15T12:37:14.328485Z",
     "start_time": "2024-12-15T12:37:14.324571Z"
    }
   },
   "cell_type": "code",
   "source": [
    "print(X.shape)\n",
    "print(X)"
   ],
   "id": "3a92d175d9822f5",
   "outputs": [
    {
     "name": "stdout",
     "output_type": "stream",
     "text": [
      "(10, 5)\n",
      "[[-0.61585508  2.58130764  1.62963662  0.2085941  -4.03188055]\n",
      " [-0.22730521 -1.37373457 -0.594329    1.38230672 -1.16037018]\n",
      " [-2.03801522  0.41396683 -2.60284125  1.80617675 -1.73328175]\n",
      " [ 0.4663646   2.03142219 -1.5444069   2.26477017  0.32119417]\n",
      " [-0.51804757 -0.76118614 -1.56591406  1.67254839 -0.25264082]\n",
      " [-1.28661346 -0.20591774 -1.23644371  1.47525773 -0.61134412]\n",
      " [ 1.17951155 -1.13445243  1.76200957 -2.72110395  3.93604668]\n",
      " [ 1.4204896   1.62418883  1.44165171 -1.38234717  1.2629718 ]\n",
      " [-1.84482584  0.18879659 -0.62827939  0.12570307 -2.10762465]\n",
      " [ 2.48577339 -0.48905762  0.41917299  1.4018005   2.41277893]]\n"
     ]
    }
   ],
   "execution_count": 25
  },
  {
   "metadata": {
    "ExecuteTime": {
     "end_time": "2024-12-15T12:19:16.525889Z",
     "start_time": "2024-12-15T12:19:16.521536Z"
    }
   },
   "cell_type": "code",
   "source": [
    "print(y.shape)\n",
    "print(y)"
   ],
   "id": "22e42dd824a5b050",
   "outputs": [
    {
     "name": "stdout",
     "output_type": "stream",
     "text": [
      "(10,)\n",
      "[1 1 0 0 0 1 1 1 0 0]\n"
     ]
    }
   ],
   "execution_count": 6
  },
  {
   "metadata": {},
   "cell_type": "markdown",
   "source": "## One way if we have this scenario is we can make use of Tensor Dataset --divide using torch.utils.split_data and then create Dataloader",
   "id": "6947842a9df57e"
  },
  {
   "metadata": {
    "ExecuteTime": {
     "end_time": "2024-12-15T12:23:12.942196Z",
     "start_time": "2024-12-15T12:23:12.931576Z"
    }
   },
   "cell_type": "code",
   "source": "X = TensorDataset(torch.tensor(X),torch.tensor(y))",
   "id": "2a61d1543eab95fd",
   "outputs": [],
   "execution_count": 10
  },
  {
   "metadata": {
    "ExecuteTime": {
     "end_time": "2024-12-15T12:23:53.383061Z",
     "start_time": "2024-12-15T12:23:53.378131Z"
    }
   },
   "cell_type": "code",
   "source": [
    "print(X[0])\n",
    "print(len(X))"
   ],
   "id": "21ad6770342c7bf2",
   "outputs": [
    {
     "name": "stdout",
     "output_type": "stream",
     "text": [
      "(tensor([-0.6159,  2.5813,  1.6296,  0.2086, -4.0319], dtype=torch.float64), tensor(1))\n",
      "10\n"
     ]
    }
   ],
   "execution_count": 14
  },
  {
   "metadata": {
    "ExecuteTime": {
     "end_time": "2024-12-15T12:27:03.601312Z",
     "start_time": "2024-12-15T12:27:03.595270Z"
    }
   },
   "cell_type": "code",
   "source": "X_train,X_test = torch.utils.data.random_split(X,[5,5])",
   "id": "618688c03a13905b",
   "outputs": [],
   "execution_count": 18
  },
  {
   "metadata": {
    "ExecuteTime": {
     "end_time": "2024-12-15T12:27:43.094666Z",
     "start_time": "2024-12-15T12:27:43.091061Z"
    }
   },
   "cell_type": "code",
   "source": [
    "print(len(X_train))\n",
    "print(len(X_test))"
   ],
   "id": "1dba3a962aa4631c",
   "outputs": [
    {
     "name": "stdout",
     "output_type": "stream",
     "text": [
      "5\n",
      "5\n"
     ]
    }
   ],
   "execution_count": 20
  },
  {
   "metadata": {},
   "cell_type": "markdown",
   "source": "## Using CustoDataset class by torch",
   "id": "c333b9f6fb82dcc9"
  },
  {
   "metadata": {
    "ExecuteTime": {
     "end_time": "2024-12-15T12:37:19.559932Z",
     "start_time": "2024-12-15T12:37:19.555418Z"
    }
   },
   "cell_type": "code",
   "source": [
    "X = torch.tensor(X, dtype = torch.float32)\n",
    "y = torch.tensor(y, dtype = torch.int)"
   ],
   "id": "df4c8067c0bdfae",
   "outputs": [],
   "execution_count": 26
  },
  {
   "metadata": {
    "ExecuteTime": {
     "end_time": "2024-12-15T12:37:34.793024Z",
     "start_time": "2024-12-15T12:37:34.786280Z"
    }
   },
   "cell_type": "code",
   "source": "X",
   "id": "23b78217302942b5",
   "outputs": [
    {
     "data": {
      "text/plain": [
       "tensor([[-0.6159,  2.5813,  1.6296,  0.2086, -4.0319],\n",
       "        [-0.2273, -1.3737, -0.5943,  1.3823, -1.1604],\n",
       "        [-2.0380,  0.4140, -2.6028,  1.8062, -1.7333],\n",
       "        [ 0.4664,  2.0314, -1.5444,  2.2648,  0.3212],\n",
       "        [-0.5180, -0.7612, -1.5659,  1.6725, -0.2526],\n",
       "        [-1.2866, -0.2059, -1.2364,  1.4753, -0.6113],\n",
       "        [ 1.1795, -1.1345,  1.7620, -2.7211,  3.9360],\n",
       "        [ 1.4205,  1.6242,  1.4417, -1.3823,  1.2630],\n",
       "        [-1.8448,  0.1888, -0.6283,  0.1257, -2.1076],\n",
       "        [ 2.4858, -0.4891,  0.4192,  1.4018,  2.4128]])"
      ]
     },
     "execution_count": 28,
     "metadata": {},
     "output_type": "execute_result"
    }
   ],
   "execution_count": 28
  },
  {
   "metadata": {
    "ExecuteTime": {
     "end_time": "2024-12-15T12:46:38.847629Z",
     "start_time": "2024-12-15T12:46:38.841780Z"
    }
   },
   "cell_type": "code",
   "source": [
    "class Custom_prac(Dataset):\n",
    "    def __init__(self, features, labels):\n",
    "        self.features = features\n",
    "        self.labels = labels\n",
    "\n",
    "    def __len__(self):\n",
    "        return self.features.shape[0]\n",
    "\n",
    "    def __getitem__(self,index):\n",
    "        features = self.features[index]\n",
    "        labels = self.labels[index]\n",
    "        return  features, labels\n"
   ],
   "id": "fad5a873030b819f",
   "outputs": [],
   "execution_count": 38
  },
  {
   "metadata": {
    "ExecuteTime": {
     "end_time": "2024-12-15T12:46:40.778695Z",
     "start_time": "2024-12-15T12:46:40.774309Z"
    }
   },
   "cell_type": "code",
   "source": "dataset = Custom_prac(X,y)",
   "id": "3a26a4ea4e2a26f8",
   "outputs": [],
   "execution_count": 39
  },
  {
   "metadata": {
    "ExecuteTime": {
     "end_time": "2024-12-15T12:46:41.939444Z",
     "start_time": "2024-12-15T12:46:41.934123Z"
    }
   },
   "cell_type": "code",
   "source": [
    "print(dataset[0])\n",
    "print(len(dataset))"
   ],
   "id": "77d0830d6b254707",
   "outputs": [
    {
     "name": "stdout",
     "output_type": "stream",
     "text": [
      "(tensor([-0.6159,  2.5813,  1.6296,  0.2086, -4.0319]), tensor(1, dtype=torch.int32))\n",
      "10\n"
     ]
    }
   ],
   "execution_count": 40
  },
  {
   "metadata": {
    "ExecuteTime": {
     "end_time": "2024-12-15T12:46:43.723848Z",
     "start_time": "2024-12-15T12:46:43.718440Z"
    }
   },
   "cell_type": "code",
   "source": [
    "## split\n",
    "train, test = torch.utils.data.random_split(dataset, [5,5])"
   ],
   "id": "aec2eef5bb9df3b9",
   "outputs": [],
   "execution_count": 41
  },
  {
   "metadata": {
    "ExecuteTime": {
     "end_time": "2024-12-15T12:47:46.886408Z",
     "start_time": "2024-12-15T12:47:46.883352Z"
    }
   },
   "cell_type": "code",
   "source": "print(len(train))",
   "id": "39126c5beed0672d",
   "outputs": [
    {
     "name": "stdout",
     "output_type": "stream",
     "text": [
      "5\n"
     ]
    }
   ],
   "execution_count": 49
  },
  {
   "metadata": {
    "ExecuteTime": {
     "end_time": "2024-12-15T12:51:15.266870Z",
     "start_time": "2024-12-15T12:51:15.261605Z"
    }
   },
   "cell_type": "code",
   "source": [
    "train_loader = DataLoader(train, batch_size = 2, shuffle = True)\n",
    "test_loader = DataLoader(test, batch_size = 2, shuffle =False)"
   ],
   "id": "a0f16a4b525119ea",
   "outputs": [],
   "execution_count": 50
  },
  {
   "metadata": {
    "ExecuteTime": {
     "end_time": "2024-12-15T12:51:21.602259Z",
     "start_time": "2024-12-15T12:51:21.596784Z"
    }
   },
   "cell_type": "code",
   "source": "train_loader",
   "id": "57d29a757a478822",
   "outputs": [
    {
     "data": {
      "text/plain": [
       "<torch.utils.data.dataloader.DataLoader at 0x1669b4cd0>"
      ]
     },
     "execution_count": 51,
     "metadata": {},
     "output_type": "execute_result"
    }
   ],
   "execution_count": 51
  },
  {
   "metadata": {
    "ExecuteTime": {
     "end_time": "2024-12-15T12:52:25.368551Z",
     "start_time": "2024-12-15T12:52:25.361208Z"
    }
   },
   "cell_type": "code",
   "source": [
    "for batch_feature, batch_labels in train_loader:\n",
    "    print(batch_feature)\n",
    "    print(batch_labels)\n"
   ],
   "id": "cd509370c28966dd",
   "outputs": [
    {
     "name": "stdout",
     "output_type": "stream",
     "text": [
      "tensor([[-0.5180, -0.7612, -1.5659,  1.6725, -0.2526],\n",
      "        [ 1.4205,  1.6242,  1.4417, -1.3823,  1.2630]])\n",
      "tensor([0, 1], dtype=torch.int32)\n",
      "tensor([[-0.2273, -1.3737, -0.5943,  1.3823, -1.1604],\n",
      "        [-1.8448,  0.1888, -0.6283,  0.1257, -2.1076]])\n",
      "tensor([1, 0], dtype=torch.int32)\n",
      "tensor([[-1.2866, -0.2059, -1.2364,  1.4753, -0.6113]])\n",
      "tensor([1], dtype=torch.int32)\n"
     ]
    }
   ],
   "execution_count": 53
  }
 ],
 "metadata": {
  "kernelspec": {
   "display_name": "Python 3",
   "language": "python",
   "name": "python3"
  },
  "language_info": {
   "codemirror_mode": {
    "name": "ipython",
    "version": 2
   },
   "file_extension": ".py",
   "mimetype": "text/x-python",
   "name": "python",
   "nbconvert_exporter": "python",
   "pygments_lexer": "ipython2",
   "version": "2.7.6"
  }
 },
 "nbformat": 4,
 "nbformat_minor": 5
}
