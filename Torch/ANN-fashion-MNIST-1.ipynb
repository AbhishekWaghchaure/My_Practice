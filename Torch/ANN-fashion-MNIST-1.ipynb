{
 "cells": [
  {
   "cell_type": "code",
   "execution_count": 38,
   "id": "initial_id",
   "metadata": {
    "ExecuteTime": {
     "end_time": "2024-12-25T06:36:36.285590Z",
     "start_time": "2024-12-25T06:36:36.281723Z"
    },
    "collapsed": true
   },
   "outputs": [],
   "source": [
    "import pandas as pd\n",
    "import torch\n",
    "import torch.nn as nn\n",
    "import torch.optim as optim\n",
    "from tqdm import tqdm\n",
    "from torch.utils.data import TensorDataset, Dataset, DataLoader\n",
    "import matplotlib.pyplot as plt\n",
    "from matplotlib.pyplot import imshow\n",
    "from sklearn.model_selection import train_test_split"
   ]
  },
  {
   "cell_type": "code",
   "execution_count": 39,
   "id": "6e5340123987f68b",
   "metadata": {
    "ExecuteTime": {
     "end_time": "2024-12-25T05:09:16.496788Z",
     "start_time": "2024-12-25T05:09:14.969377Z"
    }
   },
   "outputs": [],
   "source": [
    "df =pd.read_csv('/Users/abhishekwaghchaure/Desktop/Datasets/fashion MNIST/fashion-mnist_train.csv')"
   ]
  },
  {
   "cell_type": "code",
   "execution_count": 40,
   "id": "f590326ba8680e0d",
   "metadata": {
    "ExecuteTime": {
     "end_time": "2024-12-25T05:09:16.572469Z",
     "start_time": "2024-12-25T05:09:16.564395Z"
    }
   },
   "outputs": [
    {
     "data": {
      "text/html": [
       "<div>\n",
       "<style scoped>\n",
       "    .dataframe tbody tr th:only-of-type {\n",
       "        vertical-align: middle;\n",
       "    }\n",
       "\n",
       "    .dataframe tbody tr th {\n",
       "        vertical-align: top;\n",
       "    }\n",
       "\n",
       "    .dataframe thead th {\n",
       "        text-align: right;\n",
       "    }\n",
       "</style>\n",
       "<table border=\"1\" class=\"dataframe\">\n",
       "  <thead>\n",
       "    <tr style=\"text-align: right;\">\n",
       "      <th></th>\n",
       "      <th>label</th>\n",
       "      <th>pixel1</th>\n",
       "      <th>pixel2</th>\n",
       "      <th>pixel3</th>\n",
       "      <th>pixel4</th>\n",
       "      <th>pixel5</th>\n",
       "      <th>pixel6</th>\n",
       "      <th>pixel7</th>\n",
       "      <th>pixel8</th>\n",
       "      <th>pixel9</th>\n",
       "      <th>...</th>\n",
       "      <th>pixel775</th>\n",
       "      <th>pixel776</th>\n",
       "      <th>pixel777</th>\n",
       "      <th>pixel778</th>\n",
       "      <th>pixel779</th>\n",
       "      <th>pixel780</th>\n",
       "      <th>pixel781</th>\n",
       "      <th>pixel782</th>\n",
       "      <th>pixel783</th>\n",
       "      <th>pixel784</th>\n",
       "    </tr>\n",
       "  </thead>\n",
       "  <tbody>\n",
       "    <tr>\n",
       "      <th>0</th>\n",
       "      <td>2</td>\n",
       "      <td>0</td>\n",
       "      <td>0</td>\n",
       "      <td>0</td>\n",
       "      <td>0</td>\n",
       "      <td>0</td>\n",
       "      <td>0</td>\n",
       "      <td>0</td>\n",
       "      <td>0</td>\n",
       "      <td>0</td>\n",
       "      <td>...</td>\n",
       "      <td>0</td>\n",
       "      <td>0</td>\n",
       "      <td>0</td>\n",
       "      <td>0</td>\n",
       "      <td>0</td>\n",
       "      <td>0</td>\n",
       "      <td>0</td>\n",
       "      <td>0</td>\n",
       "      <td>0</td>\n",
       "      <td>0</td>\n",
       "    </tr>\n",
       "    <tr>\n",
       "      <th>1</th>\n",
       "      <td>9</td>\n",
       "      <td>0</td>\n",
       "      <td>0</td>\n",
       "      <td>0</td>\n",
       "      <td>0</td>\n",
       "      <td>0</td>\n",
       "      <td>0</td>\n",
       "      <td>0</td>\n",
       "      <td>0</td>\n",
       "      <td>0</td>\n",
       "      <td>...</td>\n",
       "      <td>0</td>\n",
       "      <td>0</td>\n",
       "      <td>0</td>\n",
       "      <td>0</td>\n",
       "      <td>0</td>\n",
       "      <td>0</td>\n",
       "      <td>0</td>\n",
       "      <td>0</td>\n",
       "      <td>0</td>\n",
       "      <td>0</td>\n",
       "    </tr>\n",
       "    <tr>\n",
       "      <th>2</th>\n",
       "      <td>6</td>\n",
       "      <td>0</td>\n",
       "      <td>0</td>\n",
       "      <td>0</td>\n",
       "      <td>0</td>\n",
       "      <td>0</td>\n",
       "      <td>0</td>\n",
       "      <td>0</td>\n",
       "      <td>5</td>\n",
       "      <td>0</td>\n",
       "      <td>...</td>\n",
       "      <td>0</td>\n",
       "      <td>0</td>\n",
       "      <td>0</td>\n",
       "      <td>30</td>\n",
       "      <td>43</td>\n",
       "      <td>0</td>\n",
       "      <td>0</td>\n",
       "      <td>0</td>\n",
       "      <td>0</td>\n",
       "      <td>0</td>\n",
       "    </tr>\n",
       "    <tr>\n",
       "      <th>3</th>\n",
       "      <td>0</td>\n",
       "      <td>0</td>\n",
       "      <td>0</td>\n",
       "      <td>0</td>\n",
       "      <td>1</td>\n",
       "      <td>2</td>\n",
       "      <td>0</td>\n",
       "      <td>0</td>\n",
       "      <td>0</td>\n",
       "      <td>0</td>\n",
       "      <td>...</td>\n",
       "      <td>3</td>\n",
       "      <td>0</td>\n",
       "      <td>0</td>\n",
       "      <td>0</td>\n",
       "      <td>0</td>\n",
       "      <td>1</td>\n",
       "      <td>0</td>\n",
       "      <td>0</td>\n",
       "      <td>0</td>\n",
       "      <td>0</td>\n",
       "    </tr>\n",
       "    <tr>\n",
       "      <th>4</th>\n",
       "      <td>3</td>\n",
       "      <td>0</td>\n",
       "      <td>0</td>\n",
       "      <td>0</td>\n",
       "      <td>0</td>\n",
       "      <td>0</td>\n",
       "      <td>0</td>\n",
       "      <td>0</td>\n",
       "      <td>0</td>\n",
       "      <td>0</td>\n",
       "      <td>...</td>\n",
       "      <td>0</td>\n",
       "      <td>0</td>\n",
       "      <td>0</td>\n",
       "      <td>0</td>\n",
       "      <td>0</td>\n",
       "      <td>0</td>\n",
       "      <td>0</td>\n",
       "      <td>0</td>\n",
       "      <td>0</td>\n",
       "      <td>0</td>\n",
       "    </tr>\n",
       "  </tbody>\n",
       "</table>\n",
       "<p>5 rows × 785 columns</p>\n",
       "</div>"
      ],
      "text/plain": [
       "   label  pixel1  pixel2  pixel3  pixel4  pixel5  pixel6  pixel7  pixel8  \\\n",
       "0      2       0       0       0       0       0       0       0       0   \n",
       "1      9       0       0       0       0       0       0       0       0   \n",
       "2      6       0       0       0       0       0       0       0       5   \n",
       "3      0       0       0       0       1       2       0       0       0   \n",
       "4      3       0       0       0       0       0       0       0       0   \n",
       "\n",
       "   pixel9  ...  pixel775  pixel776  pixel777  pixel778  pixel779  pixel780  \\\n",
       "0       0  ...         0         0         0         0         0         0   \n",
       "1       0  ...         0         0         0         0         0         0   \n",
       "2       0  ...         0         0         0        30        43         0   \n",
       "3       0  ...         3         0         0         0         0         1   \n",
       "4       0  ...         0         0         0         0         0         0   \n",
       "\n",
       "   pixel781  pixel782  pixel783  pixel784  \n",
       "0         0         0         0         0  \n",
       "1         0         0         0         0  \n",
       "2         0         0         0         0  \n",
       "3         0         0         0         0  \n",
       "4         0         0         0         0  \n",
       "\n",
       "[5 rows x 785 columns]"
      ]
     },
     "execution_count": 40,
     "metadata": {},
     "output_type": "execute_result"
    }
   ],
   "source": [
    "df.head()"
   ]
  },
  {
   "cell_type": "code",
   "execution_count": 41,
   "id": "c2f84de26f468a4a",
   "metadata": {
    "ExecuteTime": {
     "end_time": "2024-12-25T05:09:17.016910Z",
     "start_time": "2024-12-25T05:09:16.650663Z"
    }
   },
   "outputs": [
    {
     "data": {
      "image/png": "[encoded data removed]",
      "text/plain": [
       "<Figure size 1000x1000 with 16 Axes>"
      ]
     },
     "metadata": {},
     "output_type": "display_data"
    }
   ],
   "source": [
    "\n",
    "fig, axes = plt.subplots(4,4, figsize = (10,10))\n",
    "fig.suptitle(\"First 16 images\")\n",
    "\n",
    "for i, ax in enumerate(axes.flat):\n",
    "    img = df.iloc[i, 1:].values.reshape(28,28)\n",
    "    ax.imshow(img)\n",
    "    ax.axis('off')\n",
    "    ax.set_title(f\"Label : {df.iloc[i, 0]}\")\n",
    "\n",
    "plt.tight_layout(rect=[0, 0, 1, 0.96])\n",
    "plt.show()\n"
   ]
  },
  {
   "cell_type": "code",
   "execution_count": 42,
   "id": "1025628bcd551a48",
   "metadata": {
    "ExecuteTime": {
     "end_time": "2024-12-25T05:09:17.229433Z",
     "start_time": "2024-12-25T05:09:17.227433Z"
    }
   },
   "outputs": [],
   "source": [
    "X = df.iloc[: , 1:].values\n",
    "y = df.iloc[: , 0].values"
   ]
  },
  {
   "cell_type": "code",
   "execution_count": 43,
   "id": "c07e4aa18f904a5f",
   "metadata": {
    "ExecuteTime": {
     "end_time": "2024-12-25T05:09:17.557419Z",
     "start_time": "2024-12-25T05:09:17.250887Z"
    }
   },
   "outputs": [],
   "source": [
    "X_train, X_test, y_train, y_test = train_test_split(X,y, test_size= 0.2, random_state=32)"
   ]
  },
  {
   "cell_type": "code",
   "execution_count": 44,
   "id": "7367fb07239cfdda",
   "metadata": {
    "ExecuteTime": {
     "end_time": "2024-12-25T05:09:17.626391Z",
     "start_time": "2024-12-25T05:09:17.623837Z"
    }
   },
   "outputs": [
    {
     "name": "stdout",
     "output_type": "stream",
     "text": [
      "(48000, 784)\n",
      "(12000, 784)\n"
     ]
    }
   ],
   "source": [
    "print(X_train.shape)\n",
    "print(X_test.shape)"
   ]
  },
  {
   "cell_type": "code",
   "execution_count": 45,
   "id": "94aab1b32f5843f9",
   "metadata": {
    "ExecuteTime": {
     "end_time": "2024-12-25T05:09:17.811242Z",
     "start_time": "2024-12-25T05:09:17.808144Z"
    }
   },
   "outputs": [
    {
     "data": {
      "text/plain": [
       "array([[ 0,  0,  0, ...,  0,  0,  0],\n",
       "       [ 0,  0,  0, ...,  0,  0,  0],\n",
       "       [ 0,  0,  0, ..., 32, 29,  0],\n",
       "       [ 0,  0,  0, ...,  0,  0,  0],\n",
       "       [ 0,  0,  0, ...,  0,  0,  0]], shape=(5, 784))"
      ]
     },
     "execution_count": 45,
     "metadata": {},
     "output_type": "execute_result"
    }
   ],
   "source": [
    "X_train[0:5]"
   ]
  },
  {
   "cell_type": "code",
   "execution_count": 46,
   "id": "592484f9033862f7",
   "metadata": {
    "ExecuteTime": {
     "end_time": "2024-12-25T05:09:18.142810Z",
     "start_time": "2024-12-25T05:09:17.926519Z"
    }
   },
   "outputs": [],
   "source": [
    "X_train = X_train / 255.0\n",
    "X_test = X_test / 255.0"
   ]
  },
  {
   "cell_type": "code",
   "execution_count": 47,
   "id": "7d8bcda19c40714b",
   "metadata": {
    "ExecuteTime": {
     "end_time": "2024-12-25T05:09:18.208489Z",
     "start_time": "2024-12-25T05:09:18.205399Z"
    }
   },
   "outputs": [
    {
     "data": {
      "text/plain": [
       "array([[0.        , 0.        , 0.        , ..., 0.        , 0.        ,\n",
       "        0.        ],\n",
       "       [0.        , 0.        , 0.        , ..., 0.        , 0.        ,\n",
       "        0.        ],\n",
       "       [0.        , 0.        , 0.        , ..., 0.1254902 , 0.11372549,\n",
       "        0.        ],\n",
       "       [0.        , 0.        , 0.        , ..., 0.        , 0.        ,\n",
       "        0.        ],\n",
       "       [0.        , 0.        , 0.        , ..., 0.        , 0.        ,\n",
       "        0.        ]], shape=(5, 784))"
      ]
     },
     "execution_count": 47,
     "metadata": {},
     "output_type": "execute_result"
    }
   ],
   "source": [
    "X_train[0:5]"
   ]
  },
  {
   "cell_type": "code",
   "execution_count": 48,
   "id": "aaab2aafb340697d",
   "metadata": {
    "ExecuteTime": {
     "end_time": "2024-12-25T05:09:18.262241Z",
     "start_time": "2024-12-25T05:09:18.257313Z"
    }
   },
   "outputs": [],
   "source": [
    "## Custom Dataset\n",
    "class CustomDataset(Dataset):\n",
    "    def __init__(self, features, labels):\n",
    "        self.features = torch.tensor(features, dtype=torch.float32)\n",
    "        self.labels = torch.tensor(labels, dtype=torch.long)\n",
    "\n",
    "    def __len__(self):\n",
    "         return len(self.features)\n",
    "\n",
    "    def __getitem__(self, index):\n",
    "         return self.features[index], self.labels[index]\n",
    "\n"
   ]
  },
  {
   "cell_type": "code",
   "execution_count": 49,
   "id": "bb86ce5dc84944ed",
   "metadata": {
    "ExecuteTime": {
     "end_time": "2024-12-25T05:09:21.290822Z",
     "start_time": "2024-12-25T05:09:18.408772Z"
    }
   },
   "outputs": [],
   "source": [
    "train_dataset = CustomDataset(X_train,y_train)"
   ]
  },
  {
   "cell_type": "code",
   "execution_count": 50,
   "id": "10ad2990596e78a6",
   "metadata": {
    "ExecuteTime": {
     "end_time": "2024-12-25T05:09:21.299697Z",
     "start_time": "2024-12-25T05:09:21.297075Z"
    }
   },
   "outputs": [
    {
     "name": "stdout",
     "output_type": "stream",
     "text": [
      "48000\n",
      "<class '__main__.CustomDataset'>\n"
     ]
    }
   ],
   "source": [
    "print(len(train_dataset))\n",
    "print(type(train_dataset))"
   ]
  },
  {
   "cell_type": "code",
   "execution_count": 51,
   "id": "cbe5d6fdc00fc7fb",
   "metadata": {
    "ExecuteTime": {
     "end_time": "2024-12-25T05:09:22.021217Z",
     "start_time": "2024-12-25T05:09:21.315742Z"
    }
   },
   "outputs": [],
   "source": [
    "X_test =torch.tensor(X_test, dtype=torch.float32)\n",
    "y_test = torch.tensor(y_test, dtype=torch.long)\n",
    "test_dataset = TensorDataset(X_test,y_test)"
   ]
  },
  {
   "cell_type": "code",
   "execution_count": 52,
   "id": "bf91f78f286d06de",
   "metadata": {
    "ExecuteTime": {
     "end_time": "2024-12-25T05:09:22.034636Z",
     "start_time": "2024-12-25T05:09:22.031577Z"
    }
   },
   "outputs": [
    {
     "name": "stdout",
     "output_type": "stream",
     "text": [
      "12000\n",
      "<class 'torch.utils.data.dataset.TensorDataset'>\n"
     ]
    }
   ],
   "source": [
    "print(len(test_dataset))\n",
    "print(type(test_dataset))"
   ]
  },
  {
   "cell_type": "code",
   "execution_count": 53,
   "id": "da0ed9d4c5c59d9d",
   "metadata": {
    "ExecuteTime": {
     "end_time": "2024-12-25T05:09:22.084397Z",
     "start_time": "2024-12-25T05:09:22.056903Z"
    }
   },
   "outputs": [],
   "source": [
    "train_loader = DataLoader(train_dataset, batch_size = 32, shuffle = True)\n",
    "test_loader = DataLoader(test_dataset, batch_size = 32)"
   ]
  },
  {
   "cell_type": "markdown",
   "id": "3744782fdf79dc7",
   "metadata": {},
   "source": [
    "## ANN"
   ]
  },
  {
   "cell_type": "code",
   "execution_count": 54,
   "id": "bc53f5e6e564bc51",
   "metadata": {
    "ExecuteTime": {
     "end_time": "2024-12-25T05:11:29.121176Z",
     "start_time": "2024-12-25T05:11:29.113273Z"
    }
   },
   "outputs": [],
   "source": [
    "class MyNeuralNet(nn.Module):\n",
    "    def __init__(self,num_features):\n",
    "        super().__init__()\n",
    "\n",
    "        self.model = nn.Sequential(\n",
    "            nn.Linear(num_features, 128),\n",
    "            nn.ReLU(),\n",
    "            nn.Linear(128, 64),\n",
    "            nn.ReLU(),\n",
    "            nn.Linear(64, 10)   ### No need to add softmax as it is implemented in cross entropy loss by default in torch\n",
    "        )\n",
    "    def forward(self,x):\n",
    "        return self.model(x)"
   ]
  },
  {
   "cell_type": "code",
   "execution_count": 55,
   "id": "663fdbbd112280b6",
   "metadata": {
    "ExecuteTime": {
     "end_time": "2024-12-25T05:11:30.411656Z",
     "start_time": "2024-12-25T05:11:30.409310Z"
    }
   },
   "outputs": [],
   "source": [
    "## Set Learning Rate  and epoch\n",
    "## Model Parameters\n",
    "epochs = 100\n",
    "learning_rate = 0.1"
   ]
  },
  {
   "cell_type": "code",
   "execution_count": 56,
   "id": "5300439b9ae90871",
   "metadata": {
    "ExecuteTime": {
     "end_time": "2024-12-25T05:11:32.080668Z",
     "start_time": "2024-12-25T05:11:32.076777Z"
    }
   },
   "outputs": [
    {
     "data": {
      "text/plain": [
       "(48000, 784)"
      ]
     },
     "execution_count": 56,
     "metadata": {},
     "output_type": "execute_result"
    }
   ],
   "source": [
    "X_train.shape"
   ]
  },
  {
   "cell_type": "code",
   "execution_count": 57,
   "id": "e11554256af6255e",
   "metadata": {
    "ExecuteTime": {
     "end_time": "2024-12-25T05:11:33.103311Z",
     "start_time": "2024-12-25T05:11:33.095075Z"
    }
   },
   "outputs": [],
   "source": [
    "## Instatiate Model\n",
    "model = MyNeuralNet(784)\n",
    "\n",
    "## Loss Function\n",
    "criterion = nn.CrossEntropyLoss()\n",
    "\n",
    "##Optimizer\n",
    "optimizer = optim.SGD(model.parameters(), lr = learning_rate)"
   ]
  },
  {
   "cell_type": "code",
   "execution_count": 58,
   "id": "212f85295b0780ce",
   "metadata": {
    "ExecuteTime": {
     "end_time": "2024-12-25T05:11:34.793368Z",
     "start_time": "2024-12-25T05:11:34.789154Z"
    }
   },
   "outputs": [
    {
     "name": "stdout",
     "output_type": "stream",
     "text": [
      "1500\n",
      "48000\n"
     ]
    }
   ],
   "source": [
    "print(len(train_loader))\n",
    "print(len(train_dataset))\n"
   ]
  },
  {
   "cell_type": "code",
   "execution_count": 59,
   "id": "e53e1f604494c63d",
   "metadata": {
    "ExecuteTime": {
     "end_time": "2024-12-25T06:35:48.178325Z",
     "start_time": "2024-12-25T06:34:25.609883Z"
    }
   },
   "outputs": [
    {
     "name": "stdout",
     "output_type": "stream",
     "text": [
      "Epoch : 1, loss = 0.6347635343074799, accuracy = 0.90625\n",
      "Epoch : 2, loss = 0.4292797362705072, accuracy = 0.84375\n",
      "Epoch : 3, loss = 0.3826106055304408, accuracy = 0.875\n",
      "Epoch : 4, loss = 0.3561042730435729, accuracy = 0.8125\n",
      "Epoch : 5, loss = 0.33594999490181604, accuracy = 0.84375\n",
      "Epoch : 6, loss = 0.3206876742442449, accuracy = 0.8125\n",
      "Epoch : 7, loss = 0.30752886502693094, accuracy = 0.84375\n",
      "Epoch : 8, loss = 0.29539464142670235, accuracy = 0.9375\n",
      "Epoch : 9, loss = 0.283274377780656, accuracy = 0.90625\n",
      "Epoch : 10, loss = 0.2738580392723282, accuracy = 0.875\n",
      "Epoch : 11, loss = 0.26550277438014747, accuracy = 0.96875\n",
      "Epoch : 12, loss = 0.25856441669662794, accuracy = 0.875\n",
      "Epoch : 13, loss = 0.25186528929074603, accuracy = 0.875\n",
      "Epoch : 14, loss = 0.24300710749377807, accuracy = 0.90625\n",
      "Epoch : 15, loss = 0.23875873544439674, accuracy = 0.90625\n",
      "Epoch : 16, loss = 0.23072969799861312, accuracy = 1.0\n",
      "Epoch : 17, loss = 0.22501991177971165, accuracy = 0.9375\n",
      "Epoch : 18, loss = 0.22154931472428144, accuracy = 0.9375\n",
      "Epoch : 19, loss = 0.2146054047656556, accuracy = 0.9375\n",
      "Epoch : 20, loss = 0.20946297553678353, accuracy = 0.875\n",
      "Epoch : 21, loss = 0.2043627096141378, accuracy = 0.78125\n",
      "Epoch : 22, loss = 0.20105317792048058, accuracy = 0.90625\n",
      "Epoch : 23, loss = 0.19725715431881446, accuracy = 0.90625\n",
      "Epoch : 24, loss = 0.1940461052196721, accuracy = 0.9375\n",
      "Epoch : 25, loss = 0.18862476534272235, accuracy = 0.96875\n",
      "Epoch : 26, loss = 0.18545119900628923, accuracy = 0.9375\n",
      "Epoch : 27, loss = 0.18251811194512993, accuracy = 0.8125\n",
      "Epoch : 28, loss = 0.17732050138060004, accuracy = 1.0\n",
      "Epoch : 29, loss = 0.17439754656516016, accuracy = 0.90625\n",
      "Epoch : 30, loss = 0.1698827488919099, accuracy = 0.9375\n",
      "Epoch : 31, loss = 0.16806412499397994, accuracy = 0.9375\n",
      "Epoch : 32, loss = 0.16267360278001677, accuracy = 0.90625\n",
      "Epoch : 33, loss = 0.16417969973385335, accuracy = 0.90625\n",
      "Epoch : 34, loss = 0.15664112721631923, accuracy = 0.90625\n",
      "Epoch : 35, loss = 0.15471210136823357, accuracy = 0.90625\n",
      "Epoch : 36, loss = 0.15078554250175755, accuracy = 0.9375\n",
      "Epoch : 37, loss = 0.15183921069248268, accuracy = 0.96875\n",
      "Epoch : 38, loss = 0.1513248848564302, accuracy = 0.9375\n",
      "Epoch : 39, loss = 0.1454124196645959, accuracy = 0.875\n",
      "Epoch : 40, loss = 0.14226946575256685, accuracy = 0.9375\n",
      "Epoch : 41, loss = 0.1395807047529767, accuracy = 0.96875\n",
      "Epoch : 42, loss = 0.13749978051179398, accuracy = 1.0\n",
      "Epoch : 43, loss = 0.13485198327216008, accuracy = 0.96875\n",
      "Epoch : 44, loss = 0.12992277202320596, accuracy = 0.875\n",
      "Epoch : 45, loss = 0.12797232190628224, accuracy = 0.96875\n",
      "Epoch : 46, loss = 0.1260579910093608, accuracy = 0.90625\n",
      "Epoch : 47, loss = 0.12625236565728362, accuracy = 0.90625\n",
      "Epoch : 48, loss = 0.12406629666592926, accuracy = 0.9375\n",
      "Epoch : 49, loss = 0.12332044550357386, accuracy = 1.0\n",
      "Epoch : 50, loss = 0.11574807645419302, accuracy = 0.96875\n",
      "Epoch : 51, loss = 0.11696467072656379, accuracy = 0.9375\n",
      "Epoch : 52, loss = 0.11624368792795577, accuracy = 0.96875\n",
      "Epoch : 53, loss = 0.12069961634666349, accuracy = 0.96875\n",
      "Epoch : 54, loss = 0.11205482394279291, accuracy = 0.9375\n",
      "Epoch : 55, loss = 0.10832981107430532, accuracy = 0.9375\n",
      "Epoch : 56, loss = 0.1106599443272377, accuracy = 0.9375\n",
      "Epoch : 57, loss = 0.10519918645514796, accuracy = 0.9375\n",
      "Epoch : 58, loss = 0.10580766579555348, accuracy = 1.0\n",
      "Epoch : 59, loss = 0.10580955333805954, accuracy = 0.9375\n",
      "Epoch : 60, loss = 0.10017243927558107, accuracy = 0.9375\n",
      "Epoch : 61, loss = 0.09907221658931424, accuracy = 0.90625\n",
      "Epoch : 62, loss = 0.09629350328880051, accuracy = 0.96875\n",
      "Epoch : 63, loss = 0.09625980474894943, accuracy = 0.90625\n",
      "Epoch : 64, loss = 0.09484200743601347, accuracy = 1.0\n",
      "Epoch : 65, loss = 0.09745525501138763, accuracy = 0.96875\n",
      "Epoch : 66, loss = 0.09597850755648688, accuracy = 0.9375\n",
      "Epoch : 67, loss = 0.08946616176182094, accuracy = 1.0\n",
      "Epoch : 68, loss = 0.09657640010498775, accuracy = 0.9375\n",
      "Epoch : 69, loss = 0.09232903757617654, accuracy = 0.90625\n",
      "Epoch : 70, loss = 0.08485204669910794, accuracy = 1.0\n",
      "Epoch : 71, loss = 0.08864663356379605, accuracy = 0.96875\n",
      "Epoch : 72, loss = 0.08973442053903515, accuracy = 0.90625\n",
      "Epoch : 73, loss = 0.07867843536642613, accuracy = 0.96875\n",
      "Epoch : 74, loss = 0.08377126907801721, accuracy = 1.0\n",
      "Epoch : 75, loss = 0.07938212626235326, accuracy = 0.96875\n",
      "Epoch : 76, loss = 0.08126521341254314, accuracy = 0.9375\n",
      "Epoch : 77, loss = 0.08157426419469023, accuracy = 0.96875\n",
      "Epoch : 78, loss = 0.07431684799399227, accuracy = 0.96875\n",
      "Epoch : 79, loss = 0.0766595767835, accuracy = 0.96875\n",
      "Epoch : 80, loss = 0.08763232348882594, accuracy = 0.9375\n",
      "Epoch : 81, loss = 0.07525617263752307, accuracy = 1.0\n",
      "Epoch : 82, loss = 0.07210255206554818, accuracy = 0.96875\n",
      "Epoch : 83, loss = 0.06815144476405112, accuracy = 1.0\n",
      "Epoch : 84, loss = 0.0706510703980069, accuracy = 0.9375\n",
      "Epoch : 85, loss = 0.0747533783610949, accuracy = 0.96875\n",
      "Epoch : 86, loss = 0.07279088883723307, accuracy = 0.875\n",
      "Epoch : 87, loss = 0.07498257808591006, accuracy = 1.0\n",
      "Epoch : 88, loss = 0.07361355283904898, accuracy = 1.0\n",
      "Epoch : 89, loss = 0.07227235154229371, accuracy = 1.0\n",
      "Epoch : 90, loss = 0.06455069701040884, accuracy = 1.0\n",
      "Epoch : 91, loss = 0.06755394163347471, accuracy = 1.0\n",
      "Epoch : 92, loss = 0.0621440979623585, accuracy = 0.96875\n",
      "Epoch : 93, loss = 0.06580712290440957, accuracy = 0.96875\n",
      "Epoch : 94, loss = 0.0623869492385226, accuracy = 0.90625\n",
      "Epoch : 95, loss = 0.06181333250649914, accuracy = 1.0\n",
      "Epoch : 96, loss = 0.06297511932111229, accuracy = 1.0\n",
      "Epoch : 97, loss = 0.06084283913944576, accuracy = 0.96875\n",
      "Epoch : 98, loss = 0.060122082942917286, accuracy = 0.9375\n",
      "Epoch : 99, loss = 0.06599964271812739, accuracy = 0.96875\n",
      "Epoch : 100, loss = 0.061543388075369874, accuracy = 1.0\n"
     ]
    }
   ],
   "source": [
    "## Training Loop\n",
    "for epoch in range(epochs):\n",
    "    total_epoch_loss = 0.0\n",
    "    for features, labels in train_loader:\n",
    "        # Forward Pass\n",
    "        out_puts = model(features)\n",
    "        # Calculate Loss\n",
    "        loss = criterion(out_puts, labels)\n",
    "        # Back Propogation\n",
    "        optimizer.zero_grad()\n",
    "        loss.backward()\n",
    "        # Update Gradients\n",
    "        optimizer.step()\n",
    "\n",
    "        total_epoch_loss = total_epoch_loss + loss.item()\n",
    "        correct = (out_puts.argmax(dim =1) == labels).sum().item()\n",
    "\n",
    "    accuracy = correct/len(labels)\n",
    "    avg_epoch_loss = total_epoch_loss/len(train_loader)\n",
    "    print(f\"Epoch : {epoch+1}, loss = {avg_epoch_loss}, accuracy = {accuracy}\")"
   ]
  },
  {
   "cell_type": "code",
   "execution_count": 60,
   "id": "1edaf8a3d97b4c0d",
   "metadata": {
    "ExecuteTime": {
     "start_time": "2024-12-25T07:04:12.768368Z"
    },
    "jupyter": {
     "is_executing": true
    }
   },
   "outputs": [
    {
     "name": "stderr",
     "output_type": "stream",
     "text": [
      "Epoch : 1/ 100: 100%|██████████| 1500/1500 [00:06<00:00, 231.76batch/s, accuracy=96.9, loss=0.233]  \n"
     ]
    },
    {
     "name": "stdout",
     "output_type": "stream",
     "text": [
      "Epoch = 1 --- Epoch_Loss = 84.1984 --- Epoch Accuracy = 96.88%\n"
     ]
    },
    {
     "name": "stderr",
     "output_type": "stream",
     "text": [
      "Epoch : 2/ 100: 100%|██████████| 1500/1500 [00:06<00:00, 231.64batch/s, accuracy=100, loss=0.0167]  \n"
     ]
    },
    {
     "name": "stdout",
     "output_type": "stream",
     "text": [
      "Epoch = 2 --- Epoch_Loss = 85.9913 --- Epoch Accuracy = 100.00%\n"
     ]
    },
    {
     "name": "stderr",
     "output_type": "stream",
     "text": [
      "Epoch : 3/ 100: 100%|██████████| 1500/1500 [00:06<00:00, 215.83batch/s, accuracy=96.9, loss=0.0421] \n"
     ]
    },
    {
     "name": "stdout",
     "output_type": "stream",
     "text": [
      "Epoch = 3 --- Epoch_Loss = 80.3045 --- Epoch Accuracy = 96.88%\n"
     ]
    },
    {
     "name": "stderr",
     "output_type": "stream",
     "text": [
      "Epoch : 4/ 100: 100%|██████████| 1500/1500 [00:06<00:00, 219.89batch/s, accuracy=96.9, loss=0.101]  \n"
     ]
    },
    {
     "name": "stdout",
     "output_type": "stream",
     "text": [
      "Epoch = 4 --- Epoch_Loss = 105.6218 --- Epoch Accuracy = 96.88%\n"
     ]
    },
    {
     "name": "stderr",
     "output_type": "stream",
     "text": [
      "Epoch : 5/ 100: 100%|██████████| 1500/1500 [00:06<00:00, 221.87batch/s, accuracy=96.9, loss=0.0576] \n"
     ]
    },
    {
     "name": "stdout",
     "output_type": "stream",
     "text": [
      "Epoch = 5 --- Epoch_Loss = 83.7775 --- Epoch Accuracy = 96.88%\n"
     ]
    },
    {
     "name": "stderr",
     "output_type": "stream",
     "text": [
      "Epoch : 6/ 100: 100%|██████████| 1500/1500 [00:06<00:00, 228.04batch/s, accuracy=100, loss=0.0332]  \n"
     ]
    },
    {
     "name": "stdout",
     "output_type": "stream",
     "text": [
      "Epoch = 6 --- Epoch_Loss = 73.8579 --- Epoch Accuracy = 100.00%\n"
     ]
    },
    {
     "name": "stderr",
     "output_type": "stream",
     "text": [
      "Epoch : 7/ 100: 100%|██████████| 1500/1500 [00:06<00:00, 221.22batch/s, accuracy=96.9, loss=0.0352] \n"
     ]
    },
    {
     "name": "stdout",
     "output_type": "stream",
     "text": [
      "Epoch = 7 --- Epoch_Loss = 81.6213 --- Epoch Accuracy = 96.88%\n"
     ]
    },
    {
     "name": "stderr",
     "output_type": "stream",
     "text": [
      "Epoch : 8/ 100: 100%|██████████| 1500/1500 [00:06<00:00, 238.19batch/s, accuracy=100, loss=0.0213]  \n"
     ]
    },
    {
     "name": "stdout",
     "output_type": "stream",
     "text": [
      "Epoch = 8 --- Epoch_Loss = 92.5343 --- Epoch Accuracy = 100.00%\n"
     ]
    },
    {
     "name": "stderr",
     "output_type": "stream",
     "text": [
      "Epoch : 9/ 100: 100%|██████████| 1500/1500 [00:06<00:00, 245.00batch/s, accuracy=96.9, loss=0.0695] \n"
     ]
    },
    {
     "name": "stdout",
     "output_type": "stream",
     "text": [
      "Epoch = 9 --- Epoch_Loss = 91.8086 --- Epoch Accuracy = 96.88%\n"
     ]
    },
    {
     "name": "stderr",
     "output_type": "stream",
     "text": [
      "Epoch : 10/ 100: 100%|██████████| 1500/1500 [00:06<00:00, 236.08batch/s, accuracy=93.8, loss=0.123]  \n"
     ]
    },
    {
     "name": "stdout",
     "output_type": "stream",
     "text": [
      "Epoch = 10 --- Epoch_Loss = 86.5625 --- Epoch Accuracy = 93.75%\n"
     ]
    },
    {
     "name": "stderr",
     "output_type": "stream",
     "text": [
      "Epoch : 11/ 100: 100%|██████████| 1500/1500 [00:07<00:00, 213.68batch/s, accuracy=100, loss=0.00652] \n"
     ]
    },
    {
     "name": "stdout",
     "output_type": "stream",
     "text": [
      "Epoch = 11 --- Epoch_Loss = 74.8789 --- Epoch Accuracy = 100.00%\n"
     ]
    },
    {
     "name": "stderr",
     "output_type": "stream",
     "text": [
      "Epoch : 12/ 100: 100%|██████████| 1500/1500 [00:06<00:00, 216.97batch/s, accuracy=100, loss=0.0284]  \n"
     ]
    },
    {
     "name": "stdout",
     "output_type": "stream",
     "text": [
      "Epoch = 12 --- Epoch_Loss = 71.9177 --- Epoch Accuracy = 100.00%\n"
     ]
    },
    {
     "name": "stderr",
     "output_type": "stream",
     "text": [
      "Epoch : 13/ 100: 100%|██████████| 1500/1500 [00:06<00:00, 236.49batch/s, accuracy=100, loss=0.00125] \n"
     ]
    },
    {
     "name": "stdout",
     "output_type": "stream",
     "text": [
      "Epoch = 13 --- Epoch_Loss = 79.2066 --- Epoch Accuracy = 100.00%\n"
     ]
    },
    {
     "name": "stderr",
     "output_type": "stream",
     "text": [
      "Epoch : 14/ 100: 100%|██████████| 1500/1500 [00:06<00:00, 216.04batch/s, accuracy=96.9, loss=0.0757] \n"
     ]
    },
    {
     "name": "stdout",
     "output_type": "stream",
     "text": [
      "Epoch = 14 --- Epoch_Loss = 81.3180 --- Epoch Accuracy = 96.88%\n"
     ]
    },
    {
     "name": "stderr",
     "output_type": "stream",
     "text": [
      "Epoch : 15/ 100: 100%|██████████| 1500/1500 [00:07<00:00, 213.52batch/s, accuracy=100, loss=0.00779] \n"
     ]
    },
    {
     "name": "stdout",
     "output_type": "stream",
     "text": [
      "Epoch = 15 --- Epoch_Loss = 71.9753 --- Epoch Accuracy = 100.00%\n"
     ]
    },
    {
     "name": "stderr",
     "output_type": "stream",
     "text": [
      "Epoch : 16/ 100: 100%|██████████| 1500/1500 [00:07<00:00, 204.69batch/s, accuracy=96.9, loss=0.0498] \n"
     ]
    },
    {
     "name": "stdout",
     "output_type": "stream",
     "text": [
      "Epoch = 16 --- Epoch_Loss = 74.3025 --- Epoch Accuracy = 96.88%\n"
     ]
    },
    {
     "name": "stderr",
     "output_type": "stream",
     "text": [
      "Epoch : 17/ 100: 100%|██████████| 1500/1500 [00:08<00:00, 173.12batch/s, accuracy=93.8, loss=0.152]  \n"
     ]
    },
    {
     "name": "stdout",
     "output_type": "stream",
     "text": [
      "Epoch = 17 --- Epoch_Loss = 70.5383 --- Epoch Accuracy = 93.75%\n"
     ]
    },
    {
     "name": "stderr",
     "output_type": "stream",
     "text": [
      "Epoch : 18/ 100: 100%|██████████| 1500/1500 [00:08<00:00, 166.97batch/s, accuracy=96.9, loss=0.0305] \n"
     ]
    },
    {
     "name": "stdout",
     "output_type": "stream",
     "text": [
      "Epoch = 18 --- Epoch_Loss = 68.9031 --- Epoch Accuracy = 96.88%\n"
     ]
    },
    {
     "name": "stderr",
     "output_type": "stream",
     "text": [
      "Epoch : 19/ 100: 100%|██████████| 1500/1500 [00:07<00:00, 200.65batch/s, accuracy=96.9, loss=0.0774] \n"
     ]
    },
    {
     "name": "stdout",
     "output_type": "stream",
     "text": [
      "Epoch = 19 --- Epoch_Loss = 64.7735 --- Epoch Accuracy = 96.88%\n"
     ]
    },
    {
     "name": "stderr",
     "output_type": "stream",
     "text": [
      "Epoch : 20/ 100: 100%|██████████| 1500/1500 [00:07<00:00, 196.83batch/s, accuracy=96.9, loss=0.128]  \n"
     ]
    },
    {
     "name": "stdout",
     "output_type": "stream",
     "text": [
      "Epoch = 20 --- Epoch_Loss = 77.6841 --- Epoch Accuracy = 96.88%\n"
     ]
    },
    {
     "name": "stderr",
     "output_type": "stream",
     "text": [
      "Epoch : 21/ 100: 100%|██████████| 1500/1500 [00:07<00:00, 200.82batch/s, accuracy=90.6, loss=0.218]  \n"
     ]
    },
    {
     "name": "stdout",
     "output_type": "stream",
     "text": [
      "Epoch = 21 --- Epoch_Loss = 71.5916 --- Epoch Accuracy = 90.62%\n"
     ]
    },
    {
     "name": "stderr",
     "output_type": "stream",
     "text": [
      "Epoch : 22/ 100: 100%|██████████| 1500/1500 [00:07<00:00, 198.07batch/s, accuracy=100, loss=0.0134]  \n"
     ]
    },
    {
     "name": "stdout",
     "output_type": "stream",
     "text": [
      "Epoch = 22 --- Epoch_Loss = 66.3447 --- Epoch Accuracy = 100.00%\n"
     ]
    },
    {
     "name": "stderr",
     "output_type": "stream",
     "text": [
      "Epoch : 23/ 100: 100%|██████████| 1500/1500 [00:07<00:00, 202.26batch/s, accuracy=96.9, loss=0.0327] \n"
     ]
    },
    {
     "name": "stdout",
     "output_type": "stream",
     "text": [
      "Epoch = 23 --- Epoch_Loss = 71.8337 --- Epoch Accuracy = 96.88%\n"
     ]
    },
    {
     "name": "stderr",
     "output_type": "stream",
     "text": [
      "Epoch : 24/ 100: 100%|██████████| 1500/1500 [00:07<00:00, 200.79batch/s, accuracy=100, loss=0.0124]  \n"
     ]
    },
    {
     "name": "stdout",
     "output_type": "stream",
     "text": [
      "Epoch = 24 --- Epoch_Loss = 71.8932 --- Epoch Accuracy = 100.00%\n"
     ]
    },
    {
     "name": "stderr",
     "output_type": "stream",
     "text": [
      "Epoch : 25/ 100: 100%|██████████| 1500/1500 [00:07<00:00, 203.13batch/s, accuracy=96.9, loss=0.0402] \n"
     ]
    },
    {
     "name": "stdout",
     "output_type": "stream",
     "text": [
      "Epoch = 25 --- Epoch_Loss = 66.2579 --- Epoch Accuracy = 96.88%\n"
     ]
    },
    {
     "name": "stderr",
     "output_type": "stream",
     "text": [
      "Epoch : 26/ 100: 100%|██████████| 1500/1500 [00:07<00:00, 199.53batch/s, accuracy=100, loss=0.0378]  \n"
     ]
    },
    {
     "name": "stdout",
     "output_type": "stream",
     "text": [
      "Epoch = 26 --- Epoch_Loss = 63.4295 --- Epoch Accuracy = 100.00%\n"
     ]
    },
    {
     "name": "stderr",
     "output_type": "stream",
     "text": [
      "Epoch : 27/ 100: 100%|██████████| 1500/1500 [00:08<00:00, 184.29batch/s, accuracy=100, loss=0.0431]  \n"
     ]
    },
    {
     "name": "stdout",
     "output_type": "stream",
     "text": [
      "Epoch = 27 --- Epoch_Loss = 65.9075 --- Epoch Accuracy = 100.00%\n"
     ]
    },
    {
     "name": "stderr",
     "output_type": "stream",
     "text": [
      "Epoch : 28/ 100: 100%|██████████| 1500/1500 [00:07<00:00, 192.07batch/s, accuracy=93.8, loss=0.0716] \n"
     ]
    },
    {
     "name": "stdout",
     "output_type": "stream",
     "text": [
      "Epoch = 28 --- Epoch_Loss = 63.0979 --- Epoch Accuracy = 93.75%\n"
     ]
    },
    {
     "name": "stderr",
     "output_type": "stream",
     "text": [
      "Epoch : 29/ 100: 100%|██████████| 1500/1500 [00:07<00:00, 195.48batch/s, accuracy=100, loss=0.0233]  \n"
     ]
    },
    {
     "name": "stdout",
     "output_type": "stream",
     "text": [
      "Epoch = 29 --- Epoch_Loss = 63.9898 --- Epoch Accuracy = 100.00%\n"
     ]
    },
    {
     "name": "stderr",
     "output_type": "stream",
     "text": [
      "Epoch : 30/ 100: 100%|██████████| 1500/1500 [00:07<00:00, 188.12batch/s, accuracy=100, loss=0.00091] \n"
     ]
    },
    {
     "name": "stdout",
     "output_type": "stream",
     "text": [
      "Epoch = 30 --- Epoch_Loss = 56.0369 --- Epoch Accuracy = 100.00%\n"
     ]
    },
    {
     "name": "stderr",
     "output_type": "stream",
     "text": [
      "Epoch : 31/ 100: 100%|██████████| 1500/1500 [00:08<00:00, 186.20batch/s, accuracy=100, loss=0.0302]  \n"
     ]
    },
    {
     "name": "stdout",
     "output_type": "stream",
     "text": [
      "Epoch = 31 --- Epoch_Loss = 52.3867 --- Epoch Accuracy = 100.00%\n"
     ]
    },
    {
     "name": "stderr",
     "output_type": "stream",
     "text": [
      "Epoch : 32/ 100: 100%|██████████| 1500/1500 [00:07<00:00, 189.48batch/s, accuracy=93.8, loss=0.162]  \n"
     ]
    },
    {
     "name": "stdout",
     "output_type": "stream",
     "text": [
      "Epoch = 32 --- Epoch_Loss = 62.9011 --- Epoch Accuracy = 93.75%\n"
     ]
    },
    {
     "name": "stderr",
     "output_type": "stream",
     "text": [
      "Epoch : 33/ 100: 100%|██████████| 1500/1500 [00:07<00:00, 187.85batch/s, accuracy=100, loss=0.00157] \n"
     ]
    },
    {
     "name": "stdout",
     "output_type": "stream",
     "text": [
      "Epoch = 33 --- Epoch_Loss = 55.3983 --- Epoch Accuracy = 100.00%\n"
     ]
    },
    {
     "name": "stderr",
     "output_type": "stream",
     "text": [
      "Epoch : 34/ 100: 100%|██████████| 1500/1500 [00:07<00:00, 189.24batch/s, accuracy=100, loss=0.0243]  \n"
     ]
    },
    {
     "name": "stdout",
     "output_type": "stream",
     "text": [
      "Epoch = 34 --- Epoch_Loss = 61.2125 --- Epoch Accuracy = 100.00%\n"
     ]
    },
    {
     "name": "stderr",
     "output_type": "stream",
     "text": [
      "Epoch : 35/ 100: 100%|██████████| 1500/1500 [00:08<00:00, 187.25batch/s, accuracy=96.9, loss=0.0885] \n"
     ]
    },
    {
     "name": "stdout",
     "output_type": "stream",
     "text": [
      "Epoch = 35 --- Epoch_Loss = 71.1432 --- Epoch Accuracy = 96.88%\n"
     ]
    },
    {
     "name": "stderr",
     "output_type": "stream",
     "text": [
      "Epoch : 36/ 100: 100%|██████████| 1500/1500 [00:07<00:00, 193.13batch/s, accuracy=96.9, loss=0.0506] \n"
     ]
    },
    {
     "name": "stdout",
     "output_type": "stream",
     "text": [
      "Epoch = 36 --- Epoch_Loss = 60.0443 --- Epoch Accuracy = 96.88%\n"
     ]
    },
    {
     "name": "stderr",
     "output_type": "stream",
     "text": [
      "Epoch : 37/ 100: 100%|██████████| 1500/1500 [00:07<00:00, 196.31batch/s, accuracy=90.6, loss=0.245]  \n"
     ]
    },
    {
     "name": "stdout",
     "output_type": "stream",
     "text": [
      "Epoch = 37 --- Epoch_Loss = 50.4831 --- Epoch Accuracy = 90.62%\n"
     ]
    },
    {
     "name": "stderr",
     "output_type": "stream",
     "text": [
      "Epoch : 38/ 100: 100%|██████████| 1500/1500 [00:07<00:00, 189.46batch/s, accuracy=100, loss=0.0075]  \n"
     ]
    },
    {
     "name": "stdout",
     "output_type": "stream",
     "text": [
      "Epoch = 38 --- Epoch_Loss = 58.5640 --- Epoch Accuracy = 100.00%\n"
     ]
    },
    {
     "name": "stderr",
     "output_type": "stream",
     "text": [
      "Epoch : 39/ 100: 100%|██████████| 1500/1500 [00:07<00:00, 190.26batch/s, accuracy=100, loss=0.00363] \n"
     ]
    },
    {
     "name": "stdout",
     "output_type": "stream",
     "text": [
      "Epoch = 39 --- Epoch_Loss = 54.3962 --- Epoch Accuracy = 100.00%\n"
     ]
    },
    {
     "name": "stderr",
     "output_type": "stream",
     "text": [
      "Epoch : 40/ 100: 100%|██████████| 1500/1500 [00:07<00:00, 190.04batch/s, accuracy=100, loss=0.00549] \n"
     ]
    },
    {
     "name": "stdout",
     "output_type": "stream",
     "text": [
      "Epoch = 40 --- Epoch_Loss = 45.0503 --- Epoch Accuracy = 100.00%\n"
     ]
    },
    {
     "name": "stderr",
     "output_type": "stream",
     "text": [
      "Epoch : 41/ 100: 100%|██████████| 1500/1500 [00:07<00:00, 190.49batch/s, accuracy=100, loss=0.0326]  \n"
     ]
    },
    {
     "name": "stdout",
     "output_type": "stream",
     "text": [
      "Epoch = 41 --- Epoch_Loss = 48.6518 --- Epoch Accuracy = 100.00%\n"
     ]
    },
    {
     "name": "stderr",
     "output_type": "stream",
     "text": [
      "Epoch : 42/ 100: 100%|██████████| 1500/1500 [00:07<00:00, 195.49batch/s, accuracy=93.8, loss=0.445]  \n"
     ]
    },
    {
     "name": "stdout",
     "output_type": "stream",
     "text": [
      "Epoch = 42 --- Epoch_Loss = 64.2538 --- Epoch Accuracy = 93.75%\n"
     ]
    },
    {
     "name": "stderr",
     "output_type": "stream",
     "text": [
      "Epoch : 43/ 100: 100%|██████████| 1500/1500 [00:07<00:00, 194.31batch/s, accuracy=100, loss=0.00102] \n"
     ]
    },
    {
     "name": "stdout",
     "output_type": "stream",
     "text": [
      "Epoch = 43 --- Epoch_Loss = 56.7067 --- Epoch Accuracy = 100.00%\n"
     ]
    },
    {
     "name": "stderr",
     "output_type": "stream",
     "text": [
      "Epoch : 44/ 100: 100%|██████████| 1500/1500 [00:08<00:00, 181.86batch/s, accuracy=100, loss=0.00721] \n"
     ]
    },
    {
     "name": "stdout",
     "output_type": "stream",
     "text": [
      "Epoch = 44 --- Epoch_Loss = 62.2036 --- Epoch Accuracy = 100.00%\n"
     ]
    },
    {
     "name": "stderr",
     "output_type": "stream",
     "text": [
      "Epoch : 45/ 100: 100%|██████████| 1500/1500 [00:07<00:00, 198.87batch/s, accuracy=100, loss=0.00152] \n"
     ]
    },
    {
     "name": "stdout",
     "output_type": "stream",
     "text": [
      "Epoch = 45 --- Epoch_Loss = 66.3828 --- Epoch Accuracy = 100.00%\n"
     ]
    },
    {
     "name": "stderr",
     "output_type": "stream",
     "text": [
      "Epoch : 46/ 100: 100%|██████████| 1500/1500 [00:07<00:00, 194.54batch/s, accuracy=100, loss=0.0139]  \n"
     ]
    },
    {
     "name": "stdout",
     "output_type": "stream",
     "text": [
      "Epoch = 46 --- Epoch_Loss = 70.0246 --- Epoch Accuracy = 100.00%\n"
     ]
    },
    {
     "name": "stderr",
     "output_type": "stream",
     "text": [
      "Epoch : 47/ 100: 100%|██████████| 1500/1500 [00:07<00:00, 196.79batch/s, accuracy=100, loss=0.0257]  \n"
     ]
    },
    {
     "name": "stdout",
     "output_type": "stream",
     "text": [
      "Epoch = 47 --- Epoch_Loss = 70.2987 --- Epoch Accuracy = 100.00%\n"
     ]
    },
    {
     "name": "stderr",
     "output_type": "stream",
     "text": [
      "Epoch : 48/ 100: 100%|██████████| 1500/1500 [00:07<00:00, 195.83batch/s, accuracy=93.8, loss=0.0712] \n"
     ]
    },
    {
     "name": "stdout",
     "output_type": "stream",
     "text": [
      "Epoch = 48 --- Epoch_Loss = 54.1387 --- Epoch Accuracy = 93.75%\n"
     ]
    },
    {
     "name": "stderr",
     "output_type": "stream",
     "text": [
      "Epoch : 49/ 100: 100%|██████████| 1500/1500 [00:07<00:00, 197.56batch/s, accuracy=100, loss=0.0121]  \n"
     ]
    },
    {
     "name": "stdout",
     "output_type": "stream",
     "text": [
      "Epoch = 49 --- Epoch_Loss = 42.1144 --- Epoch Accuracy = 100.00%\n"
     ]
    },
    {
     "name": "stderr",
     "output_type": "stream",
     "text": [
      "Epoch : 50/ 100: 100%|██████████| 1500/1500 [00:07<00:00, 196.61batch/s, accuracy=96.9, loss=0.0864] \n"
     ]
    },
    {
     "name": "stdout",
     "output_type": "stream",
     "text": [
      "Epoch = 50 --- Epoch_Loss = 57.8330 --- Epoch Accuracy = 96.88%\n"
     ]
    },
    {
     "name": "stderr",
     "output_type": "stream",
     "text": [
      "Epoch : 51/ 100: 100%|██████████| 1500/1500 [00:07<00:00, 202.56batch/s, accuracy=100, loss=0.012]   \n"
     ]
    },
    {
     "name": "stdout",
     "output_type": "stream",
     "text": [
      "Epoch = 51 --- Epoch_Loss = 55.4536 --- Epoch Accuracy = 100.00%\n"
     ]
    },
    {
     "name": "stderr",
     "output_type": "stream",
     "text": [
      "Epoch : 52/ 100: 100%|██████████| 1500/1500 [00:07<00:00, 205.49batch/s, accuracy=100, loss=0.00864] \n"
     ]
    },
    {
     "name": "stdout",
     "output_type": "stream",
     "text": [
      "Epoch = 52 --- Epoch_Loss = 36.3090 --- Epoch Accuracy = 100.00%\n"
     ]
    },
    {
     "name": "stderr",
     "output_type": "stream",
     "text": [
      "Epoch : 53/ 100: 100%|██████████| 1500/1500 [00:07<00:00, 204.53batch/s, accuracy=100, loss=0.00247] \n"
     ]
    },
    {
     "name": "stdout",
     "output_type": "stream",
     "text": [
      "Epoch = 53 --- Epoch_Loss = 38.2583 --- Epoch Accuracy = 100.00%\n"
     ]
    },
    {
     "name": "stderr",
     "output_type": "stream",
     "text": [
      "Epoch : 54/ 100: 100%|██████████| 1500/1500 [00:08<00:00, 173.82batch/s, accuracy=96.9, loss=0.026]  \n"
     ]
    },
    {
     "name": "stdout",
     "output_type": "stream",
     "text": [
      "Epoch = 54 --- Epoch_Loss = 29.4557 --- Epoch Accuracy = 96.88%\n"
     ]
    },
    {
     "name": "stderr",
     "output_type": "stream",
     "text": [
      "Epoch : 55/ 100: 100%|██████████| 1500/1500 [00:08<00:00, 168.20batch/s, accuracy=96.9, loss=0.0608] \n"
     ]
    },
    {
     "name": "stdout",
     "output_type": "stream",
     "text": [
      "Epoch = 55 --- Epoch_Loss = 76.4598 --- Epoch Accuracy = 96.88%\n"
     ]
    },
    {
     "name": "stderr",
     "output_type": "stream",
     "text": [
      "Epoch : 56/ 100: 100%|██████████| 1500/1500 [00:08<00:00, 182.68batch/s, accuracy=93.8, loss=0.135]  \n"
     ]
    },
    {
     "name": "stdout",
     "output_type": "stream",
     "text": [
      "Epoch = 56 --- Epoch_Loss = 71.2727 --- Epoch Accuracy = 93.75%\n"
     ]
    },
    {
     "name": "stderr",
     "output_type": "stream",
     "text": [
      "Epoch : 57/ 100: 100%|██████████| 1500/1500 [00:07<00:00, 201.11batch/s, accuracy=96.9, loss=0.102]  \n"
     ]
    },
    {
     "name": "stdout",
     "output_type": "stream",
     "text": [
      "Epoch = 57 --- Epoch_Loss = 55.1456 --- Epoch Accuracy = 96.88%\n"
     ]
    },
    {
     "name": "stderr",
     "output_type": "stream",
     "text": [
      "Epoch : 58/ 100: 100%|██████████| 1500/1500 [00:07<00:00, 200.69batch/s, accuracy=96.9, loss=0.0704] \n"
     ]
    },
    {
     "name": "stdout",
     "output_type": "stream",
     "text": [
      "Epoch = 58 --- Epoch_Loss = 46.4429 --- Epoch Accuracy = 96.88%\n"
     ]
    },
    {
     "name": "stderr",
     "output_type": "stream",
     "text": [
      "Epoch : 59/ 100: 100%|██████████| 1500/1500 [00:08<00:00, 180.38batch/s, accuracy=96.9, loss=0.0863] \n"
     ]
    },
    {
     "name": "stdout",
     "output_type": "stream",
     "text": [
      "Epoch = 59 --- Epoch_Loss = 42.9469 --- Epoch Accuracy = 96.88%\n"
     ]
    },
    {
     "name": "stderr",
     "output_type": "stream",
     "text": [
      "Epoch : 60/ 100: 100%|██████████| 1500/1500 [00:08<00:00, 172.53batch/s, accuracy=100, loss=0.00518] \n"
     ]
    },
    {
     "name": "stdout",
     "output_type": "stream",
     "text": [
      "Epoch = 60 --- Epoch_Loss = 48.4128 --- Epoch Accuracy = 100.00%\n"
     ]
    },
    {
     "name": "stderr",
     "output_type": "stream",
     "text": [
      "Epoch : 61/ 100: 100%|██████████| 1500/1500 [00:08<00:00, 170.43batch/s, accuracy=93.8, loss=0.244]  \n"
     ]
    },
    {
     "name": "stdout",
     "output_type": "stream",
     "text": [
      "Epoch = 61 --- Epoch_Loss = 69.1263 --- Epoch Accuracy = 93.75%\n"
     ]
    },
    {
     "name": "stderr",
     "output_type": "stream",
     "text": [
      "Epoch : 62/ 100: 100%|██████████| 1500/1500 [00:07<00:00, 192.11batch/s, accuracy=100, loss=0.0304]  \n"
     ]
    },
    {
     "name": "stdout",
     "output_type": "stream",
     "text": [
      "Epoch = 62 --- Epoch_Loss = 56.0164 --- Epoch Accuracy = 100.00%\n"
     ]
    },
    {
     "name": "stderr",
     "output_type": "stream",
     "text": [
      "Epoch : 63/ 100: 100%|██████████| 1500/1500 [00:07<00:00, 213.17batch/s, accuracy=100, loss=0.00505] \n"
     ]
    },
    {
     "name": "stdout",
     "output_type": "stream",
     "text": [
      "Epoch = 63 --- Epoch_Loss = 33.1642 --- Epoch Accuracy = 100.00%\n"
     ]
    },
    {
     "name": "stderr",
     "output_type": "stream",
     "text": [
      "Epoch : 64/ 100: 100%|██████████| 1500/1500 [00:07<00:00, 201.95batch/s, accuracy=96.9, loss=0.0582] \n"
     ]
    },
    {
     "name": "stdout",
     "output_type": "stream",
     "text": [
      "Epoch = 64 --- Epoch_Loss = 27.2620 --- Epoch Accuracy = 96.88%\n"
     ]
    },
    {
     "name": "stderr",
     "output_type": "stream",
     "text": [
      "Epoch : 65/ 100: 100%|██████████| 1500/1500 [00:06<00:00, 222.11batch/s, accuracy=96.9, loss=0.0564] \n"
     ]
    },
    {
     "name": "stdout",
     "output_type": "stream",
     "text": [
      "Epoch = 65 --- Epoch_Loss = 48.8117 --- Epoch Accuracy = 96.88%\n"
     ]
    },
    {
     "name": "stderr",
     "output_type": "stream",
     "text": [
      "Epoch : 66/ 100: 100%|██████████| 1500/1500 [00:06<00:00, 240.37batch/s, accuracy=100, loss=0.0024]  \n"
     ]
    },
    {
     "name": "stdout",
     "output_type": "stream",
     "text": [
      "Epoch = 66 --- Epoch_Loss = 47.6792 --- Epoch Accuracy = 100.00%\n"
     ]
    },
    {
     "name": "stderr",
     "output_type": "stream",
     "text": [
      "Epoch : 67/ 100: 100%|██████████| 1500/1500 [00:07<00:00, 203.55batch/s, accuracy=93.8, loss=0.139]  \n"
     ]
    },
    {
     "name": "stdout",
     "output_type": "stream",
     "text": [
      "Epoch = 67 --- Epoch_Loss = 39.0213 --- Epoch Accuracy = 93.75%\n"
     ]
    },
    {
     "name": "stderr",
     "output_type": "stream",
     "text": [
      "Epoch : 68/ 100: 100%|██████████| 1500/1500 [00:07<00:00, 198.96batch/s, accuracy=100, loss=3.25e-5] \n"
     ]
    },
    {
     "name": "stdout",
     "output_type": "stream",
     "text": [
      "Epoch = 68 --- Epoch_Loss = 51.6691 --- Epoch Accuracy = 100.00%\n"
     ]
    },
    {
     "name": "stderr",
     "output_type": "stream",
     "text": [
      "Epoch : 69/ 100: 100%|██████████| 1500/1500 [00:10<00:00, 139.68batch/s, accuracy=100, loss=0.0101]  \n"
     ]
    },
    {
     "name": "stdout",
     "output_type": "stream",
     "text": [
      "Epoch = 69 --- Epoch_Loss = 30.9878 --- Epoch Accuracy = 100.00%\n"
     ]
    },
    {
     "name": "stderr",
     "output_type": "stream",
     "text": [
      "Epoch : 70/ 100: 100%|██████████| 1500/1500 [00:07<00:00, 194.85batch/s, accuracy=100, loss=0.0392]  \n"
     ]
    },
    {
     "name": "stdout",
     "output_type": "stream",
     "text": [
      "Epoch = 70 --- Epoch_Loss = 46.1949 --- Epoch Accuracy = 100.00%\n"
     ]
    },
    {
     "name": "stderr",
     "output_type": "stream",
     "text": [
      "Epoch : 71/ 100: 100%|██████████| 1500/1500 [00:07<00:00, 210.38batch/s, accuracy=96.9, loss=0.0245] \n"
     ]
    },
    {
     "name": "stdout",
     "output_type": "stream",
     "text": [
      "Epoch = 71 --- Epoch_Loss = 44.5908 --- Epoch Accuracy = 96.88%\n"
     ]
    },
    {
     "name": "stderr",
     "output_type": "stream",
     "text": [
      "Epoch : 72/ 100: 100%|██████████| 1500/1500 [00:10<00:00, 148.49batch/s, accuracy=96.9, loss=0.0833] \n"
     ]
    },
    {
     "name": "stdout",
     "output_type": "stream",
     "text": [
      "Epoch = 72 --- Epoch_Loss = 34.7738 --- Epoch Accuracy = 96.88%\n"
     ]
    },
    {
     "name": "stderr",
     "output_type": "stream",
     "text": [
      "Epoch : 73/ 100: 100%|██████████| 1500/1500 [00:09<00:00, 165.56batch/s, accuracy=100, loss=0.00085] \n"
     ]
    },
    {
     "name": "stdout",
     "output_type": "stream",
     "text": [
      "Epoch = 73 --- Epoch_Loss = 34.0353 --- Epoch Accuracy = 100.00%\n"
     ]
    },
    {
     "name": "stderr",
     "output_type": "stream",
     "text": [
      "Epoch : 74/ 100: 100%|██████████| 1500/1500 [00:08<00:00, 166.82batch/s, accuracy=100, loss=0.000489]\n"
     ]
    },
    {
     "name": "stdout",
     "output_type": "stream",
     "text": [
      "Epoch = 74 --- Epoch_Loss = 60.9261 --- Epoch Accuracy = 100.00%\n"
     ]
    },
    {
     "name": "stderr",
     "output_type": "stream",
     "text": [
      "Epoch : 75/ 100: 100%|██████████| 1500/1500 [00:09<00:00, 157.24batch/s, accuracy=96.9, loss=0.0293] \n"
     ]
    },
    {
     "name": "stdout",
     "output_type": "stream",
     "text": [
      "Epoch = 75 --- Epoch_Loss = 50.1787 --- Epoch Accuracy = 96.88%\n"
     ]
    },
    {
     "name": "stderr",
     "output_type": "stream",
     "text": [
      "Epoch : 76/ 100: 100%|██████████| 1500/1500 [00:09<00:00, 163.14batch/s, accuracy=100, loss=0.0055]  \n"
     ]
    },
    {
     "name": "stdout",
     "output_type": "stream",
     "text": [
      "Epoch = 76 --- Epoch_Loss = 32.8008 --- Epoch Accuracy = 100.00%\n"
     ]
    },
    {
     "name": "stderr",
     "output_type": "stream",
     "text": [
      "Epoch : 77/ 100: 100%|██████████| 1500/1500 [00:08<00:00, 179.74batch/s, accuracy=100, loss=0.0168]  \n"
     ]
    },
    {
     "name": "stdout",
     "output_type": "stream",
     "text": [
      "Epoch = 77 --- Epoch_Loss = 32.9104 --- Epoch Accuracy = 100.00%\n"
     ]
    },
    {
     "name": "stderr",
     "output_type": "stream",
     "text": [
      "Epoch : 78/ 100: 100%|██████████| 1500/1500 [00:08<00:00, 175.17batch/s, accuracy=100, loss=0.00949] \n"
     ]
    },
    {
     "name": "stdout",
     "output_type": "stream",
     "text": [
      "Epoch = 78 --- Epoch_Loss = 30.8509 --- Epoch Accuracy = 100.00%\n"
     ]
    },
    {
     "name": "stderr",
     "output_type": "stream",
     "text": [
      "Epoch : 79/ 100: 100%|██████████| 1500/1500 [00:08<00:00, 173.26batch/s, accuracy=100, loss=0.0197]  \n"
     ]
    },
    {
     "name": "stdout",
     "output_type": "stream",
     "text": [
      "Epoch = 79 --- Epoch_Loss = 59.3417 --- Epoch Accuracy = 100.00%\n"
     ]
    },
    {
     "name": "stderr",
     "output_type": "stream",
     "text": [
      "Epoch : 80/ 100: 100%|██████████| 1500/1500 [00:08<00:00, 169.03batch/s, accuracy=100, loss=0.0356]  \n"
     ]
    },
    {
     "name": "stdout",
     "output_type": "stream",
     "text": [
      "Epoch = 80 --- Epoch_Loss = 38.0806 --- Epoch Accuracy = 100.00%\n"
     ]
    },
    {
     "name": "stderr",
     "output_type": "stream",
     "text": [
      "Epoch : 81/ 100: 100%|██████████| 1500/1500 [00:08<00:00, 179.33batch/s, accuracy=100, loss=0.00163] \n"
     ]
    },
    {
     "name": "stdout",
     "output_type": "stream",
     "text": [
      "Epoch = 81 --- Epoch_Loss = 36.4594 --- Epoch Accuracy = 100.00%\n"
     ]
    },
    {
     "name": "stderr",
     "output_type": "stream",
     "text": [
      "Epoch : 82/ 100: 100%|██████████| 1500/1500 [00:08<00:00, 176.83batch/s, accuracy=96.9, loss=0.0722] \n"
     ]
    },
    {
     "name": "stdout",
     "output_type": "stream",
     "text": [
      "Epoch = 82 --- Epoch_Loss = 44.3962 --- Epoch Accuracy = 96.88%\n"
     ]
    },
    {
     "name": "stderr",
     "output_type": "stream",
     "text": [
      "Epoch : 83/ 100: 100%|██████████| 1500/1500 [00:08<00:00, 173.43batch/s, accuracy=100, loss=0.000956]\n"
     ]
    },
    {
     "name": "stdout",
     "output_type": "stream",
     "text": [
      "Epoch = 83 --- Epoch_Loss = 45.3368 --- Epoch Accuracy = 100.00%\n"
     ]
    },
    {
     "name": "stderr",
     "output_type": "stream",
     "text": [
      "Epoch : 84/ 100: 100%|██████████| 1500/1500 [00:08<00:00, 179.60batch/s, accuracy=96.9, loss=0.166]  \n"
     ]
    },
    {
     "name": "stdout",
     "output_type": "stream",
     "text": [
      "Epoch = 84 --- Epoch_Loss = 40.3522 --- Epoch Accuracy = 96.88%\n"
     ]
    },
    {
     "name": "stderr",
     "output_type": "stream",
     "text": [
      "Epoch : 85/ 100: 100%|██████████| 1500/1500 [00:08<00:00, 177.27batch/s, accuracy=100, loss=0.0272]  \n"
     ]
    },
    {
     "name": "stdout",
     "output_type": "stream",
     "text": [
      "Epoch = 85 --- Epoch_Loss = 29.4261 --- Epoch Accuracy = 100.00%\n"
     ]
    },
    {
     "name": "stderr",
     "output_type": "stream",
     "text": [
      "Epoch : 86/ 100: 100%|██████████| 1500/1500 [00:08<00:00, 177.93batch/s, accuracy=100, loss=0.00517] \n"
     ]
    },
    {
     "name": "stdout",
     "output_type": "stream",
     "text": [
      "Epoch = 86 --- Epoch_Loss = 45.2403 --- Epoch Accuracy = 100.00%\n"
     ]
    },
    {
     "name": "stderr",
     "output_type": "stream",
     "text": [
      "Epoch : 87/ 100: 100%|██████████| 1500/1500 [00:08<00:00, 181.75batch/s, accuracy=100, loss=0.0164]  \n"
     ]
    },
    {
     "name": "stdout",
     "output_type": "stream",
     "text": [
      "Epoch = 87 --- Epoch_Loss = 34.5013 --- Epoch Accuracy = 100.00%\n"
     ]
    },
    {
     "name": "stderr",
     "output_type": "stream",
     "text": [
      "Epoch : 88/ 100: 100%|██████████| 1500/1500 [00:08<00:00, 177.51batch/s, accuracy=96.9, loss=0.09]   \n"
     ]
    },
    {
     "name": "stdout",
     "output_type": "stream",
     "text": [
      "Epoch = 88 --- Epoch_Loss = 44.1651 --- Epoch Accuracy = 96.88%\n"
     ]
    },
    {
     "name": "stderr",
     "output_type": "stream",
     "text": [
      "Epoch : 89/ 100: 100%|██████████| 1500/1500 [00:09<00:00, 162.86batch/s, accuracy=100, loss=0.025]   \n"
     ]
    },
    {
     "name": "stdout",
     "output_type": "stream",
     "text": [
      "Epoch = 89 --- Epoch_Loss = 59.3547 --- Epoch Accuracy = 100.00%\n"
     ]
    },
    {
     "name": "stderr",
     "output_type": "stream",
     "text": [
      "Epoch : 90/ 100: 100%|██████████| 1500/1500 [00:09<00:00, 152.25batch/s, accuracy=100, loss=0.0108]  \n"
     ]
    },
    {
     "name": "stdout",
     "output_type": "stream",
     "text": [
      "Epoch = 90 --- Epoch_Loss = 44.3819 --- Epoch Accuracy = 100.00%\n"
     ]
    },
    {
     "name": "stderr",
     "output_type": "stream",
     "text": [
      "Epoch : 91/ 100: 100%|██████████| 1500/1500 [00:09<00:00, 163.34batch/s, accuracy=100, loss=0.00142] \n"
     ]
    },
    {
     "name": "stdout",
     "output_type": "stream",
     "text": [
      "Epoch = 91 --- Epoch_Loss = 39.9002 --- Epoch Accuracy = 100.00%\n"
     ]
    },
    {
     "name": "stderr",
     "output_type": "stream",
     "text": [
      "Epoch : 92/ 100: 100%|██████████| 1500/1500 [00:08<00:00, 178.12batch/s, accuracy=100, loss=0.0122]  \n"
     ]
    },
    {
     "name": "stdout",
     "output_type": "stream",
     "text": [
      "Epoch = 92 --- Epoch_Loss = 21.2576 --- Epoch Accuracy = 100.00%\n"
     ]
    },
    {
     "name": "stderr",
     "output_type": "stream",
     "text": [
      "Epoch : 93/ 100: 100%|██████████| 1500/1500 [00:08<00:00, 173.23batch/s, accuracy=100, loss=0.000221]\n"
     ]
    },
    {
     "name": "stdout",
     "output_type": "stream",
     "text": [
      "Epoch = 93 --- Epoch_Loss = 37.1226 --- Epoch Accuracy = 100.00%\n"
     ]
    },
    {
     "name": "stderr",
     "output_type": "stream",
     "text": [
      "Epoch : 94/ 100: 100%|██████████| 1500/1500 [00:08<00:00, 167.55batch/s, accuracy=100, loss=0.00392] \n"
     ]
    },
    {
     "name": "stdout",
     "output_type": "stream",
     "text": [
      "Epoch = 94 --- Epoch_Loss = 46.8648 --- Epoch Accuracy = 100.00%\n"
     ]
    },
    {
     "name": "stderr",
     "output_type": "stream",
     "text": [
      "Epoch : 95/ 100: 100%|██████████| 1500/1500 [00:09<00:00, 165.85batch/s, accuracy=96.9, loss=0.0453] \n"
     ]
    },
    {
     "name": "stdout",
     "output_type": "stream",
     "text": [
      "Epoch = 95 --- Epoch_Loss = 17.9431 --- Epoch Accuracy = 96.88%\n"
     ]
    },
    {
     "name": "stderr",
     "output_type": "stream",
     "text": [
      "Epoch : 96/ 100: 100%|██████████| 1500/1500 [00:08<00:00, 170.20batch/s, accuracy=96.9, loss=0.173]  \n"
     ]
    },
    {
     "name": "stdout",
     "output_type": "stream",
     "text": [
      "Epoch = 96 --- Epoch_Loss = 20.8444 --- Epoch Accuracy = 96.88%\n"
     ]
    },
    {
     "name": "stderr",
     "output_type": "stream",
     "text": [
      "Epoch : 97/ 100: 100%|██████████| 1500/1500 [00:08<00:00, 177.00batch/s, accuracy=96.9, loss=0.065]  \n"
     ]
    },
    {
     "name": "stdout",
     "output_type": "stream",
     "text": [
      "Epoch = 97 --- Epoch_Loss = 22.4872 --- Epoch Accuracy = 96.88%\n"
     ]
    },
    {
     "name": "stderr",
     "output_type": "stream",
     "text": [
      "Epoch : 98/ 100: 100%|██████████| 1500/1500 [00:08<00:00, 178.66batch/s, accuracy=100, loss=0.0118]  \n"
     ]
    },
    {
     "name": "stdout",
     "output_type": "stream",
     "text": [
      "Epoch = 98 --- Epoch_Loss = 59.3782 --- Epoch Accuracy = 100.00%\n"
     ]
    },
    {
     "name": "stderr",
     "output_type": "stream",
     "text": [
      "Epoch : 99/ 100: 100%|██████████| 1500/1500 [00:08<00:00, 177.05batch/s, accuracy=100, loss=0.00682] \n"
     ]
    },
    {
     "name": "stdout",
     "output_type": "stream",
     "text": [
      "Epoch = 99 --- Epoch_Loss = 37.3367 --- Epoch Accuracy = 100.00%\n"
     ]
    },
    {
     "name": "stderr",
     "output_type": "stream",
     "text": [
      "Epoch : 100/ 100: 100%|██████████| 1500/1500 [00:08<00:00, 179.07batch/s, accuracy=100, loss=0.0171]  \n"
     ]
    },
    {
     "name": "stdout",
     "output_type": "stream",
     "text": [
      "Epoch = 100 --- Epoch_Loss = 35.4556 --- Epoch Accuracy = 100.00%\n"
     ]
    }
   ],
   "source": [
    "## Trainig Loop with TQDM\n",
    "for epoch in range(epochs):\n",
    "    model.train()\n",
    "    total_epoch_loss = 0.0\n",
    "    correct = 0\n",
    "    total = 0\n",
    "\n",
    "    with tqdm(train_loader, unit = 'batch') as tepoch:\n",
    "        tepoch.set_description(f'Epoch : {epoch + 1}/ {epochs}')\n",
    "        for features, labels in tepoch:\n",
    "            out_puts = model(features)\n",
    "            loss = criterion(out_puts, labels)\n",
    "\n",
    "            optimizer.zero_grad()\n",
    "            loss.backward()\n",
    "\n",
    "            optimizer.step()\n",
    "\n",
    "            ##Loss and Accuracy\n",
    "            total_epoch_loss = total_epoch_loss + loss.item()\n",
    "            correct = (out_puts.argmax(dim = 1) == labels).sum().item()\n",
    "            total += labels.shape[0]\n",
    "            tepoch.set_postfix(loss = loss.item(), accuracy = (correct / len(labels) * 100))\n",
    "\n",
    "        print(f\"Epoch = {epoch + 1} --- Epoch_Loss = {total_epoch_loss:.4f} --- Epoch Accuracy = {correct/len(labels)*100:.2f}%\")"
   ]
  },
  {
   "cell_type": "code",
   "execution_count": 61,
   "id": "53e43a3e",
   "metadata": {},
   "outputs": [
    {
     "name": "stdout",
     "output_type": "stream",
     "text": [
      "0.88725\n"
     ]
    }
   ],
   "source": [
    "model.eval()\n",
    "total = 0\n",
    "correct =0\n",
    "with torch.no_grad():\n",
    "    for features, labels in test_loader:\n",
    "        out_puts = model(features)\n",
    "\n",
    "        total = total + labels.shape[0]\n",
    "        correct = correct + (out_puts.argmax(dim = 1) == labels).sum().item()\n",
    "print(correct/total)"
   ]
  }
 ],
 "metadata": {
  "kernelspec": {
   "display_name": "stable_env_nlp",
   "language": "python",
   "name": "python3"
  },
  "language_info": {
   "codemirror_mode": {
    "name": "ipython",
    "version": 3
   },
   "file_extension": ".py",
   "mimetype": "text/x-python",
   "name": "python",
   "nbconvert_exporter": "python",
   "pygments_lexer": "ipython3",
   "version": "3.10.15"
  }
 },
 "nbformat": 4,
 "nbformat_minor": 5
}
