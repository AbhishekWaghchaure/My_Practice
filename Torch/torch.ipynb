{
 "cells": [
  {
   "cell_type": "code",
   "execution_count": 7,
   "metadata": {},
   "outputs": [],
   "source": [
    "import torch\n",
    "import sys"
   ]
  },
  {
   "cell_type": "code",
   "execution_count": 14,
   "metadata": {},
   "outputs": [],
   "source": [
    "device = torch.device('mps')"
   ]
  },
  {
   "cell_type": "code",
   "execution_count": 16,
   "metadata": {},
   "outputs": [
    {
     "name": "stdout",
     "output_type": "stream",
     "text": [
      "tensor([[1., 2., 3., 4.],\n",
      "        [5., 6., 7., 8.]], device='mps:0', requires_grad=True)\n",
      "72\n"
     ]
    }
   ],
   "source": [
    "my_tensor = torch.tensor([[1,2,3,4],[5,6,7,8]], dtype = torch.float32, device = device, requires_grad=True)\n",
    "print(my_tensor)\n",
    "print(sys.getsizeof(my_tensor))"
   ]
  },
  {
   "cell_type": "code",
   "execution_count": 20,
   "metadata": {},
   "outputs": [
    {
     "name": "stdout",
     "output_type": "stream",
     "text": [
      "torch.float32\n",
      "mps:0\n",
      "torch.Size([2, 4])\n",
      "True\n"
     ]
    }
   ],
   "source": [
    "print(my_tensor.dtype)\n",
    "print(my_tensor.device)\n",
    "print(my_tensor.shape)\n",
    "print(my_tensor.requires_grad)"
   ]
  },
  {
   "cell_type": "markdown",
   "metadata": {},
   "source": [
    "## Initialization Methods"
   ]
  },
  {
   "cell_type": "code",
   "execution_count": 30,
   "metadata": {},
   "outputs": [
    {
     "name": "stdout",
     "output_type": "stream",
     "text": [
      "tensor([[0., 0., 0.],\n",
      "        [0., 0., 0.],\n",
      "        [0., 0., 0.]])\n",
      "tensor([[0., 0., 0.],\n",
      "        [0., 0., 0.],\n",
      "        [0., 0., 0.]])\n",
      "tensor([[0.7036, 0.8627, 0.7471],\n",
      "        [0.5713, 0.4864, 0.2822],\n",
      "        [0.4020, 0.7848, 0.1218]])\n",
      "tensor([[1., 0., 0.],\n",
      "        [0., 1., 0.],\n",
      "        [0., 0., 1.]])\n",
      "tensor([[1., 1.],\n",
      "        [1., 1.]])\n",
      "tensor([0, 1, 2, 3, 4, 5, 6, 7, 8, 9])\n",
      "tensor([0.1000, 0.2000, 0.3000, 0.4000, 0.5000, 0.6000, 0.7000, 0.8000, 0.9000,\n",
      "        1.0000])\n"
     ]
    }
   ],
   "source": [
    "print(torch.empty(size= (3,3))) # ----> Empty matrix\n",
    "print(torch.zeros(3,3)) # ----> null matrix\n",
    "print(torch.rand(3,3)) # ----> uniform distribution\n",
    "print(torch.eye(3,3)) # ----> Identity Matrix\n",
    "print(torch.ones(2,2)) # ---> One matrix\n",
    "print(torch.arange(start = 0, end = 10, step=1))\n",
    "print(torch.linspace(start=0.1, end =1, steps= 10))"
   ]
  },
  {
   "cell_type": "code",
   "execution_count": 38,
   "metadata": {},
   "outputs": [
    {
     "name": "stdout",
     "output_type": "stream",
     "text": [
      "tensor([[ 1.0788,  1.2590,  0.2829],\n",
      "        [-0.0550,  0.2846, -1.6366],\n",
      "        [-0.1273, -1.3923, -0.9740]])\n",
      "tensor([1., 1., 1.])\n"
     ]
    }
   ],
   "source": [
    "print(torch.empty(size = (3,3)).normal_(mean=0, std =1))\n",
    "print(torch.diag(torch.ones(3,3)))"
   ]
  },
  {
   "cell_type": "markdown",
   "metadata": {},
   "source": [
    "## How to initialize and convert tensors to other datatypes(int, float, double)"
   ]
  },
  {
   "cell_type": "code",
   "execution_count": 47,
   "metadata": {},
   "outputs": [
    {
     "name": "stdout",
     "output_type": "stream",
     "text": [
      "tensor([False,  True,  True,  True])\n",
      "tensor([0, 1, 2, 3], dtype=torch.int16)\n",
      "tensor([0, 1, 2, 3])\n",
      "tensor([0., 1., 2., 3.], dtype=torch.float16)\n",
      "tensor([0., 1., 2., 3.])\n",
      "tensor([0., 1., 2., 3.], dtype=torch.float64)\n"
     ]
    }
   ],
   "source": [
    "tensor = torch.arange(4)\n",
    "print(tensor.bool())\n",
    "print(tensor.short())\n",
    "print(tensor.long())\n",
    "print(tensor.half())\n",
    "print(tensor.float())\n",
    "print(tensor.double())"
   ]
  },
  {
   "cell_type": "code",
   "execution_count": 50,
   "metadata": {},
   "outputs": [
    {
     "name": "stdout",
     "output_type": "stream",
     "text": [
      "[0. 0. 0.]\n",
      "tensor([0., 0., 0.], dtype=torch.float64)\n",
      "[0. 0. 0.]\n"
     ]
    }
   ],
   "source": [
    "import numpy as np\n",
    "np_arr = np.zeros(3)\n",
    "print(np_arr)\n",
    "tensor = torch.from_numpy(np_arr)\n",
    "print(tensor)\n",
    "print(tensor.numpy())"
   ]
  },
  {
   "cell_type": "markdown",
   "metadata": {},
   "source": [
    "## Tensor Math Operations"
   ]
  },
  {
   "cell_type": "code",
   "execution_count": 65,
   "metadata": {},
   "outputs": [
    {
     "name": "stdout",
     "output_type": "stream",
     "text": [
      "tensor([ 6,  8, 11])\n",
      "tensor([-4, -4, -5])\n",
      "tensor([0.2000, 0.3333, 0.3750])\n",
      "tensor([0, 0, 0])\n",
      "tensor([ 6.,  8., 11.])\n",
      "tensor([-4, -4, -5])\n",
      "tensor([1., 2., 3.])\n",
      "tensor([1, 4, 9])\n",
      "tensor([True, True, True])\n"
     ]
    }
   ],
   "source": [
    "x = torch.tensor([1,2,3])\n",
    "y = torch.tensor([5,6,8])\n",
    "\n",
    "print(x+y)\n",
    "print(x-y)\n",
    "print(x/y)\n",
    "print(x//y)\n",
    "\n",
    "z1 = torch.zeros(3)\n",
    "torch.add(x, y, out=z1)\n",
    "print(z1)\n",
    "\n",
    "print(torch.sub(x,y))\n",
    "\n",
    "## inplace operations\n",
    "t = torch.zeros(3)\n",
    "print(t.add_(x))\n",
    "\n",
    "## exponentiation\n",
    "z = x.pow(2)\n",
    "print(z)\n",
    "\n",
    "## Simple comparison\n",
    "print(x > 0)\n"
   ]
  },
  {
   "cell_type": "code",
   "execution_count": 87,
   "metadata": {},
   "outputs": [
    {
     "name": "stdout",
     "output_type": "stream",
     "text": [
      "tensor([[0.4116, 0.7902, 0.5559, 0.4454, 0.6366],\n",
      "        [0.0227, 0.1829, 0.3479, 0.6470, 0.5356],\n",
      "        [0.8845, 0.6696, 0.5990, 0.1782, 0.2934]])\n",
      "tensor([[0.4218, 0.4260, 0.8899],\n",
      "        [0.9346, 0.0503, 0.3193],\n",
      "        [0.4849, 0.9074, 0.6105],\n",
      "        [0.7263, 0.9807, 0.3105],\n",
      "        [0.0773, 0.8664, 0.5121]])\n"
     ]
    }
   ],
   "source": [
    "x1 = torch.rand(3,5)\n",
    "x2 = torch.rand(5,3)\n",
    "\n",
    "print(x1)\n",
    "print(x2)"
   ]
  },
  {
   "cell_type": "code",
   "execution_count": 89,
   "metadata": {},
   "outputs": [
    {
     "name": "stdout",
     "output_type": "stream",
     "text": [
      "tensor([[1.5545, 1.7079, 1.4223],\n",
      "        [0.8605, 1.4331, 0.7662],\n",
      "        [1.4415, 1.3830, 1.5723]])\n",
      "tensor([[1.5545, 1.7079, 1.4223],\n",
      "        [0.8605, 1.4331, 0.7662],\n",
      "        [1.4415, 1.3830, 1.5723]])\n"
     ]
    }
   ],
   "source": [
    "## multiplication\n",
    "print(torch.mm(x1,x2))\n",
    "print(x1.mm(x2))"
   ]
  },
  {
   "cell_type": "code",
   "execution_count": 96,
   "metadata": {},
   "outputs": [
    {
     "name": "stdout",
     "output_type": "stream",
     "text": [
      "tensor([[1.5545, 1.7079, 1.4223],\n",
      "        [0.8605, 1.4331, 0.7662],\n",
      "        [1.4415, 1.3830, 1.5723]])\n",
      "tensor([[1.5545, 1.7079, 1.4223],\n",
      "        [0.8605, 1.4331, 0.7662],\n",
      "        [1.4415, 1.3830, 1.5723]])\n"
     ]
    }
   ],
   "source": [
    "print(torch.matmul(x1,x2))\n",
    "print(x1.matmul(x2))"
   ]
  },
  {
   "cell_type": "code",
   "execution_count": 94,
   "metadata": {},
   "outputs": [
    {
     "data": {
      "text/plain": [
       "tensor([[0.1162, 0.0683, 0.0714],\n",
       "        [0.4414, 0.2778, 0.2748],\n",
       "        [0.7009, 0.3893, 0.4286]])"
      ]
     },
     "execution_count": 94,
     "metadata": {},
     "output_type": "execute_result"
    }
   ],
   "source": [
    "## matrix exponentiation\n",
    "matrix_exp = torch.rand(3,3)\n",
    "matrix_exp.matrix_power(2)"
   ]
  },
  {
   "cell_type": "code",
   "execution_count": 101,
   "metadata": {},
   "outputs": [
    {
     "name": "stdout",
     "output_type": "stream",
     "text": [
      "tensor([[0.1281, 0.2709, 0.9139],\n",
      "        [0.9911, 0.5670, 0.1999],\n",
      "        [0.5289, 0.4282, 0.4788]])\n",
      "tensor([[1., 0., 0.],\n",
      "        [0., 1., 0.],\n",
      "        [0., 0., 1.]])\n",
      "Matrix multiplication : tensor([[0.1281, 0.2709, 0.9139],\n",
      "        [0.9911, 0.5670, 0.1999],\n",
      "        [0.5289, 0.4282, 0.4788]])\n",
      "Elementwise multiplication : tensor([[0.1281, 0.0000, 0.0000],\n",
      "        [0.0000, 0.5670, 0.0000],\n",
      "        [0.0000, 0.0000, 0.4788]])\n"
     ]
    }
   ],
   "source": [
    "## elementwise multiplication\n",
    "x = torch.rand(3,3)\n",
    "y = torch.eye(3,3)\n",
    "print(x)\n",
    "print(y)\n",
    "\n",
    "print(f'Matrix multiplication : {torch.matmul(x,y)}')\n",
    "print(f'Elementwise multiplication : {x*y}')"
   ]
  },
  {
   "cell_type": "code",
   "execution_count": 107,
   "metadata": {},
   "outputs": [
    {
     "name": "stdout",
     "output_type": "stream",
     "text": [
      "tensor([ 0.0000,  1.1111,  2.2222,  3.3333,  4.4444,  5.5556,  6.6667,  7.7778,\n",
      "         8.8889, 10.0000])\n",
      "tensor([ 0.0000,  2.2222,  4.4444,  6.6667,  8.8889, 11.1111, 13.3333, 15.5556,\n",
      "        17.7778, 20.0000])\n"
     ]
    }
   ],
   "source": [
    "vector1 = torch.linspace(start = 0, end = 10, steps = 10)\n",
    "vector2 = torch.linspace(start = 0, end = 20, steps = 10)\n",
    "print(vector1)\n",
    "print(vector2)"
   ]
  },
  {
   "cell_type": "code",
   "execution_count": 111,
   "metadata": {},
   "outputs": [
    {
     "name": "stdout",
     "output_type": "stream",
     "text": [
      "tensor([  0.0000,   2.4691,   9.8765,  22.2222,  39.5062,  61.7284,  88.8889,\n",
      "        120.9876, 158.0247, 200.0000])\n",
      "tensor(703.7037)\n",
      "tensor(703.7037)\n"
     ]
    }
   ],
   "source": [
    "print(vector1 * vector2)\n",
    "print(vector1.matmul(vector2)) # ----> should expect scalar as 2 vectors multiplied gives us a scalar\n",
    "print(vector1.dot(vector2))"
   ]
  },
  {
   "cell_type": "code",
   "execution_count": 116,
   "metadata": {},
   "outputs": [
    {
     "name": "stdout",
     "output_type": "stream",
     "text": [
      "tensor([[0.0853, 0.3702, 0.7917, 0.9340, 0.0846],\n",
      "        [0.2362, 0.5478, 0.4497, 0.2507, 0.5951],\n",
      "        [0.7193, 0.4344, 0.9337, 0.0324, 0.1078],\n",
      "        [0.9315, 0.1702, 0.6185, 0.6582, 0.4423],\n",
      "        [0.2039, 0.9812, 0.8342, 0.4612, 0.5950]])\n",
      "tensor([[0.4640, 0.8180, 0.8708, 0.9022, 0.7142]])\n"
     ]
    }
   ],
   "source": [
    "## Example of broadcasting --->> basically multiply/add/subtract elementwise a matrix with a vector\n",
    "\n",
    "x1 = torch.rand(5,5)\n",
    "x2 = torch.rand(1,5)\n",
    "print(x1)\n",
    "print(x2)\n"
   ]
  },
  {
   "cell_type": "code",
   "execution_count": 130,
   "metadata": {},
   "outputs": [
    {
     "name": "stdout",
     "output_type": "stream",
     "text": [
      "torch.Size([5, 5])\n",
      "torch.Size([1, 5])\n",
      "torch.Size([1, 5])\n"
     ]
    }
   ],
   "source": [
    "print(x1.shape)\n",
    "print(x2.shape)\n",
    "print(x2.squeeze(1).shape)"
   ]
  },
  {
   "cell_type": "code",
   "execution_count": 131,
   "metadata": {},
   "outputs": [
    {
     "name": "stdout",
     "output_type": "stream",
     "text": [
      "tensor([[-0.3787, -0.4478, -0.0791,  0.0318, -0.6296],\n",
      "        [-0.2279, -0.2702, -0.4211, -0.6515, -0.1191],\n",
      "        [ 0.2553, -0.3836,  0.0629, -0.8698, -0.6064],\n",
      "        [ 0.4675, -0.6477, -0.2523, -0.2440, -0.2718],\n",
      "        [-0.2601,  0.1632, -0.0366, -0.4410, -0.1191]])\n",
      "tensor([[0.0396, 0.3028, 0.6894, 0.8427, 0.0604],\n",
      "        [0.1096, 0.4481, 0.3916, 0.2261, 0.4250],\n",
      "        [0.3338, 0.3553, 0.8131, 0.0292, 0.0770],\n",
      "        [0.4322, 0.1393, 0.5386, 0.5938, 0.3159],\n",
      "        [0.0946, 0.8026, 0.7264, 0.4161, 0.4249]])\n",
      "tensor([[1.8452, 1.8524, 2.7021, 1.5898, 1.4439]])\n"
     ]
    }
   ],
   "source": [
    "print(x1 - x2)\n",
    "print(x1.mul(x2))\n",
    "print(x2.matmul(x1))\n",
    "\n"
   ]
  },
  {
   "cell_type": "code",
   "execution_count": 141,
   "metadata": {},
   "outputs": [
    {
     "name": "stdout",
     "output_type": "stream",
     "text": [
      "torch.Size([2, 4])\n",
      "torch.return_types.max(\n",
      "values=tensor([2, 4, 6, 8]),\n",
      "indices=tensor([1, 1, 1, 1]))\n",
      "torch.return_types.max(\n",
      "values=tensor([4, 8]),\n",
      "indices=tensor([3, 3]))\n"
     ]
    }
   ],
   "source": [
    "x = torch.tensor([[1,2,3,4], [2,4,6,8]]) ## Shape = (2,4)\n",
    "print(x.shape)\n",
    "print(torch.max(x, dim = 0))\n",
    "print(torch.max(x, dim = 1))"
   ]
  },
  {
   "cell_type": "markdown",
   "metadata": {},
   "source": [
    "## Indexing in Tensors"
   ]
  },
  {
   "cell_type": "code",
   "execution_count": 143,
   "metadata": {},
   "outputs": [],
   "source": [
    "batch_size = 32\n",
    "features = 25\n",
    "\n",
    "x = torch.rand(batch_size, features)"
   ]
  },
  {
   "cell_type": "code",
   "execution_count": 152,
   "metadata": {},
   "outputs": [
    {
     "name": "stdout",
     "output_type": "stream",
     "text": [
      "tensor([0.9982, 0.0857, 0.0071, 0.2569, 0.8349, 0.9560, 0.3892, 0.9739, 0.3523,\n",
      "        0.3468, 0.3128, 0.9625, 0.9309, 0.4454, 0.9609, 0.4858, 0.2609, 0.0626,\n",
      "        0.3426, 0.3011, 0.8428, 0.3906, 0.6870, 0.6716, 0.8140])\n",
      "tensor([0.9982, 0.9040, 0.4806, 0.8180, 0.0033, 0.7535, 0.9386, 0.7949, 0.5364,\n",
      "        0.0092, 0.1194, 0.6075, 0.0878, 0.8964, 0.2069, 0.5512, 0.3039, 0.3025,\n",
      "        0.1248, 0.0243, 0.4153, 0.1746, 0.2650, 0.5631, 0.2957, 0.5626, 0.5079,\n",
      "        0.1703, 0.2933, 0.6724, 0.0347, 0.5196])\n"
     ]
    }
   ],
   "source": [
    "print(x[0]) ##----> the row at 0 indes and all the colms\n",
    "print(x[:,0]) ## ---> the column at 0 index ad all the rows init"
   ]
  },
  {
   "cell_type": "code",
   "execution_count": 155,
   "metadata": {},
   "outputs": [
    {
     "name": "stdout",
     "output_type": "stream",
     "text": [
      "tensor([0.4806, 0.8169, 0.4015, 0.7238, 0.1794, 0.7192, 0.2743, 0.8973, 0.8209,\n",
      "        0.3696, 0.0982, 0.1771, 0.5541, 0.0202, 0.6720, 0.6887, 0.6452, 0.9426,\n",
      "        0.9342, 0.1186, 0.6455, 0.1025, 0.2508, 0.6521, 0.7161])\n"
     ]
    }
   ],
   "source": [
    "print(x[2])"
   ]
  },
  {
   "cell_type": "code",
   "execution_count": 153,
   "metadata": {},
   "outputs": [
    {
     "name": "stdout",
     "output_type": "stream",
     "text": [
      "tensor([0.4806, 0.8169, 0.4015, 0.7238, 0.1794, 0.7192, 0.2743, 0.8973, 0.8209,\n",
      "        0.3696])\n"
     ]
    }
   ],
   "source": [
    "print(x[2, 0:10])"
   ]
  },
  {
   "cell_type": "markdown",
   "metadata": {},
   "source": [
    "## Tensor Reshaping"
   ]
  },
  {
   "cell_type": "code",
   "execution_count": 170,
   "metadata": {},
   "outputs": [
    {
     "name": "stdout",
     "output_type": "stream",
     "text": [
      "tensor([0, 1, 2, 3, 4, 5, 6, 7, 8])\n"
     ]
    }
   ],
   "source": [
    "y = torch.arange(9)\n",
    "print(y)"
   ]
  },
  {
   "cell_type": "code",
   "execution_count": 171,
   "metadata": {},
   "outputs": [
    {
     "name": "stdout",
     "output_type": "stream",
     "text": [
      "tensor([[0, 1, 2],\n",
      "        [3, 4, 5],\n",
      "        [6, 7, 8]])\n",
      "tensor([[0, 1, 2],\n",
      "        [3, 4, 5],\n",
      "        [6, 7, 8]])\n"
     ]
    }
   ],
   "source": [
    "y_3X3 = y.reshape(3,3)\n",
    "print(y_3X3)\n",
    "\n",
    "y_3X3_view = y.view(3,3)\n",
    "print(y_3X3_view)"
   ]
  },
  {
   "cell_type": "code",
   "execution_count": 172,
   "metadata": {},
   "outputs": [
    {
     "name": "stdout",
     "output_type": "stream",
     "text": [
      "tensor([[0, 3, 6],\n",
      "        [1, 4, 7],\n",
      "        [2, 5, 8]])\n"
     ]
    }
   ],
   "source": [
    "x = y_3X3_view.t()\n",
    "print(x)"
   ]
  },
  {
   "cell_type": "code",
   "execution_count": 173,
   "metadata": {},
   "outputs": [
    {
     "name": "stdout",
     "output_type": "stream",
     "text": [
      "tensor([[0.0260, 0.9423, 0.5785, 0.9344, 0.3229],\n",
      "        [0.2276, 0.1958, 0.3654, 0.7044, 0.7294]])\n",
      "tensor([[0.3969, 0.3747, 0.2195, 0.1473, 0.0552],\n",
      "        [0.7470, 0.7525, 0.3223, 0.4320, 0.1553]])\n"
     ]
    }
   ],
   "source": [
    "x1 = torch.rand((2,5))\n",
    "x2 = torch.rand(2,5)\n",
    "print(x1)\n",
    "print(x2)"
   ]
  },
  {
   "cell_type": "code",
   "execution_count": 177,
   "metadata": {},
   "outputs": [
    {
     "name": "stdout",
     "output_type": "stream",
     "text": [
      "torch.Size([4, 5])\n",
      "torch.Size([2, 10])\n"
     ]
    }
   ],
   "source": [
    "print(torch.concat((x1,x2),dim = 0).shape)\n",
    "print(torch.concat((x1,x2), dim = 1).shape)"
   ]
  },
  {
   "cell_type": "code",
   "execution_count": 185,
   "metadata": {},
   "outputs": [
    {
     "name": "stdout",
     "output_type": "stream",
     "text": [
      "torch.Size([50, 100, 100])\n",
      "torch.Size([50, 10000])\n"
     ]
    }
   ],
   "source": [
    "## Flatening \n",
    "batch = 50\n",
    "rows = 100\n",
    "cols = 100\n",
    "\n",
    "data = torch.rand(batch, rows, cols)\n",
    "print(data.shape)\n",
    "print(data.view(batch, -1).shape)"
   ]
  },
  {
   "cell_type": "code",
   "execution_count": 186,
   "metadata": {},
   "outputs": [
    {
     "name": "stdout",
     "output_type": "stream",
     "text": [
      "torch.Size([50, 100, 100])\n"
     ]
    }
   ],
   "source": [
    "data_2 = torch.rand(batch,rows, cols)\n",
    "print(data_2.shape)"
   ]
  },
  {
   "cell_type": "code",
   "execution_count": 188,
   "metadata": {},
   "outputs": [
    {
     "data": {
      "text/plain": [
       "torch.Size([100, 100, 50])"
      ]
     },
     "execution_count": 188,
     "metadata": {},
     "output_type": "execute_result"
    }
   ],
   "source": [
    "data_2.permute(1,2,0).shape"
   ]
  },
  {
   "cell_type": "code",
   "execution_count": 200,
   "metadata": {},
   "outputs": [
    {
     "name": "stdout",
     "output_type": "stream",
     "text": [
      "torch.Size([10])\n",
      "torch.Size([10, 1])\n",
      "torch.Size([1, 10])\n",
      "torch.Size([10])\n"
     ]
    }
   ],
   "source": [
    "## Squeeze and unsqueeze\n",
    "\n",
    "x = torch.arange(10)\n",
    "print(x.shape)\n",
    "\n",
    "## Add an extra dimension to the left of x or right of x\n",
    "print(x.unsqueeze(1).shape)\n",
    "print(x.unsqueeze(0).shape)\n",
    "\n",
    "## Remove an extra dimension from x\n",
    "print(x.squeeze(0).shape)"
   ]
  }
 ],
 "metadata": {
  "kernelspec": {
   "display_name": "stable_env_nlp",
   "language": "python",
   "name": "python3"
  },
  "language_info": {
   "codemirror_mode": {
    "name": "ipython",
    "version": 3
   },
   "file_extension": ".py",
   "mimetype": "text/x-python",
   "name": "python",
   "nbconvert_exporter": "python",
   "pygments_lexer": "ipython3",
   "version": "3.10.15"
  }
 },
 "nbformat": 4,
 "nbformat_minor": 2
}
