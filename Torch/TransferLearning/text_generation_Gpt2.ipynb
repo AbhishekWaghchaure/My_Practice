{
 "cells": [
  {
   "cell_type": "code",
   "id": "initial_id",
   "metadata": {
    "collapsed": true,
    "ExecuteTime": {
     "end_time": "2024-10-30T06:54:40.263570Z",
     "start_time": "2024-10-30T06:54:40.224452Z"
    }
   },
   "source": [
    "import torch\n",
    "import torch.nn as nn\n",
    "from transformers import GPT2Tokenizer, GPT2LMHeadModel"
   ],
   "outputs": [],
   "execution_count": 37
  },
  {
   "metadata": {
    "ExecuteTime": {
     "end_time": "2024-10-30T06:54:42.708830Z",
     "start_time": "2024-10-30T06:54:40.276555Z"
    }
   },
   "cell_type": "code",
   "source": [
    "tokenizer = GPT2Tokenizer.from_pretrained('gpt2')\n",
    "model = GPT2LMHeadModel.from_pretrained('gpt2')"
   ],
   "id": "530d2d368dc71624",
   "outputs": [],
   "execution_count": 38
  },
  {
   "metadata": {
    "ExecuteTime": {
     "end_time": "2024-10-30T06:54:42.724016Z",
     "start_time": "2024-10-30T06:54:42.721707Z"
    }
   },
   "cell_type": "code",
   "source": "seed_text = \"Tell me a dark joke?\"",
   "id": "afa05d3ee18f6755",
   "outputs": [],
   "execution_count": 39
  },
  {
   "metadata": {
    "ExecuteTime": {
     "end_time": "2024-10-30T06:54:42.743055Z",
     "start_time": "2024-10-30T06:54:42.738127Z"
    }
   },
   "cell_type": "code",
   "source": "input_ids = tokenizer.encode(seed_text, return_tensors = 'pt')",
   "id": "78f385aeda786649",
   "outputs": [],
   "execution_count": 40
  },
  {
   "metadata": {
    "ExecuteTime": {
     "end_time": "2024-10-30T06:54:44.655246Z",
     "start_time": "2024-10-30T06:54:42.777263Z"
    }
   },
   "cell_type": "code",
   "source": "output = model.generate(input_ids, max_length = 100, temperature = 0.7,no_repeat_ngram_size = 2,  pad_token_id = tokenizer.eos_token_id)",
   "id": "3f0c6756717491e2",
   "outputs": [],
   "execution_count": 41
  },
  {
   "metadata": {
    "ExecuteTime": {
     "end_time": "2024-10-30T06:54:44.667337Z",
     "start_time": "2024-10-30T06:54:44.661599Z"
    }
   },
   "cell_type": "code",
   "source": "output",
   "id": "4fbea964917cbb7",
   "outputs": [
    {
     "data": {
      "text/plain": [
       "tensor([[24446,   502,   257,  3223,  9707,    30,   198,   198,    40,  1101,\n",
       "           407,  1654,   644,   345,   821,  3375,   546,    13,   198,    13,\n",
       "           764,   764,   198,   357,    40,   836,   470,   760,   644,   314,\n",
       "          1101,  3375,   284,   345,   546,  2014,   198,    11,   314,   836,\n",
       "            13,   357,  1639,   821,   407,  3375,   351,   502,    13,   921,\n",
       "           821,   655,  3375,  2014,   314,   760,   345,   836,   198,     1,\n",
       "         16275,     1,   644,   366,    40,   760,     1,  1724,    13,   314,\n",
       "           198, 16275,   345,   760,   326,   345,   198,     7,    40,   460,\n",
       "           470,  1560,   345,   644,   284,   466,    13,   632,   338,   407,\n",
       "           198,  5832,    13,  1320,   338,   655,   502,  2014,   921,   760]])"
      ]
     },
     "execution_count": 42,
     "metadata": {},
     "output_type": "execute_result"
    }
   ],
   "execution_count": 42
  },
  {
   "metadata": {
    "ExecuteTime": {
     "end_time": "2024-10-30T06:54:44.684430Z",
     "start_time": "2024-10-30T06:54:44.679136Z"
    }
   },
   "cell_type": "code",
   "source": "generated_text = tokenizer.decode(output[0], skip_special_tokens = True)",
   "id": "7e5f9926f08aacf1",
   "outputs": [],
   "execution_count": 43
  },
  {
   "metadata": {
    "ExecuteTime": {
     "end_time": "2024-10-30T06:54:44.745422Z",
     "start_time": "2024-10-30T06:54:44.740854Z"
    }
   },
   "cell_type": "code",
   "source": "generated_text",
   "id": "c46680034a9d633",
   "outputs": [
    {
     "data": {
      "text/plain": [
       "'Tell me a dark joke?\\n\\nI\\'m not sure what you\\'re talking about.\\n. . .\\n (I don\\'t know what I\\'m talking to you about.)\\n, I don. (You\\'re not talking with me. You\\'re just talking.) I know you don\\n\"know\" what \"I know\" means. I\\nknow you know that you\\n(I can\\'t tell you what to do. It\\'s not\\nyou. That\\'s just me.) You know'"
      ]
     },
     "execution_count": 44,
     "metadata": {},
     "output_type": "execute_result"
    }
   ],
   "execution_count": 44
  },
  {
   "metadata": {
    "ExecuteTime": {
     "end_time": "2024-10-30T06:54:44.839838Z",
     "start_time": "2024-10-30T06:54:44.837316Z"
    }
   },
   "cell_type": "code",
   "source": "",
   "id": "2c7f9fd19e647801",
   "outputs": [],
   "execution_count": null
  }
 ],
 "metadata": {
  "kernelspec": {
   "display_name": "Python 3",
   "language": "python",
   "name": "python3"
  },
  "language_info": {
   "codemirror_mode": {
    "name": "ipython",
    "version": 2
   },
   "file_extension": ".py",
   "mimetype": "text/x-python",
   "name": "python",
   "nbconvert_exporter": "python",
   "pygments_lexer": "ipython2",
   "version": "2.7.6"
  }
 },
 "nbformat": 4,
 "nbformat_minor": 5
}
