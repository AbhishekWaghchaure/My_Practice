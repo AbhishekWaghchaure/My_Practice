{
 "cells": [
  {
   "cell_type": "code",
   "id": "b26e158e",
   "metadata": {
    "ExecuteTime": {
     "end_time": "2024-11-01T06:16:58.310249Z",
     "start_time": "2024-11-01T06:16:58.305831Z"
    }
   },
   "source": [
    "import torch\n",
    "from torch import nn\n",
    "from torch.utils.data import DataLoader\n",
    "from torchtext.datasets import Multi30k\n",
    "from torchtext.vocab import build_vocab_from_iterator\n",
    "\n",
    "import spacy\n"
   ],
   "outputs": [],
   "execution_count": 21
  },
  {
   "cell_type": "code",
   "id": "38ae4bd3",
   "metadata": {
    "ExecuteTime": {
     "end_time": "2024-11-01T06:16:59.279581Z",
     "start_time": "2024-11-01T06:16:58.319922Z"
    }
   },
   "source": [
    "# Load English and German tokenizers\n",
    "spacy_en = spacy.load('en_core_web_sm')\n",
    "spacy_de = spacy.load('de_core_news_sm')"
   ],
   "outputs": [],
   "execution_count": 22
  },
  {
   "cell_type": "code",
   "id": "a26e644d",
   "metadata": {
    "ExecuteTime": {
     "end_time": "2024-11-01T06:16:59.327170Z",
     "start_time": "2024-11-01T06:16:59.286960Z"
    }
   },
   "source": [
    "# Process English text\n",
    "doc_eng = spacy_en(\"Hello, how are you?\")\n",
    "for token in doc_eng:\n",
    "    print(token.text, token.pos_)  # Print each token and its part-of-speech tag\n",
    "\n",
    "# Process German text\n",
    "doc_ger = spacy_de(\"Hallo, wie geht es dir?\")\n",
    "for token in doc_ger:\n",
    "    print(token.text, token.pos_)  # Print each token and its part-of-speech tag"
   ],
   "outputs": [
    {
     "name": "stdout",
     "output_type": "stream",
     "text": [
      "Hello INTJ\n",
      ", PUNCT\n",
      "how SCONJ\n",
      "are AUX\n",
      "you PRON\n",
      "? PUNCT\n",
      "Hallo PROPN\n",
      ", PUNCT\n",
      "wie ADV\n",
      "geht VERB\n",
      "es PRON\n",
      "dir PRON\n",
      "? PUNCT\n"
     ]
    }
   ],
   "execution_count": 23
  },
  {
   "cell_type": "code",
   "id": "e7a661a7",
   "metadata": {
    "ExecuteTime": {
     "end_time": "2024-11-01T06:16:59.338229Z",
     "start_time": "2024-11-01T06:16:59.335283Z"
    }
   },
   "source": [
    "doc = \"\"\"I am excited to apply for the Data Science Engineer position. With a strong academic foundation in\n",
    "data science and analytics, complemented by practical experience as a software developer, I am\n",
    "eager to bring my skills to your team and contribute to the innovative AI-driven solutions your\n",
    "organization is known for.\n",
    "My M.Tech in Data Science and Analytics has provided me with deep insights into machine\n",
    "learning, data analysis, and predictive modeling. Although my professional experience at Vinz\n",
    "Global and Aventior Digital Pvt Ltd primarily involved software development, these roles honed my\n",
    "technical expertise, particularly in backend development, API improvement, and database\n",
    "migration. These experiences have given me a solid understanding of the full software development\n",
    "lifecycle, which is crucial for building and optimizing data pipelines, implementing machine\n",
    "learning models, and deploying data-driven applications.\n",
    "One of my significant academic projects involved developing a skin cancer detection and\n",
    "classification model using convolutional neural networks (CNNs). This project not only enhanced\n",
    "my machine learning skills but also highlighted the importance of accuracy and innovation in\n",
    "developing life-impacting solutions. Additionally, my work on a diamond price prediction model\n",
    "using linear regression demonstrated my ability to analyze complex datasets and create precise,\n",
    "data-driven forecasts.\n",
    "I am particularly enthusiastic about this role because it offers the opportunity to transition my strong\n",
    "technical foundation and passion for data science into a position focused on developing and\n",
    "optimizing AI solutions. I am eager to collaborate with your multi-functional team, leverage my\n",
    "problem-solving skills, and contribute to driving the success of your AI-assisted decision-making\n",
    "processes.\n",
    "Thank you for considering my application. I am looking forward to the opportunity to discuss how\n",
    "my background in software development, combined with my academic focus on data science, can\n",
    "contribute to the innovative projects. Please feel free to contact me at 8668566528 or via email at\n",
    "abhisw28@gmail.com to schedule an interview.\n",
    "\"\"\""
   ],
   "outputs": [],
   "execution_count": 24
  },
  {
   "cell_type": "code",
   "id": "30f7ed4a",
   "metadata": {
    "ExecuteTime": {
     "end_time": "2024-11-01T06:16:59.419826Z",
     "start_time": "2024-11-01T06:16:59.345215Z"
    }
   },
   "source": [
    "doc = spacy_en(doc)"
   ],
   "outputs": [],
   "execution_count": 25
  },
  {
   "metadata": {
    "ExecuteTime": {
     "end_time": "2024-11-01T06:19:55.178936Z",
     "start_time": "2024-11-01T06:19:55.175006Z"
    }
   },
   "cell_type": "code",
   "source": "doc.sents",
   "id": "26a4c7d2257b241",
   "outputs": [
    {
     "data": {
      "text/plain": [
       "<generator at 0x169b9f420>"
      ]
     },
     "execution_count": 42,
     "metadata": {},
     "output_type": "execute_result"
    }
   ],
   "execution_count": 42
  },
  {
   "cell_type": "code",
   "id": "aa880e50",
   "metadata": {
    "ExecuteTime": {
     "end_time": "2024-11-01T06:29:37.287072Z",
     "start_time": "2024-11-01T06:29:37.284040Z"
    }
   },
   "source": "sentence_tokenize = [sent.text for sent in doc.sents]\n",
   "outputs": [],
   "execution_count": 66
  },
  {
   "cell_type": "code",
   "id": "a9b7f7df",
   "metadata": {
    "ExecuteTime": {
     "end_time": "2024-11-01T06:29:38.450209Z",
     "start_time": "2024-11-01T06:29:38.444453Z"
    }
   },
   "source": "sentence_tokenize",
   "outputs": [
    {
     "data": {
      "text/plain": [
       "['I am excited to apply for the Data Science Engineer position.',\n",
       " 'With a strong academic foundation in\\ndata science and analytics, complemented by practical experience as a software developer, I am\\neager to bring my skills to your team and contribute to the innovative AI-driven solutions your\\norganization is known for.\\n',\n",
       " 'My M.Tech in Data Science and Analytics has provided me with deep insights into machine\\nlearning, data analysis, and predictive modeling.',\n",
       " 'Although my professional experience at Vinz\\nGlobal and Aventior Digital Pvt Ltd primarily involved software development, these roles honed my\\ntechnical expertise, particularly in backend development, API improvement, and database\\nmigration.',\n",
       " 'These experiences have given me a solid understanding of the full software development\\nlifecycle, which is crucial for building and optimizing data pipelines, implementing machine\\nlearning models, and deploying data-driven applications.\\n',\n",
       " 'One of my significant academic projects involved developing a skin cancer detection and\\nclassification model using convolutional neural networks (CNNs).',\n",
       " 'This project not only enhanced\\nmy machine learning skills but also highlighted the importance of accuracy and innovation in\\ndeveloping life-impacting solutions.',\n",
       " 'Additionally, my work on a diamond price prediction model\\nusing linear regression demonstrated my ability to analyze complex datasets and create precise,\\ndata-driven forecasts.\\n',\n",
       " 'I am particularly enthusiastic about this role because it offers the opportunity to transition my strong\\ntechnical foundation and passion for data science into a position focused on developing and\\noptimizing AI solutions.',\n",
       " 'I am eager to collaborate with your multi-functional team, leverage my\\nproblem-solving skills, and contribute to driving the success of your AI-assisted decision-making\\nprocesses.\\n',\n",
       " 'Thank you for considering my application.',\n",
       " 'I am looking forward to the opportunity to discuss how\\nmy background in software development, combined with my academic focus on data science, can\\ncontribute to the innovative projects.',\n",
       " 'Please feel free to contact me at 8668566528 or via email at\\nabhisw28@gmail.com to schedule an interview.\\n']"
      ]
     },
     "execution_count": 67,
     "metadata": {},
     "output_type": "execute_result"
    }
   ],
   "execution_count": 67
  },
  {
   "cell_type": "code",
   "id": "07e5a7ea",
   "metadata": {
    "ExecuteTime": {
     "end_time": "2024-11-01T06:29:40.864809Z",
     "start_time": "2024-11-01T06:29:40.857901Z"
    }
   },
   "source": "word_tokenize = [spacy_en.tokenizer(word) [word for word in words] [for words in sentence_tokenize]]\n",
   "outputs": [
    {
     "ename": "SyntaxError",
     "evalue": "invalid syntax (2000995789.py, line 1)",
     "output_type": "error",
     "traceback": [
      "\u001B[0;36m  Cell \u001B[0;32mIn[68], line 1\u001B[0;36m\u001B[0m\n\u001B[0;31m    word_tokenize = [word for word in words [for words in sentence_tokenize]]\u001B[0m\n\u001B[0m                                             ^\u001B[0m\n\u001B[0;31mSyntaxError\u001B[0m\u001B[0;31m:\u001B[0m invalid syntax\n"
     ]
    }
   ],
   "execution_count": 68
  },
  {
   "cell_type": "code",
   "id": "f993ea9f",
   "metadata": {
    "ExecuteTime": {
     "end_time": "2024-11-01T06:21:40.306454Z",
     "start_time": "2024-11-01T06:21:40.300645Z"
    }
   },
   "source": "word_tokenize[2]",
   "outputs": [
    {
     "data": {
      "text/plain": [
       "My M.Tech in Data Science and Analytics has provided me with deep insights into machine\n",
       "learning, data analysis, and predictive modeling."
      ]
     },
     "execution_count": 51,
     "metadata": {},
     "output_type": "execute_result"
    }
   ],
   "execution_count": 51
  },
  {
   "cell_type": "code",
   "id": "e45414dd",
   "metadata": {
    "ExecuteTime": {
     "end_time": "2024-11-01T06:23:27.520346Z",
     "start_time": "2024-11-01T06:23:27.513300Z"
    }
   },
   "source": "tokenized_words = [spacy_en.tokenizer(words)  for words in sentence_tokenize]\n",
   "outputs": [],
   "execution_count": 59
  },
  {
   "metadata": {
    "ExecuteTime": {
     "end_time": "2024-11-01T06:23:44.103153Z",
     "start_time": "2024-11-01T06:23:44.098288Z"
    }
   },
   "cell_type": "code",
   "source": "tokenized_words[0]",
   "id": "c3e89a6eec922b7f",
   "outputs": [
    {
     "data": {
      "text/plain": [
       "I am excited to apply for the Data Science Engineer position."
      ]
     },
     "execution_count": 62,
     "metadata": {},
     "output_type": "execute_result"
    }
   ],
   "execution_count": 62
  },
  {
   "cell_type": "code",
   "id": "c4ba9e07",
   "metadata": {
    "ExecuteTime": {
     "end_time": "2024-11-01T06:18:45.379077Z",
     "start_time": "2024-11-01T06:18:45.375615Z"
    }
   },
   "source": [
    "print(len(tokenized_words[2]))\n",
    "print(len(tokenized_words[4]))\n",
    "print(tokenized_words[2])"
   ],
   "outputs": [
    {
     "name": "stdout",
     "output_type": "stream",
     "text": [
      "1\n",
      "1\n",
      "?\n"
     ]
    }
   ],
   "execution_count": 40
  },
  {
   "cell_type": "code",
   "id": "ea14cccd",
   "metadata": {
    "ExecuteTime": {
     "end_time": "2024-11-01T06:16:59.688845Z",
     "start_time": "2024-11-01T06:16:59.686210Z"
    }
   },
   "source": [
    "def preprocessing_en(paragraph):\n",
    "    # Process the paragraph with spaCy\n",
    "    doc = spacy_en(paragraph)\n",
    "    corpus = []\n",
    "    \n",
    "    # Iterate through sentences\n",
    "    for sent in doc.sents:\n",
    "        # Clean and tokenize the sentence\n",
    "        words = [token.text.lower() for token in sent if token.is_alpha and not token.is_stop]\n",
    "        preprocessed_text = \" \".join(words)\n",
    "        corpus.append(preprocessed_text)\n",
    "    \n",
    "    return corpus"
   ],
   "outputs": [],
   "execution_count": 32
  },
  {
   "cell_type": "code",
   "id": "68c6e8f1",
   "metadata": {
    "ExecuteTime": {
     "end_time": "2024-11-01T06:16:59.767498Z",
     "start_time": "2024-11-01T06:16:59.696367Z"
    }
   },
   "source": [
    "sentences = preprocessing_en(doc)"
   ],
   "outputs": [],
   "execution_count": 33
  },
  {
   "cell_type": "code",
   "id": "741bb16c",
   "metadata": {
    "ExecuteTime": {
     "end_time": "2024-11-01T06:16:59.776542Z",
     "start_time": "2024-11-01T06:16:59.773679Z"
    }
   },
   "source": [
    "def tokenize_english(text):\n",
    "    sentences = [spacy_en.tokenizer(sent) for sent in text]\n",
    "    words = [[(token.text) for token in tokens] for tokens in sentences]\n",
    "    return words\n",
    "\n",
    "def tokenize_germany(text):\n",
    "    sentences = [sent.text for sent in text.sents]\n",
    "    sentences = [spacy_de.tokenizer(sent) for sent in sentences]\n",
    "    words = [[(token.text) for token in tokens] for tokens in sentences]\n",
    "    return words"
   ],
   "outputs": [],
   "execution_count": 34
  },
  {
   "cell_type": "code",
   "id": "05d97a8f",
   "metadata": {
    "ExecuteTime": {
     "end_time": "2024-11-01T06:16:59.792271Z",
     "start_time": "2024-11-01T06:16:59.784872Z"
    }
   },
   "source": [
    "tokenize_english(sentences)"
   ],
   "outputs": [
    {
     "data": {
      "text/plain": [
       "[['excited', 'apply', 'data', 'science', 'engineer', 'position'],\n",
       " ['strong',\n",
       "  'academic',\n",
       "  'foundation',\n",
       "  'data',\n",
       "  'science',\n",
       "  'analytics',\n",
       "  'complemented',\n",
       "  'practical',\n",
       "  'experience',\n",
       "  'software',\n",
       "  'developer',\n",
       "  'eager',\n",
       "  'bring',\n",
       "  'skills',\n",
       "  'team',\n",
       "  'contribute',\n",
       "  'innovative',\n",
       "  'ai',\n",
       "  'driven',\n",
       "  'solutions',\n",
       "  'organization',\n",
       "  'known'],\n",
       " ['data',\n",
       "  'science',\n",
       "  'analytics',\n",
       "  'provided',\n",
       "  'deep',\n",
       "  'insights',\n",
       "  'machine',\n",
       "  'learning',\n",
       "  'data',\n",
       "  'analysis',\n",
       "  'predictive',\n",
       "  'modeling'],\n",
       " ['professional',\n",
       "  'experience',\n",
       "  'vinz',\n",
       "  'global',\n",
       "  'aventior',\n",
       "  'digital',\n",
       "  'pvt',\n",
       "  'ltd',\n",
       "  'primarily',\n",
       "  'involved',\n",
       "  'software',\n",
       "  'development',\n",
       "  'roles',\n",
       "  'honed',\n",
       "  'technical',\n",
       "  'expertise',\n",
       "  'particularly',\n",
       "  'backend',\n",
       "  'development',\n",
       "  'api',\n",
       "  'improvement',\n",
       "  'database',\n",
       "  'migration'],\n",
       " ['experiences',\n",
       "  'given',\n",
       "  'solid',\n",
       "  'understanding',\n",
       "  'software',\n",
       "  'development',\n",
       "  'lifecycle',\n",
       "  'crucial',\n",
       "  'building',\n",
       "  'optimizing',\n",
       "  'data',\n",
       "  'pipelines',\n",
       "  'implementing',\n",
       "  'machine',\n",
       "  'learning',\n",
       "  'models',\n",
       "  'deploying',\n",
       "  'data',\n",
       "  'driven',\n",
       "  'applications'],\n",
       " ['significant',\n",
       "  'academic',\n",
       "  'projects',\n",
       "  'involved',\n",
       "  'developing',\n",
       "  'skin',\n",
       "  'cancer',\n",
       "  'detection',\n",
       "  'classification',\n",
       "  'model',\n",
       "  'convolutional',\n",
       "  'neural',\n",
       "  'networks',\n",
       "  'cnns'],\n",
       " ['project',\n",
       "  'enhanced',\n",
       "  'machine',\n",
       "  'learning',\n",
       "  'skills',\n",
       "  'highlighted',\n",
       "  'importance',\n",
       "  'accuracy',\n",
       "  'innovation',\n",
       "  'developing',\n",
       "  'life',\n",
       "  'impacting',\n",
       "  'solutions'],\n",
       " ['additionally',\n",
       "  'work',\n",
       "  'diamond',\n",
       "  'price',\n",
       "  'prediction',\n",
       "  'model',\n",
       "  'linear',\n",
       "  'regression',\n",
       "  'demonstrated',\n",
       "  'ability',\n",
       "  'analyze',\n",
       "  'complex',\n",
       "  'datasets',\n",
       "  'create',\n",
       "  'precise',\n",
       "  'data',\n",
       "  'driven',\n",
       "  'forecasts'],\n",
       " ['particularly',\n",
       "  'enthusiastic',\n",
       "  'role',\n",
       "  'offers',\n",
       "  'opportunity',\n",
       "  'transition',\n",
       "  'strong',\n",
       "  'technical',\n",
       "  'foundation',\n",
       "  'passion',\n",
       "  'data',\n",
       "  'science',\n",
       "  'position',\n",
       "  'focused',\n",
       "  'developing',\n",
       "  'optimizing',\n",
       "  'ai',\n",
       "  'solutions'],\n",
       " ['eager',\n",
       "  'collaborate',\n",
       "  'multi',\n",
       "  'functional',\n",
       "  'team',\n",
       "  'leverage',\n",
       "  'problem',\n",
       "  'solving',\n",
       "  'skills',\n",
       "  'contribute',\n",
       "  'driving',\n",
       "  'success',\n",
       "  'ai',\n",
       "  'assisted',\n",
       "  'decision',\n",
       "  'making',\n",
       "  'processes'],\n",
       " ['thank', 'considering', 'application'],\n",
       " ['looking',\n",
       "  'forward',\n",
       "  'opportunity',\n",
       "  'discuss',\n",
       "  'background',\n",
       "  'software',\n",
       "  'development',\n",
       "  'combined',\n",
       "  'academic',\n",
       "  'focus',\n",
       "  'data',\n",
       "  'science',\n",
       "  'contribute',\n",
       "  'innovative',\n",
       "  'projects'],\n",
       " ['feel', 'free', 'contact', 'email', 'schedule', 'interview']]"
      ]
     },
     "execution_count": 35,
     "metadata": {},
     "output_type": "execute_result"
    }
   ],
   "execution_count": 35
  },
  {
   "cell_type": "code",
   "id": "56256a4d",
   "metadata": {
    "ExecuteTime": {
     "end_time": "2024-11-01T06:16:59.812560Z",
     "start_time": "2024-11-01T06:16:59.809932Z"
    }
   },
   "source": [
    "import spacy\n",
    "import torch\n",
    "import torch.nn as nn\n",
    "from torchtext.datasets import Multi30k\n",
    "# from torchtext.data.functional import to_map_style_dataset\n",
    "from torchtext.vocab import build_vocab_from_iterator\n",
    "from torch.utils.data import DataLoader, Dataset, TensorDataset\n"
   ],
   "outputs": [],
   "execution_count": 36
  },
  {
   "cell_type": "code",
   "id": "54aa1590",
   "metadata": {
    "ExecuteTime": {
     "end_time": "2024-11-01T06:16:59.824215Z",
     "start_time": "2024-11-01T06:16:59.820928Z"
    }
   },
   "source": [
    "import torch\n",
    "import torchtext\n",
    "import numpy as np\n",
    "\n",
    "print(torch.__version__)\n",
    "print(torchtext.__version__)\n",
    "print(spacy.__version__)\n",
    "print(np.__version__)"
   ],
   "outputs": [
    {
     "name": "stdout",
     "output_type": "stream",
     "text": [
      "2.0.1\n",
      "0.15.2\n",
      "3.5.0\n",
      "1.24.0\n"
     ]
    }
   ],
   "execution_count": 37
  },
  {
   "cell_type": "code",
   "id": "9a96a5f5",
   "metadata": {
    "ExecuteTime": {
     "end_time": "2024-11-01T06:17:00.587418Z",
     "start_time": "2024-11-01T06:16:59.833498Z"
    }
   },
   "source": [
    "spacy_english = spacy.load('en_core_web_sm')\n",
    "spacy_german = spacy.load('de_core_news_sm')"
   ],
   "outputs": [],
   "execution_count": 38
  }
 ],
 "metadata": {
  "kernelspec": {
   "display_name": "stable_env_nlp",
   "language": "python",
   "name": "python3"
  },
  "language_info": {
   "codemirror_mode": {
    "name": "ipython",
    "version": 3
   },
   "file_extension": ".py",
   "mimetype": "text/x-python",
   "name": "python",
   "nbconvert_exporter": "python",
   "pygments_lexer": "ipython3",
   "version": "3.10.15"
  }
 },
 "nbformat": 4,
 "nbformat_minor": 5
}
