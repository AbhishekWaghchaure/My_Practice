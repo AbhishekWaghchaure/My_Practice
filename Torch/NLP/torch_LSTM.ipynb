{
 "cells": [
  {
   "cell_type": "markdown",
   "id": "7225d4c9614b5dc9",
   "metadata": {},
   "source": [
    "## Imports"
   ]
  },
  {
   "cell_type": "code",
   "execution_count": 31,
   "id": "79fc78c8cd5fa3eb",
   "metadata": {
    "ExecuteTime": {
     "end_time": "2024-10-19T04:07:19.202721Z",
     "start_time": "2024-10-19T04:07:19.199461Z"
    }
   },
   "outputs": [],
   "source": [
    "import torch"
   ]
  },
  {
   "cell_type": "code",
   "execution_count": 32,
   "id": "initial_id",
   "metadata": {
    "ExecuteTime": {
     "end_time": "2024-10-19T04:07:19.223314Z",
     "start_time": "2024-10-19T04:07:19.219067Z"
    },
    "collapsed": true
   },
   "outputs": [],
   "source": [
    "import torch.nn as nn\n",
    "import torch.nn.functional as F\n",
    "from torch.utils.data import DataLoader\n",
    "import torchvision.datasets as datasets\n",
    "import torchvision.transforms as transforms\n",
    "import torch.optim as optim"
   ]
  },
  {
   "cell_type": "markdown",
   "id": "c2f44c431a4c95e3",
   "metadata": {},
   "source": [
    "## set device"
   ]
  },
  {
   "cell_type": "code",
   "execution_count": 33,
   "id": "eef1805e",
   "metadata": {},
   "outputs": [],
   "source": [
    "device = torch.device(\"mps\")"
   ]
  },
  {
   "cell_type": "markdown",
   "id": "6205ec0bd31f6558",
   "metadata": {},
   "source": [
    "## Create Fully Connected Network"
   ]
  },
  {
   "cell_type": "code",
   "execution_count": 34,
   "id": "153894b4",
   "metadata": {},
   "outputs": [],
   "source": [
    "## LSTM Network\n",
    "\n",
    "class lstm_net(nn.Module):\n",
    "    def __init__(self,input_size, hidden_size, num_layers, num_classes):\n",
    "        super(lstm_net,self).__init__()\n",
    "        \n",
    "        self.input_size = input_size\n",
    "        self.hidden_size = hidden_size\n",
    "        self.num_layers = num_layers\n",
    "        self.num_classes = num_classes\n",
    "        \n",
    "        # self.net = nn.Sequential(\n",
    "        #     nn.LSTM(input_size,hidden_size,num_layers,batch_first=True),\n",
    "        # )\n",
    "        \n",
    "        # self.classifier = nn.Sequential(\n",
    "        #     # nn.Linear(input_size * hidden_size, num_classes)\n",
    "        #     nn.Linear(hidden_size, num_classes)\n",
    "        # )\n",
    "        self.lstm = nn.LSTM(input_size, hidden_size, num_layers, batch_first=True)\n",
    "        \n",
    "        self.classifier = nn.Linear(hidden_size, num_classes)\n",
    "        \n",
    "    def forward(self, x):\n",
    "        h0 = torch.zeros(self.num_layers, x.size(0), self.hidden_size).to(device=device)\n",
    "        c0 = torch.zeros(self.num_layers, x.size(0), self.hidden_size).to(device=device)\n",
    "        \n",
    "        out, _ = self.lstm(x,(h0, c0))\n",
    "        # out = out.reshape(out.shape[0], -1)\n",
    "        out = self.classifier(out[:,-1,:])\n",
    "        return out\n",
    "        "
   ]
  },
  {
   "cell_type": "markdown",
   "id": "f251d02296e73c64",
   "metadata": {},
   "source": [
    "## Hyperparameters"
   ]
  },
  {
   "cell_type": "code",
   "execution_count": 35,
   "id": "b857eb170d97f531",
   "metadata": {
    "ExecuteTime": {
     "end_time": "2024-10-19T04:07:19.608976Z",
     "start_time": "2024-10-19T04:07:19.606509Z"
    }
   },
   "outputs": [],
   "source": [
    "num_layers = 2\n",
    "input_size = 28\n",
    "hidden_size = 256\n",
    "sequence_length = 28\n",
    "num_classes = 10\n",
    "lr = 0.001\n",
    "epochs = 5\n",
    "batch_size = 64"
   ]
  },
  {
   "cell_type": "code",
   "execution_count": 36,
   "id": "25ee8a92e87db7d5",
   "metadata": {
    "ExecuteTime": {
     "end_time": "2024-10-19T04:07:19.718521Z",
     "start_time": "2024-10-19T04:07:19.691698Z"
    }
   },
   "outputs": [],
   "source": [
    "train_dataset = datasets.MNIST(root = 'datasets/', train = True, transform = transforms.ToTensor(), download=True)\n",
    "train_loader = DataLoader(dataset = train_dataset, batch_size=batch_size, shuffle=True)"
   ]
  },
  {
   "cell_type": "code",
   "execution_count": 37,
   "id": "a1dd5d7a",
   "metadata": {
    "ExecuteTime": {
     "end_time": "2024-10-19T04:07:19.797184Z",
     "start_time": "2024-10-19T04:07:19.789656Z"
    }
   },
   "outputs": [],
   "source": [
    "test_dataset = datasets.MNIST(root = 'datasets/', train = False, transform = transforms.ToTensor(), download=True)\n",
    "test_loader = DataLoader(dataset = test_dataset, batch_size=batch_size, shuffle=True)"
   ]
  },
  {
   "cell_type": "markdown",
   "id": "50ef7559",
   "metadata": {},
   "source": [
    "## Initialize Network"
   ]
  },
  {
   "cell_type": "code",
   "execution_count": 38,
   "id": "efb4b34b",
   "metadata": {
    "ExecuteTime": {
     "end_time": "2024-10-19T04:07:19.873974Z",
     "start_time": "2024-10-19T04:07:19.870127Z"
    }
   },
   "outputs": [],
   "source": [
    "model = lstm_net(num_layers,num_classes,hidden_size,input_size).to(device)"
   ]
  },
  {
   "cell_type": "code",
   "execution_count": 39,
   "id": "53bdb5d3",
   "metadata": {
    "ExecuteTime": {
     "end_time": "2024-10-19T04:07:19.967334Z",
     "start_time": "2024-10-19T04:07:19.964762Z"
    }
   },
   "outputs": [
    {
     "data": {
      "text/plain": [
       "<bound method Module.parameters of lstm_net(\n",
       "  (lstm): LSTM(2, 10, num_layers=256, batch_first=True)\n",
       "  (classifier): Linear(in_features=10, out_features=28, bias=True)\n",
       ")>"
      ]
     },
     "execution_count": 39,
     "metadata": {},
     "output_type": "execute_result"
    }
   ],
   "source": [
    "model.parameters"
   ]
  },
  {
   "cell_type": "code",
   "execution_count": 40,
   "id": "9a2fd09e",
   "metadata": {
    "ExecuteTime": {
     "end_time": "2024-10-19T04:07:20.059238Z",
     "start_time": "2024-10-19T04:07:20.056856Z"
    }
   },
   "outputs": [],
   "source": [
    "criterion = nn.CrossEntropyLoss()\n",
    "optimizer = optim.Adam(model.parameters(), lr = lr)"
   ]
  },
  {
   "cell_type": "markdown",
   "id": "36e201c6",
   "metadata": {},
   "source": [
    "## Train Network"
   ]
  },
  {
   "cell_type": "code",
   "execution_count": 41,
   "id": "043fa6d8",
   "metadata": {
    "ExecuteTime": {
     "end_time": "2024-10-19T04:07:24.071055Z",
     "start_time": "2024-10-19T04:07:20.147963Z"
    }
   },
   "outputs": [
    {
     "name": "stdout",
     "output_type": "stream",
     "text": [
      "torch.Size([32, 1, 28, 28])\n",
      "torch.Size([32, 1, 28, 28])\n",
      "torch.Size([32, 1, 28, 28])\n",
      "torch.Size([32, 1, 28, 28])\n",
      "torch.Size([32, 1, 28, 28])\n"
     ]
    }
   ],
   "source": [
    "for epoch in range(epochs):\n",
    "    for idx ,(data,target) in enumerate(train_loader):\n",
    "        data = data.to(device=device)\n",
    "        target = target.to(device=device)\n",
    "        \n",
    "    print(data.shape)"
   ]
  },
  {
   "cell_type": "code",
   "execution_count": 42,
   "id": "cd71043e",
   "metadata": {
    "ExecuteTime": {
     "end_time": "2024-10-19T04:07:24.180187Z",
     "start_time": "2024-10-19T04:07:24.174148Z"
    }
   },
   "outputs": [
    {
     "name": "stdout",
     "output_type": "stream",
     "text": [
      "tensor([[0., 0., 0.,  ..., 0., 0., 0.],\n",
      "        [0., 0., 0.,  ..., 0., 0., 0.],\n",
      "        [0., 0., 0.,  ..., 0., 0., 0.],\n",
      "        ...,\n",
      "        [0., 0., 0.,  ..., 0., 0., 0.],\n",
      "        [0., 0., 0.,  ..., 0., 0., 0.],\n",
      "        [0., 0., 0.,  ..., 0., 0., 0.]], device='mps:0')\n",
      "torch.Size([32, 784])\n"
     ]
    }
   ],
   "source": [
    "print(data.reshape(data.shape[0],-1))\n",
    "print(data.reshape(data.shape[0],-1).shape)"
   ]
  },
  {
   "cell_type": "code",
   "execution_count": 43,
   "id": "9893491a",
   "metadata": {
    "ExecuteTime": {
     "end_time": "2024-10-19T04:07:31.821411Z",
     "start_time": "2024-10-19T04:07:24.268750Z"
    }
   },
   "outputs": [
    {
     "ename": "AttributeError",
     "evalue": "'lstm_net' object has no attribute 'net'",
     "output_type": "error",
     "traceback": [
      "\u001b[0;31m---------------------------------------------------------------------------\u001b[0m",
      "\u001b[0;31mAttributeError\u001b[0m                            Traceback (most recent call last)",
      "Cell \u001b[0;32mIn[43], line 9\u001b[0m\n\u001b[1;32m      6\u001b[0m data \u001b[38;5;241m=\u001b[39m data\u001b[38;5;241m.\u001b[39mto(device \u001b[38;5;241m=\u001b[39m device)\n\u001b[1;32m      7\u001b[0m target \u001b[38;5;241m=\u001b[39m target\u001b[38;5;241m.\u001b[39mto(device\u001b[38;5;241m=\u001b[39mdevice)\n\u001b[0;32m----> 9\u001b[0m scores \u001b[38;5;241m=\u001b[39m\u001b[43mmodel\u001b[49m\u001b[43m(\u001b[49m\u001b[43mdata\u001b[49m\u001b[43m)\u001b[49m\n\u001b[1;32m     10\u001b[0m loss\u001b[38;5;241m=\u001b[39m criterion(scores,target)\n\u001b[1;32m     12\u001b[0m optimizer\u001b[38;5;241m.\u001b[39mzero_grad()\n",
      "File \u001b[0;32m/opt/anaconda3/envs/tensor/lib/python3.10/site-packages/torch/nn/modules/module.py:1736\u001b[0m, in \u001b[0;36mModule._wrapped_call_impl\u001b[0;34m(self, *args, **kwargs)\u001b[0m\n\u001b[1;32m   1734\u001b[0m     \u001b[38;5;28;01mreturn\u001b[39;00m \u001b[38;5;28mself\u001b[39m\u001b[38;5;241m.\u001b[39m_compiled_call_impl(\u001b[38;5;241m*\u001b[39margs, \u001b[38;5;241m*\u001b[39m\u001b[38;5;241m*\u001b[39mkwargs)  \u001b[38;5;66;03m# type: ignore[misc]\u001b[39;00m\n\u001b[1;32m   1735\u001b[0m \u001b[38;5;28;01melse\u001b[39;00m:\n\u001b[0;32m-> 1736\u001b[0m     \u001b[38;5;28;01mreturn\u001b[39;00m \u001b[38;5;28;43mself\u001b[39;49m\u001b[38;5;241;43m.\u001b[39;49m\u001b[43m_call_impl\u001b[49m\u001b[43m(\u001b[49m\u001b[38;5;241;43m*\u001b[39;49m\u001b[43margs\u001b[49m\u001b[43m,\u001b[49m\u001b[43m \u001b[49m\u001b[38;5;241;43m*\u001b[39;49m\u001b[38;5;241;43m*\u001b[39;49m\u001b[43mkwargs\u001b[49m\u001b[43m)\u001b[49m\n",
      "File \u001b[0;32m/opt/anaconda3/envs/tensor/lib/python3.10/site-packages/torch/nn/modules/module.py:1747\u001b[0m, in \u001b[0;36mModule._call_impl\u001b[0;34m(self, *args, **kwargs)\u001b[0m\n\u001b[1;32m   1742\u001b[0m \u001b[38;5;66;03m# If we don't have any hooks, we want to skip the rest of the logic in\u001b[39;00m\n\u001b[1;32m   1743\u001b[0m \u001b[38;5;66;03m# this function, and just call forward.\u001b[39;00m\n\u001b[1;32m   1744\u001b[0m \u001b[38;5;28;01mif\u001b[39;00m \u001b[38;5;129;01mnot\u001b[39;00m (\u001b[38;5;28mself\u001b[39m\u001b[38;5;241m.\u001b[39m_backward_hooks \u001b[38;5;129;01mor\u001b[39;00m \u001b[38;5;28mself\u001b[39m\u001b[38;5;241m.\u001b[39m_backward_pre_hooks \u001b[38;5;129;01mor\u001b[39;00m \u001b[38;5;28mself\u001b[39m\u001b[38;5;241m.\u001b[39m_forward_hooks \u001b[38;5;129;01mor\u001b[39;00m \u001b[38;5;28mself\u001b[39m\u001b[38;5;241m.\u001b[39m_forward_pre_hooks\n\u001b[1;32m   1745\u001b[0m         \u001b[38;5;129;01mor\u001b[39;00m _global_backward_pre_hooks \u001b[38;5;129;01mor\u001b[39;00m _global_backward_hooks\n\u001b[1;32m   1746\u001b[0m         \u001b[38;5;129;01mor\u001b[39;00m _global_forward_hooks \u001b[38;5;129;01mor\u001b[39;00m _global_forward_pre_hooks):\n\u001b[0;32m-> 1747\u001b[0m     \u001b[38;5;28;01mreturn\u001b[39;00m \u001b[43mforward_call\u001b[49m\u001b[43m(\u001b[49m\u001b[38;5;241;43m*\u001b[39;49m\u001b[43margs\u001b[49m\u001b[43m,\u001b[49m\u001b[43m \u001b[49m\u001b[38;5;241;43m*\u001b[39;49m\u001b[38;5;241;43m*\u001b[39;49m\u001b[43mkwargs\u001b[49m\u001b[43m)\u001b[49m\n\u001b[1;32m   1749\u001b[0m result \u001b[38;5;241m=\u001b[39m \u001b[38;5;28;01mNone\u001b[39;00m\n\u001b[1;32m   1750\u001b[0m called_always_called_hooks \u001b[38;5;241m=\u001b[39m \u001b[38;5;28mset\u001b[39m()\n",
      "Cell \u001b[0;32mIn[34], line 28\u001b[0m, in \u001b[0;36mlstm_net.forward\u001b[0;34m(self, x)\u001b[0m\n\u001b[1;32m     25\u001b[0m h0 \u001b[38;5;241m=\u001b[39m torch\u001b[38;5;241m.\u001b[39mzeros(\u001b[38;5;28mself\u001b[39m\u001b[38;5;241m.\u001b[39mnum_layers, x\u001b[38;5;241m.\u001b[39msize(\u001b[38;5;241m0\u001b[39m), \u001b[38;5;28mself\u001b[39m\u001b[38;5;241m.\u001b[39mhidden_size)\u001b[38;5;241m.\u001b[39mto(device\u001b[38;5;241m=\u001b[39mdevice)\n\u001b[1;32m     26\u001b[0m c0 \u001b[38;5;241m=\u001b[39m torch\u001b[38;5;241m.\u001b[39mzeros(\u001b[38;5;28mself\u001b[39m\u001b[38;5;241m.\u001b[39mnum_layers, x\u001b[38;5;241m.\u001b[39msize(\u001b[38;5;241m0\u001b[39m), \u001b[38;5;28mself\u001b[39m\u001b[38;5;241m.\u001b[39mhidden_size)\u001b[38;5;241m.\u001b[39mto(device\u001b[38;5;241m=\u001b[39mdevice)\n\u001b[0;32m---> 28\u001b[0m out, _ \u001b[38;5;241m=\u001b[39m \u001b[38;5;28;43mself\u001b[39;49m\u001b[38;5;241;43m.\u001b[39;49m\u001b[43mnet\u001b[49m(x,(h0, c0))\n\u001b[1;32m     29\u001b[0m \u001b[38;5;66;03m# out = out.reshape(out.shape[0], -1)\u001b[39;00m\n\u001b[1;32m     30\u001b[0m out \u001b[38;5;241m=\u001b[39m \u001b[38;5;28mself\u001b[39m\u001b[38;5;241m.\u001b[39mclassifier(out[:,\u001b[38;5;241m-\u001b[39m\u001b[38;5;241m1\u001b[39m,:])\n",
      "File \u001b[0;32m/opt/anaconda3/envs/tensor/lib/python3.10/site-packages/torch/nn/modules/module.py:1931\u001b[0m, in \u001b[0;36mModule.__getattr__\u001b[0;34m(self, name)\u001b[0m\n\u001b[1;32m   1929\u001b[0m     \u001b[38;5;28;01mif\u001b[39;00m name \u001b[38;5;129;01min\u001b[39;00m modules:\n\u001b[1;32m   1930\u001b[0m         \u001b[38;5;28;01mreturn\u001b[39;00m modules[name]\n\u001b[0;32m-> 1931\u001b[0m \u001b[38;5;28;01mraise\u001b[39;00m \u001b[38;5;167;01mAttributeError\u001b[39;00m(\n\u001b[1;32m   1932\u001b[0m     \u001b[38;5;124mf\u001b[39m\u001b[38;5;124m\"\u001b[39m\u001b[38;5;124m'\u001b[39m\u001b[38;5;132;01m{\u001b[39;00m\u001b[38;5;28mtype\u001b[39m(\u001b[38;5;28mself\u001b[39m)\u001b[38;5;241m.\u001b[39m\u001b[38;5;18m__name__\u001b[39m\u001b[38;5;132;01m}\u001b[39;00m\u001b[38;5;124m'\u001b[39m\u001b[38;5;124m object has no attribute \u001b[39m\u001b[38;5;124m'\u001b[39m\u001b[38;5;132;01m{\u001b[39;00mname\u001b[38;5;132;01m}\u001b[39;00m\u001b[38;5;124m'\u001b[39m\u001b[38;5;124m\"\u001b[39m\n\u001b[1;32m   1933\u001b[0m )\n",
      "\u001b[0;31mAttributeError\u001b[0m: 'lstm_net' object has no attribute 'net'"
     ]
    }
   ],
   "source": [
    "for  epoch in range(epochs):\n",
    "    num_correct = 0\n",
    "    num_samples = 0\n",
    "    running_loss = 0.0\n",
    "    for idx,(data,target) in enumerate(train_loader):\n",
    "        data = data.to(device = device)\n",
    "        target = target.to(device=device)\n",
    "        \n",
    "        scores =model(data)\n",
    "        loss= criterion(scores,target)\n",
    "        \n",
    "        optimizer.zero_grad()\n",
    "        loss.backward()\n",
    "        optimizer.step()\n",
    "        _,predictions = scores.max(1) \n",
    "        num_correct = num_correct +  (predictions == target).sum()\n",
    "        num_samples = num_samples + predictions.size(0)\n",
    "            \n",
    "    print(f\"Got {num_correct}/{num_samples} with accuracy {float(num_correct)/float (num_samples) * 100:.2f}\")\n",
    "        \n",
    "    running_loss += loss.item()\n",
    "    epoch_loss = running_loss / len(data)\n",
    "    print(f\"Epoch {epoch+1}, Loss: {epoch_loss:.4f}\")"
   ]
  },
  {
   "cell_type": "code",
   "execution_count": 145,
   "id": "a7f67f93",
   "metadata": {},
   "outputs": [
    {
     "data": {
      "text/plain": [
       "32"
      ]
     },
     "execution_count": 145,
     "metadata": {},
     "output_type": "execute_result"
    }
   ],
   "source": [
    "len(data)"
   ]
  },
  {
   "cell_type": "code",
   "execution_count": 146,
   "id": "2a1191a6",
   "metadata": {
    "ExecuteTime": {
     "end_time": "2024-10-19T04:07:31.911023Z",
     "start_time": "2024-10-19T04:07:31.908633Z"
    }
   },
   "outputs": [
    {
     "name": "stdout",
     "output_type": "stream",
     "text": [
      "torch.Size([10, 784])\n"
     ]
    }
   ],
   "source": [
    "print((model.classifier[0].weight).shape)"
   ]
  },
  {
   "cell_type": "markdown",
   "id": "9e836bee9f8df724",
   "metadata": {},
   "source": [
    "## Check Accuracy"
   ]
  },
  {
   "cell_type": "code",
   "execution_count": 147,
   "id": "f41cd67b80f4692f",
   "metadata": {
    "ExecuteTime": {
     "end_time": "2024-10-19T04:11:15.795933Z",
     "start_time": "2024-10-19T04:11:15.790808Z"
    }
   },
   "outputs": [],
   "source": [
    "def check_accuracy(loader,model):\n",
    "    num_correct = 0\n",
    "    num_samples = 0\n",
    "    \n",
    "    model.eval()\n",
    "    \n",
    "    with torch.no_grad():\n",
    "        for x,y in loader:\n",
    "            x = x.to(device=device)\n",
    "            y = y.to(device=device)\n",
    "            # x = x.reshape(x.shape[0],-1)\n",
    "            scores = model(x)\n",
    "            _,predictions = scores.max(1) \n",
    "            num_correct = num_correct +  (predictions == y).sum()\n",
    "            num_samples = num_samples + predictions.size(0)\n",
    "            \n",
    "        print(f\"Got {num_correct}/{num_samples} with accuracy {float(num_correct)/float (num_samples) * 100:.2f}\")\n",
    "    "
   ]
  },
  {
   "cell_type": "code",
   "execution_count": 152,
   "id": "b2b6a3b9",
   "metadata": {},
   "outputs": [
    {
     "data": {
      "text/plain": [
       "torch.Size([32])"
      ]
     },
     "execution_count": 152,
     "metadata": {},
     "output_type": "execute_result"
    }
   ],
   "source": [
    "predictions.size()"
   ]
  },
  {
   "cell_type": "code",
   "execution_count": 148,
   "id": "15fe8910780b4e00",
   "metadata": {
    "ExecuteTime": {
     "end_time": "2024-10-19T04:11:37.036470Z",
     "start_time": "2024-10-19T04:11:36.947978Z"
    }
   },
   "outputs": [
    {
     "name": "stdout",
     "output_type": "stream",
     "text": [
      "Got 58969/60000 with accuracy 98.28\n"
     ]
    }
   ],
   "source": [
    "check_accuracy(train_loader, model)"
   ]
  },
  {
   "cell_type": "code",
   "execution_count": 150,
   "id": "73b3a874",
   "metadata": {},
   "outputs": [
    {
     "name": "stdout",
     "output_type": "stream",
     "text": [
      "Got 9821/10000 with accuracy 98.21\n"
     ]
    }
   ],
   "source": [
    "check_accuracy(test_loader, model)"
   ]
  },
  {
   "cell_type": "code",
   "execution_count": 149,
   "id": "2ff4ec132f6414b0",
   "metadata": {
    "ExecuteTime": {
     "end_time": "2024-10-19T04:07:32.087931Z",
     "start_time": "2024-10-19T04:07:32.085064Z"
    }
   },
   "outputs": [
    {
     "data": {
      "text/plain": [
       "torch.Size([32, 10])"
      ]
     },
     "execution_count": 149,
     "metadata": {},
     "output_type": "execute_result"
    }
   ],
   "source": [
    "scores.shape"
   ]
  }
 ],
 "metadata": {
  "kernelspec": {
   "display_name": "tensor",
   "language": "python",
   "name": "python3"
  },
  "language_info": {
   "codemirror_mode": {
    "name": "ipython",
    "version": 3
   },
   "file_extension": ".py",
   "mimetype": "text/x-python",
   "name": "python",
   "nbconvert_exporter": "python",
   "pygments_lexer": "ipython3",
   "version": "3.10.14"
  }
 },
 "nbformat": 4,
 "nbformat_minor": 5
}
