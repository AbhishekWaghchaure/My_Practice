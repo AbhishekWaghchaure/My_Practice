{
 "cells": [
  {
   "cell_type": "markdown",
   "id": "7225d4c9614b5dc9",
   "metadata": {},
   "source": [
    "## Imports"
   ]
  },
  {
   "cell_type": "code",
   "execution_count": 178,
   "id": "79fc78c8cd5fa3eb",
   "metadata": {
    "ExecuteTime": {
     "end_time": "2024-10-19T04:07:19.202721Z",
     "start_time": "2024-10-19T04:07:19.199461Z"
    }
   },
   "outputs": [],
   "source": [
    "import torch"
   ]
  },
  {
   "cell_type": "code",
   "execution_count": 179,
   "id": "initial_id",
   "metadata": {
    "ExecuteTime": {
     "end_time": "2024-10-19T04:07:19.223314Z",
     "start_time": "2024-10-19T04:07:19.219067Z"
    },
    "collapsed": true
   },
   "outputs": [],
   "source": [
    "import torch.nn as nn\n",
    "import torch.nn.functional as F\n",
    "from torch.utils.data import DataLoader\n",
    "import torchvision.datasets as datasets\n",
    "import torchvision.transforms as transforms\n",
    "import torch.optim as optim"
   ]
  },
  {
   "cell_type": "markdown",
   "id": "6205ec0bd31f6558",
   "metadata": {},
   "source": [
    "## Create Fully Connected Network"
   ]
  },
  {
   "cell_type": "code",
   "execution_count": 180,
   "id": "5856bac18be6633",
   "metadata": {
    "ExecuteTime": {
     "end_time": "2024-10-19T04:07:19.328327Z",
     "start_time": "2024-10-19T04:07:19.325253Z"
    }
   },
   "outputs": [],
   "source": [
    "class NN(nn.Module):\n",
    "    def __init__(self, input_size, num_classes): ## 28*28 image size\n",
    "        super(NN,self).__init__()\n",
    "        self.fc1 = nn.Linear(input_size, 50)\n",
    "        self.fc2 = nn.Linear(50, num_classes)\n",
    "        \n",
    "    def forward(self,x):\n",
    "        x = F.relu(self.fc1(x))\n",
    "        x = self.fc2(x)\n",
    "        return x\n",
    "        "
   ]
  },
  {
   "cell_type": "code",
   "execution_count": 181,
   "id": "233547ba",
   "metadata": {},
   "outputs": [],
   "source": [
    "import torch\n",
    "import torch.nn as nn\n",
    "\n",
    "class CNN(nn.Module):\n",
    "    def __init__(self, input_channels=1, num_classes=10):\n",
    "        super(CNN, self).__init__()\n",
    "\n",
    "        # Define the convolutional layers\n",
    "        self.convolution = nn.Sequential(\n",
    "            nn.Conv2d(in_channels=input_channels, out_channels=8, kernel_size=(3, 3), stride=(1, 1), padding=(1, 1)),\n",
    "            nn.ReLU(),\n",
    "            nn.MaxPool2d(kernel_size=(2, 2)),\n",
    "            nn.Conv2d(in_channels=8, out_channels=16, kernel_size=(3, 3), stride=(1, 1), padding=(1, 1)),\n",
    "            nn.ReLU(),\n",
    "            nn.MaxPool2d(kernel_size=2)\n",
    "        )\n",
    "\n",
    "        # Define the classifier (fully connected layers)\n",
    "        self.classifier = nn.Sequential(\n",
    "            nn.Linear(16 * 7 * 7, num_classes),\n",
    "            nn.Softmax(dim=1)\n",
    "        )\n",
    "\n",
    "    def forward(self, x):\n",
    "        x = self.convolution(x)\n",
    "        x = x.view(x.size(0), -1)  # Flatten the tensor for the fully connected layer\n",
    "        x = self.classifier(x)\n",
    "        return x\n",
    "\n",
    "# Example usage\n",
    "x = torch.rand(64, 1, 28, 28)  # 64 images, 1 channel, 28x28 pixels\n",
    "model = CNN()\n",
    "output = model(x)"
   ]
  },
  {
   "cell_type": "code",
   "execution_count": 182,
   "id": "c6c2d6b0",
   "metadata": {},
   "outputs": [
    {
     "data": {
      "text/plain": [
       "torch.Size([64, 10])"
      ]
     },
     "execution_count": 182,
     "metadata": {},
     "output_type": "execute_result"
    }
   ],
   "source": [
    "output.shape"
   ]
  },
  {
   "cell_type": "code",
   "execution_count": 183,
   "id": "7b77122697c1b102",
   "metadata": {
    "ExecuteTime": {
     "end_time": "2024-10-19T04:07:19.416105Z",
     "start_time": "2024-10-19T04:07:19.412566Z"
    }
   },
   "outputs": [
    {
     "name": "stdout",
     "output_type": "stream",
     "text": [
      "torch.Size([64, 10])\n"
     ]
    }
   ],
   "source": [
    "modelx = NN(784,10)\n",
    "x = torch.rand(64,784)\n",
    "print(modelx(x).shape)\n"
   ]
  },
  {
   "cell_type": "markdown",
   "id": "c2f44c431a4c95e3",
   "metadata": {},
   "source": [
    "## set device"
   ]
  },
  {
   "cell_type": "code",
   "execution_count": 184,
   "id": "26e26aadfb7ddb49",
   "metadata": {
    "ExecuteTime": {
     "end_time": "2024-10-19T04:07:19.509869Z",
     "start_time": "2024-10-19T04:07:19.507796Z"
    }
   },
   "outputs": [],
   "source": [
    "device = torch.device('mps')\n",
    "# device = ('mps' if torch.mps.is_available() else \"cpu\")"
   ]
  },
  {
   "cell_type": "markdown",
   "id": "f251d02296e73c64",
   "metadata": {},
   "source": [
    "## Hyperparameters"
   ]
  },
  {
   "cell_type": "code",
   "execution_count": 185,
   "id": "b857eb170d97f531",
   "metadata": {
    "ExecuteTime": {
     "end_time": "2024-10-19T04:07:19.608976Z",
     "start_time": "2024-10-19T04:07:19.606509Z"
    }
   },
   "outputs": [],
   "source": [
    "input_channels = 1\n",
    "input_size = 784\n",
    "num_classes = 10\n",
    "lr = 0.001\n",
    "epochs = 5\n",
    "batch_size = 64"
   ]
  },
  {
   "cell_type": "code",
   "execution_count": 186,
   "id": "25ee8a92e87db7d5",
   "metadata": {
    "ExecuteTime": {
     "end_time": "2024-10-19T04:07:19.718521Z",
     "start_time": "2024-10-19T04:07:19.691698Z"
    }
   },
   "outputs": [],
   "source": [
    "train_dataset = datasets.MNIST(root = 'datasets/', train = True, transform = transforms.ToTensor(), download=True)\n",
    "train_loader = DataLoader(dataset = train_dataset, batch_size=batch_size, shuffle=True)"
   ]
  },
  {
   "cell_type": "code",
   "execution_count": 187,
   "id": "a1dd5d7a",
   "metadata": {
    "ExecuteTime": {
     "end_time": "2024-10-19T04:07:19.797184Z",
     "start_time": "2024-10-19T04:07:19.789656Z"
    }
   },
   "outputs": [],
   "source": [
    "test_dataset = datasets.MNIST(root = 'datasets/', train = False, transform = transforms.ToTensor(), download=True)\n",
    "test_loader = DataLoader(dataset = test_dataset, batch_size=batch_size, shuffle=True)"
   ]
  },
  {
   "cell_type": "markdown",
   "id": "50ef7559",
   "metadata": {},
   "source": [
    "## Initialize Network"
   ]
  },
  {
   "cell_type": "code",
   "execution_count": 188,
   "id": "efb4b34b",
   "metadata": {
    "ExecuteTime": {
     "end_time": "2024-10-19T04:07:19.873974Z",
     "start_time": "2024-10-19T04:07:19.870127Z"
    }
   },
   "outputs": [],
   "source": [
    "model = CNN().to(device)"
   ]
  },
  {
   "cell_type": "code",
   "execution_count": 189,
   "id": "53bdb5d3",
   "metadata": {
    "ExecuteTime": {
     "end_time": "2024-10-19T04:07:19.967334Z",
     "start_time": "2024-10-19T04:07:19.964762Z"
    }
   },
   "outputs": [
    {
     "data": {
      "text/plain": [
       "<bound method Module.parameters of CNN(\n",
       "  (convolution): Sequential(\n",
       "    (0): Conv2d(1, 8, kernel_size=(3, 3), stride=(1, 1), padding=(1, 1))\n",
       "    (1): ReLU()\n",
       "    (2): MaxPool2d(kernel_size=(2, 2), stride=(2, 2), padding=0, dilation=1, ceil_mode=False)\n",
       "    (3): Conv2d(8, 16, kernel_size=(3, 3), stride=(1, 1), padding=(1, 1))\n",
       "    (4): ReLU()\n",
       "    (5): MaxPool2d(kernel_size=2, stride=2, padding=0, dilation=1, ceil_mode=False)\n",
       "  )\n",
       "  (classifier): Sequential(\n",
       "    (0): Linear(in_features=784, out_features=10, bias=True)\n",
       "    (1): Softmax(dim=1)\n",
       "  )\n",
       ")>"
      ]
     },
     "execution_count": 189,
     "metadata": {},
     "output_type": "execute_result"
    }
   ],
   "source": [
    "model.parameters"
   ]
  },
  {
   "cell_type": "code",
   "execution_count": 190,
   "id": "9a2fd09e",
   "metadata": {
    "ExecuteTime": {
     "end_time": "2024-10-19T04:07:20.059238Z",
     "start_time": "2024-10-19T04:07:20.056856Z"
    }
   },
   "outputs": [],
   "source": [
    "criterion = nn.CrossEntropyLoss()\n",
    "optimizer = optim.Adam(model.parameters(), lr = lr)"
   ]
  },
  {
   "cell_type": "markdown",
   "id": "36e201c6",
   "metadata": {},
   "source": [
    "## Train Network"
   ]
  },
  {
   "cell_type": "code",
   "execution_count": 191,
   "id": "043fa6d8",
   "metadata": {
    "ExecuteTime": {
     "end_time": "2024-10-19T04:07:24.071055Z",
     "start_time": "2024-10-19T04:07:20.147963Z"
    }
   },
   "outputs": [
    {
     "name": "stdout",
     "output_type": "stream",
     "text": [
      "torch.Size([32, 1, 28, 28])\n",
      "torch.Size([32, 1, 28, 28])\n",
      "torch.Size([32, 1, 28, 28])\n",
      "torch.Size([32, 1, 28, 28])\n",
      "torch.Size([32, 1, 28, 28])\n"
     ]
    }
   ],
   "source": [
    "for epoch in range(epochs):\n",
    "    for idx ,(data,target) in enumerate(train_loader):\n",
    "        data = data.to(device=device)\n",
    "        target = target.to(device=device)\n",
    "        \n",
    "    print(data.shape)"
   ]
  },
  {
   "cell_type": "code",
   "execution_count": 192,
   "id": "cd71043e",
   "metadata": {
    "ExecuteTime": {
     "end_time": "2024-10-19T04:07:24.180187Z",
     "start_time": "2024-10-19T04:07:24.174148Z"
    }
   },
   "outputs": [
    {
     "name": "stdout",
     "output_type": "stream",
     "text": [
      "tensor([[0., 0., 0.,  ..., 0., 0., 0.],\n",
      "        [0., 0., 0.,  ..., 0., 0., 0.],\n",
      "        [0., 0., 0.,  ..., 0., 0., 0.],\n",
      "        ...,\n",
      "        [0., 0., 0.,  ..., 0., 0., 0.],\n",
      "        [0., 0., 0.,  ..., 0., 0., 0.],\n",
      "        [0., 0., 0.,  ..., 0., 0., 0.]], device='mps:0')\n",
      "torch.Size([32, 784])\n"
     ]
    }
   ],
   "source": [
    "print(data.reshape(data.shape[0],-1))\n",
    "print(data.reshape(data.shape[0],-1).shape)"
   ]
  },
  {
   "cell_type": "code",
   "execution_count": 193,
   "id": "3cfd94c7",
   "metadata": {},
   "outputs": [],
   "source": [
    "from tqdm import tqdm"
   ]
  },
  {
   "cell_type": "code",
   "execution_count": 194,
   "id": "9893491a",
   "metadata": {
    "ExecuteTime": {
     "end_time": "2024-10-19T04:07:31.821411Z",
     "start_time": "2024-10-19T04:07:24.268750Z"
    }
   },
   "outputs": [
    {
     "name": "stderr",
     "output_type": "stream",
     "text": [
      "938it [00:05, 166.72it/s]\n"
     ]
    },
    {
     "name": "stdout",
     "output_type": "stream",
     "text": [
      "Got 52175/60000 with accuracy 86.96\n",
      "Epoch 1, Loss: 0.0459\n"
     ]
    },
    {
     "name": "stderr",
     "output_type": "stream",
     "text": [
      "938it [00:05, 173.73it/s]\n"
     ]
    },
    {
     "name": "stdout",
     "output_type": "stream",
     "text": [
      "Got 57568/60000 with accuracy 95.95\n",
      "Epoch 2, Loss: 0.0474\n"
     ]
    },
    {
     "name": "stderr",
     "output_type": "stream",
     "text": [
      "938it [00:05, 171.66it/s]\n"
     ]
    },
    {
     "name": "stdout",
     "output_type": "stream",
     "text": [
      "Got 58165/60000 with accuracy 96.94\n",
      "Epoch 3, Loss: 0.0457\n"
     ]
    },
    {
     "name": "stderr",
     "output_type": "stream",
     "text": [
      "938it [00:05, 171.11it/s]\n"
     ]
    },
    {
     "name": "stdout",
     "output_type": "stream",
     "text": [
      "Got 58452/60000 with accuracy 97.42\n",
      "Epoch 4, Loss: 0.0466\n"
     ]
    },
    {
     "name": "stderr",
     "output_type": "stream",
     "text": [
      "938it [00:05, 166.82it/s]"
     ]
    },
    {
     "name": "stdout",
     "output_type": "stream",
     "text": [
      "Got 58670/60000 with accuracy 97.78\n",
      "Epoch 5, Loss: 0.0497\n"
     ]
    },
    {
     "name": "stderr",
     "output_type": "stream",
     "text": [
      "\n"
     ]
    }
   ],
   "source": [
    "for  epoch in range(epochs):\n",
    "    num_correct = 0\n",
    "    num_samples = 0\n",
    "    running_loss = 0.0\n",
    "    for idx,(data,target) in tqdm(enumerate(train_loader)):\n",
    "        data = data.to(device = device)\n",
    "        target = target.to(device=device)\n",
    "        \n",
    "        scores =model(data)\n",
    "        loss= criterion(scores,target)\n",
    "        \n",
    "        optimizer.zero_grad()\n",
    "        loss.backward()\n",
    "        optimizer.step()\n",
    "        _,predictions = scores.max(1) \n",
    "        num_correct = num_correct +  (predictions == target).sum()\n",
    "        num_samples = num_samples + predictions.size(0)\n",
    "            \n",
    "    print(f\"Got {num_correct}/{num_samples} with accuracy {float(num_correct)/float (num_samples) * 100:.2f}\")\n",
    "        \n",
    "    running_loss += loss.item()\n",
    "    epoch_loss = running_loss / len(data)\n",
    "    print(f\"Epoch {epoch+1}, Loss: {epoch_loss:.4f}\")"
   ]
  },
  {
   "cell_type": "code",
   "execution_count": 202,
   "id": "3a65199a",
   "metadata": {},
   "outputs": [],
   "source": [
    "from torchmetrics import Accuracy"
   ]
  },
  {
   "cell_type": "code",
   "execution_count": 207,
   "id": "eadd8fca",
   "metadata": {},
   "outputs": [
    {
     "name": "stderr",
     "output_type": "stream",
     "text": [
      "Epoch : [0/5]: 100%|██████████| 938/938 [00:13<00:00, 71.82it/s, accuracy=0.938, loss=1.51]\n",
      "Epoch : [1/5]: 100%|██████████| 938/938 [00:12<00:00, 72.84it/s, accuracy=0.969, loss=1.48]\n",
      "Epoch : [2/5]: 100%|██████████| 938/938 [00:12<00:00, 73.36it/s, accuracy=1, loss=1.46]    \n",
      "Epoch : [3/5]: 100%|██████████| 938/938 [00:12<00:00, 73.82it/s, accuracy=1, loss=1.46]    \n",
      "Epoch : [4/5]: 100%|██████████| 938/938 [00:13<00:00, 72.02it/s, accuracy=1, loss=1.47]    \n"
     ]
    }
   ],
   "source": [
    "for epoch in range(epochs):\n",
    "    loop = tqdm(enumerate(train_loader), total=len(train_loader))\n",
    "    for idx,(data, targets) in loop:\n",
    "        data = data.to(device = device)\n",
    "        targets = targets.to(device = device)\n",
    "        \n",
    "        # Forward\n",
    "        scores = model(data)\n",
    "        loss = criterion(scores,targets)\n",
    "        \n",
    "        #Backward\n",
    "        optimizer.zero_grad()\n",
    "        loss.backward()\n",
    "        optimizer.step()\n",
    "        \n",
    "        #Update progress bar\n",
    "        # Specify the task type explicitly, e.g., \"multiclass\" or \"binary\"\n",
    "        accuracy = Accuracy(task=\"multiclass\", num_classes=num_classes).to(device=device)  # Adjust `task` and `num_classes`\n",
    "\n",
    "        # Compute accuracy for your scores and targets\n",
    "        acc_value = accuracy(scores, targets)\n",
    "\n",
    "        # Update the progress bar\n",
    "        loop.set_postfix(loss=loss.item(), accuracy=acc_value.item())\n",
    "        loop.set_description(f\"Epoch : [{epoch}/{epochs}]\")\n"
   ]
  },
  {
   "cell_type": "code",
   "execution_count": 208,
   "id": "a7f67f93",
   "metadata": {},
   "outputs": [
    {
     "data": {
      "text/plain": [
       "32"
      ]
     },
     "execution_count": 208,
     "metadata": {},
     "output_type": "execute_result"
    }
   ],
   "source": [
    "len(data)"
   ]
  },
  {
   "cell_type": "code",
   "execution_count": 209,
   "id": "2a1191a6",
   "metadata": {
    "ExecuteTime": {
     "end_time": "2024-10-19T04:07:31.911023Z",
     "start_time": "2024-10-19T04:07:31.908633Z"
    }
   },
   "outputs": [
    {
     "name": "stdout",
     "output_type": "stream",
     "text": [
      "torch.Size([10, 784])\n"
     ]
    }
   ],
   "source": [
    "print((model.classifier[0].weight).shape)"
   ]
  },
  {
   "cell_type": "markdown",
   "id": "9e836bee9f8df724",
   "metadata": {},
   "source": [
    "## Check Accuracy"
   ]
  },
  {
   "cell_type": "code",
   "execution_count": 210,
   "id": "f41cd67b80f4692f",
   "metadata": {
    "ExecuteTime": {
     "end_time": "2024-10-19T04:11:15.795933Z",
     "start_time": "2024-10-19T04:11:15.790808Z"
    }
   },
   "outputs": [],
   "source": [
    "def check_accuracy(loader,model):\n",
    "    num_correct = 0\n",
    "    num_samples = 0\n",
    "    \n",
    "    model.eval()\n",
    "    \n",
    "    with torch.no_grad():\n",
    "        for x,y in loader:\n",
    "            x = x.to(device=device)\n",
    "            y = y.to(device=device)\n",
    "            # x = x.reshape(x.shape[0],-1)\n",
    "            scores = model(x)\n",
    "            _,predictions = scores.max(1) \n",
    "            num_correct = num_correct +  (predictions == y).sum()\n",
    "            num_samples = num_samples + predictions.size(0)\n",
    "            \n",
    "        print(f\"Got {num_correct}/{num_samples} with accuracy {float(num_correct)/float (num_samples) * 100:.2f}\")\n",
    "    "
   ]
  },
  {
   "cell_type": "code",
   "execution_count": 211,
   "id": "b2b6a3b9",
   "metadata": {},
   "outputs": [
    {
     "data": {
      "text/plain": [
       "torch.Size([32])"
      ]
     },
     "execution_count": 211,
     "metadata": {},
     "output_type": "execute_result"
    }
   ],
   "source": [
    "predictions.size()"
   ]
  },
  {
   "cell_type": "code",
   "execution_count": 212,
   "id": "15fe8910780b4e00",
   "metadata": {
    "ExecuteTime": {
     "end_time": "2024-10-19T04:11:37.036470Z",
     "start_time": "2024-10-19T04:11:36.947978Z"
    }
   },
   "outputs": [
    {
     "name": "stdout",
     "output_type": "stream",
     "text": [
      "Got 59281/60000 with accuracy 98.80\n"
     ]
    }
   ],
   "source": [
    "check_accuracy(train_loader, model)"
   ]
  },
  {
   "cell_type": "code",
   "execution_count": 213,
   "id": "73b3a874",
   "metadata": {},
   "outputs": [
    {
     "name": "stdout",
     "output_type": "stream",
     "text": [
      "Got 9836/10000 with accuracy 98.36\n"
     ]
    }
   ],
   "source": [
    "check_accuracy(test_loader, model)"
   ]
  },
  {
   "cell_type": "code",
   "execution_count": 201,
   "id": "2ff4ec132f6414b0",
   "metadata": {
    "ExecuteTime": {
     "end_time": "2024-10-19T04:07:32.087931Z",
     "start_time": "2024-10-19T04:07:32.085064Z"
    }
   },
   "outputs": [
    {
     "data": {
      "text/plain": [
       "torch.Size([32, 10])"
      ]
     },
     "execution_count": 201,
     "metadata": {},
     "output_type": "execute_result"
    }
   ],
   "source": [
    "scores.shape"
   ]
  }
 ],
 "metadata": {
  "kernelspec": {
   "display_name": "tensor",
   "language": "python",
   "name": "python3"
  },
  "language_info": {
   "codemirror_mode": {
    "name": "ipython",
    "version": 3
   },
   "file_extension": ".py",
   "mimetype": "text/x-python",
   "name": "python",
   "nbconvert_exporter": "python",
   "pygments_lexer": "ipython3",
   "version": "3.10.14"
  }
 },
 "nbformat": 4,
 "nbformat_minor": 5
}
