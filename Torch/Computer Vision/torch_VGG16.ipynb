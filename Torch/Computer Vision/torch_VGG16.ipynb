{
 "cells": [
  {
   "cell_type": "code",
   "id": "initial_id",
   "metadata": {
    "collapsed": true,
    "ExecuteTime": {
     "end_time": "2024-11-03T04:43:56.154572Z",
     "start_time": "2024-11-03T04:43:55.965772Z"
    }
   },
   "source": [
    "import torch \n",
    "import torch.nn as nn\n",
    "import torch.optim as optim\n",
    "from torch.utils.data import DataLoader, Dataset\n",
    "import torchvision.datasets as datasets\n",
    "import torchvision.transforms as transforms\n"
   ],
   "outputs": [],
   "execution_count": 2
  },
  {
   "metadata": {
    "ExecuteTime": {
     "end_time": "2024-11-03T07:03:26.576628Z",
     "start_time": "2024-11-03T07:03:26.566813Z"
    }
   },
   "cell_type": "code",
   "source": [
    "VGG_types = {'VGG16' : [64, 64, 'M', 128, 128, 'M', 256, 256, 256, 'M', 512, 512, 512, 'M', 512, 512, 512, 'M'],\n",
    "             'VGG19': [64, 64, 'M', 128, 128, 'M', 256, 256, 256,256, 'M', 512, 512, 512, 512, 'M', 512, 512, 512, 512, 'M'],\n",
    "             'VGG11' : [64, 'M', 128, 'M', 256, 256, 'M', 512, 512, 'M', 512, 512, 'M'],\n",
    "             'VGG13' : [64, 64, 'M', 128, 128, 'M', 256, 256, 'M', 512, 512, 'M', 512, 512,  'M'],\n",
    "             }"
   ],
   "id": "58d2fcf05fac791b",
   "outputs": [],
   "execution_count": 20
  },
  {
   "metadata": {
    "ExecuteTime": {
     "end_time": "2024-11-03T07:05:54.645648Z",
     "start_time": "2024-11-03T07:05:54.633724Z"
    }
   },
   "cell_type": "code",
   "source": [
    "class VGG_net(nn.Module):\n",
    "    def __init__(self, in_channels = 3 ,num_classes = 1000):\n",
    "        super(VGG_net, self).__init__()\n",
    "        \n",
    "        self.in_channels = in_channels\n",
    "        self.num_classes = num_classes\n",
    "        self.conv_layers = self.create_conv_layers(VGG_types['VGG19'])\n",
    "        self.fc = nn.Sequential(\n",
    "            nn.Linear(512 * 7 * 7, 4096),\n",
    "            nn.ReLU(),\n",
    "            nn.Dropout(p =0.5),\n",
    "            nn.Linear(4096, 4096),\n",
    "            nn.ReLU(),\n",
    "            nn.Dropout(p=0),\n",
    "            nn.Linear(4096, num_classes)\n",
    "        )\n",
    "        \n",
    "    def forward(self,x):\n",
    "        x = self.conv_layers(x)\n",
    "        x = x.reshape(x.shape[0], -1)\n",
    "        x = self.fc(x)\n",
    "        return x\n",
    "    \n",
    "    def create_conv_layers(self, architecture):\n",
    "        layers = []\n",
    "        in_channels = self.in_channels\n",
    "        \n",
    "        for x in architecture:\n",
    "            if type(x) == int:\n",
    "                out_channels = x\n",
    "                \n",
    "                layers += [nn.Conv2d(in_channels = in_channels, out_channels = out_channels,\n",
    "                                     kernel_size = (3,3), stride=(1,1), padding=(1,1)),\n",
    "                           nn.BatchNorm2d(x), ## Not in original VGG Net\n",
    "                           nn.ReLU()]\n",
    "                in_channels = x\n",
    "            elif x == 'M':\n",
    "                layers = layers + [nn.MaxPool2d(kernel_size = (2,2), stride=(2,2))]\n",
    "                \n",
    "        return nn.Sequential(*layers)\n",
    "                "
   ],
   "id": "da4956d31b80d409",
   "outputs": [],
   "execution_count": 25
  },
  {
   "metadata": {
    "ExecuteTime": {
     "end_time": "2024-11-03T07:05:58.927721Z",
     "start_time": "2024-11-03T07:05:58.403891Z"
    }
   },
   "cell_type": "code",
   "source": [
    "model = VGG_net(in_channels=3, num_classes = 1000)\n",
    "x = torch.randn(1, 3, 224, 224)"
   ],
   "id": "e214fade81b29595",
   "outputs": [],
   "execution_count": 26
  },
  {
   "metadata": {
    "ExecuteTime": {
     "end_time": "2024-11-03T07:06:00.551473Z",
     "start_time": "2024-11-03T07:06:00.345204Z"
    }
   },
   "cell_type": "code",
   "source": "print(model(x).shape)",
   "id": "e93c56b09ffcdffe",
   "outputs": [
    {
     "name": "stdout",
     "output_type": "stream",
     "text": [
      "torch.Size([1, 1000])\n"
     ]
    }
   ],
   "execution_count": 27
  }
 ],
 "metadata": {
  "kernelspec": {
   "display_name": "Python 3",
   "language": "python",
   "name": "python3"
  },
  "language_info": {
   "codemirror_mode": {
    "name": "ipython",
    "version": 2
   },
   "file_extension": ".py",
   "mimetype": "text/x-python",
   "name": "python",
   "nbconvert_exporter": "python",
   "pygments_lexer": "ipython2",
   "version": "2.7.6"
  }
 },
 "nbformat": 4,
 "nbformat_minor": 5
}
