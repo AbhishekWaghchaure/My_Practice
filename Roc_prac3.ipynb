{
 "cells": [
  {
   "cell_type": "code",
   "execution_count": 76,
   "metadata": {},
   "outputs": [],
   "source": [
    "import pandas as pd\n",
    "import numpy as np\n",
    "import matplotlib.pyplot as plt\n",
    "from sklearn.datasets import make_classification\n",
    "from sklearn.linear_model import LogisticRegression\n",
    "from sklearn.model_selection import train_test_split\n",
    "from sklearn.metrics import confusion_matrix,precision_recall_curve,roc_curve,auc,accuracy_score,classification_report,recall_score,fbeta_score,precision_score"
   ]
  },
  {
   "cell_type": "code",
   "execution_count": 77,
   "metadata": {},
   "outputs": [],
   "source": [
    "X,y = make_classification(n_features=6 , n_samples=2000, n_classes=2, random_state=42)"
   ]
  },
  {
   "cell_type": "code",
   "execution_count": 78,
   "metadata": {},
   "outputs": [],
   "source": [
    "# Train Test Split\n",
    "X_train,X_test,y_train,y_test = train_test_split(X,y,random_state=42,test_size=0.30)"
   ]
  },
  {
   "cell_type": "markdown",
   "metadata": {},
   "source": [
    "<h1>Logistic Regression</h1>"
   ]
  },
  {
   "cell_type": "code",
   "execution_count": 79,
   "metadata": {},
   "outputs": [],
   "source": [
    "from sklearn.linear_model import LogisticRegression\n",
    "\n",
    "classifier2 = LogisticRegression()\n",
    "classifier2.fit(X_train, y_train)\n",
    "\n",
    "#training Data performance\n",
    "y_log_train_pred = classifier2.predict(X_train)\n",
    "y_log_train_pred_prob = classifier2.predict_proba(X_train)[:,1]"
   ]
  },
  {
   "cell_type": "code",
   "execution_count": 80,
   "metadata": {},
   "outputs": [
    {
     "data": {
      "text/plain": [
       "array([1, 1, 1, ..., 0, 1, 1])"
      ]
     },
     "execution_count": 80,
     "metadata": {},
     "output_type": "execute_result"
    }
   ],
   "source": [
    "y_log_train_pred"
   ]
  },
  {
   "cell_type": "code",
   "execution_count": 81,
   "metadata": {},
   "outputs": [
    {
     "data": {
      "text/plain": [
       "array([0.99945504, 0.95717061, 0.81786536, ..., 0.27933725, 0.96120395,\n",
       "       0.99870815])"
      ]
     },
     "execution_count": 81,
     "metadata": {},
     "output_type": "execute_result"
    }
   ],
   "source": [
    "y_log_train_pred_prob"
   ]
  },
  {
   "cell_type": "code",
   "execution_count": 82,
   "metadata": {},
   "outputs": [
    {
     "name": "stdout",
     "output_type": "stream",
     "text": [
      "[[588  84]\n",
      " [ 65 663]]\n",
      "              precision    recall  f1-score   support\n",
      "\n",
      "           0       0.90      0.88      0.89       672\n",
      "           1       0.89      0.91      0.90       728\n",
      "\n",
      "    accuracy                           0.89      1400\n",
      "   macro avg       0.89      0.89      0.89      1400\n",
      "weighted avg       0.89      0.89      0.89      1400\n",
      "\n",
      "Accuracy === 0.8935714285714286\n",
      "Recall Value === 0.9107142857142857\n",
      "Precision Value / Sensitivity === 0.8875502008032129\n"
     ]
    }
   ],
   "source": [
    "print(confusion_matrix(y_train,y_log_train_pred))\n",
    "print(classification_report(y_train,y_log_train_pred))\n",
    "print('Accuracy ===',accuracy_score(y_train,y_log_train_pred))\n",
    "print('Recall Value ===', recall_score(y_train,y_log_train_pred))\n",
    "print('Precision Value / Sensitivity ===', precision_score(y_train,y_log_train_pred))"
   ]
  },
  {
   "cell_type": "code",
   "execution_count": 83,
   "metadata": {},
   "outputs": [
    {
     "name": "stdout",
     "output_type": "stream",
     "text": [
      "[0.52       0.52037169 0.52074392 ... 1.         1.         1.        ]\n",
      "[1.         1.         1.         ... 0.00274725 0.00137363 0.        ]\n",
      "[6.17658695e-06 1.24545603e-05 4.97301341e-05 ... 9.99884070e-01\n",
      " 9.99914295e-01 9.99953253e-01]\n"
     ]
    }
   ],
   "source": [
    "precision, recall, thresholds = precision_recall_curve(y_train,y_log_train_pred_prob)\n",
    "print(precision)\n",
    "print(recall)\n",
    "print(thresholds)"
   ]
  },
  {
   "cell_type": "code",
   "execution_count": 84,
   "metadata": {},
   "outputs": [
    {
     "name": "stdout",
     "output_type": "stream",
     "text": [
      "Optimal threshold based on Precision: 0.9955800506172255\n"
     ]
    }
   ],
   "source": [
    "# Find the threshold that maximizes precision (reduce false positives)\n",
    "optimal_threshold = thresholds[np.argmax(precision)]\n",
    "print(f'Optimal threshold based on Precision: {optimal_threshold}')"
   ]
  },
  {
   "cell_type": "code",
   "execution_count": 85,
   "metadata": {},
   "outputs": [],
   "source": [
    "y_optimal_log_pred = (y_log_train_pred_prob >= optimal_threshold).astype(int)"
   ]
  },
  {
   "cell_type": "code",
   "execution_count": 86,
   "metadata": {},
   "outputs": [
    {
     "data": {
      "text/plain": [
       "array([1, 0, 0, ..., 0, 0, 1])"
      ]
     },
     "execution_count": 86,
     "metadata": {},
     "output_type": "execute_result"
    }
   ],
   "source": [
    "y_optimal_log_pred"
   ]
  },
  {
   "cell_type": "code",
   "execution_count": 87,
   "metadata": {},
   "outputs": [
    {
     "name": "stdout",
     "output_type": "stream",
     "text": [
      "              precision    recall  f1-score   support\n",
      "\n",
      "           0       0.51      1.00      0.67       672\n",
      "           1       1.00      0.10      0.19       728\n",
      "\n",
      "    accuracy                           0.53      1400\n",
      "   macro avg       0.75      0.55      0.43      1400\n",
      "weighted avg       0.76      0.53      0.42      1400\n",
      "\n",
      "[[672   0]\n",
      " [652  76]]\n",
      "0.5342857142857143\n",
      "1.0\n",
      "0.1043956043956044\n"
     ]
    }
   ],
   "source": [
    "print(classification_report(y_train, y_optimal_log_pred))\n",
    "print(confusion_matrix(y_train, y_optimal_log_pred))\n",
    "print(accuracy_score(y_train, y_optimal_log_pred))\n",
    "print(precision_score(y_train, y_optimal_log_pred))\n",
    "print(recall_score(y_train, y_optimal_log_pred))"
   ]
  },
  {
   "cell_type": "code",
   "execution_count": 88,
   "metadata": {},
   "outputs": [
    {
     "name": "stdout",
     "output_type": "stream",
     "text": [
      "Area under ROC curve :0.9551915718210361\n"
     ]
    }
   ],
   "source": [
    "fpr,tpr,thresholds_roc = roc_curve(y_train,y_log_train_pred_prob)\n",
    "roc_auc = auc(fpr, tpr)\n",
    "print(f'Area under ROC curve :{roc_auc}')"
   ]
  },
  {
   "cell_type": "code",
   "execution_count": 90,
   "metadata": {},
   "outputs": [
    {
     "name": "stdout",
     "output_type": "stream",
     "text": [
      "[0.         0.         0.         0.0014881  0.0014881  0.00297619\n",
      " 0.00297619 0.00446429 0.00446429 0.00595238 0.00595238 0.00744048\n",
      " 0.00744048 0.01041667 0.01041667 0.01190476 0.01190476 0.01488095\n",
      " 0.01488095 0.01636905 0.01636905 0.01785714 0.01785714 0.01934524\n",
      " 0.01934524 0.02083333 0.02083333 0.02232143 0.02232143 0.02380952\n",
      " 0.02380952 0.02529762 0.02529762 0.02678571 0.02678571 0.02827381\n",
      " 0.02827381 0.0297619  0.0297619  0.03125    0.03125    0.0327381\n",
      " 0.0327381  0.03422619 0.03422619 0.03571429 0.03571429 0.03720238\n",
      " 0.03720238 0.04017857 0.04017857 0.04315476 0.04315476 0.04464286\n",
      " 0.04464286 0.04613095 0.04613095 0.04761905 0.04761905 0.05208333\n",
      " 0.05208333 0.05357143 0.05357143 0.05654762 0.05654762 0.05952381\n",
      " 0.05952381 0.0639881  0.0639881  0.06547619 0.06547619 0.06696429\n",
      " 0.06696429 0.06845238 0.06845238 0.06994048 0.06994048 0.07142857\n",
      " 0.07142857 0.07291667 0.07291667 0.07440476 0.07440476 0.07589286\n",
      " 0.07589286 0.07738095 0.07738095 0.08184524 0.08184524 0.08779762\n",
      " 0.08779762 0.08928571 0.08928571 0.09077381 0.09077381 0.0922619\n",
      " 0.0922619  0.09375    0.09375    0.09821429 0.09821429 0.09970238\n",
      " 0.09970238 0.10119048 0.10119048 0.10267857 0.10267857 0.10416667\n",
      " 0.10416667 0.10714286 0.10714286 0.10863095 0.10863095 0.11011905\n",
      " 0.11011905 0.11755952 0.11755952 0.11904762 0.11904762 0.12202381\n",
      " 0.12202381 0.1235119  0.1235119  0.125      0.125      0.1264881\n",
      " 0.1264881  0.12797619 0.12797619 0.13839286 0.13839286 0.13988095\n",
      " 0.13988095 0.14285714 0.14285714 0.14434524 0.14434524 0.14583333\n",
      " 0.14583333 0.14732143 0.14732143 0.14880952 0.14880952 0.15029762\n",
      " 0.15029762 0.1547619  0.1547619  0.15922619 0.15922619 0.16071429\n",
      " 0.16071429 0.16369048 0.16369048 0.16815476 0.16815476 0.1875\n",
      " 0.1875     0.19047619 0.19047619 0.19196429 0.19196429 0.19494048\n",
      " 0.19494048 0.20386905 0.20386905 0.20833333 0.20833333 0.21130952\n",
      " 0.21130952 0.21279762 0.21279762 0.21577381 0.21577381 0.22321429\n",
      " 0.22321429 0.22916667 0.22916667 0.23958333 0.23958333 0.24702381\n",
      " 0.24702381 0.25       0.25       0.29464286 0.29464286 0.30059524\n",
      " 0.30059524 0.30357143 0.30357143 0.3139881  0.3139881  0.33333333\n",
      " 0.33333333 0.3452381  0.3452381  0.35119048 0.35119048 0.37797619\n",
      " 0.37797619 0.38541667 0.38541667 0.41369048 0.41369048 0.45833333\n",
      " 0.45833333 0.55654762 0.55654762 0.56994048 0.56994048 0.76488095\n",
      " 0.76488095 0.82738095 0.82738095 0.95833333 0.95833333 0.97767857\n",
      " 0.97767857 1.        ]\n",
      "[0.         0.00137363 0.1043956  0.1043956  0.17857143 0.17857143\n",
      " 0.23763736 0.23763736 0.32554945 0.32554945 0.36813187 0.36813187\n",
      " 0.39423077 0.39423077 0.39697802 0.39697802 0.40521978 0.40521978\n",
      " 0.44917582 0.44917582 0.4532967  0.4532967  0.49175824 0.49175824\n",
      " 0.52197802 0.52197802 0.54395604 0.54395604 0.59752747 0.59752747\n",
      " 0.60027473 0.60027473 0.60714286 0.60714286 0.62225275 0.62225275\n",
      " 0.64010989 0.64010989 0.64285714 0.64285714 0.6510989  0.6510989\n",
      " 0.66071429 0.66071429 0.67445055 0.67445055 0.68818681 0.68818681\n",
      " 0.70192308 0.70192308 0.75412088 0.75412088 0.75961538 0.75961538\n",
      " 0.78846154 0.78846154 0.79807692 0.79807692 0.79945055 0.79945055\n",
      " 0.80357143 0.80357143 0.80494505 0.80494505 0.81868132 0.81868132\n",
      " 0.82005495 0.82005495 0.8228022  0.8228022  0.82417582 0.82417582\n",
      " 0.82554945 0.82554945 0.82692308 0.82692308 0.83241758 0.83241758\n",
      " 0.83516484 0.83516484 0.83791209 0.83791209 0.84065934 0.84065934\n",
      " 0.84752747 0.84752747 0.8489011  0.8489011  0.85164835 0.85164835\n",
      " 0.85302198 0.85302198 0.85989011 0.85989011 0.87087912 0.87087912\n",
      " 0.875      0.875      0.88324176 0.88324176 0.88736264 0.88736264\n",
      " 0.88873626 0.88873626 0.89285714 0.89285714 0.89423077 0.89423077\n",
      " 0.8956044  0.8956044  0.89697802 0.89697802 0.89835165 0.89835165\n",
      " 0.89972527 0.89972527 0.9010989  0.9010989  0.90384615 0.90384615\n",
      " 0.90521978 0.90521978 0.90934066 0.90934066 0.91346154 0.91346154\n",
      " 0.91620879 0.91620879 0.91895604 0.91895604 0.92032967 0.92032967\n",
      " 0.9217033  0.9217033  0.92582418 0.92582418 0.9271978  0.9271978\n",
      " 0.92857143 0.92857143 0.92994505 0.92994505 0.93131868 0.93131868\n",
      " 0.93681319 0.93681319 0.94093407 0.94093407 0.94505495 0.94505495\n",
      " 0.94642857 0.94642857 0.9478022  0.9478022  0.95054945 0.95054945\n",
      " 0.95192308 0.95192308 0.95604396 0.95604396 0.95879121 0.95879121\n",
      " 0.96153846 0.96153846 0.96291209 0.96291209 0.96428571 0.96428571\n",
      " 0.96565934 0.96565934 0.96703297 0.96703297 0.96840659 0.96840659\n",
      " 0.96978022 0.96978022 0.97115385 0.97115385 0.97252747 0.97252747\n",
      " 0.9739011  0.9739011  0.97527473 0.97527473 0.97802198 0.97802198\n",
      " 0.9793956  0.9793956  0.98076923 0.98076923 0.98214286 0.98214286\n",
      " 0.98351648 0.98351648 0.98489011 0.98489011 0.98626374 0.98626374\n",
      " 0.98763736 0.98763736 0.98901099 0.98901099 0.99038462 0.99038462\n",
      " 0.99175824 0.99175824 0.99313187 0.99313187 0.99450549 0.99450549\n",
      " 0.99587912 0.99587912 0.99725275 0.99725275 0.99862637 0.99862637\n",
      " 1.         1.        ]\n",
      "[           inf 9.99953253e-01 9.95580051e-01 9.95521841e-01\n",
      " 9.90723015e-01 9.90566722e-01 9.85216156e-01 9.85184162e-01\n",
      " 9.72208797e-01 9.72145895e-01 9.67722612e-01 9.67636869e-01\n",
      " 9.63749478e-01 9.63532368e-01 9.62245990e-01 9.61591485e-01\n",
      " 9.60410731e-01 9.60330754e-01 9.53510738e-01 9.53037047e-01\n",
      " 9.51883718e-01 9.51089722e-01 9.43195540e-01 9.42072058e-01\n",
      " 9.33384427e-01 9.32728549e-01 9.24841114e-01 9.24179091e-01\n",
      " 9.04802745e-01 9.04425925e-01 9.03635056e-01 9.02769070e-01\n",
      " 9.00815542e-01 8.99990910e-01 8.91206021e-01 8.91074241e-01\n",
      " 8.81679510e-01 8.80571534e-01 8.78022324e-01 8.77804976e-01\n",
      " 8.72888122e-01 8.71888605e-01 8.68475736e-01 8.67877773e-01\n",
      " 8.56555231e-01 8.55996737e-01 8.48927535e-01 8.48518798e-01\n",
      " 8.44757128e-01 8.40994106e-01 7.97885841e-01 7.95605498e-01\n",
      " 7.85037775e-01 7.83662042e-01 7.65405219e-01 7.56249254e-01\n",
      " 7.50075845e-01 7.47826994e-01 7.47548562e-01 7.39243937e-01\n",
      " 7.35147480e-01 7.33452031e-01 7.32220988e-01 7.28406947e-01\n",
      " 7.15218862e-01 7.11456219e-01 7.07556921e-01 7.05850770e-01\n",
      " 7.04917029e-01 7.02435851e-01 7.01376081e-01 7.00650031e-01\n",
      " 7.00320589e-01 6.99887395e-01 6.99594040e-01 6.99195555e-01\n",
      " 6.93025978e-01 6.92855119e-01 6.91549447e-01 6.91516525e-01\n",
      " 6.85565481e-01 6.83356357e-01 6.82777408e-01 6.81174328e-01\n",
      " 6.67417124e-01 6.67300774e-01 6.67188361e-01 6.63491957e-01\n",
      " 6.54733893e-01 6.52369443e-01 6.48548223e-01 6.44109607e-01\n",
      " 6.30808987e-01 6.27661559e-01 6.10835450e-01 6.09011120e-01\n",
      " 5.99254573e-01 5.97705377e-01 5.83749969e-01 5.73683361e-01\n",
      " 5.66715978e-01 5.63454429e-01 5.61429311e-01 5.60536489e-01\n",
      " 5.57429101e-01 5.57158522e-01 5.55928265e-01 5.55738466e-01\n",
      " 5.52752054e-01 5.48640694e-01 5.45073033e-01 5.42399867e-01\n",
      " 5.41115166e-01 5.40759470e-01 5.40005095e-01 5.27665655e-01\n",
      " 5.25488615e-01 5.24619773e-01 5.18744555e-01 5.17348370e-01\n",
      " 5.16656507e-01 5.16377912e-01 5.06561553e-01 5.04063408e-01\n",
      " 4.95909119e-01 4.95121400e-01 4.92368335e-01 4.87963720e-01\n",
      " 4.86644047e-01 4.70340845e-01 4.69184413e-01 4.66787151e-01\n",
      " 4.60971498e-01 4.58941915e-01 4.44211145e-01 4.41094597e-01\n",
      " 4.38272905e-01 4.36963257e-01 4.31870226e-01 4.30634325e-01\n",
      " 4.26729427e-01 4.25357766e-01 4.20735468e-01 4.18916279e-01\n",
      " 3.96439201e-01 3.89848201e-01 3.83905582e-01 3.74039324e-01\n",
      " 3.71778297e-01 3.69391299e-01 3.68808638e-01 3.65743258e-01\n",
      " 3.65255209e-01 3.58011709e-01 3.52589572e-01 3.03455105e-01\n",
      " 3.02261273e-01 2.95998383e-01 2.85240468e-01 2.84640346e-01\n",
      " 2.79337252e-01 2.71326201e-01 2.69772183e-01 2.68004249e-01\n",
      " 2.67309490e-01 2.65796547e-01 2.62786702e-01 2.59216521e-01\n",
      " 2.58845169e-01 2.58135781e-01 2.56167501e-01 2.50861170e-01\n",
      " 2.50394980e-01 2.44425364e-01 2.43668108e-01 2.38817106e-01\n",
      " 2.32645613e-01 2.19076534e-01 2.16881335e-01 2.10007105e-01\n",
      " 2.08371208e-01 2.06197645e-01 2.05179424e-01 1.66572866e-01\n",
      " 1.61827045e-01 1.52262472e-01 1.50250416e-01 1.49000365e-01\n",
      " 1.48510225e-01 1.41313049e-01 1.40677529e-01 1.32895291e-01\n",
      " 1.32832415e-01 1.28575088e-01 1.25644613e-01 1.22991300e-01\n",
      " 1.22623355e-01 1.08850663e-01 1.08843461e-01 1.05007267e-01\n",
      " 1.04868049e-01 8.84220769e-02 8.63584393e-02 6.55197300e-02\n",
      " 6.54254831e-02 3.80345735e-02 3.79052184e-02 3.52744710e-02\n",
      " 3.49861157e-02 1.20327691e-02 1.13436794e-02 6.03867169e-03\n",
      " 6.03743975e-03 5.88452393e-04 5.46712410e-04 2.68825267e-04\n",
      " 2.57141850e-04 6.17658695e-06]\n"
     ]
    }
   ],
   "source": [
    "print(fpr)\n",
    "print(tpr)\n",
    "print(thresholds_roc)"
   ]
  },
  {
   "cell_type": "code",
   "execution_count": null,
   "metadata": {},
   "outputs": [],
   "source": [
    "optim_threshold = thresholds_roc(np.argmax[])"
   ]
  },
  {
   "cell_type": "code",
   "execution_count": 89,
   "metadata": {},
   "outputs": [
    {
     "ename": "IndexError",
     "evalue": "index 1324 is out of bounds for axis 0 with size 218",
     "output_type": "error",
     "traceback": [
      "\u001b[0;31m---------------------------------------------------------------------------\u001b[0m",
      "\u001b[0;31mIndexError\u001b[0m                                Traceback (most recent call last)",
      "Cell \u001b[0;32mIn[89], line 4\u001b[0m\n\u001b[1;32m      2\u001b[0m plt\u001b[38;5;241m.\u001b[39mplot(fpr, tpr, color\u001b[38;5;241m=\u001b[39m\u001b[38;5;124m'\u001b[39m\u001b[38;5;124mdarkorange\u001b[39m\u001b[38;5;124m'\u001b[39m, lw\u001b[38;5;241m=\u001b[39m\u001b[38;5;241m2\u001b[39m, label\u001b[38;5;241m=\u001b[39m\u001b[38;5;124m'\u001b[39m\u001b[38;5;124mROC curve (area = \u001b[39m\u001b[38;5;132;01m%0.2f\u001b[39;00m\u001b[38;5;124m)\u001b[39m\u001b[38;5;124m'\u001b[39m \u001b[38;5;241m%\u001b[39m roc_auc)\n\u001b[1;32m      3\u001b[0m plt\u001b[38;5;241m.\u001b[39mplot([\u001b[38;5;241m0\u001b[39m, \u001b[38;5;241m1\u001b[39m], [\u001b[38;5;241m0\u001b[39m, \u001b[38;5;241m1\u001b[39m], color\u001b[38;5;241m=\u001b[39m\u001b[38;5;124m'\u001b[39m\u001b[38;5;124mnavy\u001b[39m\u001b[38;5;124m'\u001b[39m, lw\u001b[38;5;241m=\u001b[39m\u001b[38;5;241m2\u001b[39m, linestyle\u001b[38;5;241m=\u001b[39m\u001b[38;5;124m'\u001b[39m\u001b[38;5;124m--\u001b[39m\u001b[38;5;124m'\u001b[39m)\n\u001b[0;32m----> 4\u001b[0m plt\u001b[38;5;241m.\u001b[39mscatter([\u001b[43mfpr\u001b[49m\u001b[43m[\u001b[49m\u001b[43mnp\u001b[49m\u001b[38;5;241;43m.\u001b[39;49m\u001b[43margmax\u001b[49m\u001b[43m(\u001b[49m\u001b[43mprecision\u001b[49m\u001b[43m)\u001b[49m\u001b[43m]\u001b[49m], [tpr[np\u001b[38;5;241m.\u001b[39margmax(precision)]], marker\u001b[38;5;241m=\u001b[39m\u001b[38;5;124m'\u001b[39m\u001b[38;5;124mo\u001b[39m\u001b[38;5;124m'\u001b[39m, color\u001b[38;5;241m=\u001b[39m\u001b[38;5;124m'\u001b[39m\u001b[38;5;124mred\u001b[39m\u001b[38;5;124m'\u001b[39m, label\u001b[38;5;241m=\u001b[39m\u001b[38;5;124m'\u001b[39m\u001b[38;5;124mOptimal Threshold\u001b[39m\u001b[38;5;124m'\u001b[39m)\n\u001b[1;32m      5\u001b[0m plt\u001b[38;5;241m.\u001b[39mxlim([\u001b[38;5;241m0.0\u001b[39m, \u001b[38;5;241m1.0\u001b[39m])\n\u001b[1;32m      6\u001b[0m plt\u001b[38;5;241m.\u001b[39mylim([\u001b[38;5;241m0.0\u001b[39m, \u001b[38;5;241m1.05\u001b[39m])\n",
      "\u001b[0;31mIndexError\u001b[0m: index 1324 is out of bounds for axis 0 with size 218"
     ]
    },
    {
     "data": {
      "image/png": "[encoded data removed]",
      "text/plain": [
       "<Figure size 640x480 with 1 Axes>"
      ]
     },
     "metadata": {},
     "output_type": "display_data"
    }
   ],
   "source": [
    "plt.figure()\n",
    "plt.plot(fpr, tpr, color='darkorange', lw=2, label='ROC curve (area = %0.2f)' % roc_auc)\n",
    "plt.plot([0, 1], [0, 1], color='navy', lw=2, linestyle='--')\n",
    "plt.scatter([fpr[np.argmax(precision)]], [tpr[np.argmax(precision)]], marker='o', color='red', label='Optimal Threshold')\n",
    "plt.xlim([0.0, 1.0])\n",
    "plt.ylim([0.0, 1.05])\n",
    "plt.xlabel('False Positive Rate')\n",
    "plt.ylabel('True Positive Rate')\n",
    "plt.title('Receiver Operating Characteristic (ROC)')\n",
    "plt.legend(loc=\"lower right\")\n",
    "plt.show()\n"
   ]
  },
  {
   "cell_type": "markdown",
   "metadata": {},
   "source": [
    "<h1>Decision Tree</h1>"
   ]
  },
  {
   "cell_type": "code",
   "execution_count": null,
   "metadata": {},
   "outputs": [],
   "source": [
    "# Decision tree Classifier\n",
    "from sklearn.tree import DecisionTreeClassifier\n",
    "\n",
    "classifier1 = DecisionTreeClassifier(max_depth= 8)\n",
    "classifier1.fit(X_train,y_train)\n",
    "\n",
    "#Training Data Performance\n",
    "y_train_pred = classifier1.predict(X_train)\n",
    "y_train_pred_prob = classifier1.predict_proba(X_train)"
   ]
  },
  {
   "cell_type": "code",
   "execution_count": null,
   "metadata": {},
   "outputs": [
    {
     "name": "stdout",
     "output_type": "stream",
     "text": [
      "[[646  26]\n",
      " [ 17 711]]\n",
      "              precision    recall  f1-score   support\n",
      "\n",
      "           0       0.97      0.96      0.97       672\n",
      "           1       0.96      0.98      0.97       728\n",
      "\n",
      "    accuracy                           0.97      1400\n",
      "   macro avg       0.97      0.97      0.97      1400\n",
      "weighted avg       0.97      0.97      0.97      1400\n",
      "\n",
      "0.9692857142857143\n"
     ]
    }
   ],
   "source": [
    "# Evaluation Metrics\n",
    "print(confusion_matrix(y_train,y_train_pred))\n",
    "print(classification_report(y_train,y_train_pred))\n",
    "print(accuracy_score(y_train,y_train_pred))"
   ]
  }
 ],
 "metadata": {
  "kernelspec": {
   "display_name": "tensor",
   "language": "python",
   "name": "python3"
  },
  "language_info": {
   "codemirror_mode": {
    "name": "ipython",
    "version": 3
   },
   "file_extension": ".py",
   "mimetype": "text/x-python",
   "name": "python",
   "nbconvert_exporter": "python",
   "pygments_lexer": "ipython3",
   "version": "3.10.14"
  }
 },
 "nbformat": 4,
 "nbformat_minor": 2
}
